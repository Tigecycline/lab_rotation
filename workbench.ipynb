{
 "cells": [
  {
   "cell_type": "code",
   "execution_count": 1,
   "id": "0aa423f1-42a5-4039-babd-6a367bc8df5f",
   "metadata": {
    "tags": []
   },
   "outputs": [],
   "source": [
    "import numpy as np\n",
    "import matplotlib.pyplot as plt\n",
    "#import seaborn as sns\n",
    "\n",
    "from tqdm.notebook import tqdm"
   ]
  },
  {
   "cell_type": "code",
   "execution_count": 2,
   "id": "c8a2d9c1-69ff-4504-aa94-7369d81b8f10",
   "metadata": {},
   "outputs": [],
   "source": [
    "from data_generator import *\n",
    "from utilities import *\n",
    "from mutation_detection import *\n",
    "from tree_inference import *"
   ]
  },
  {
   "cell_type": "markdown",
   "id": "92a4bf55-a51a-4a6e-addc-5218ccf726a7",
   "metadata": {
    "tags": []
   },
   "source": [
    "### Data generator"
   ]
  },
  {
   "cell_type": "code",
   "execution_count": null,
   "id": "bcf0fa99-2aa1-42ca-a0e7-e8ed281e9baf",
   "metadata": {},
   "outputs": [],
   "source": [
    "dg = DataGenerator(50, 400, coverage_sampler=coverage_sampler())\n",
    "dg.random_tree()\n",
    "dg.random_mutations(mut_prop = 0.5, genotype_freq = [1., 0., 0.])"
   ]
  },
  {
   "cell_type": "code",
   "execution_count": null,
   "id": "e63b1df5-3e4f-4265-8953-c79d338c8b8a",
   "metadata": {},
   "outputs": [],
   "source": [
    "ref_raw, alt_raw = dg.generate_reads()"
   ]
  },
  {
   "cell_type": "markdown",
   "id": "7fb88f10-e8ee-4a8f-9b33-323bb7407c57",
   "metadata": {},
   "source": [
    "### Tree inference with generated data"
   ]
  },
  {
   "cell_type": "code",
   "execution_count": null,
   "id": "c159b6f9-e382-4135-9c4a-6319cff5bbc2",
   "metadata": {},
   "outputs": [],
   "source": [
    "ref, alt, gt1, gt2 = filter_mutations(ref_raw, alt_raw, method = 'threshold', t = 0.5)"
   ]
  },
  {
   "cell_type": "code",
   "execution_count": null,
   "id": "9f7ee444-b2de-4197-9723-a56e74fa637d",
   "metadata": {},
   "outputs": [],
   "source": [
    "likelihoods1, likelihoods2 = likelihood_matrices(ref, alt, gt1, gt2)"
   ]
  },
  {
   "cell_type": "markdown",
   "id": "5aacfb66-4de0-4e32-8965-e3a61a900655",
   "metadata": {},
   "source": [
    "#### True tree"
   ]
  },
  {
   "cell_type": "code",
   "execution_count": null,
   "id": "bc8a259e-716a-40a6-8894-0246e3f3ff9d",
   "metadata": {},
   "outputs": [],
   "source": [
    "optz = TreeOptimizer()\n",
    "optz.fit(likelihoods1, likelihoods2, reversible = True)\n",
    "optz.ct = dg.tree.copy()\n",
    "optz.update_ct()"
   ]
  },
  {
   "cell_type": "code",
   "execution_count": null,
   "id": "69d9c66b-f6a5-427e-ae18-c9e0b02c8ba7",
   "metadata": {},
   "outputs": [],
   "source": [
    "optz.ct_joint / likelihoods1.size"
   ]
  },
  {
   "cell_type": "code",
   "execution_count": null,
   "id": "bbd855d7-363b-4332-bd6e-5b2726c9bf20",
   "metadata": {},
   "outputs": [],
   "source": [
    "print('Distance matrix MSE to real tree:', path_len_dist(optz.ct, dg.tree))"
   ]
  },
  {
   "cell_type": "code",
   "execution_count": null,
   "id": "bbc81048-4fe3-4132-bdba-4646d79b2dee",
   "metadata": {},
   "outputs": [],
   "source": [
    "optz.mt.fit_structure(optz.ct)\n",
    "optz.mt_L[:,optz.mt.root.ID] = np.sum(optz.likelihoods1, axis = 1)\n",
    "optz.update_mt()"
   ]
  },
  {
   "cell_type": "code",
   "execution_count": null,
   "id": "04191901-7cbf-4a12-8832-3701e42b3d15",
   "metadata": {},
   "outputs": [],
   "source": [
    "optz.mt_joint / likelihoods1.size"
   ]
  },
  {
   "cell_type": "markdown",
   "id": "0d0d9b31-ad69-42a9-b389-3053011c43fe",
   "metadata": {},
   "source": [
    "#### All mutations reversible"
   ]
  },
  {
   "cell_type": "code",
   "execution_count": null,
   "id": "4983de45",
   "metadata": {},
   "outputs": [],
   "source": [
    "import matplotlib.pyplot as plt"
   ]
  },
  {
   "cell_type": "code",
   "execution_count": null,
   "id": "acd11917-9663-4779-a258-850b2ba632b6",
   "metadata": {
    "tags": []
   },
   "outputs": [],
   "source": [
    "optz = TreeOptimizer()\n",
    "optz.fit(likelihoods2, likelihoods1, reversible = True)\n",
    "print('Distance matrix MSE to real tree:', path_len_dist(optz.ct, dg.tree))"
   ]
  },
  {
   "cell_type": "code",
   "execution_count": null,
   "id": "d194d407-835a-48c8-964b-063d0fad0d91",
   "metadata": {},
   "outputs": [],
   "source": [
    "optz.optimize(spaces = ['m', 'c'])"
   ]
  },
  {
   "cell_type": "code",
   "execution_count": null,
   "id": "b8330454-e8fb-46e3-9673-a003854ed5a8",
   "metadata": {},
   "outputs": [],
   "source": [
    "mean_likelihoods = np.array(optz.likelihood_history) / likelihoods1.size\n",
    "plt.plot(mean_likelihoods)"
   ]
  },
  {
   "cell_type": "code",
   "execution_count": null,
   "id": "8e086bed-a82a-4cbf-b939-7d3269b8a135",
   "metadata": {},
   "outputs": [],
   "source": [
    "print('MSE of distance matrix:', path_len_dist(optz.ct, dg.tree))\n",
    "print('Cell tree mean loglikelihood:', optz.ct_joint / likelihoods1.size)\n",
    "print('Mutation tree mean loglikelihood:', optz.mt_joint / likelihoods1.size)"
   ]
  },
  {
   "cell_type": "markdown",
   "id": "1a49ec20-3e10-4e3f-a5ad-cd6eb4e00678",
   "metadata": {},
   "source": [
    "#### No mutation reversible"
   ]
  },
  {
   "cell_type": "code",
   "execution_count": null,
   "id": "2156f9a9-8801-4a9b-acd4-5200e969cf85",
   "metadata": {},
   "outputs": [],
   "source": [
    "optz = TreeOptimizer()\n",
    "optz.fit(likelihoods1, likelihoods2, reversible = False)\n",
    "print('Distance matrix MSE to real tree:', path_len_dist(optz.ct, dg.tree))"
   ]
  },
  {
   "cell_type": "code",
   "execution_count": null,
   "id": "dbc77849-5d56-4e81-8357-0c4c0dd0856b",
   "metadata": {},
   "outputs": [],
   "source": [
    "optz.optimize()"
   ]
  },
  {
   "cell_type": "code",
   "execution_count": null,
   "id": "3c44b5e0-78bb-49f3-8032-ecc4961f7b7d",
   "metadata": {},
   "outputs": [],
   "source": [
    "mean_likelihoods = np.array(optz.likelihood_history) / likelihoods1.size\n",
    "plt.plot(mean_likelihoods)"
   ]
  },
  {
   "cell_type": "code",
   "execution_count": null,
   "id": "3a64c61e-aa50-4a59-9f0d-42cf7fb5fa7e",
   "metadata": {},
   "outputs": [],
   "source": [
    "print('MSE of distance matrix:', path_len_dist(optz.ct, dg.tree))\n",
    "print('Cell tree mean loglikelihood:', optz.ct_joint / likelihoods1.size)\n",
    "print('Mutation tree mean loglikelihood:', optz.mt_joint / likelihoods1.size)"
   ]
  },
  {
   "cell_type": "markdown",
   "id": "0f5eed9b",
   "metadata": {},
   "source": [
    "### Apply to real data"
   ]
  },
  {
   "cell_type": "code",
   "execution_count": null,
   "id": "5ba4a318",
   "metadata": {},
   "outputs": [],
   "source": [
    "ref_raw, alt_raw = read_data('./Data/glioblastoma_BT_S2/ref.csv', './Data/glioblastoma_BT_S2/alt.csv')\n",
    "print(ref_raw.shape)"
   ]
  },
  {
   "cell_type": "code",
   "execution_count": null,
   "id": "49f6f8ad",
   "metadata": {},
   "outputs": [],
   "source": [
    "posteriors = mut_type_posteriors(ref_raw, alt_raw)\n",
    "np.save('./test_results/real_data/posteriors.npy', posteriors)\n",
    "#del posteriors"
   ]
  },
  {
   "cell_type": "code",
   "execution_count": null,
   "id": "e6f9851d",
   "metadata": {},
   "outputs": [],
   "source": [
    "n_select = 1000\n",
    "posteriors = np.load('./test_results/real_data/posteriors.npy')\n",
    "order = np.argsort(np.sum(posteriors[:,3:], axis = 1))\n",
    "selected = order[-1000:]\n",
    "ref, alt = ref_raw[:,selected], alt_raw[:,selected]\n",
    "mut_type = np.argmax(posteriors[selected, 3:], axis = 1) \n",
    "gt1 = np.choose(mut_type, choices = ['R', 'H', 'H', 'A'])\n",
    "gt2 = np.choose(mut_type, choices = ['H', 'A', 'R', 'H'])\n",
    "#del posteriors, order, selected, mut_type\n",
    "print(ref.shape)"
   ]
  },
  {
   "cell_type": "code",
   "execution_count": null,
   "id": "80eb4799",
   "metadata": {},
   "outputs": [],
   "source": [
    "likelihoods1, likelihoods2 = likelihood_matrices(ref, alt, gt1, gt2)\n",
    "np.save('./test_results/real_data/likelihoods1.npy', likelihoods1)\n",
    "np.save('./test_results/real_data/likelihoods2.npy', likelihoods2)"
   ]
  },
  {
   "cell_type": "code",
   "execution_count": 3,
   "id": "d4e90c26",
   "metadata": {},
   "outputs": [],
   "source": [
    "likelihoods1 = np.load('./test_results/real_data/likelihoods1.npy')\n",
    "likelihoods2 = np.load('./test_results/real_data/likelihoods2.npy')"
   ]
  },
  {
   "cell_type": "code",
   "execution_count": 4,
   "id": "9189c80e",
   "metadata": {},
   "outputs": [],
   "source": [
    "optz = TreeOptimizer()\n",
    "optz.fit(likelihoods1, likelihoods2)"
   ]
  },
  {
   "cell_type": "code",
   "execution_count": 5,
   "id": "2eccc1d6",
   "metadata": {},
   "outputs": [
    {
     "name": "stdout",
     "output_type": "stream",
     "text": [
      "[Cell Tree Space] timeout after 116800 steps and 4244 move(s).\n",
      "[Mutation Tree Space] timeout after 200000 steps and 572 move(s).\n",
      "[Cell Tree Space] timeout after 116800 steps and 167 move(s).\n",
      "[Mutation Tree Space] timeout after 200000 steps and 123 move(s).\n",
      "[Cell Tree Space] convergence after 18542 steps and 12 move(s).\n",
      "[Mutation Tree Space] convergence after 28919 steps and 11 move(s).\n",
      "[Cell Tree Space] convergence after 88907 steps and 41 move(s).\n",
      "[Mutation Tree Space] convergence after 28940 steps and 6 move(s).\n",
      "[Cell Tree Space] convergence after 15573 steps and 7 move(s).\n",
      "[Mutation Tree Space] convergence after 38599 steps and 12 move(s).\n",
      "[Cell Tree Space] convergence after 11725 steps and 3 move(s).\n",
      "[Mutation Tree Space] convergence after 12414 steps and 1 move(s).\n",
      "[Cell Tree Space] convergence after 13995 steps and 3 move(s).\n",
      "[Mutation Tree Space] convergence after 19911 steps and 2 move(s).\n",
      "[Cell Tree Space] convergence after 5840 steps and 0 move(s).\n",
      "[Mutation Tree Space] convergence after 10000 steps and 0 move(s).\n",
      "[Cell Tree Space] convergence after 5840 steps and 0 move(s).\n",
      "[Mutation Tree Space] convergence after 10000 steps and 0 move(s).\n",
      "[Cell Tree Space] convergence after 20711 steps and 5 move(s).\n",
      "[Mutation Tree Space] convergence after 69494 steps and 14 move(s).\n",
      "[Cell Tree Space] convergence after 5840 steps and 0 move(s).\n",
      "[Mutation Tree Space] convergence after 10000 steps and 0 move(s).\n",
      "[Cell Tree Space] convergence after 15709 steps and 5 move(s).\n",
      "[Mutation Tree Space] convergence after 11724 steps and 1 move(s).\n",
      "[Cell Tree Space] convergence after 5840 steps and 0 move(s).\n",
      "[Mutation Tree Space] convergence after 11531 steps and 1 move(s).\n",
      "[Cell Tree Space] convergence after 9303 steps and 1 move(s).\n",
      "[Mutation Tree Space] convergence after 10000 steps and 0 move(s).\n",
      "[Cell Tree Space] convergence after 7624 steps and 1 move(s).\n",
      "[Mutation Tree Space] convergence after 24810 steps and 3 move(s).\n",
      "[Cell Tree Space] convergence after 29650 steps and 6 move(s).\n",
      "[Mutation Tree Space] convergence after 26520 steps and 5 move(s).\n",
      "[Cell Tree Space] convergence after 5840 steps and 0 move(s).\n",
      "[Mutation Tree Space] convergence after 10000 steps and 0 move(s).\n",
      "[Cell Tree Space] convergence after 11612 steps and 2 move(s).\n",
      "[Mutation Tree Space] convergence after 10000 steps and 0 move(s).\n",
      "[Cell Tree Space] convergence after 5840 steps and 0 move(s).\n",
      "[Mutation Tree Space] convergence after 21891 steps and 3 move(s).\n",
      "[Cell Tree Space] convergence after 5840 steps and 0 move(s).\n",
      "[Mutation Tree Space] convergence after 10000 steps and 0 move(s).\n",
      "[Cell Tree Space] convergence after 10867 steps and 1 move(s).\n",
      "[Mutation Tree Space] convergence after 10000 steps and 0 move(s).\n",
      "[Cell Tree Space] convergence after 9682 steps and 1 move(s).\n",
      "[Mutation Tree Space] convergence after 10000 steps and 0 move(s).\n",
      "[Cell Tree Space] convergence after 5840 steps and 0 move(s).\n"
     ]
    }
   ],
   "source": [
    "optz.optimize()"
   ]
  },
  {
   "cell_type": "code",
   "execution_count": 7,
   "id": "c9cd7878",
   "metadata": {},
   "outputs": [
    {
     "data": {
      "text/plain": [
       "[<matplotlib.lines.Line2D at 0x7f63e7a20550>]"
      ]
     },
     "execution_count": 7,
     "metadata": {},
     "output_type": "execute_result"
    },
    {
     "data": {
      "image/png": "[encoded data removed]",
      "text/plain": [
       "<Figure size 432x288 with 1 Axes>"
      ]
     },
     "metadata": {
      "needs_background": "light"
     },
     "output_type": "display_data"
    }
   ],
   "source": [
    "plt.plot(optz.likelihood_history)"
   ]
  },
  {
   "cell_type": "code",
   "execution_count": 8,
   "id": "f366103c",
   "metadata": {},
   "outputs": [],
   "source": [
    "np.save('./test_results/real_data/ct_parent_vec.npy', optz.ct.parent_vec)\n",
    "np.save('./test_results/real_data/ct_attachments.npy', optz.ct.attachments)\n",
    "np.save('./test_results/real_data/history.npy', optz.likelihood_history)"
   ]
  },
  {
   "cell_type": "markdown",
   "id": "22a768c8",
   "metadata": {},
   "source": [
    "### Dendrogram"
   ]
  },
  {
   "cell_type": "code",
   "execution_count": 3,
   "id": "ec676121",
   "metadata": {},
   "outputs": [],
   "source": [
    "import seaborn as sns\n",
    "from scipy.cluster.hierarchy import dendrogram"
   ]
  },
  {
   "cell_type": "code",
   "execution_count": 4,
   "id": "45095ae1",
   "metadata": {},
   "outputs": [],
   "source": [
    "parent_vec = np.load('./Data/ct_parent_vec.npy')"
   ]
  },
  {
   "cell_type": "code",
   "execution_count": 5,
   "id": "f3fdebe5",
   "metadata": {},
   "outputs": [],
   "source": [
    "ct = CellTree(len(parent_vec)//2 + 1)\n",
    "ct.parent_vec = parent_vec"
   ]
  },
  {
   "cell_type": "code",
   "execution_count": 7,
   "id": "fb0068d3",
   "metadata": {},
   "outputs": [
    {
     "data": {
      "image/png": "[encoded data removed]",
      "text/plain": [
       "<Figure size 1800x720 with 1 Axes>"
      ]
     },
     "metadata": {
      "needs_background": "light"
     },
     "output_type": "display_data"
    }
   ],
   "source": [
    "plt.figure(figsize=(25,10))\n",
    "dendrogram(ct.linkage_matrix)\n",
    "plt.show()"
   ]
  }
 ],
 "metadata": {
  "kernelspec": {
   "display_name": "Python 3.10.7 64-bit",
   "language": "python",
   "name": "python3"
  },
  "language_info": {
   "codemirror_mode": {
    "name": "ipython",
    "version": 3
   },
   "file_extension": ".py",
   "mimetype": "text/x-python",
   "name": "python",
   "nbconvert_exporter": "python",
   "pygments_lexer": "ipython3",
   "version": "3.10.8"
  },
  "vscode": {
   "interpreter": {
    "hash": "e7370f93d1d0cde622a1f8e1c04877d8463912d04d973331ad4851f04de6915a"
   }
  }
 },
 "nbformat": 4,
 "nbformat_minor": 5
}
