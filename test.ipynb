{
 "cells": [
  {
   "cell_type": "code",
   "execution_count": 26,
   "id": "0aa423f1-42a5-4039-babd-6a367bc8df5f",
   "metadata": {
    "tags": []
   },
   "outputs": [],
   "source": [
    "import pandas as pd\n",
    "import numpy as np\n",
    "import scipy as sp\n",
    "import matplotlib.pyplot as plt\n",
    "#import seaborn as sns"
   ]
  },
  {
   "cell_type": "code",
   "execution_count": 8,
   "id": "9e705554-3ac1-4870-afe7-375383cb8562",
   "metadata": {
    "tags": []
   },
   "outputs": [],
   "source": [
    "from random import random\n",
    "from tqdm.notebook import tqdm"
   ]
  },
  {
   "cell_type": "code",
   "execution_count": null,
   "id": "ba76eb97-3e5e-464c-b8b2-34824f54ae2a",
   "metadata": {},
   "outputs": [],
   "source": [
    "import time\n",
    "import multiprocess as mp"
   ]
  },
  {
   "cell_type": "markdown",
   "id": "c1ce9b3e-3f0a-4539-a3c0-bff77b6b35a4",
   "metadata": {
    "tags": []
   },
   "source": [
    "### Read data"
   ]
  },
  {
   "cell_type": "code",
   "execution_count": 22,
   "id": "40e8c288-866f-4e4d-bafd-d13a1e071094",
   "metadata": {},
   "outputs": [],
   "source": [
    "def read_data(indices = None ,chromosome = None, dataframe = False): \n",
    "    df_ref = pd.read_csv('./Data/glioblastoma_BT_S2/ref.csv', index_col = 0)\n",
    "    df_alt = pd.read_csv('./Data/glioblastoma_BT_S2/alt.csv', index_col = 0)\n",
    "    \n",
    "    df_ref['chromosome'] = [locus.split('_')[0] for locus in df_ref.index]\n",
    "    df_ref['locus'] = [locus.split('_')[1] for locus in df_ref.index]\n",
    "    df_ref = df_ref.set_index(['chromosome', 'locus']) # use multi-index\n",
    "\n",
    "    df_alt['chromosome'] = [locus.split('_')[0] for locus in df_alt.index]\n",
    "    df_alt['locus'] = [locus.split('_')[1] for locus in df_alt.index]\n",
    "    df_alt = df_alt.set_index(['chromosome', 'locus'])\n",
    "    \n",
    "    if indices is not None: \n",
    "        df_ref = df_ref.iloc[indices,:]\n",
    "        df_alt = df_alt.iloc[indices,:]\n",
    "    \n",
    "    if chromosome is not None: \n",
    "        df_ref = df_ref.loc[chromosome,:]\n",
    "        df_alt = df_alt.loc[chromosome,:]\n",
    "    \n",
    "    if dataframe: \n",
    "        return df_ref, df_alt\n",
    "    \n",
    "    ref = df_ref.to_numpy(dtype = float)\n",
    "    alt = df_alt.to_numpy(dtype = float)\n",
    "    #coverage = ref.flatten() + alt.flatten()\n",
    "    \n",
    "    return ref, alt"
   ]
  },
  {
   "cell_type": "raw",
   "id": "20256990-cec3-4aa7-b1ba-123e1a188cd9",
   "metadata": {},
   "source": [
    "def heterozygosity_map(chromosome, save = False):\n",
    "    ref = np.array(df_ref.loc[chromosome,:])\n",
    "    alt = np.array(df_alt.loc[chromosome,:])\n",
    "    \n",
    "    ref_proportion = (ref + 1) / (ref + alt + 2) # add a dummy count to both ref and alt to avoid division by 0\n",
    "    alpha = 2 * np.arctan(ref + alt) / np.pi # hide loci without enough counts\n",
    "    \n",
    "    plt.figure(figsize=(24,16))\n",
    "    plt.imshow(ref_proportion.T, cmap = 'viridis', vmin = 0., vmax = 1., alpha = alpha.T) \n",
    "    # \"viridis\": yellow for 1, purple for 0, green/blue for 0.5 (https://matplotlib.org/3.5.1/tutorials/colors/colormaps.html)\n",
    "    plt.title(chromosome, fontsize = 17)\n",
    "    plt.xlabel('locus index', fontsize = 17)\n",
    "    plt.ylabel('cell index', fontsize = 17)\n",
    "    if save: \n",
    "        plt.savefig('chromosome' + '.png')\n",
    "    plt.show()"
   ]
  },
  {
   "cell_type": "raw",
   "id": "b4d58d17-0b66-49dd-bc63-a73f464e46f1",
   "metadata": {},
   "source": [
    "# proportion of entries that has at least one read (reference or alternative or both)\n",
    "np.sum(np.logical_or(np.array(df_ref), np.array(df_alt))) / df_ref.size\n",
    "# Conclustion: 70% of all entries have no read at all"
   ]
  },
  {
   "cell_type": "raw",
   "id": "0b265608-de43-40e4-ba28-fe01dab7de14",
   "metadata": {},
   "source": [
    "heterozygosity_map('chr1', save = True)"
   ]
  },
  {
   "cell_type": "raw",
   "id": "0c410337-5bb1-433f-80b0-86e3c703cf6f",
   "metadata": {
    "tags": []
   },
   "source": [
    "for chromosome in df_ref.index.get_level_values('chromosome').unique():\n",
    "    heterozygosity_map(chromosome)"
   ]
  },
  {
   "cell_type": "raw",
   "id": "9f20f0bc-a319-4d1a-af6e-ca0154f750da",
   "metadata": {},
   "source": [
    "plt.figure(figsize = (24, 16))\n",
    "plt.hist(coverages, bins = 1000)\n",
    "plt.yscale('log')\n",
    "plt.show()"
   ]
  },
  {
   "cell_type": "markdown",
   "id": "4f830e4c-a725-4dd1-99dd-66b4ec5f3efa",
   "metadata": {},
   "source": [
    "### Mutation detection"
   ]
  },
  {
   "cell_type": "code",
   "execution_count": null,
   "id": "f181fd2d-d8c1-42b9-9c2f-2650fa6b2711",
   "metadata": {},
   "outputs": [],
   "source": [
    "from mutation_detection import *\n",
    "from LOH_detection import *"
   ]
  },
  {
   "cell_type": "raw",
   "id": "99bb33b3-6272-4c98-8a72-9022845f030c",
   "metadata": {},
   "source": [
    "# expected runtime (in minutes) to run on the complete dataset\n",
    "time_costs[5] / 50 * ref.shape[0] / 60"
   ]
  },
  {
   "cell_type": "code",
   "execution_count": null,
   "id": "0d1e993b-313b-43ef-a9aa-10e79cc0c001",
   "metadata": {},
   "outputs": [],
   "source": [
    "ref.shape"
   ]
  },
  {
   "cell_type": "code",
   "execution_count": null,
   "id": "2cfeee76-eda9-404d-b71c-0a6576764aa5",
   "metadata": {},
   "outputs": [],
   "source": [
    "(1 - 1/(2*1168 - 2)**2) ** 16153"
   ]
  },
  {
   "cell_type": "code",
   "execution_count": null,
   "id": "c2859045-57b5-4a7f-9041-3fdf25cdaea6",
   "metadata": {},
   "outputs": [],
   "source": [
    "get_composition_priors(10, genotype_freq = {'R': 1/3, 'H': 1/3, 'A': 1/3}, mutation_rate = 0.25)"
   ]
  },
  {
   "cell_type": "code",
   "execution_count": null,
   "id": "85cb5fd1-a07a-4768-8ac6-814afb902421",
   "metadata": {},
   "outputs": [],
   "source": [
    "start_time = time.time()\n",
    "posteriors = get_posteriors(ref, alt, n_threads = 6)\n",
    "print('Runtime:', (time.time() - start_time) / 60, 'min')\n",
    "pd.DataFrame(posteriors, columns = ['R', 'H', 'A', 'RH', 'HA'], index = df_ref.index).to_csv('./posteriors.csv')"
   ]
  },
  {
   "cell_type": "code",
   "execution_count": 24,
   "id": "41b461ea-4d8a-433a-a56d-9396b221119c",
   "metadata": {},
   "outputs": [],
   "source": [
    "df_posteriors = pd.read_csv('./posteriors.csv', index_col = (0,1))\n",
    "posteriors = df_posteriors.to_numpy()"
   ]
  },
  {
   "cell_type": "code",
   "execution_count": 27,
   "id": "9fe71449-4746-478f-a0cf-850e443334b1",
   "metadata": {},
   "outputs": [],
   "source": [
    "mutated_idx, mut_type_idx = np.where(posteriors[:,3:] > 1 - 1 / posteriors.shape[0])\n",
    "n_mutated = mutated_idx.size\n",
    "homos = [['R', 'A'][i] for i in mut_type_idx]"
   ]
  },
  {
   "cell_type": "code",
   "execution_count": null,
   "id": "2b598086-bbf1-4948-863f-dd23a7367428",
   "metadata": {},
   "outputs": [],
   "source": [
    "corr_posteriors = get_corr_posteriors(ref[mutated_idx,:], alt[mutated_idx,:], homos, corr_prior = 1/2) "
   ]
  },
  {
   "cell_type": "code",
   "execution_count": null,
   "id": "090bf80e-5cb8-4e99-9973-592531e821bc",
   "metadata": {},
   "outputs": [],
   "source": [
    "pd.DataFrame(data = {'correlation posterior': np.concatenate((corr_posteriors, [0])), 'mutation type': ['H' + h for h in homos]}, \n",
    "             index = df_posteriors.index[mutated_idx]).to_csv('./corr_posteriors.csv')"
   ]
  },
  {
   "cell_type": "markdown",
   "id": "92a4bf55-a51a-4a6e-addc-5218ccf726a7",
   "metadata": {
    "tags": []
   },
   "source": [
    "### Data generator"
   ]
  },
  {
   "cell_type": "code",
   "execution_count": 1,
   "id": "c8a2d9c1-69ff-4504-aa94-7369d81b8f10",
   "metadata": {},
   "outputs": [],
   "source": [
    "from data_generator import *"
   ]
  },
  {
   "cell_type": "code",
   "execution_count": 2,
   "id": "bcf0fa99-2aa1-42ca-a0e7-e8ed281e9baf",
   "metadata": {},
   "outputs": [],
   "source": [
    "dg = DataGenerator(50, 200)"
   ]
  },
  {
   "cell_type": "code",
   "execution_count": 3,
   "id": "e63b1df5-3e4f-4265-8953-c79d338c8b8a",
   "metadata": {},
   "outputs": [
    {
     "data": {
      "application/vnd.jupyter.widget-view+json": {
       "model_id": "49d57e956a5e4ee291a69f7b00ed0c7c",
       "version_major": 2,
       "version_minor": 0
      },
      "text/plain": [
       "  0%|          | 0/50 [00:00<?, ?it/s]"
      ]
     },
     "metadata": {},
     "output_type": "display_data"
    }
   ],
   "source": [
    "ref, alt, gt1, gt2 = dg.generate_reads()"
   ]
  },
  {
   "cell_type": "raw",
   "id": "4b8a2367-5310-4a29-8abc-f00269963cfd",
   "metadata": {},
   "source": [
    "dg.tree.to_graphviz()"
   ]
  },
  {
   "cell_type": "raw",
   "id": "5912892c-2e9b-492d-91e6-132245839f42",
   "metadata": {},
   "source": [
    "mt = MutationTree(cell_tree = dg.tree)"
   ]
  },
  {
   "cell_type": "raw",
   "id": "132c2d3c-f0f0-4f9a-9a76-a74a2853c0d0",
   "metadata": {},
   "source": [
    "mt.to_graphviz()"
   ]
  },
  {
   "cell_type": "markdown",
   "id": "7fb88f10-e8ee-4a8f-9b33-323bb7407c57",
   "metadata": {},
   "source": [
    "### Tree inference with generated data"
   ]
  },
  {
   "cell_type": "code",
   "execution_count": 9,
   "id": "b4407d92-9431-4d3d-adc4-1dd5910b0315",
   "metadata": {},
   "outputs": [],
   "source": [
    "from tree_inference import TreeOptimizer\n",
    "from mutation_detection import cell_locus_likelihoods\n",
    "from utilities import path_len_dist"
   ]
  },
  {
   "cell_type": "code",
   "execution_count": 10,
   "id": "9f7ee444-b2de-4197-9723-a56e74fa637d",
   "metadata": {},
   "outputs": [],
   "source": [
    "likelihoods1, likelihoods2 = cell_locus_likelihoods(ref, alt, gt1, gt2)"
   ]
  },
  {
   "cell_type": "markdown",
   "id": "5aacfb66-4de0-4e32-8965-e3a61a900655",
   "metadata": {},
   "source": [
    "#### True tree"
   ]
  },
  {
   "cell_type": "code",
   "execution_count": 11,
   "id": "a2f3dc63-0942-4d08-849e-bf6dbfeab1c6",
   "metadata": {},
   "outputs": [],
   "source": [
    "import matplotlib.pyplot as plt"
   ]
  },
  {
   "cell_type": "code",
   "execution_count": 12,
   "id": "bc8a259e-716a-40a6-8894-0246e3f3ff9d",
   "metadata": {},
   "outputs": [],
   "source": [
    "optz = TreeOptimizer()\n",
    "optz.fit(likelihoods2, likelihoods1, reversible = True)\n",
    "optz.ct = dg.tree.copy()\n",
    "optz.update_ct()"
   ]
  },
  {
   "cell_type": "code",
   "execution_count": 13,
   "id": "bbd855d7-363b-4332-bd6e-5b2726c9bf20",
   "metadata": {},
   "outputs": [
    {
     "name": "stdout",
     "output_type": "stream",
     "text": [
      "distance to real tree: 0\n"
     ]
    }
   ],
   "source": [
    "print('distance to real tree:', path_len_dist(optz.ct, dg.tree))"
   ]
  },
  {
   "cell_type": "code",
   "execution_count": 14,
   "id": "7a74ec67-f7ab-48db-99fb-1676663871e8",
   "metadata": {},
   "outputs": [
    {
     "data": {
      "text/plain": [
       "-12100.167249"
      ]
     },
     "execution_count": 14,
     "metadata": {},
     "output_type": "execute_result"
    }
   ],
   "source": [
    "optz.ct_joint"
   ]
  },
  {
   "cell_type": "code",
   "execution_count": 15,
   "id": "bbc81048-4fe3-4132-bdba-4646d79b2dee",
   "metadata": {},
   "outputs": [],
   "source": [
    "optz.mt.fit_structure(optz.ct)\n",
    "optz.mt_L[:,optz.mt.root.ID] = np.sum(optz.likelihoods1, axis = 1)\n",
    "optz.update_mt()"
   ]
  },
  {
   "cell_type": "code",
   "execution_count": 16,
   "id": "04191901-7cbf-4a12-8832-3701e42b3d15",
   "metadata": {},
   "outputs": [
    {
     "data": {
      "text/plain": [
       "-12100.167249"
      ]
     },
     "execution_count": 16,
     "metadata": {},
     "output_type": "execute_result"
    }
   ],
   "source": [
    "optz.mt_joint"
   ]
  },
  {
   "cell_type": "markdown",
   "id": "0d0d9b31-ad69-42a9-b389-3053011c43fe",
   "metadata": {},
   "source": [
    "#### All mutations reversible"
   ]
  },
  {
   "cell_type": "code",
   "execution_count": 17,
   "id": "acd11917-9663-4779-a258-850b2ba632b6",
   "metadata": {},
   "outputs": [
    {
     "name": "stdout",
     "output_type": "stream",
     "text": [
      "distance to real tree: 4021\n"
     ]
    }
   ],
   "source": [
    "optz = TreeOptimizer()\n",
    "optz.fit(likelihoods2, likelihoods1, reversible = True)\n",
    "print('distance to real tree:', path_len_dist(optz.ct, dg.tree))"
   ]
  },
  {
   "cell_type": "code",
   "execution_count": 18,
   "id": "d194d407-835a-48c8-964b-063d0fad0d91",
   "metadata": {},
   "outputs": [
    {
     "name": "stdout",
     "output_type": "stream",
     "text": [
      "[Cell Tree Space] convergence after 2373 steps and 135 move(s).\n",
      "[Mutation Tree Space] convergence after 3501 steps and 4 move(s).\n",
      "[Cell Tree Space] convergence after 469 steps and 1 move(s).\n",
      "[Mutation Tree Space] convergence after 4193 steps and 2 move(s).\n",
      "[Cell Tree Space] convergence after 250 steps and 0 move(s).\n",
      "[Mutation Tree Space] convergence after 2000 steps and 0 move(s).\n"
     ]
    }
   ],
   "source": [
    "history, space_history = optz.optimize()"
   ]
  },
  {
   "cell_type": "code",
   "execution_count": 19,
   "id": "b8330454-e8fb-46e3-9673-a003854ed5a8",
   "metadata": {},
   "outputs": [
    {
     "data": {
      "text/plain": [
       "[<matplotlib.lines.Line2D at 0x7fc89d3daec0>]"
      ]
     },
     "execution_count": 19,
     "metadata": {},
     "output_type": "execute_result"
    },
    {
     "data": {
      "image/png": "[encoded data removed]",
      "text/plain": [
       "<Figure size 432x288 with 1 Axes>"
      ]
     },
     "metadata": {
      "needs_background": "light"
     },
     "output_type": "display_data"
    }
   ],
   "source": [
    "plt.plot(history)"
   ]
  },
  {
   "cell_type": "code",
   "execution_count": 20,
   "id": "8e086bed-a82a-4cbf-b939-7d3269b8a135",
   "metadata": {},
   "outputs": [
    {
     "name": "stdout",
     "output_type": "stream",
     "text": [
      "distance to real tree: 1452\n",
      "cell tree joint likelihood: -12112.908482\n",
      "mutation tree joint likelihood: -12112.908482\n"
     ]
    }
   ],
   "source": [
    "print('distance to real tree:', path_len_dist(optz.ct, dg.tree))\n",
    "print('cell tree joint likelihood:', optz.ct_joint)\n",
    "print('mutation tree joint likelihood:', optz.mt_joint)"
   ]
  },
  {
   "cell_type": "markdown",
   "id": "1a49ec20-3e10-4e3f-a5ad-cd6eb4e00678",
   "metadata": {},
   "source": [
    "#### No mutation reversible"
   ]
  },
  {
   "cell_type": "code",
   "execution_count": 21,
   "id": "2156f9a9-8801-4a9b-acd4-5200e969cf85",
   "metadata": {},
   "outputs": [
    {
     "name": "stdout",
     "output_type": "stream",
     "text": [
      "distance to real tree: 5038\n"
     ]
    }
   ],
   "source": [
    "optz = TreeOptimizer()\n",
    "optz.fit(likelihoods1, likelihoods2, reversible = False)\n",
    "print('distance to real tree:', path_len_dist(optz.ct, dg.tree))"
   ]
  },
  {
   "cell_type": "code",
   "execution_count": 22,
   "id": "dbc77849-5d56-4e81-8357-0c4c0dd0856b",
   "metadata": {},
   "outputs": [
    {
     "name": "stdout",
     "output_type": "stream",
     "text": [
      "[Cell Tree Space] convergence after 2280 steps and 107 move(s).\n",
      "[Mutation Tree Space] convergence after 9214 steps and 12 move(s).\n",
      "[Cell Tree Space] convergence after 416 steps and 2 move(s).\n",
      "[Mutation Tree Space] convergence after 2000 steps and 0 move(s).\n",
      "[Cell Tree Space] convergence after 250 steps and 0 move(s).\n"
     ]
    }
   ],
   "source": [
    "history, space_history = optz.optimize()"
   ]
  },
  {
   "cell_type": "code",
   "execution_count": 23,
   "id": "3c44b5e0-78bb-49f3-8032-ecc4961f7b7d",
   "metadata": {},
   "outputs": [
    {
     "data": {
      "text/plain": [
       "[<matplotlib.lines.Line2D at 0x7fc89c2bb6d0>]"
      ]
     },
     "execution_count": 23,
     "metadata": {},
     "output_type": "execute_result"
    },
    {
     "data": {
      "image/png": "[encoded data removed]",
      "text/plain": [
       "<Figure size 432x288 with 1 Axes>"
      ]
     },
     "metadata": {
      "needs_background": "light"
     },
     "output_type": "display_data"
    }
   ],
   "source": [
    "plt.plot(history)"
   ]
  },
  {
   "cell_type": "code",
   "execution_count": 24,
   "id": "3a64c61e-aa50-4a59-9f0d-42cf7fb5fa7e",
   "metadata": {},
   "outputs": [
    {
     "name": "stdout",
     "output_type": "stream",
     "text": [
      "distance to real tree: 1570\n",
      "cell tree joint likelihood: -12150.366841\n",
      "mutation tree joint likelihood: -12150.366841\n"
     ]
    }
   ],
   "source": [
    "print('distance to real tree:', path_len_dist(optz.ct, dg.tree))\n",
    "print('cell tree joint likelihood:', optz.ct_joint)\n",
    "print('mutation tree joint likelihood:', optz.mt_joint)"
   ]
  },
  {
   "cell_type": "markdown",
   "id": "c1210d56-aba2-4315-ab03-0f1a2df89a65",
   "metadata": {},
   "source": [
    "#### Test settings and make boxplot"
   ]
  },
  {
   "cell_type": "code",
   "execution_count": 28,
   "id": "aa49174c-dae1-4ee7-bf51-ae513d831508",
   "metadata": {},
   "outputs": [],
   "source": [
    "def test_settings(settings, ref_tree, n_tests = 10): \n",
    "    n_settings = len(settings)\n",
    "    final_likelihoods = np.empty((n_tests, n_settings))\n",
    "    final_dist = np.empty((n_tests, n_settings))\n",
    "    for i in tqdm(range(n_tests)): \n",
    "        for j in range(n_settings): \n",
    "            likelihoods1 = settings[j]['likelihoods1']\n",
    "            likelihoods2 = settings[j]['likelihoods2']\n",
    "            reversible = settings[j]['reversible']\n",
    "        \n",
    "            optz = TreeOptimizer()\n",
    "            optz.fit(likelihoods1, likelihoods2, reversible = reversible)\n",
    "            history, space_history = optz.optimize(print_space_result = False)\n",
    "            final_likelihoods[i,j] = history[-1]\n",
    "            final_dist[i,j] = path_len_dist(optz.ct, ref_tree)\n",
    "    \n",
    "    #print(final_likelihoods)\n",
    "    #print(final_dist)\n",
    "    \n",
    "    plt.figure()\n",
    "    plt.boxplot(final_likelihoods)\n",
    "    plt.show()\n",
    "    \n",
    "    plt.figure()\n",
    "    plt.boxplot(final_dist)\n",
    "    plt.show()"
   ]
  },
  {
   "cell_type": "code",
   "execution_count": 29,
   "id": "a67864f9-8809-48f7-8242-216f0a6173a2",
   "metadata": {},
   "outputs": [],
   "source": [
    "settings = [\n",
    "    {'likelihoods1': likelihoods1, 'likelihoods2': likelihoods2, 'reversible': True}, \n",
    "    {'likelihoods1': likelihoods1, 'likelihoods2': likelihoods2, 'reversible': False}, \n",
    "    {'likelihoods1': likelihoods2, 'likelihoods2': likelihoods1, 'reversible': True}, \n",
    "    {'likelihoods1': likelihoods2, 'likelihoods2': likelihoods1, 'reversible': False}\n",
    "]"
   ]
  },
  {
   "cell_type": "code",
   "execution_count": 30,
   "id": "e91cac50-5a2d-494d-ad83-7fc3dc0ecafe",
   "metadata": {},
   "outputs": [
    {
     "data": {
      "application/vnd.jupyter.widget-view+json": {
       "model_id": "791df767d9ab433f97e7a5890328a08d",
       "version_major": 2,
       "version_minor": 0
      },
      "text/plain": [
       "  0%|          | 0/10 [00:00<?, ?it/s]"
      ]
     },
     "metadata": {},
     "output_type": "display_data"
    },
    {
     "data": {
      "image/png": "[encoded data removed]",
      "text/plain": [
       "<Figure size 432x288 with 1 Axes>"
      ]
     },
     "metadata": {
      "needs_background": "light"
     },
     "output_type": "display_data"
    },
    {
     "data": {
      "image/png": "[encoded data removed]",
      "text/plain": [
       "<Figure size 432x288 with 1 Axes>"
      ]
     },
     "metadata": {
      "needs_background": "light"
     },
     "output_type": "display_data"
    }
   ],
   "source": [
    "test_settings(settings, dg.tree, n_tests = 10)"
   ]
  },
  {
   "cell_type": "markdown",
   "id": "b311faca-5a45-4008-87d3-983b4423b1f9",
   "metadata": {},
   "source": [
    "### Apply to data, without LOH"
   ]
  },
  {
   "cell_type": "raw",
   "id": "ecb74968-6d71-4a5d-b2fa-8411294a50b6",
   "metadata": {},
   "source": [
    "import pandas as pd"
   ]
  },
  {
   "cell_type": "raw",
   "id": "965ddc9c-6075-4c1f-a9c6-3228da736c68",
   "metadata": {},
   "source": [
    "df_posteriors = pd.read_csv('./posteriors.csv')\n",
    "posteriors = df_posteriors.to_numpy()"
   ]
  },
  {
   "cell_type": "raw",
   "id": "1e289781-74e0-4142-a975-614bc7ccbff8",
   "metadata": {},
   "source": [
    "ref, alt = read_data(mutated_idx, chromosome = 'chr1')\n",
    "ref, alt = ref.T, alt.T\n",
    "gt1 = ['H' for i in range(ref.shape[1])]\n",
    "gt2 = [['R', 'A'][i] for i in mut_type_idx[:ref.shape[1]]]"
   ]
  },
  {
   "cell_type": "raw",
   "id": "dd8874ae-f65e-4672-b7f0-c379859683cf",
   "metadata": {},
   "source": [
    "likelihoods1, likelihoods2 = cell_locus_likelihoods(ref, alt, gt1, gt2)"
   ]
  },
  {
   "cell_type": "raw",
   "id": "6a1a279c-3f48-433c-a254-9a26da1a75cd",
   "metadata": {},
   "source": [
    "optz = TreeOptimizer()\n",
    "optz.fit(likelihoods2, likelihoods1, reversible = True)\n",
    "history, space_history = optz.optimize()"
   ]
  },
  {
   "cell_type": "markdown",
   "id": "5c677bc5-acd1-4eb6-bba0-f067b1f98608",
   "metadata": {},
   "source": [
    "### Apply to data, with LOH"
   ]
  },
  {
   "cell_type": "raw",
   "id": "df0f4a35-c6de-446b-ad32-404b344cf448",
   "metadata": {},
   "source": [
    "df_corr = pd.read_csv('corr_posteriors.csv', index_col = ('chromosome', 'locus'))"
   ]
  },
  {
   "cell_type": "raw",
   "id": "15566e39-4627-4808-9bfe-8579d0038a4d",
   "metadata": {},
   "source": [
    "corr_posteriors = df_corr['correlation posterior'].to_numpy()"
   ]
  },
  {
   "cell_type": "raw",
   "id": "88f1b771-8bd0-4b06-b3f0-2373f54e48ce",
   "metadata": {},
   "source": [
    "corr_posteriors.shape"
   ]
  }
 ],
 "metadata": {
  "kernelspec": {
   "display_name": "Python 3 (ipykernel)",
   "language": "python",
   "name": "python3"
  },
  "language_info": {
   "codemirror_mode": {
    "name": "ipython",
    "version": 3
   },
   "file_extension": ".py",
   "mimetype": "text/x-python",
   "name": "python",
   "nbconvert_exporter": "python",
   "pygments_lexer": "ipython3",
   "version": "3.10.7"
  }
 },
 "nbformat": 4,
 "nbformat_minor": 5
}
