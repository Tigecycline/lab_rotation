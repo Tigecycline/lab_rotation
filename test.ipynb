{
 "cells": [
  {
   "cell_type": "code",
   "execution_count": null,
   "id": "0aa423f1-42a5-4039-babd-6a367bc8df5f",
   "metadata": {
    "tags": []
   },
   "outputs": [],
   "source": [
    "import pandas as pd\n",
    "import numpy as np\n",
    "import scipy as sp\n",
    "import matplotlib.pyplot as plt\n",
    "#import seaborn as sns"
   ]
  },
  {
   "cell_type": "code",
   "execution_count": null,
   "id": "9e705554-3ac1-4870-afe7-375383cb8562",
   "metadata": {
    "tags": []
   },
   "outputs": [],
   "source": [
    "from random import random\n",
    "from tqdm.notebook import tqdm"
   ]
  },
  {
   "cell_type": "code",
   "execution_count": null,
   "id": "ba76eb97-3e5e-464c-b8b2-34824f54ae2a",
   "metadata": {},
   "outputs": [],
   "source": [
    "import time\n",
    "import multiprocess as mp"
   ]
  },
  {
   "cell_type": "markdown",
   "id": "c1ce9b3e-3f0a-4539-a3c0-bff77b6b35a4",
   "metadata": {
    "tags": []
   },
   "source": [
    "### Read data & preprocessing"
   ]
  },
  {
   "cell_type": "code",
   "execution_count": null,
   "id": "aa6877e3-3d2a-47f1-ac46-c1f909265ca1",
   "metadata": {},
   "outputs": [],
   "source": [
    "df_ref = pd.read_csv('./Data/glioblastoma_BT_S2/ref.csv', index_col = 0)\n",
    "df_alt = pd.read_csv('./Data/glioblastoma_BT_S2/alt.csv', index_col = 0)"
   ]
  },
  {
   "cell_type": "code",
   "execution_count": null,
   "id": "b0c578e5-dadf-49aa-ac69-dba3c5a916d6",
   "metadata": {},
   "outputs": [],
   "source": [
    "# use multi-index for easier handling of the data\n",
    "df_ref['chromosome'] = [locus.split('_')[0] for locus in df_ref.index]\n",
    "df_ref['locus'] = [locus.split('_')[1] for locus in df_ref.index]\n",
    "df_ref = df_ref.set_index(['chromosome', 'locus'])\n",
    "\n",
    "df_alt['chromosome'] = [locus.split('_')[0] for locus in df_alt.index]\n",
    "df_alt['locus'] = [locus.split('_')[1] for locus in df_alt.index]\n",
    "df_alt = df_alt.set_index(['chromosome', 'locus'])"
   ]
  },
  {
   "cell_type": "raw",
   "id": "20256990-cec3-4aa7-b1ba-123e1a188cd9",
   "metadata": {},
   "source": [
    "def heterozygosity_map(chromosome, save = False):\n",
    "    ref = np.array(df_ref.loc[chromosome,:])\n",
    "    alt = np.array(df_alt.loc[chromosome,:])\n",
    "    \n",
    "    ref_proportion = (ref + 1) / (ref + alt + 2) # add a dummy count to both ref and alt to avoid division by 0\n",
    "    alpha = 2 * np.arctan(ref + alt) / np.pi # hide loci without enough counts\n",
    "    \n",
    "    plt.figure(figsize=(24,16))\n",
    "    plt.imshow(ref_proportion.T, cmap = 'viridis', vmin = 0., vmax = 1., alpha = alpha.T) \n",
    "    # \"viridis\": yellow for 1, purple for 0, green/blue for 0.5 (https://matplotlib.org/3.5.1/tutorials/colors/colormaps.html)\n",
    "    plt.title(chromosome, fontsize = 17)\n",
    "    plt.xlabel('locus index', fontsize = 17)\n",
    "    plt.ylabel('cell index', fontsize = 17)\n",
    "    if save: \n",
    "        plt.savefig('chromosome' + '.png')\n",
    "    plt.show()"
   ]
  },
  {
   "cell_type": "raw",
   "id": "b4d58d17-0b66-49dd-bc63-a73f464e46f1",
   "metadata": {},
   "source": [
    "# proportion of entries that has at least one read (reference or alternative or both)\n",
    "np.sum(np.logical_or(np.array(df_ref), np.array(df_alt))) / df_ref.size\n",
    "# Conclustion: 70% of all entries have no read at all"
   ]
  },
  {
   "cell_type": "raw",
   "id": "0b265608-de43-40e4-ba28-fe01dab7de14",
   "metadata": {},
   "source": [
    "heterozygosity_map('chr1', save = True)"
   ]
  },
  {
   "cell_type": "raw",
   "id": "0c410337-5bb1-433f-80b0-86e3c703cf6f",
   "metadata": {
    "tags": []
   },
   "source": [
    "for chromosome in df_ref.index.get_level_values('chromosome').unique():\n",
    "    heterozygosity_map(chromosome)"
   ]
  },
  {
   "cell_type": "raw",
   "id": "9f20f0bc-a319-4d1a-af6e-ca0154f750da",
   "metadata": {},
   "source": [
    "plt.figure(figsize = (24, 16))\n",
    "plt.hist(coverages, bins = 1000)\n",
    "plt.yscale('log')\n",
    "plt.show()"
   ]
  },
  {
   "cell_type": "markdown",
   "id": "4f830e4c-a725-4dd1-99dd-66b4ec5f3efa",
   "metadata": {},
   "source": [
    "### Mutation detection"
   ]
  },
  {
   "cell_type": "code",
   "execution_count": null,
   "id": "f181fd2d-d8c1-42b9-9c2f-2650fa6b2711",
   "metadata": {},
   "outputs": [],
   "source": [
    "from mutation_detection import *\n",
    "from LOH_detection import *"
   ]
  },
  {
   "cell_type": "code",
   "execution_count": null,
   "id": "a2b16604-9126-4fca-9050-88d84dd9352c",
   "metadata": {},
   "outputs": [],
   "source": [
    "ref = df_ref.to_numpy(dtype = float)\n",
    "alt = df_alt.to_numpy(dtype = float)\n",
    "coverages = ref.flatten() + alt.flatten()"
   ]
  },
  {
   "cell_type": "raw",
   "id": "08ff1696-7ad4-4554-96b8-94f4bd94a8e6",
   "metadata": {},
   "source": [
    "def test_thread_numbers(max_n_threads, n_loci = 50):  \n",
    "    time_costs = np.zeros(max_n_threads)\n",
    "    for n in tqdm(range(1,max_n_threads+1)): \n",
    "        start_time = time.time()\n",
    "        get_posteriors(ref[0:n_loci,:], alt[0:n_loci,:], n_threads = n)\n",
    "        time_costs[n-1] = time.time() - start_time\n",
    "    \n",
    "    return time_costs"
   ]
  },
  {
   "cell_type": "raw",
   "id": "f0abadad-f587-4857-83d0-3641f6b3e544",
   "metadata": {
    "tags": []
   },
   "source": [
    "time_costs = test_thread_numbers(12)\n",
    "\n",
    "plt.figure(figsize = (8,6))\n",
    "plt.plot(np.array(range(1, 13)), time_costs)\n",
    "plt.xlabel('number of threads')\n",
    "plt.ylabel('runtime (s)')\n",
    "plt.grid()\n",
    "plt.show()"
   ]
  },
  {
   "cell_type": "raw",
   "id": "99bb33b3-6272-4c98-8a72-9022845f030c",
   "metadata": {},
   "source": [
    "# expected runtime (in minutes) to run on the complete dataset\n",
    "time_costs[5] / 50 * ref.shape[0] / 60"
   ]
  },
  {
   "cell_type": "code",
   "execution_count": null,
   "id": "0d1e993b-313b-43ef-a9aa-10e79cc0c001",
   "metadata": {},
   "outputs": [],
   "source": [
    "ref.shape"
   ]
  },
  {
   "cell_type": "code",
   "execution_count": null,
   "id": "2cfeee76-eda9-404d-b71c-0a6576764aa5",
   "metadata": {},
   "outputs": [],
   "source": [
    "(1 - 1/(2*1168 - 2)**2) ** 16153"
   ]
  },
  {
   "cell_type": "code",
   "execution_count": null,
   "id": "c2859045-57b5-4a7f-9041-3fdf25cdaea6",
   "metadata": {},
   "outputs": [],
   "source": [
    "get_composition_priors(10, genotype_freq = {'R': 1/3, 'H': 1/3, 'A': 1/3}, mutation_rate = 0.25)"
   ]
  },
  {
   "cell_type": "code",
   "execution_count": null,
   "id": "85cb5fd1-a07a-4768-8ac6-814afb902421",
   "metadata": {},
   "outputs": [],
   "source": [
    "start_time = time.time()\n",
    "posteriors = get_posteriors(ref, alt, n_threads = 6)\n",
    "print('Runtime:', (time.time() - start_time) / 60, 'min')\n",
    "pd.DataFrame(posteriors, columns = ['R', 'H', 'A', 'RH', 'HA'], index = df_ref.index).to_csv('./posteriors.csv')"
   ]
  },
  {
   "cell_type": "code",
   "execution_count": null,
   "id": "41b461ea-4d8a-433a-a56d-9396b221119c",
   "metadata": {},
   "outputs": [],
   "source": [
    "df_posteriors = pd.read_csv('./posteriors.csv', index_col = (0,1))\n",
    "posteriors = df_posteriors.to_numpy()"
   ]
  },
  {
   "cell_type": "code",
   "execution_count": null,
   "id": "9fe71449-4746-478f-a0cf-850e443334b1",
   "metadata": {},
   "outputs": [],
   "source": [
    "mutated_idx, mut_type_idx = np.where(posteriors[:,3:] > 1 - 1 / posteriors.shape[0])\n",
    "n_mutated = mutated_idx.size\n",
    "homos = [['R', 'A'][i] for i in mut_type_idx]"
   ]
  },
  {
   "cell_type": "code",
   "execution_count": null,
   "id": "2b598086-bbf1-4948-863f-dd23a7367428",
   "metadata": {},
   "outputs": [],
   "source": [
    "corr_posteriors = get_corr_posteriors(ref[mutated_idx,:], alt[mutated_idx,:], homos, corr_prior = 1/2) "
   ]
  },
  {
   "cell_type": "code",
   "execution_count": null,
   "id": "090bf80e-5cb8-4e99-9973-592531e821bc",
   "metadata": {},
   "outputs": [],
   "source": [
    "pd.DataFrame(data = {'correlation posterior': np.concatenate((corr_posteriors, [0])), 'mutation type': ['H' + h for h in homos]}, \n",
    "             index = df_posteriors.index[mutated_idx]).to_csv('./corr_posteriors.csv')"
   ]
  },
  {
   "cell_type": "markdown",
   "id": "92a4bf55-a51a-4a6e-addc-5218ccf726a7",
   "metadata": {},
   "source": [
    "### Data Generator"
   ]
  },
  {
   "cell_type": "code",
   "execution_count": 1,
   "id": "c8a2d9c1-69ff-4504-aa94-7369d81b8f10",
   "metadata": {},
   "outputs": [],
   "source": [
    "from data_generator import *"
   ]
  },
  {
   "cell_type": "code",
   "execution_count": 2,
   "id": "bcf0fa99-2aa1-42ca-a0e7-e8ed281e9baf",
   "metadata": {},
   "outputs": [],
   "source": [
    "dg = DataGenerator(6, 20)"
   ]
  },
  {
   "cell_type": "code",
   "execution_count": 3,
   "id": "e63b1df5-3e4f-4265-8953-c79d338c8b8a",
   "metadata": {},
   "outputs": [
    {
     "data": {
      "application/vnd.jupyter.widget-view+json": {
       "model_id": "c528b53ec5ea41e0bf65f1943d9637eb",
       "version_major": 2,
       "version_minor": 0
      },
      "text/plain": [
       "  0%|          | 0/6 [00:00<?, ?it/s]"
      ]
     },
     "metadata": {},
     "output_type": "display_data"
    }
   ],
   "source": [
    "ref, alt, gt1, gt2 = dg.generate_reads()"
   ]
  },
  {
   "cell_type": "code",
   "execution_count": 4,
   "id": "7f1913c1-c1da-45e7-88c1-0e88ffe61a01",
   "metadata": {},
   "outputs": [
    {
     "data": {
      "image/svg+xml": [
       "<?xml version=\"1.0\" encoding=\"UTF-8\" standalone=\"no\"?>\n",
       "<!DOCTYPE svg PUBLIC \"-//W3C//DTD SVG 1.1//EN\"\n",
       " \"http://www.w3.org/Graphics/SVG/1.1/DTD/svg11.dtd\">\n",
       "<!-- Generated by graphviz version 2.48.0 (0)\n",
       " -->\n",
       "<!-- Pages: 1 -->\n",
       "<svg width=\"278pt\" height=\"442pt\"\n",
       " viewBox=\"0.00 0.00 278.00 442.10\" xmlns=\"http://www.w3.org/2000/svg\" xmlns:xlink=\"http://www.w3.org/1999/xlink\">\n",
       "<g id=\"graph0\" class=\"graph\" transform=\"scale(1 1) rotate(0) translate(4 438.1)\">\n",
       "<polygon fill=\"white\" stroke=\"transparent\" points=\"-4,4 -4,-438.1 274,-438.1 274,4 -4,4\"/>\n",
       "<!-- 0 -->\n",
       "<g id=\"node1\" class=\"node\">\n",
       "<title>0</title>\n",
       "<ellipse fill=\"none\" stroke=\"black\" cx=\"24\" cy=\"-192\" rx=\"18\" ry=\"18\"/>\n",
       "<text text-anchor=\"middle\" x=\"24\" y=\"-188.3\" font-family=\"Times,serif\" font-size=\"14.00\">0</text>\n",
       "</g>\n",
       "<!-- 9 -->\n",
       "<g id=\"node2\" class=\"node\">\n",
       "<title>9</title>\n",
       "<ellipse fill=\"gray\" stroke=\"gray\" cx=\"69\" cy=\"-279\" rx=\"18\" ry=\"18\"/>\n",
       "<text text-anchor=\"middle\" x=\"69\" y=\"-275.3\" font-family=\"Times,serif\" font-size=\"14.00\">9</text>\n",
       "</g>\n",
       "<!-- 9&#45;&gt;0 -->\n",
       "<g id=\"edge1\" class=\"edge\">\n",
       "<title>9&#45;&gt;0</title>\n",
       "<path fill=\"none\" stroke=\"black\" d=\"M52.94,-269.98C42.94,-264.03 30.89,-254.9 25,-243 21.56,-236.04 20.4,-227.85 20.35,-220.13\"/>\n",
       "<polygon fill=\"black\" stroke=\"black\" points=\"23.85,-220.22 20.85,-210.06 16.85,-219.87 23.85,-220.22\"/>\n",
       "<text text-anchor=\"middle\" x=\"59\" y=\"-231.8\" font-family=\"Times,serif\" font-size=\"14.00\">m7,12,18</text>\n",
       "</g>\n",
       "<!-- 8 -->\n",
       "<g id=\"node11\" class=\"node\">\n",
       "<title>8</title>\n",
       "<ellipse fill=\"gray\" stroke=\"gray\" cx=\"115\" cy=\"-192\" rx=\"18\" ry=\"18\"/>\n",
       "<text text-anchor=\"middle\" x=\"115\" y=\"-188.3\" font-family=\"Times,serif\" font-size=\"14.00\">8</text>\n",
       "</g>\n",
       "<!-- 9&#45;&gt;8 -->\n",
       "<g id=\"edge9\" class=\"edge\">\n",
       "<title>9&#45;&gt;8</title>\n",
       "<path fill=\"none\" stroke=\"black\" d=\"M79.43,-264.08C83.89,-257.81 88.99,-250.21 93,-243 97.33,-235.22 101.44,-226.43 104.91,-218.41\"/>\n",
       "<polygon fill=\"black\" stroke=\"black\" points=\"108.16,-219.7 108.8,-209.13 101.71,-217 108.16,-219.7\"/>\n",
       "<text text-anchor=\"middle\" x=\"137.5\" y=\"-231.8\" font-family=\"Times,serif\" font-size=\"14.00\">m2,5,9,13</text>\n",
       "</g>\n",
       "<!-- 1 -->\n",
       "<g id=\"node3\" class=\"node\">\n",
       "<title>1</title>\n",
       "<ellipse fill=\"none\" stroke=\"black\" cx=\"18\" cy=\"-18\" rx=\"18\" ry=\"18\"/>\n",
       "<text text-anchor=\"middle\" x=\"18\" y=\"-14.3\" font-family=\"Times,serif\" font-size=\"14.00\">1</text>\n",
       "</g>\n",
       "<!-- 7 -->\n",
       "<g id=\"node4\" class=\"node\">\n",
       "<title>7</title>\n",
       "<ellipse fill=\"gray\" stroke=\"gray\" cx=\"78\" cy=\"-105\" rx=\"18\" ry=\"18\"/>\n",
       "<text text-anchor=\"middle\" x=\"78\" y=\"-101.3\" font-family=\"Times,serif\" font-size=\"14.00\">7</text>\n",
       "</g>\n",
       "<!-- 7&#45;&gt;1 -->\n",
       "<g id=\"edge2\" class=\"edge\">\n",
       "<title>7&#45;&gt;1</title>\n",
       "<path fill=\"none\" stroke=\"black\" d=\"M63.07,-94.14C54.47,-87.82 44.01,-78.95 37,-69 32.04,-61.95 28.17,-53.44 25.27,-45.46\"/>\n",
       "<polygon fill=\"black\" stroke=\"black\" points=\"28.53,-44.18 22.09,-35.77 21.88,-46.37 28.53,-44.18\"/>\n",
       "<text text-anchor=\"middle\" x=\"55.5\" y=\"-57.8\" font-family=\"Times,serif\" font-size=\"14.00\">m1,4</text>\n",
       "</g>\n",
       "<!-- 3 -->\n",
       "<g id=\"node7\" class=\"node\">\n",
       "<title>3</title>\n",
       "<ellipse fill=\"none\" stroke=\"black\" cx=\"78\" cy=\"-18\" rx=\"18\" ry=\"18\"/>\n",
       "<text text-anchor=\"middle\" x=\"78\" y=\"-14.3\" font-family=\"Times,serif\" font-size=\"14.00\">3</text>\n",
       "</g>\n",
       "<!-- 7&#45;&gt;3 -->\n",
       "<g id=\"edge4\" class=\"edge\">\n",
       "<title>7&#45;&gt;3</title>\n",
       "<path fill=\"none\" stroke=\"black\" d=\"M78,-86.8C78,-75.16 78,-59.55 78,-46.24\"/>\n",
       "<polygon fill=\"black\" stroke=\"black\" points=\"81.5,-46.18 78,-36.18 74.5,-46.18 81.5,-46.18\"/>\n",
       "<text text-anchor=\"middle\" x=\"101\" y=\"-57.8\" font-family=\"Times,serif\" font-size=\"14.00\">m3,19</text>\n",
       "</g>\n",
       "<!-- 2 -->\n",
       "<g id=\"node5\" class=\"node\">\n",
       "<title>2</title>\n",
       "<ellipse fill=\"none\" stroke=\"black\" cx=\"123\" cy=\"-279\" rx=\"18\" ry=\"18\"/>\n",
       "<text text-anchor=\"middle\" x=\"123\" y=\"-275.3\" font-family=\"Times,serif\" font-size=\"14.00\">2</text>\n",
       "</g>\n",
       "<!-- 10 -->\n",
       "<g id=\"node6\" class=\"node\">\n",
       "<title>10</title>\n",
       "<ellipse fill=\"gray\" stroke=\"gray\" cx=\"96\" cy=\"-370.75\" rx=\"23\" ry=\"23\"/>\n",
       "<text text-anchor=\"middle\" x=\"96\" y=\"-367.05\" font-family=\"Times,serif\" font-size=\"14.00\">10</text>\n",
       "</g>\n",
       "<!-- 10&#45;&gt;9 -->\n",
       "<g id=\"edge10\" class=\"edge\">\n",
       "<title>10&#45;&gt;9</title>\n",
       "<path fill=\"none\" stroke=\"black\" d=\"M89.6,-348.48C85.77,-335.76 80.88,-319.5 76.83,-306.01\"/>\n",
       "<polygon fill=\"black\" stroke=\"black\" points=\"80.15,-304.91 73.92,-296.35 73.45,-306.93 80.15,-304.91\"/>\n",
       "</g>\n",
       "<!-- 10&#45;&gt;2 -->\n",
       "<g id=\"edge3\" class=\"edge\">\n",
       "<title>10&#45;&gt;2</title>\n",
       "<path fill=\"none\" stroke=\"black\" d=\"M102.4,-348.48C106.23,-335.76 111.12,-319.5 115.17,-306.01\"/>\n",
       "<polygon fill=\"black\" stroke=\"black\" points=\"118.55,-306.93 118.08,-296.35 111.85,-304.91 118.55,-306.93\"/>\n",
       "<text text-anchor=\"middle\" x=\"145\" y=\"-318.8\" font-family=\"Times,serif\" font-size=\"14.00\">m0,15,16</text>\n",
       "</g>\n",
       "<!-- 4 -->\n",
       "<g id=\"node8\" class=\"node\">\n",
       "<title>4</title>\n",
       "<ellipse fill=\"none\" stroke=\"black\" cx=\"147\" cy=\"-18\" rx=\"18\" ry=\"18\"/>\n",
       "<text text-anchor=\"middle\" x=\"147\" y=\"-14.3\" font-family=\"Times,serif\" font-size=\"14.00\">4</text>\n",
       "</g>\n",
       "<!-- 6 -->\n",
       "<g id=\"node9\" class=\"node\">\n",
       "<title>6</title>\n",
       "<ellipse fill=\"gray\" stroke=\"gray\" cx=\"147\" cy=\"-105\" rx=\"18\" ry=\"18\"/>\n",
       "<text text-anchor=\"middle\" x=\"147\" y=\"-101.3\" font-family=\"Times,serif\" font-size=\"14.00\">6</text>\n",
       "</g>\n",
       "<!-- 6&#45;&gt;4 -->\n",
       "<g id=\"edge5\" class=\"edge\">\n",
       "<title>6&#45;&gt;4</title>\n",
       "<path fill=\"none\" stroke=\"black\" d=\"M147,-86.8C147,-75.16 147,-59.55 147,-46.24\"/>\n",
       "<polygon fill=\"black\" stroke=\"black\" points=\"150.5,-46.18 147,-36.18 143.5,-46.18 150.5,-46.18\"/>\n",
       "<text text-anchor=\"middle\" x=\"170\" y=\"-57.8\" font-family=\"Times,serif\" font-size=\"14.00\">m8,11</text>\n",
       "</g>\n",
       "<!-- 5 -->\n",
       "<g id=\"node10\" class=\"node\">\n",
       "<title>5</title>\n",
       "<ellipse fill=\"none\" stroke=\"black\" cx=\"216\" cy=\"-18\" rx=\"18\" ry=\"18\"/>\n",
       "<text text-anchor=\"middle\" x=\"216\" y=\"-14.3\" font-family=\"Times,serif\" font-size=\"14.00\">5</text>\n",
       "</g>\n",
       "<!-- 6&#45;&gt;5 -->\n",
       "<g id=\"edge6\" class=\"edge\">\n",
       "<title>6&#45;&gt;5</title>\n",
       "<path fill=\"none\" stroke=\"black\" d=\"M162.62,-95.27C172.65,-89.02 185.38,-79.82 194,-69 199.63,-61.93 204.11,-53.2 207.53,-45.02\"/>\n",
       "<polygon fill=\"black\" stroke=\"black\" points=\"210.88,-46.06 211.17,-35.47 204.34,-43.57 210.88,-46.06\"/>\n",
       "<text text-anchor=\"middle\" x=\"236\" y=\"-57.8\" font-family=\"Times,serif\" font-size=\"14.00\">m6,10,14</text>\n",
       "</g>\n",
       "<!-- 8&#45;&gt;7 -->\n",
       "<g id=\"edge8\" class=\"edge\">\n",
       "<title>8&#45;&gt;7</title>\n",
       "<path fill=\"none\" stroke=\"black\" d=\"M104.88,-176.85C100.79,-170.66 96.26,-163.19 93,-156 89.61,-148.54 86.75,-140.12 84.46,-132.34\"/>\n",
       "<polygon fill=\"black\" stroke=\"black\" points=\"87.81,-131.33 81.78,-122.62 81.06,-133.19 87.81,-131.33\"/>\n",
       "<text text-anchor=\"middle\" x=\"109\" y=\"-144.8\" font-family=\"Times,serif\" font-size=\"14.00\">m17</text>\n",
       "</g>\n",
       "<!-- 8&#45;&gt;6 -->\n",
       "<g id=\"edge7\" class=\"edge\">\n",
       "<title>8&#45;&gt;6</title>\n",
       "<path fill=\"none\" stroke=\"black\" d=\"M121.02,-175.01C125.59,-162.86 131.98,-145.9 137.28,-131.83\"/>\n",
       "<polygon fill=\"black\" stroke=\"black\" points=\"140.65,-132.8 140.9,-122.21 134.1,-130.33 140.65,-132.8\"/>\n",
       "</g>\n",
       "<!-- dummy -->\n",
       "<g id=\"node12\" class=\"node\">\n",
       "<title>dummy</title>\n",
       "<ellipse fill=\"black\" stroke=\"black\" cx=\"96\" cy=\"-432.3\" rx=\"1.8\" ry=\"1.8\"/>\n",
       "</g>\n",
       "<!-- dummy&#45;&gt;10 -->\n",
       "<g id=\"edge11\" class=\"edge\">\n",
       "<title>dummy&#45;&gt;10</title>\n",
       "<path fill=\"none\" stroke=\"black\" d=\"M96,-430.26C96,-426.87 96,-415.62 96,-403.88\"/>\n",
       "<polygon fill=\"black\" stroke=\"black\" points=\"99.5,-403.61 96,-393.61 92.5,-403.62 99.5,-403.61\"/>\n",
       "</g>\n",
       "</g>\n",
       "</svg>\n"
      ],
      "text/plain": [
       "<graphviz.graphs.Digraph at 0x7fc5c03a8640>"
      ]
     },
     "execution_count": 4,
     "metadata": {},
     "output_type": "execute_result"
    }
   ],
   "source": [
    "dg.tree.to_graphviz()"
   ]
  },
  {
   "cell_type": "markdown",
   "id": "7fb88f10-e8ee-4a8f-9b33-323bb7407c57",
   "metadata": {},
   "source": [
    "### Tree Inference"
   ]
  },
  {
   "cell_type": "code",
   "execution_count": 5,
   "id": "b4407d92-9431-4d3d-adc4-1dd5910b0315",
   "metadata": {},
   "outputs": [],
   "source": [
    "from tree_inference import TreeOptimizer"
   ]
  },
  {
   "cell_type": "code",
   "execution_count": 6,
   "id": "acd11917-9663-4779-a258-850b2ba632b6",
   "metadata": {},
   "outputs": [],
   "source": [
    "optz = TreeOptimizer()\n",
    "optz.fit(ref, alt, gt1, gt2, reversible = True)"
   ]
  },
  {
   "cell_type": "code",
   "execution_count": 7,
   "id": "d194d407-835a-48c8-964b-063d0fad0d91",
   "metadata": {},
   "outputs": [
    {
     "data": {
      "text/plain": [
       "([-159.3177320788121,\n",
       "  -147.34318962284672,\n",
       "  -145.4732339495487,\n",
       "  -143.01495238243282,\n",
       "  -142.81880190106713,\n",
       "  -142.81880190106713,\n",
       "  -142.81880190106713],\n",
       " [0, 0, 0, 0, 0, 1, 0])"
      ]
     },
     "execution_count": 7,
     "metadata": {},
     "output_type": "execute_result"
    }
   ],
   "source": [
    "optz.optimize()"
   ]
  },
  {
   "cell_type": "code",
   "execution_count": 8,
   "id": "cb4a65f8-605e-40f4-a398-8a4b309e28a7",
   "metadata": {},
   "outputs": [
    {
     "data": {
      "text/plain": [
       "-142.81880190106713"
      ]
     },
     "execution_count": 8,
     "metadata": {},
     "output_type": "execute_result"
    }
   ],
   "source": [
    "optz.ct_joint"
   ]
  },
  {
   "cell_type": "code",
   "execution_count": 9,
   "id": "d9c5cdef-8305-477a-b0d7-89e37d5cbda5",
   "metadata": {},
   "outputs": [
    {
     "data": {
      "text/plain": [
       "-142.81880190106713"
      ]
     },
     "execution_count": 9,
     "metadata": {},
     "output_type": "execute_result"
    }
   ],
   "source": [
    "optz.mt_joint"
   ]
  },
  {
   "cell_type": "code",
   "execution_count": 10,
   "id": "1d0798e6-51a2-4666-933f-469496bcc23d",
   "metadata": {},
   "outputs": [
    {
     "data": {
      "image/svg+xml": [
       "<?xml version=\"1.0\" encoding=\"UTF-8\" standalone=\"no\"?>\n",
       "<!DOCTYPE svg PUBLIC \"-//W3C//DTD SVG 1.1//EN\"\n",
       " \"http://www.w3.org/Graphics/SVG/1.1/DTD/svg11.dtd\">\n",
       "<!-- Generated by graphviz version 2.48.0 (0)\n",
       " -->\n",
       "<!-- Pages: 1 -->\n",
       "<svg width=\"366pt\" height=\"355pt\"\n",
       " viewBox=\"0.00 0.00 366.00 355.10\" xmlns=\"http://www.w3.org/2000/svg\" xmlns:xlink=\"http://www.w3.org/1999/xlink\">\n",
       "<g id=\"graph0\" class=\"graph\" transform=\"scale(1 1) rotate(0) translate(4 351.1)\">\n",
       "<polygon fill=\"white\" stroke=\"transparent\" points=\"-4,4 -4,-351.1 362,-351.1 362,4 -4,4\"/>\n",
       "<!-- 0 -->\n",
       "<g id=\"node1\" class=\"node\">\n",
       "<title>0</title>\n",
       "<ellipse fill=\"none\" stroke=\"black\" cx=\"94\" cy=\"-18\" rx=\"18\" ry=\"18\"/>\n",
       "<text text-anchor=\"middle\" x=\"94\" y=\"-14.3\" font-family=\"Times,serif\" font-size=\"14.00\">0</text>\n",
       "</g>\n",
       "<!-- 6 -->\n",
       "<g id=\"node2\" class=\"node\">\n",
       "<title>6</title>\n",
       "<ellipse fill=\"gray\" stroke=\"gray\" cx=\"178\" cy=\"-105\" rx=\"18\" ry=\"18\"/>\n",
       "<text text-anchor=\"middle\" x=\"178\" y=\"-101.3\" font-family=\"Times,serif\" font-size=\"14.00\">6</text>\n",
       "</g>\n",
       "<!-- 6&#45;&gt;0 -->\n",
       "<g id=\"edge1\" class=\"edge\">\n",
       "<title>6&#45;&gt;0</title>\n",
       "<path fill=\"none\" stroke=\"black\" d=\"M160.79,-99.51C145.12,-94.56 122.44,-85.07 109,-69 103.6,-62.55 100.15,-54.2 97.94,-46.18\"/>\n",
       "<polygon fill=\"black\" stroke=\"black\" points=\"101.34,-45.37 95.75,-36.37 94.51,-46.89 101.34,-45.37\"/>\n",
       "<text text-anchor=\"middle\" x=\"143\" y=\"-57.8\" font-family=\"Times,serif\" font-size=\"14.00\">m7,12,18</text>\n",
       "</g>\n",
       "<!-- 2 -->\n",
       "<g id=\"node5\" class=\"node\">\n",
       "<title>2</title>\n",
       "<ellipse fill=\"none\" stroke=\"black\" cx=\"185\" cy=\"-18\" rx=\"18\" ry=\"18\"/>\n",
       "<text text-anchor=\"middle\" x=\"185\" y=\"-14.3\" font-family=\"Times,serif\" font-size=\"14.00\">2</text>\n",
       "</g>\n",
       "<!-- 6&#45;&gt;2 -->\n",
       "<g id=\"edge3\" class=\"edge\">\n",
       "<title>6&#45;&gt;2</title>\n",
       "<path fill=\"none\" stroke=\"black\" d=\"M179.42,-86.8C180.37,-75.16 181.66,-59.55 182.76,-46.24\"/>\n",
       "<polygon fill=\"black\" stroke=\"black\" points=\"186.25,-46.43 183.59,-36.18 179.28,-45.85 186.25,-46.43\"/>\n",
       "<text text-anchor=\"middle\" x=\"204\" y=\"-57.8\" font-family=\"Times,serif\" font-size=\"14.00\">m0,15</text>\n",
       "</g>\n",
       "<!-- 1 -->\n",
       "<g id=\"node3\" class=\"node\">\n",
       "<title>1</title>\n",
       "<ellipse fill=\"none\" stroke=\"black\" cx=\"267\" cy=\"-18\" rx=\"18\" ry=\"18\"/>\n",
       "<text text-anchor=\"middle\" x=\"267\" y=\"-14.3\" font-family=\"Times,serif\" font-size=\"14.00\">1</text>\n",
       "</g>\n",
       "<!-- 8 -->\n",
       "<g id=\"node4\" class=\"node\">\n",
       "<title>8</title>\n",
       "<ellipse fill=\"gray\" stroke=\"gray\" cx=\"274\" cy=\"-105\" rx=\"18\" ry=\"18\"/>\n",
       "<text text-anchor=\"middle\" x=\"274\" y=\"-101.3\" font-family=\"Times,serif\" font-size=\"14.00\">8</text>\n",
       "</g>\n",
       "<!-- 8&#45;&gt;1 -->\n",
       "<g id=\"edge2\" class=\"edge\">\n",
       "<title>8&#45;&gt;1</title>\n",
       "<path fill=\"none\" stroke=\"black\" d=\"M270.56,-86.98C269.54,-81.29 268.56,-74.89 268,-69 267.3,-61.68 266.96,-53.74 266.81,-46.38\"/>\n",
       "<polygon fill=\"black\" stroke=\"black\" points=\"270.31,-46.13 266.71,-36.16 263.31,-46.19 270.31,-46.13\"/>\n",
       "<text text-anchor=\"middle\" x=\"286.5\" y=\"-57.8\" font-family=\"Times,serif\" font-size=\"14.00\">m1,4</text>\n",
       "</g>\n",
       "<!-- 3 -->\n",
       "<g id=\"node6\" class=\"node\">\n",
       "<title>3</title>\n",
       "<ellipse fill=\"none\" stroke=\"black\" cx=\"327\" cy=\"-18\" rx=\"18\" ry=\"18\"/>\n",
       "<text text-anchor=\"middle\" x=\"327\" y=\"-14.3\" font-family=\"Times,serif\" font-size=\"14.00\">3</text>\n",
       "</g>\n",
       "<!-- 8&#45;&gt;3 -->\n",
       "<g id=\"edge4\" class=\"edge\">\n",
       "<title>8&#45;&gt;3</title>\n",
       "<path fill=\"none\" stroke=\"black\" d=\"M286.5,-91.81C292.61,-85.41 299.75,-77.2 305,-69 309.8,-61.51 314.04,-52.79 317.48,-44.75\"/>\n",
       "<polygon fill=\"black\" stroke=\"black\" points=\"320.75,-45.99 321.27,-35.41 314.27,-43.36 320.75,-45.99\"/>\n",
       "<text text-anchor=\"middle\" x=\"335\" y=\"-57.8\" font-family=\"Times,serif\" font-size=\"14.00\">m3,19</text>\n",
       "</g>\n",
       "<!-- 4 -->\n",
       "<g id=\"node7\" class=\"node\">\n",
       "<title>4</title>\n",
       "<ellipse fill=\"none\" stroke=\"black\" cx=\"18\" cy=\"-105\" rx=\"18\" ry=\"18\"/>\n",
       "<text text-anchor=\"middle\" x=\"18\" y=\"-101.3\" font-family=\"Times,serif\" font-size=\"14.00\">4</text>\n",
       "</g>\n",
       "<!-- 7 -->\n",
       "<g id=\"node8\" class=\"node\">\n",
       "<title>7</title>\n",
       "<ellipse fill=\"gray\" stroke=\"gray\" cx=\"87\" cy=\"-192\" rx=\"18\" ry=\"18\"/>\n",
       "<text text-anchor=\"middle\" x=\"87\" y=\"-188.3\" font-family=\"Times,serif\" font-size=\"14.00\">7</text>\n",
       "</g>\n",
       "<!-- 7&#45;&gt;4 -->\n",
       "<g id=\"edge5\" class=\"edge\">\n",
       "<title>7&#45;&gt;4</title>\n",
       "<path fill=\"none\" stroke=\"black\" d=\"M71.12,-183.16C60.21,-177.07 46.11,-167.7 37,-156 31.7,-149.2 27.75,-140.76 24.86,-132.76\"/>\n",
       "<polygon fill=\"black\" stroke=\"black\" points=\"28.13,-131.48 21.75,-123.02 21.46,-133.61 28.13,-131.48\"/>\n",
       "<text text-anchor=\"middle\" x=\"60\" y=\"-144.8\" font-family=\"Times,serif\" font-size=\"14.00\">m8,11</text>\n",
       "</g>\n",
       "<!-- 5 -->\n",
       "<g id=\"node9\" class=\"node\">\n",
       "<title>5</title>\n",
       "<ellipse fill=\"none\" stroke=\"black\" cx=\"87\" cy=\"-105\" rx=\"18\" ry=\"18\"/>\n",
       "<text text-anchor=\"middle\" x=\"87\" y=\"-101.3\" font-family=\"Times,serif\" font-size=\"14.00\">5</text>\n",
       "</g>\n",
       "<!-- 7&#45;&gt;5 -->\n",
       "<g id=\"edge6\" class=\"edge\">\n",
       "<title>7&#45;&gt;5</title>\n",
       "<path fill=\"none\" stroke=\"black\" d=\"M87,-173.8C87,-162.16 87,-146.55 87,-133.24\"/>\n",
       "<polygon fill=\"black\" stroke=\"black\" points=\"90.5,-133.18 87,-123.18 83.5,-133.18 90.5,-133.18\"/>\n",
       "<text text-anchor=\"middle\" x=\"121\" y=\"-144.8\" font-family=\"Times,serif\" font-size=\"14.00\">m6,10,14</text>\n",
       "</g>\n",
       "<!-- 9 -->\n",
       "<g id=\"node10\" class=\"node\">\n",
       "<title>9</title>\n",
       "<ellipse fill=\"gray\" stroke=\"gray\" cx=\"178\" cy=\"-192\" rx=\"18\" ry=\"18\"/>\n",
       "<text text-anchor=\"middle\" x=\"178\" y=\"-188.3\" font-family=\"Times,serif\" font-size=\"14.00\">9</text>\n",
       "</g>\n",
       "<!-- 9&#45;&gt;6 -->\n",
       "<g id=\"edge7\" class=\"edge\">\n",
       "<title>9&#45;&gt;6</title>\n",
       "<path fill=\"none\" stroke=\"black\" d=\"M178,-173.8C178,-162.16 178,-146.55 178,-133.24\"/>\n",
       "<polygon fill=\"black\" stroke=\"black\" points=\"181.5,-133.18 178,-123.18 174.5,-133.18 181.5,-133.18\"/>\n",
       "<text text-anchor=\"middle\" x=\"214.5\" y=\"-144.8\" font-family=\"Times,serif\" font-size=\"14.00\">m2,5,9,13</text>\n",
       "</g>\n",
       "<!-- 9&#45;&gt;8 -->\n",
       "<g id=\"edge9\" class=\"edge\">\n",
       "<title>9&#45;&gt;8</title>\n",
       "<path fill=\"none\" stroke=\"black\" d=\"M195.35,-186.61C211.82,-181.65 236.34,-172.09 252,-156 258.47,-149.36 263.2,-140.5 266.58,-132.08\"/>\n",
       "<polygon fill=\"black\" stroke=\"black\" points=\"269.92,-133.16 269.96,-122.57 263.32,-130.82 269.92,-133.16\"/>\n",
       "<text text-anchor=\"middle\" x=\"278\" y=\"-144.8\" font-family=\"Times,serif\" font-size=\"14.00\">m17</text>\n",
       "</g>\n",
       "<!-- 10 -->\n",
       "<g id=\"node11\" class=\"node\">\n",
       "<title>10</title>\n",
       "<ellipse fill=\"gray\" stroke=\"gray\" cx=\"132\" cy=\"-283.75\" rx=\"23\" ry=\"23\"/>\n",
       "<text text-anchor=\"middle\" x=\"132\" y=\"-280.05\" font-family=\"Times,serif\" font-size=\"14.00\">10</text>\n",
       "</g>\n",
       "<!-- 10&#45;&gt;7 -->\n",
       "<g id=\"edge8\" class=\"edge\">\n",
       "<title>10&#45;&gt;7</title>\n",
       "<path fill=\"none\" stroke=\"black\" d=\"M122.01,-262.83C115.32,-249.49 106.47,-231.83 99.34,-217.61\"/>\n",
       "<polygon fill=\"black\" stroke=\"black\" points=\"102.34,-215.78 94.72,-208.41 96.08,-218.91 102.34,-215.78\"/>\n",
       "<text text-anchor=\"middle\" x=\"127\" y=\"-231.8\" font-family=\"Times,serif\" font-size=\"14.00\">m16</text>\n",
       "</g>\n",
       "<!-- 10&#45;&gt;9 -->\n",
       "<g id=\"edge10\" class=\"edge\">\n",
       "<title>10&#45;&gt;9</title>\n",
       "<path fill=\"none\" stroke=\"black\" d=\"M141.98,-263.27C148.85,-249.87 158.03,-231.96 165.41,-217.57\"/>\n",
       "<polygon fill=\"black\" stroke=\"black\" points=\"168.72,-218.77 170.17,-208.28 162.49,-215.58 168.72,-218.77\"/>\n",
       "</g>\n",
       "<!-- dummy -->\n",
       "<g id=\"node12\" class=\"node\">\n",
       "<title>dummy</title>\n",
       "<ellipse fill=\"black\" stroke=\"black\" cx=\"132\" cy=\"-345.3\" rx=\"1.8\" ry=\"1.8\"/>\n",
       "</g>\n",
       "<!-- dummy&#45;&gt;10 -->\n",
       "<g id=\"edge11\" class=\"edge\">\n",
       "<title>dummy&#45;&gt;10</title>\n",
       "<path fill=\"none\" stroke=\"black\" d=\"M132,-343.26C132,-339.87 132,-328.62 132,-316.88\"/>\n",
       "<polygon fill=\"black\" stroke=\"black\" points=\"135.5,-316.61 132,-306.61 128.5,-316.62 135.5,-316.61\"/>\n",
       "</g>\n",
       "</g>\n",
       "</svg>\n"
      ],
      "text/plain": [
       "<graphviz.graphs.Digraph at 0x7fc5c03a8820>"
      ]
     },
     "execution_count": 10,
     "metadata": {},
     "output_type": "execute_result"
    }
   ],
   "source": [
    "optz.ct.to_graphviz()"
   ]
  },
  {
   "cell_type": "code",
   "execution_count": 11,
   "id": "0129a628-49a5-4de0-9694-527abceae990",
   "metadata": {},
   "outputs": [
    {
     "data": {
      "image/svg+xml": [
       "<?xml version=\"1.0\" encoding=\"UTF-8\" standalone=\"no\"?>\n",
       "<!DOCTYPE svg PUBLIC \"-//W3C//DTD SVG 1.1//EN\"\n",
       " \"http://www.w3.org/Graphics/SVG/1.1/DTD/svg11.dtd\">\n",
       "<!-- Generated by graphviz version 2.48.0 (0)\n",
       " -->\n",
       "<!-- Pages: 1 -->\n",
       "<svg width=\"350pt\" height=\"648pt\"\n",
       " viewBox=\"0.00 0.00 350.00 647.58\" xmlns=\"http://www.w3.org/2000/svg\" xmlns:xlink=\"http://www.w3.org/1999/xlink\">\n",
       "<g id=\"graph0\" class=\"graph\" transform=\"scale(1 1) rotate(0) translate(4 643.58)\">\n",
       "<polygon fill=\"white\" stroke=\"transparent\" points=\"-4,4 -4,-643.58 346,-643.58 346,4 -4,4\"/>\n",
       "<!-- 20 -->\n",
       "<g id=\"node1\" class=\"node\">\n",
       "<title>20</title>\n",
       "<polygon fill=\"none\" stroke=\"black\" points=\"198,-639.58 144,-639.58 144,-603.58 198,-603.58 198,-639.58\"/>\n",
       "<text text-anchor=\"middle\" x=\"171\" y=\"-617.88\" font-family=\"Times,serif\" font-size=\"14.00\">wt</text>\n",
       "</g>\n",
       "<!-- 17 -->\n",
       "<g id=\"node10\" class=\"node\">\n",
       "<title>17</title>\n",
       "<polygon fill=\"gray\" stroke=\"gray\" points=\"126,-567.58 72,-567.58 72,-531.58 126,-531.58 126,-567.58\"/>\n",
       "<text text-anchor=\"middle\" x=\"99\" y=\"-545.88\" font-family=\"Times,serif\" font-size=\"14.00\">17</text>\n",
       "</g>\n",
       "<!-- 20&#45;&gt;17 -->\n",
       "<g id=\"edge18\" class=\"edge\">\n",
       "<title>20&#45;&gt;17</title>\n",
       "<path fill=\"none\" stroke=\"black\" d=\"M153.2,-603.28C144.4,-594.72 133.62,-584.24 124,-574.89\"/>\n",
       "<polygon fill=\"black\" stroke=\"black\" points=\"126.2,-572.15 116.59,-567.69 121.32,-577.17 126.2,-572.15\"/>\n",
       "</g>\n",
       "<!-- 5 -->\n",
       "<g id=\"node11\" class=\"node\">\n",
       "<title>5</title>\n",
       "<polygon fill=\"gray\" stroke=\"gray\" points=\"198,-567.58 144,-567.58 144,-531.58 198,-531.58 198,-567.58\"/>\n",
       "<text text-anchor=\"middle\" x=\"171\" y=\"-545.88\" font-family=\"Times,serif\" font-size=\"14.00\">5</text>\n",
       "</g>\n",
       "<!-- 20&#45;&gt;5 -->\n",
       "<g id=\"edge6\" class=\"edge\">\n",
       "<title>20&#45;&gt;5</title>\n",
       "<path fill=\"none\" stroke=\"black\" d=\"M171,-603.28C171,-595.57 171,-586.3 171,-577.7\"/>\n",
       "<polygon fill=\"black\" stroke=\"black\" points=\"174.5,-577.69 171,-567.69 167.5,-577.69 174.5,-577.69\"/>\n",
       "</g>\n",
       "<!-- 16 -->\n",
       "<g id=\"node13\" class=\"node\">\n",
       "<title>16</title>\n",
       "<polygon fill=\"gray\" stroke=\"gray\" points=\"270,-567.58 216,-567.58 216,-531.58 270,-531.58 270,-567.58\"/>\n",
       "<text text-anchor=\"middle\" x=\"243\" y=\"-545.88\" font-family=\"Times,serif\" font-size=\"14.00\">16</text>\n",
       "</g>\n",
       "<!-- 20&#45;&gt;16 -->\n",
       "<g id=\"edge17\" class=\"edge\">\n",
       "<title>20&#45;&gt;16</title>\n",
       "<path fill=\"none\" stroke=\"black\" d=\"M188.8,-603.28C197.6,-594.72 208.38,-584.24 218,-574.89\"/>\n",
       "<polygon fill=\"black\" stroke=\"black\" points=\"220.68,-577.17 225.41,-567.69 215.8,-572.15 220.68,-577.17\"/>\n",
       "</g>\n",
       "<!-- 0 -->\n",
       "<g id=\"node2\" class=\"node\">\n",
       "<title>0</title>\n",
       "<polygon fill=\"gray\" stroke=\"gray\" points=\"129,-193.79 75,-193.79 75,-157.79 129,-157.79 129,-193.79\"/>\n",
       "<text text-anchor=\"middle\" x=\"102\" y=\"-172.09\" font-family=\"Times,serif\" font-size=\"14.00\">0</text>\n",
       "</g>\n",
       "<!-- c2 -->\n",
       "<g id=\"node24\" class=\"node\">\n",
       "<title>c2</title>\n",
       "<ellipse fill=\"none\" stroke=\"black\" cx=\"102\" cy=\"-100.34\" rx=\"21.4\" ry=\"21.4\"/>\n",
       "<text text-anchor=\"middle\" x=\"102\" y=\"-96.64\" font-family=\"Times,serif\" font-size=\"14.00\">c2</text>\n",
       "</g>\n",
       "<!-- 0&#45;&gt;c2 -->\n",
       "<g id=\"edge23\" class=\"edge\">\n",
       "<title>0&#45;&gt;c2</title>\n",
       "<path fill=\"none\" stroke=\"black\" d=\"M102,-157.76C102,-150.08 102,-140.78 102,-131.96\"/>\n",
       "<polygon fill=\"black\" stroke=\"black\" points=\"105.5,-131.95 102,-121.95 98.5,-131.95 105.5,-131.95\"/>\n",
       "</g>\n",
       "<!-- 15 -->\n",
       "<g id=\"node3\" class=\"node\">\n",
       "<title>15</title>\n",
       "<polygon fill=\"gray\" stroke=\"gray\" points=\"129,-269.24 75,-269.24 75,-233.24 129,-233.24 129,-269.24\"/>\n",
       "<text text-anchor=\"middle\" x=\"102\" y=\"-247.54\" font-family=\"Times,serif\" font-size=\"14.00\">15</text>\n",
       "</g>\n",
       "<!-- 15&#45;&gt;0 -->\n",
       "<g id=\"edge1\" class=\"edge\">\n",
       "<title>15&#45;&gt;0</title>\n",
       "<path fill=\"none\" stroke=\"black\" d=\"M102,-233.21C102,-224.55 102,-213.83 102,-204.07\"/>\n",
       "<polygon fill=\"black\" stroke=\"black\" points=\"105.5,-203.99 102,-193.99 98.5,-203.99 105.5,-203.99\"/>\n",
       "</g>\n",
       "<!-- 1 -->\n",
       "<g id=\"node4\" class=\"node\">\n",
       "<title>1</title>\n",
       "<polygon fill=\"gray\" stroke=\"gray\" points=\"54,-423.58 0,-423.58 0,-387.58 54,-387.58 54,-423.58\"/>\n",
       "<text text-anchor=\"middle\" x=\"27\" y=\"-401.88\" font-family=\"Times,serif\" font-size=\"14.00\">1</text>\n",
       "</g>\n",
       "<!-- c1 -->\n",
       "<g id=\"node23\" class=\"node\">\n",
       "<title>c1</title>\n",
       "<ellipse fill=\"none\" stroke=\"black\" cx=\"27\" cy=\"-330.14\" rx=\"21.4\" ry=\"21.4\"/>\n",
       "<text text-anchor=\"middle\" x=\"27\" y=\"-326.44\" font-family=\"Times,serif\" font-size=\"14.00\">c1</text>\n",
       "</g>\n",
       "<!-- 1&#45;&gt;c1 -->\n",
       "<g id=\"edge22\" class=\"edge\">\n",
       "<title>1&#45;&gt;c1</title>\n",
       "<path fill=\"none\" stroke=\"black\" d=\"M27,-387.55C27,-379.87 27,-370.57 27,-361.75\"/>\n",
       "<polygon fill=\"black\" stroke=\"black\" points=\"30.5,-361.74 27,-351.74 23.5,-361.74 30.5,-361.74\"/>\n",
       "</g>\n",
       "<!-- 4 -->\n",
       "<g id=\"node5\" class=\"node\">\n",
       "<title>4</title>\n",
       "<polygon fill=\"gray\" stroke=\"gray\" points=\"54,-495.58 0,-495.58 0,-459.58 54,-459.58 54,-495.58\"/>\n",
       "<text text-anchor=\"middle\" x=\"27\" y=\"-473.88\" font-family=\"Times,serif\" font-size=\"14.00\">4</text>\n",
       "</g>\n",
       "<!-- 4&#45;&gt;1 -->\n",
       "<g id=\"edge2\" class=\"edge\">\n",
       "<title>4&#45;&gt;1</title>\n",
       "<path fill=\"none\" stroke=\"black\" d=\"M27,-459.28C27,-451.57 27,-442.3 27,-433.7\"/>\n",
       "<polygon fill=\"black\" stroke=\"black\" points=\"30.5,-433.69 27,-423.69 23.5,-433.69 30.5,-433.69\"/>\n",
       "</g>\n",
       "<!-- 2 -->\n",
       "<g id=\"node6\" class=\"node\">\n",
       "<title>2</title>\n",
       "<polygon fill=\"gray\" stroke=\"gray\" points=\"198,-423.58 144,-423.58 144,-387.58 198,-387.58 198,-423.58\"/>\n",
       "<text text-anchor=\"middle\" x=\"171\" y=\"-401.88\" font-family=\"Times,serif\" font-size=\"14.00\">2</text>\n",
       "</g>\n",
       "<!-- 13 -->\n",
       "<g id=\"node15\" class=\"node\">\n",
       "<title>13</title>\n",
       "<polygon fill=\"gray\" stroke=\"gray\" points=\"198,-348.14 144,-348.14 144,-312.14 198,-312.14 198,-348.14\"/>\n",
       "<text text-anchor=\"middle\" x=\"171\" y=\"-326.44\" font-family=\"Times,serif\" font-size=\"14.00\">13</text>\n",
       "</g>\n",
       "<!-- 2&#45;&gt;13 -->\n",
       "<g id=\"edge14\" class=\"edge\">\n",
       "<title>2&#45;&gt;13</title>\n",
       "<path fill=\"none\" stroke=\"black\" d=\"M171,-387.55C171,-378.9 171,-368.18 171,-358.41\"/>\n",
       "<polygon fill=\"black\" stroke=\"black\" points=\"174.5,-358.33 171,-348.33 167.5,-358.33 174.5,-358.33\"/>\n",
       "</g>\n",
       "<!-- 9 -->\n",
       "<g id=\"node7\" class=\"node\">\n",
       "<title>9</title>\n",
       "<polygon fill=\"gray\" stroke=\"gray\" points=\"198,-495.58 144,-495.58 144,-459.58 198,-459.58 198,-495.58\"/>\n",
       "<text text-anchor=\"middle\" x=\"171\" y=\"-473.88\" font-family=\"Times,serif\" font-size=\"14.00\">9</text>\n",
       "</g>\n",
       "<!-- 9&#45;&gt;2 -->\n",
       "<g id=\"edge3\" class=\"edge\">\n",
       "<title>9&#45;&gt;2</title>\n",
       "<path fill=\"none\" stroke=\"black\" d=\"M171,-459.28C171,-451.57 171,-442.3 171,-433.7\"/>\n",
       "<polygon fill=\"black\" stroke=\"black\" points=\"174.5,-433.69 171,-423.69 167.5,-433.69 174.5,-433.69\"/>\n",
       "</g>\n",
       "<!-- 3 -->\n",
       "<g id=\"node8\" class=\"node\">\n",
       "<title>3</title>\n",
       "<polygon fill=\"gray\" stroke=\"gray\" points=\"126,-423.58 72,-423.58 72,-387.58 126,-387.58 126,-423.58\"/>\n",
       "<text text-anchor=\"middle\" x=\"99\" y=\"-401.88\" font-family=\"Times,serif\" font-size=\"14.00\">3</text>\n",
       "</g>\n",
       "<!-- c3 -->\n",
       "<g id=\"node25\" class=\"node\">\n",
       "<title>c3</title>\n",
       "<ellipse fill=\"none\" stroke=\"black\" cx=\"99\" cy=\"-330.14\" rx=\"21.4\" ry=\"21.4\"/>\n",
       "<text text-anchor=\"middle\" x=\"99\" y=\"-326.44\" font-family=\"Times,serif\" font-size=\"14.00\">c3</text>\n",
       "</g>\n",
       "<!-- 3&#45;&gt;c3 -->\n",
       "<g id=\"edge24\" class=\"edge\">\n",
       "<title>3&#45;&gt;c3</title>\n",
       "<path fill=\"none\" stroke=\"black\" d=\"M99,-387.55C99,-379.87 99,-370.57 99,-361.75\"/>\n",
       "<polygon fill=\"black\" stroke=\"black\" points=\"102.5,-361.74 99,-351.74 95.5,-361.74 102.5,-361.74\"/>\n",
       "</g>\n",
       "<!-- 19 -->\n",
       "<g id=\"node9\" class=\"node\">\n",
       "<title>19</title>\n",
       "<polygon fill=\"gray\" stroke=\"gray\" points=\"126,-495.58 72,-495.58 72,-459.58 126,-459.58 126,-495.58\"/>\n",
       "<text text-anchor=\"middle\" x=\"99\" y=\"-473.88\" font-family=\"Times,serif\" font-size=\"14.00\">19</text>\n",
       "</g>\n",
       "<!-- 19&#45;&gt;3 -->\n",
       "<g id=\"edge4\" class=\"edge\">\n",
       "<title>19&#45;&gt;3</title>\n",
       "<path fill=\"none\" stroke=\"black\" d=\"M99,-459.28C99,-451.57 99,-442.3 99,-433.7\"/>\n",
       "<polygon fill=\"black\" stroke=\"black\" points=\"102.5,-433.69 99,-423.69 95.5,-433.69 102.5,-433.69\"/>\n",
       "</g>\n",
       "<!-- 17&#45;&gt;4 -->\n",
       "<g id=\"edge5\" class=\"edge\">\n",
       "<title>17&#45;&gt;4</title>\n",
       "<path fill=\"none\" stroke=\"black\" d=\"M81.2,-531.28C72.4,-522.72 61.62,-512.24 52,-502.89\"/>\n",
       "<polygon fill=\"black\" stroke=\"black\" points=\"54.2,-500.15 44.59,-495.69 49.32,-505.17 54.2,-500.15\"/>\n",
       "</g>\n",
       "<!-- 17&#45;&gt;19 -->\n",
       "<g id=\"edge20\" class=\"edge\">\n",
       "<title>17&#45;&gt;19</title>\n",
       "<path fill=\"none\" stroke=\"black\" d=\"M99,-531.28C99,-523.57 99,-514.3 99,-505.7\"/>\n",
       "<polygon fill=\"black\" stroke=\"black\" points=\"102.5,-505.69 99,-495.69 95.5,-505.69 102.5,-505.69\"/>\n",
       "</g>\n",
       "<!-- 5&#45;&gt;9 -->\n",
       "<g id=\"edge10\" class=\"edge\">\n",
       "<title>5&#45;&gt;9</title>\n",
       "<path fill=\"none\" stroke=\"black\" d=\"M171,-531.28C171,-523.57 171,-514.3 171,-505.7\"/>\n",
       "<polygon fill=\"black\" stroke=\"black\" points=\"174.5,-505.69 171,-495.69 167.5,-505.69 174.5,-505.69\"/>\n",
       "</g>\n",
       "<!-- 6 -->\n",
       "<g id=\"node12\" class=\"node\">\n",
       "<title>6</title>\n",
       "<polygon fill=\"gray\" stroke=\"gray\" points=\"270,-495.58 216,-495.58 216,-459.58 270,-459.58 270,-495.58\"/>\n",
       "<text text-anchor=\"middle\" x=\"243\" y=\"-473.88\" font-family=\"Times,serif\" font-size=\"14.00\">6</text>\n",
       "</g>\n",
       "<!-- 14 -->\n",
       "<g id=\"node19\" class=\"node\">\n",
       "<title>14</title>\n",
       "<polygon fill=\"gray\" stroke=\"gray\" points=\"270,-423.58 216,-423.58 216,-387.58 270,-387.58 270,-423.58\"/>\n",
       "<text text-anchor=\"middle\" x=\"243\" y=\"-401.88\" font-family=\"Times,serif\" font-size=\"14.00\">14</text>\n",
       "</g>\n",
       "<!-- 6&#45;&gt;14 -->\n",
       "<g id=\"edge15\" class=\"edge\">\n",
       "<title>6&#45;&gt;14</title>\n",
       "<path fill=\"none\" stroke=\"black\" d=\"M243,-459.28C243,-451.57 243,-442.3 243,-433.7\"/>\n",
       "<polygon fill=\"black\" stroke=\"black\" points=\"246.5,-433.69 243,-423.69 239.5,-433.69 246.5,-433.69\"/>\n",
       "</g>\n",
       "<!-- 16&#45;&gt;6 -->\n",
       "<g id=\"edge7\" class=\"edge\">\n",
       "<title>16&#45;&gt;6</title>\n",
       "<path fill=\"none\" stroke=\"black\" d=\"M243,-531.28C243,-523.57 243,-514.3 243,-505.7\"/>\n",
       "<polygon fill=\"black\" stroke=\"black\" points=\"246.5,-505.69 243,-495.69 239.5,-505.69 246.5,-505.69\"/>\n",
       "</g>\n",
       "<!-- 11 -->\n",
       "<g id=\"node17\" class=\"node\">\n",
       "<title>11</title>\n",
       "<polygon fill=\"gray\" stroke=\"gray\" points=\"342,-495.58 288,-495.58 288,-459.58 342,-459.58 342,-495.58\"/>\n",
       "<text text-anchor=\"middle\" x=\"315\" y=\"-473.88\" font-family=\"Times,serif\" font-size=\"14.00\">11</text>\n",
       "</g>\n",
       "<!-- 16&#45;&gt;11 -->\n",
       "<g id=\"edge12\" class=\"edge\">\n",
       "<title>16&#45;&gt;11</title>\n",
       "<path fill=\"none\" stroke=\"black\" d=\"M260.8,-531.28C269.6,-522.72 280.38,-512.24 290,-502.89\"/>\n",
       "<polygon fill=\"black\" stroke=\"black\" points=\"292.68,-505.17 297.41,-495.69 287.8,-500.15 292.68,-505.17\"/>\n",
       "</g>\n",
       "<!-- 7 -->\n",
       "<g id=\"node14\" class=\"node\">\n",
       "<title>7</title>\n",
       "<polygon fill=\"gray\" stroke=\"gray\" points=\"201,-269.24 147,-269.24 147,-233.24 201,-233.24 201,-269.24\"/>\n",
       "<text text-anchor=\"middle\" x=\"174\" y=\"-247.54\" font-family=\"Times,serif\" font-size=\"14.00\">7</text>\n",
       "</g>\n",
       "<!-- 18 -->\n",
       "<g id=\"node21\" class=\"node\">\n",
       "<title>18</title>\n",
       "<polygon fill=\"gray\" stroke=\"gray\" points=\"201,-193.79 147,-193.79 147,-157.79 201,-157.79 201,-193.79\"/>\n",
       "<text text-anchor=\"middle\" x=\"174\" y=\"-172.09\" font-family=\"Times,serif\" font-size=\"14.00\">18</text>\n",
       "</g>\n",
       "<!-- 7&#45;&gt;18 -->\n",
       "<g id=\"edge19\" class=\"edge\">\n",
       "<title>7&#45;&gt;18</title>\n",
       "<path fill=\"none\" stroke=\"black\" d=\"M174,-233.21C174,-224.55 174,-213.83 174,-204.07\"/>\n",
       "<polygon fill=\"black\" stroke=\"black\" points=\"177.5,-203.99 174,-193.99 170.5,-203.99 177.5,-203.99\"/>\n",
       "</g>\n",
       "<!-- 13&#45;&gt;15 -->\n",
       "<g id=\"edge16\" class=\"edge\">\n",
       "<title>13&#45;&gt;15</title>\n",
       "<path fill=\"none\" stroke=\"black\" d=\"M155.69,-312.07C146.4,-301.72 134.38,-288.33 124.08,-276.85\"/>\n",
       "<polygon fill=\"black\" stroke=\"black\" points=\"126.55,-274.36 117.27,-269.26 121.34,-279.04 126.55,-274.36\"/>\n",
       "</g>\n",
       "<!-- 13&#45;&gt;7 -->\n",
       "<g id=\"edge8\" class=\"edge\">\n",
       "<title>13&#45;&gt;7</title>\n",
       "<path fill=\"none\" stroke=\"black\" d=\"M171.67,-312.07C172.04,-302.51 172.51,-290.37 172.94,-279.53\"/>\n",
       "<polygon fill=\"black\" stroke=\"black\" points=\"176.44,-279.39 173.34,-269.26 169.45,-279.11 176.44,-279.39\"/>\n",
       "</g>\n",
       "<!-- 8 -->\n",
       "<g id=\"node16\" class=\"node\">\n",
       "<title>8</title>\n",
       "<polygon fill=\"gray\" stroke=\"gray\" points=\"342,-423.58 288,-423.58 288,-387.58 342,-387.58 342,-423.58\"/>\n",
       "<text text-anchor=\"middle\" x=\"315\" y=\"-401.88\" font-family=\"Times,serif\" font-size=\"14.00\">8</text>\n",
       "</g>\n",
       "<!-- c4 -->\n",
       "<g id=\"node26\" class=\"node\">\n",
       "<title>c4</title>\n",
       "<ellipse fill=\"none\" stroke=\"black\" cx=\"315\" cy=\"-330.14\" rx=\"21.4\" ry=\"21.4\"/>\n",
       "<text text-anchor=\"middle\" x=\"315\" y=\"-326.44\" font-family=\"Times,serif\" font-size=\"14.00\">c4</text>\n",
       "</g>\n",
       "<!-- 8&#45;&gt;c4 -->\n",
       "<g id=\"edge25\" class=\"edge\">\n",
       "<title>8&#45;&gt;c4</title>\n",
       "<path fill=\"none\" stroke=\"black\" d=\"M315,-387.55C315,-379.87 315,-370.57 315,-361.75\"/>\n",
       "<polygon fill=\"black\" stroke=\"black\" points=\"318.5,-361.74 315,-351.74 311.5,-361.74 318.5,-361.74\"/>\n",
       "</g>\n",
       "<!-- 11&#45;&gt;8 -->\n",
       "<g id=\"edge9\" class=\"edge\">\n",
       "<title>11&#45;&gt;8</title>\n",
       "<path fill=\"none\" stroke=\"black\" d=\"M315,-459.28C315,-451.57 315,-442.3 315,-433.7\"/>\n",
       "<polygon fill=\"black\" stroke=\"black\" points=\"318.5,-433.69 315,-423.69 311.5,-433.69 318.5,-433.69\"/>\n",
       "</g>\n",
       "<!-- 10 -->\n",
       "<g id=\"node18\" class=\"node\">\n",
       "<title>10</title>\n",
       "<polygon fill=\"gray\" stroke=\"gray\" points=\"270,-348.14 216,-348.14 216,-312.14 270,-312.14 270,-348.14\"/>\n",
       "<text text-anchor=\"middle\" x=\"243\" y=\"-326.44\" font-family=\"Times,serif\" font-size=\"14.00\">10</text>\n",
       "</g>\n",
       "<!-- c5 -->\n",
       "<g id=\"node27\" class=\"node\">\n",
       "<title>c5</title>\n",
       "<ellipse fill=\"none\" stroke=\"black\" cx=\"243\" cy=\"-251.24\" rx=\"21.4\" ry=\"21.4\"/>\n",
       "<text text-anchor=\"middle\" x=\"243\" y=\"-247.54\" font-family=\"Times,serif\" font-size=\"14.00\">c5</text>\n",
       "</g>\n",
       "<!-- 10&#45;&gt;c5 -->\n",
       "<g id=\"edge26\" class=\"edge\">\n",
       "<title>10&#45;&gt;c5</title>\n",
       "<path fill=\"none\" stroke=\"black\" d=\"M243,-312.07C243,-303.56 243,-292.99 243,-283.12\"/>\n",
       "<polygon fill=\"black\" stroke=\"black\" points=\"246.5,-282.81 243,-272.81 239.5,-282.81 246.5,-282.81\"/>\n",
       "</g>\n",
       "<!-- 14&#45;&gt;10 -->\n",
       "<g id=\"edge11\" class=\"edge\">\n",
       "<title>14&#45;&gt;10</title>\n",
       "<path fill=\"none\" stroke=\"black\" d=\"M243,-387.55C243,-378.9 243,-368.18 243,-358.41\"/>\n",
       "<polygon fill=\"black\" stroke=\"black\" points=\"246.5,-358.33 243,-348.33 239.5,-358.33 246.5,-358.33\"/>\n",
       "</g>\n",
       "<!-- 12 -->\n",
       "<g id=\"node20\" class=\"node\">\n",
       "<title>12</title>\n",
       "<polygon fill=\"gray\" stroke=\"gray\" points=\"201,-118.34 147,-118.34 147,-82.34 201,-82.34 201,-118.34\"/>\n",
       "<text text-anchor=\"middle\" x=\"174\" y=\"-96.64\" font-family=\"Times,serif\" font-size=\"14.00\">12</text>\n",
       "</g>\n",
       "<!-- c0 -->\n",
       "<g id=\"node22\" class=\"node\">\n",
       "<title>c0</title>\n",
       "<ellipse fill=\"none\" stroke=\"black\" cx=\"174\" cy=\"-21.45\" rx=\"21.4\" ry=\"21.4\"/>\n",
       "<text text-anchor=\"middle\" x=\"174\" y=\"-17.75\" font-family=\"Times,serif\" font-size=\"14.00\">c0</text>\n",
       "</g>\n",
       "<!-- 12&#45;&gt;c0 -->\n",
       "<g id=\"edge21\" class=\"edge\">\n",
       "<title>12&#45;&gt;c0</title>\n",
       "<path fill=\"none\" stroke=\"black\" d=\"M174,-82.28C174,-73.77 174,-63.2 174,-53.33\"/>\n",
       "<polygon fill=\"black\" stroke=\"black\" points=\"177.5,-53.02 174,-43.02 170.5,-53.02 177.5,-53.02\"/>\n",
       "</g>\n",
       "<!-- 18&#45;&gt;12 -->\n",
       "<g id=\"edge13\" class=\"edge\">\n",
       "<title>18&#45;&gt;12</title>\n",
       "<path fill=\"none\" stroke=\"black\" d=\"M174,-157.76C174,-149.11 174,-138.38 174,-128.62\"/>\n",
       "<polygon fill=\"black\" stroke=\"black\" points=\"177.5,-128.54 174,-118.54 170.5,-128.54 177.5,-128.54\"/>\n",
       "</g>\n",
       "</g>\n",
       "</svg>\n"
      ],
      "text/plain": [
       "<graphviz.graphs.Digraph at 0x7fc5c03a9750>"
      ]
     },
     "execution_count": 11,
     "metadata": {},
     "output_type": "execute_result"
    }
   ],
   "source": [
    "optz.mt.to_graphviz()"
   ]
  }
 ],
 "metadata": {
  "kernelspec": {
   "display_name": "Python 3 (ipykernel)",
   "language": "python",
   "name": "python3"
  },
  "language_info": {
   "codemirror_mode": {
    "name": "ipython",
    "version": 3
   },
   "file_extension": ".py",
   "mimetype": "text/x-python",
   "name": "python",
   "nbconvert_exporter": "python",
   "pygments_lexer": "ipython3",
   "version": "3.10.7"
  }
 },
 "nbformat": 4,
 "nbformat_minor": 5
}
