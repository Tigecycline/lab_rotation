{
 "cells": [
  {
   "cell_type": "code",
   "execution_count": null,
   "id": "0aa423f1-42a5-4039-babd-6a367bc8df5f",
   "metadata": {
    "tags": []
   },
   "outputs": [],
   "source": [
    "import pandas as pd\n",
    "import numpy as np\n",
    "import scipy as sp\n",
    "import matplotlib.pyplot as plt\n",
    "#import seaborn as sns"
   ]
  },
  {
   "cell_type": "code",
   "execution_count": null,
   "id": "9e705554-3ac1-4870-afe7-375383cb8562",
   "metadata": {
    "tags": []
   },
   "outputs": [],
   "source": [
    "from random import random\n",
    "from tqdm.notebook import tqdm"
   ]
  },
  {
   "cell_type": "code",
   "execution_count": null,
   "id": "ba76eb97-3e5e-464c-b8b2-34824f54ae2a",
   "metadata": {},
   "outputs": [],
   "source": [
    "import time\n",
    "import multiprocess as mp"
   ]
  },
  {
   "cell_type": "markdown",
   "id": "c1ce9b3e-3f0a-4539-a3c0-bff77b6b35a4",
   "metadata": {
    "tags": []
   },
   "source": [
    "### Read data"
   ]
  },
  {
   "cell_type": "raw",
   "id": "20256990-cec3-4aa7-b1ba-123e1a188cd9",
   "metadata": {},
   "source": [
    "def heterozygosity_map(chromosome, save = False):\n",
    "    ref = np.array(df_ref.loc[chromosome,:])\n",
    "    alt = np.array(df_alt.loc[chromosome,:])\n",
    "    \n",
    "    ref_proportion = (ref + 1) / (ref + alt + 2) # add a dummy count to both ref and alt to avoid division by 0\n",
    "    alpha = 2 * np.arctan(ref + alt) / np.pi # hide loci without enough counts\n",
    "    \n",
    "    plt.figure(figsize=(24,16))\n",
    "    plt.imshow(ref_proportion.T, cmap = 'viridis', vmin = 0., vmax = 1., alpha = alpha.T) \n",
    "    # \"viridis\": yellow for 1, purple for 0, green/blue for 0.5 (https://matplotlib.org/3.5.1/tutorials/colors/colormaps.html)\n",
    "    plt.title(chromosome, fontsize = 17)\n",
    "    plt.xlabel('locus index', fontsize = 17)\n",
    "    plt.ylabel('cell index', fontsize = 17)\n",
    "    if save: \n",
    "        plt.savefig('chromosome' + '.png')\n",
    "    plt.show()"
   ]
  },
  {
   "cell_type": "raw",
   "id": "b4d58d17-0b66-49dd-bc63-a73f464e46f1",
   "metadata": {},
   "source": [
    "# proportion of entries that has at least one read (reference or alternative or both)\n",
    "np.sum(np.logical_or(np.array(df_ref), np.array(df_alt))) / df_ref.size\n",
    "# Conclustion: 70% of all entries have no read at all"
   ]
  },
  {
   "cell_type": "raw",
   "id": "0b265608-de43-40e4-ba28-fe01dab7de14",
   "metadata": {},
   "source": [
    "heterozygosity_map('chr1', save = True)"
   ]
  },
  {
   "cell_type": "raw",
   "id": "0c410337-5bb1-433f-80b0-86e3c703cf6f",
   "metadata": {
    "tags": []
   },
   "source": [
    "for chromosome in df_ref.index.get_level_values('chromosome').unique():\n",
    "    heterozygosity_map(chromosome)"
   ]
  },
  {
   "cell_type": "raw",
   "id": "9f20f0bc-a319-4d1a-af6e-ca0154f750da",
   "metadata": {},
   "source": [
    "plt.figure(figsize = (24, 16))\n",
    "plt.hist(coverages, bins = 1000)\n",
    "plt.yscale('log')\n",
    "plt.show()"
   ]
  },
  {
   "cell_type": "markdown",
   "id": "4f830e4c-a725-4dd1-99dd-66b4ec5f3efa",
   "metadata": {},
   "source": [
    "### Mutation detection"
   ]
  },
  {
   "cell_type": "code",
   "execution_count": null,
   "id": "f181fd2d-d8c1-42b9-9c2f-2650fa6b2711",
   "metadata": {},
   "outputs": [],
   "source": [
    "from mutation_detection import *\n",
    "from LOH_detection import *"
   ]
  },
  {
   "cell_type": "raw",
   "id": "99bb33b3-6272-4c98-8a72-9022845f030c",
   "metadata": {},
   "source": [
    "# expected runtime (in minutes) to run on the complete dataset\n",
    "time_costs[5] / 50 * ref.shape[0] / 60"
   ]
  },
  {
   "cell_type": "code",
   "execution_count": null,
   "id": "85cb5fd1-a07a-4768-8ac6-814afb902421",
   "metadata": {},
   "outputs": [],
   "source": [
    "start_time = time.time()\n",
    "posteriors = get_posteriors(ref, alt, n_threads = 6)\n",
    "print('Runtime:', (time.time() - start_time) / 60, 'min')\n",
    "pd.DataFrame(posteriors, columns = ['R', 'H', 'A', 'RH', 'HA'], index = df_ref.index).to_csv('./posteriors.csv')"
   ]
  },
  {
   "cell_type": "code",
   "execution_count": null,
   "id": "41b461ea-4d8a-433a-a56d-9396b221119c",
   "metadata": {},
   "outputs": [],
   "source": [
    "df_posteriors = pd.read_csv('./posteriors.csv', index_col = (0,1))\n",
    "posteriors = df_posteriors.to_numpy()"
   ]
  },
  {
   "cell_type": "code",
   "execution_count": null,
   "id": "9fe71449-4746-478f-a0cf-850e443334b1",
   "metadata": {},
   "outputs": [],
   "source": [
    "mutated_idx, mut_type_idx = np.where(posteriors[:,3:] > 1 - 1 / posteriors.shape[0])\n",
    "n_mutated = mutated_idx.size\n",
    "homos = [['R', 'A'][i] for i in mut_type_idx]"
   ]
  },
  {
   "cell_type": "code",
   "execution_count": null,
   "id": "2b598086-bbf1-4948-863f-dd23a7367428",
   "metadata": {},
   "outputs": [],
   "source": [
    "corr_posteriors = get_corr_posteriors(ref[mutated_idx,:], alt[mutated_idx,:], homos, corr_prior = 1/2) "
   ]
  },
  {
   "cell_type": "code",
   "execution_count": null,
   "id": "090bf80e-5cb8-4e99-9973-592531e821bc",
   "metadata": {},
   "outputs": [],
   "source": [
    "pd.DataFrame(data = {'correlation posterior': np.concatenate((corr_posteriors, [0])), 'mutation type': ['H' + h for h in homos]}, \n",
    "             index = df_posteriors.index[mutated_idx]).to_csv('./corr_posteriors.csv')"
   ]
  },
  {
   "cell_type": "markdown",
   "id": "92a4bf55-a51a-4a6e-addc-5218ccf726a7",
   "metadata": {
    "tags": []
   },
   "source": [
    "### Data generator"
   ]
  },
  {
   "cell_type": "code",
   "execution_count": 1,
   "id": "c8a2d9c1-69ff-4504-aa94-7369d81b8f10",
   "metadata": {},
   "outputs": [],
   "source": [
    "from data_generator import *"
   ]
  },
  {
   "cell_type": "code",
   "execution_count": 2,
   "id": "bcf0fa99-2aa1-42ca-a0e7-e8ed281e9baf",
   "metadata": {},
   "outputs": [],
   "source": [
    "dg = DataGenerator(25, 100, mut_prop = 0.5)\n",
    "dg.random_tree()"
   ]
  },
  {
   "cell_type": "code",
   "execution_count": 3,
   "id": "e63b1df5-3e4f-4265-8953-c79d338c8b8a",
   "metadata": {},
   "outputs": [
    {
     "data": {
      "application/vnd.jupyter.widget-view+json": {
       "model_id": "62ec4e36da554a43b5e481837d8bc7f2",
       "version_major": 2,
       "version_minor": 0
      },
      "text/plain": [
       "  0%|          | 0/25 [00:00<?, ?it/s]"
      ]
     },
     "metadata": {},
     "output_type": "display_data"
    }
   ],
   "source": [
    "ref_raw, alt_raw = dg.generate_reads()"
   ]
  },
  {
   "cell_type": "raw",
   "id": "1a3d33b5-b509-4dcf-8f26-f1b0980a599f",
   "metadata": {},
   "source": [
    "dg.tree.to_graphviz()"
   ]
  },
  {
   "cell_type": "raw",
   "id": "5912892c-2e9b-492d-91e6-132245839f42",
   "metadata": {},
   "source": [
    "mt = MutationTree(cell_tree = dg.tree)"
   ]
  },
  {
   "cell_type": "raw",
   "id": "132c2d3c-f0f0-4f9a-9a76-a74a2853c0d0",
   "metadata": {},
   "source": [
    "mt.to_graphviz()"
   ]
  },
  {
   "cell_type": "markdown",
   "id": "7fb88f10-e8ee-4a8f-9b33-323bb7407c57",
   "metadata": {},
   "source": [
    "### Tree inference with generated data"
   ]
  },
  {
   "cell_type": "code",
   "execution_count": 4,
   "id": "b4407d92-9431-4d3d-adc4-1dd5910b0315",
   "metadata": {},
   "outputs": [],
   "source": [
    "from tree_inference import *\n",
    "from mutation_detection import likelihood_matrices\n",
    "from utilities import path_len_dist"
   ]
  },
  {
   "cell_type": "code",
   "execution_count": 5,
   "id": "a2f3dc63-0942-4d08-849e-bf6dbfeab1c6",
   "metadata": {},
   "outputs": [],
   "source": [
    "import matplotlib.pyplot as plt"
   ]
  },
  {
   "cell_type": "code",
   "execution_count": 6,
   "id": "c159b6f9-e382-4135-9c4a-6319cff5bbc2",
   "metadata": {},
   "outputs": [],
   "source": [
    "ref, alt, gt1, gt2 = filter_mutations(ref_raw, alt_raw)"
   ]
  },
  {
   "cell_type": "code",
   "execution_count": 7,
   "id": "01d788f9-701c-4faf-a61c-178ebc6421d4",
   "metadata": {},
   "outputs": [
    {
     "data": {
      "text/plain": [
       "46"
      ]
     },
     "execution_count": 7,
     "metadata": {},
     "output_type": "execute_result"
    }
   ],
   "source": [
    "len(gt1)"
   ]
  },
  {
   "cell_type": "code",
   "execution_count": 8,
   "id": "9f7ee444-b2de-4197-9723-a56e74fa637d",
   "metadata": {},
   "outputs": [],
   "source": [
    "likelihoods1, likelihoods2 = likelihood_matrices(ref, alt, gt1, gt2)"
   ]
  },
  {
   "cell_type": "markdown",
   "id": "5aacfb66-4de0-4e32-8965-e3a61a900655",
   "metadata": {},
   "source": [
    "#### True tree"
   ]
  },
  {
   "cell_type": "code",
   "execution_count": null,
   "id": "bc8a259e-716a-40a6-8894-0246e3f3ff9d",
   "metadata": {},
   "outputs": [],
   "source": [
    "optz = TreeOptimizer()\n",
    "optz.fit(likelihoods1, likelihoods2, reversible = True)\n",
    "optz.ct = dg.tree.copy()\n",
    "optz.ct.n_mut = optz.n_mut\n",
    "optz.update_ct()"
   ]
  },
  {
   "cell_type": "code",
   "execution_count": null,
   "id": "69d9c66b-f6a5-427e-ae18-c9e0b02c8ba7",
   "metadata": {},
   "outputs": [],
   "source": [
    "optz.ct_joint"
   ]
  },
  {
   "cell_type": "code",
   "execution_count": null,
   "id": "bbd855d7-363b-4332-bd6e-5b2726c9bf20",
   "metadata": {},
   "outputs": [],
   "source": [
    "print('Distance matrix MSE to real tree:', path_len_dist(optz.ct, dg.tree))"
   ]
  },
  {
   "cell_type": "code",
   "execution_count": null,
   "id": "bbc81048-4fe3-4132-bdba-4646d79b2dee",
   "metadata": {},
   "outputs": [],
   "source": [
    "optz.mt.fit_structure(optz.ct)\n",
    "optz.mt_L[:,optz.mt.root.ID] = np.sum(optz.likelihoods1, axis = 1)\n",
    "optz.update_mt()"
   ]
  },
  {
   "cell_type": "code",
   "execution_count": null,
   "id": "04191901-7cbf-4a12-8832-3701e42b3d15",
   "metadata": {},
   "outputs": [],
   "source": [
    "optz.mt_joint / likelihoods1.size"
   ]
  },
  {
   "cell_type": "markdown",
   "id": "0d0d9b31-ad69-42a9-b389-3053011c43fe",
   "metadata": {},
   "source": [
    "#### All mutations reversible"
   ]
  },
  {
   "cell_type": "code",
   "execution_count": 9,
   "id": "acd11917-9663-4779-a258-850b2ba632b6",
   "metadata": {
    "tags": []
   },
   "outputs": [
    {
     "name": "stdout",
     "output_type": "stream",
     "text": [
      "Distance matrix MSE to real tree: 13.053333333333333\n"
     ]
    }
   ],
   "source": [
    "optz = TreeOptimizer()\n",
    "optz.fit(likelihoods2, likelihoods1, reversible = True)\n",
    "print('Distance matrix MSE to real tree:', path_len_dist(optz.ct, dg.tree))"
   ]
  },
  {
   "cell_type": "code",
   "execution_count": 10,
   "id": "d194d407-835a-48c8-964b-063d0fad0d91",
   "metadata": {},
   "outputs": [
    {
     "name": "stdout",
     "output_type": "stream",
     "text": [
      "[Mutation Tree Space] convergence after 5483 steps and 58 move(s).\n",
      "[Mutation Tree Space] convergence after 1024 steps and 2 move(s).\n",
      "[Mutation Tree Space] convergence after 460 steps and 0 move(s).\n"
     ]
    }
   ],
   "source": [
    "optz.optimize(spaces = ['m'])"
   ]
  },
  {
   "cell_type": "code",
   "execution_count": 11,
   "id": "b8330454-e8fb-46e3-9673-a003854ed5a8",
   "metadata": {},
   "outputs": [
    {
     "data": {
      "text/plain": [
       "[<matplotlib.lines.Line2D at 0x7fd213b36c80>]"
      ]
     },
     "execution_count": 11,
     "metadata": {},
     "output_type": "execute_result"
    },
    {
     "data": {
      "image/png": "[encoded data removed]",
      "text/plain": [
       "<Figure size 432x288 with 1 Axes>"
      ]
     },
     "metadata": {
      "needs_background": "light"
     },
     "output_type": "display_data"
    }
   ],
   "source": [
    "mean_likelihoods = np.array(optz.likelihood_history) / likelihoods1.size\n",
    "plt.plot(mean_likelihoods)"
   ]
  },
  {
   "cell_type": "code",
   "execution_count": 12,
   "id": "8e086bed-a82a-4cbf-b939-7d3269b8a135",
   "metadata": {},
   "outputs": [
    {
     "name": "stdout",
     "output_type": "stream",
     "text": [
      "MSE to real distance matrix: 4.546666666666667\n",
      "Cell tree mean loglikelihood: -1.0431376811304347\n",
      "Mutation tree mean loglikelihood: -1.8372870715652172\n"
     ]
    }
   ],
   "source": [
    "print('MSE to real distance matrix:', path_len_dist(optz.ct, dg.tree))\n",
    "print('Cell tree mean loglikelihood:', optz.ct_joint / likelihoods1.size)\n",
    "print('Mutation tree mean loglikelihood:', optz.mt_joint / likelihoods1.size)"
   ]
  },
  {
   "cell_type": "markdown",
   "id": "1a49ec20-3e10-4e3f-a5ad-cd6eb4e00678",
   "metadata": {},
   "source": [
    "#### No mutation reversible"
   ]
  },
  {
   "cell_type": "code",
   "execution_count": null,
   "id": "2156f9a9-8801-4a9b-acd4-5200e969cf85",
   "metadata": {},
   "outputs": [],
   "source": [
    "optz = TreeOptimizer()\n",
    "optz.fit(likelihoods1, likelihoods2, reversible = False)\n",
    "print('Distance matrix MSE to real tree:', path_len_dist(optz.ct, dg.tree))"
   ]
  },
  {
   "cell_type": "code",
   "execution_count": null,
   "id": "dbc77849-5d56-4e81-8357-0c4c0dd0856b",
   "metadata": {},
   "outputs": [],
   "source": [
    "optz.optimize()"
   ]
  },
  {
   "cell_type": "code",
   "execution_count": null,
   "id": "3c44b5e0-78bb-49f3-8032-ecc4961f7b7d",
   "metadata": {},
   "outputs": [],
   "source": [
    "mean_likelihoods = np.array(optz.likelihood_history) / likelihoods1.size\n",
    "plt.plot(mean_likelihoods)"
   ]
  },
  {
   "cell_type": "code",
   "execution_count": null,
   "id": "3a64c61e-aa50-4a59-9f0d-42cf7fb5fa7e",
   "metadata": {},
   "outputs": [],
   "source": [
    "print('MSE to real distance matrix:', path_len_dist(optz.ct, dg.tree))\n",
    "print('Cell tree mean loglikelihood:', optz.ct_joint / likelihoods1.size)\n",
    "print('Mutation tree mean loglikelihood:', optz.mt_joint / likelihoods1.size)"
   ]
  },
  {
   "cell_type": "markdown",
   "id": "b311faca-5a45-4008-87d3-983b4423b1f9",
   "metadata": {},
   "source": [
    "### Make figures"
   ]
  },
  {
   "cell_type": "code",
   "execution_count": null,
   "id": "bf79fdca-a72e-4675-af8e-f62b117b5a6d",
   "metadata": {},
   "outputs": [],
   "source": []
  }
 ],
 "metadata": {
  "kernelspec": {
   "display_name": "Python 3 (ipykernel)",
   "language": "python",
   "name": "python3"
  },
  "language_info": {
   "codemirror_mode": {
    "name": "ipython",
    "version": 3
   },
   "file_extension": ".py",
   "mimetype": "text/x-python",
   "name": "python",
   "nbconvert_exporter": "python",
   "pygments_lexer": "ipython3",
   "version": "3.10.7"
  }
 },
 "nbformat": 4,
 "nbformat_minor": 5
}
