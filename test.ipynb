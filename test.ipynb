{
 "cells": [
  {
   "cell_type": "code",
   "execution_count": null,
   "id": "0aa423f1-42a5-4039-babd-6a367bc8df5f",
   "metadata": {
    "tags": []
   },
   "outputs": [],
   "source": [
    "import pandas as pd\n",
    "import numpy as np\n",
    "import scipy as sp\n",
    "import matplotlib.pyplot as plt\n",
    "#import seaborn as sns"
   ]
  },
  {
   "cell_type": "code",
   "execution_count": null,
   "id": "9e705554-3ac1-4870-afe7-375383cb8562",
   "metadata": {
    "tags": []
   },
   "outputs": [],
   "source": [
    "from random import random\n",
    "from tqdm.notebook import tqdm"
   ]
  },
  {
   "cell_type": "code",
   "execution_count": null,
   "id": "ba76eb97-3e5e-464c-b8b2-34824f54ae2a",
   "metadata": {},
   "outputs": [],
   "source": [
    "import time\n",
    "import multiprocess as mp"
   ]
  },
  {
   "cell_type": "markdown",
   "id": "c1ce9b3e-3f0a-4539-a3c0-bff77b6b35a4",
   "metadata": {
    "tags": []
   },
   "source": [
    "### Read data & preprocessing"
   ]
  },
  {
   "cell_type": "code",
   "execution_count": null,
   "id": "aa6877e3-3d2a-47f1-ac46-c1f909265ca1",
   "metadata": {},
   "outputs": [],
   "source": [
    "df_ref = pd.read_csv('./Data/glioblastoma_BT_S2/ref.csv', index_col = 0)\n",
    "df_alt = pd.read_csv('./Data/glioblastoma_BT_S2/alt.csv', index_col = 0)"
   ]
  },
  {
   "cell_type": "code",
   "execution_count": null,
   "id": "b0c578e5-dadf-49aa-ac69-dba3c5a916d6",
   "metadata": {},
   "outputs": [],
   "source": [
    "# use multi-index for easier handling of the data\n",
    "df_ref['chromosome'] = [locus.split('_')[0] for locus in df_ref.index]\n",
    "df_ref['locus'] = [locus.split('_')[1] for locus in df_ref.index]\n",
    "df_ref = df_ref.set_index(['chromosome', 'locus'])\n",
    "\n",
    "df_alt['chromosome'] = [locus.split('_')[0] for locus in df_alt.index]\n",
    "df_alt['locus'] = [locus.split('_')[1] for locus in df_alt.index]\n",
    "df_alt = df_alt.set_index(['chromosome', 'locus'])"
   ]
  },
  {
   "cell_type": "raw",
   "id": "20256990-cec3-4aa7-b1ba-123e1a188cd9",
   "metadata": {},
   "source": [
    "def heterozygosity_map(chromosome, save = False):\n",
    "    ref = np.array(df_ref.loc[chromosome,:])\n",
    "    alt = np.array(df_alt.loc[chromosome,:])\n",
    "    \n",
    "    ref_proportion = (ref + 1) / (ref + alt + 2) # add a dummy count to both ref and alt to avoid division by 0\n",
    "    alpha = 2 * np.arctan(ref + alt) / np.pi # hide loci without enough counts\n",
    "    \n",
    "    plt.figure(figsize=(24,16))\n",
    "    plt.imshow(ref_proportion.T, cmap = 'viridis', vmin = 0., vmax = 1., alpha = alpha.T) \n",
    "    # \"viridis\": yellow for 1, purple for 0, green/blue for 0.5 (https://matplotlib.org/3.5.1/tutorials/colors/colormaps.html)\n",
    "    plt.title(chromosome, fontsize = 17)\n",
    "    plt.xlabel('locus index', fontsize = 17)\n",
    "    plt.ylabel('cell index', fontsize = 17)\n",
    "    if save: \n",
    "        plt.savefig('chromosome' + '.png')\n",
    "    plt.show()"
   ]
  },
  {
   "cell_type": "raw",
   "id": "b4d58d17-0b66-49dd-bc63-a73f464e46f1",
   "metadata": {},
   "source": [
    "# proportion of entries that has at least one read (reference or alternative or both)\n",
    "np.sum(np.logical_or(np.array(df_ref), np.array(df_alt))) / df_ref.size\n",
    "# Conclustion: 70% of all entries have no read at all"
   ]
  },
  {
   "cell_type": "raw",
   "id": "0b265608-de43-40e4-ba28-fe01dab7de14",
   "metadata": {},
   "source": [
    "heterozygosity_map('chr1', save = True)"
   ]
  },
  {
   "cell_type": "raw",
   "id": "0c410337-5bb1-433f-80b0-86e3c703cf6f",
   "metadata": {
    "tags": []
   },
   "source": [
    "for chromosome in df_ref.index.get_level_values('chromosome').unique():\n",
    "    heterozygosity_map(chromosome)"
   ]
  },
  {
   "cell_type": "raw",
   "id": "9f20f0bc-a319-4d1a-af6e-ca0154f750da",
   "metadata": {},
   "source": [
    "plt.figure(figsize = (24, 16))\n",
    "plt.hist(coverages, bins = 1000)\n",
    "plt.yscale('log')\n",
    "plt.show()"
   ]
  },
  {
   "cell_type": "markdown",
   "id": "4f830e4c-a725-4dd1-99dd-66b4ec5f3efa",
   "metadata": {},
   "source": [
    "### Mutation detection"
   ]
  },
  {
   "cell_type": "code",
   "execution_count": null,
   "id": "f181fd2d-d8c1-42b9-9c2f-2650fa6b2711",
   "metadata": {},
   "outputs": [],
   "source": [
    "from mutation_detection import *\n",
    "from LOH_detection import *"
   ]
  },
  {
   "cell_type": "code",
   "execution_count": null,
   "id": "a2b16604-9126-4fca-9050-88d84dd9352c",
   "metadata": {},
   "outputs": [],
   "source": [
    "ref = df_ref.to_numpy(dtype = float)\n",
    "alt = df_alt.to_numpy(dtype = float)\n",
    "coverages = ref.flatten() + alt.flatten()"
   ]
  },
  {
   "cell_type": "raw",
   "id": "08ff1696-7ad4-4554-96b8-94f4bd94a8e6",
   "metadata": {},
   "source": [
    "def test_thread_numbers(max_n_threads, n_loci = 50):  \n",
    "    time_costs = np.zeros(max_n_threads)\n",
    "    for n in tqdm(range(1,max_n_threads+1)): \n",
    "        start_time = time.time()\n",
    "        get_posteriors(ref[0:n_loci,:], alt[0:n_loci,:], n_threads = n)\n",
    "        time_costs[n-1] = time.time() - start_time\n",
    "    \n",
    "    return time_costs"
   ]
  },
  {
   "cell_type": "raw",
   "id": "f0abadad-f587-4857-83d0-3641f6b3e544",
   "metadata": {
    "tags": []
   },
   "source": [
    "time_costs = test_thread_numbers(12)\n",
    "\n",
    "plt.figure(figsize = (8,6))\n",
    "plt.plot(np.array(range(1, 13)), time_costs)\n",
    "plt.xlabel('number of threads')\n",
    "plt.ylabel('runtime (s)')\n",
    "plt.grid()\n",
    "plt.show()"
   ]
  },
  {
   "cell_type": "raw",
   "id": "99bb33b3-6272-4c98-8a72-9022845f030c",
   "metadata": {},
   "source": [
    "# expected runtime (in minutes) to run on the complete dataset\n",
    "time_costs[5] / 50 * ref.shape[0] / 60"
   ]
  },
  {
   "cell_type": "code",
   "execution_count": null,
   "id": "0d1e993b-313b-43ef-a9aa-10e79cc0c001",
   "metadata": {},
   "outputs": [],
   "source": [
    "ref.shape"
   ]
  },
  {
   "cell_type": "code",
   "execution_count": null,
   "id": "2cfeee76-eda9-404d-b71c-0a6576764aa5",
   "metadata": {},
   "outputs": [],
   "source": [
    "(1 - 1/(2*1168 - 2)**2) ** 16153"
   ]
  },
  {
   "cell_type": "code",
   "execution_count": null,
   "id": "c2859045-57b5-4a7f-9041-3fdf25cdaea6",
   "metadata": {},
   "outputs": [],
   "source": [
    "get_composition_priors(10, genotype_freq = {'R': 1/3, 'H': 1/3, 'A': 1/3}, mutation_rate = 0.25)"
   ]
  },
  {
   "cell_type": "code",
   "execution_count": null,
   "id": "85cb5fd1-a07a-4768-8ac6-814afb902421",
   "metadata": {},
   "outputs": [],
   "source": [
    "start_time = time.time()\n",
    "posteriors = get_posteriors(ref, alt, n_threads = 6)\n",
    "print('Runtime:', (time.time() - start_time) / 60, 'min')\n",
    "pd.DataFrame(posteriors, columns = ['R', 'H', 'A', 'RH', 'HA'], index = df_ref.index).to_csv('./posteriors.csv')"
   ]
  },
  {
   "cell_type": "code",
   "execution_count": null,
   "id": "41b461ea-4d8a-433a-a56d-9396b221119c",
   "metadata": {},
   "outputs": [],
   "source": [
    "df_posteriors = pd.read_csv('./posteriors.csv', index_col = (0,1))\n",
    "posteriors = df_posteriors.to_numpy()"
   ]
  },
  {
   "cell_type": "code",
   "execution_count": null,
   "id": "9fe71449-4746-478f-a0cf-850e443334b1",
   "metadata": {},
   "outputs": [],
   "source": [
    "mutated_idx, mut_type_idx = np.where(posteriors[:,3:] > 1 - 1 / posteriors.shape[0])\n",
    "n_mutated = mutated_idx.size\n",
    "homos = [['R', 'A'][i] for i in mut_type_idx]"
   ]
  },
  {
   "cell_type": "code",
   "execution_count": null,
   "id": "2b598086-bbf1-4948-863f-dd23a7367428",
   "metadata": {},
   "outputs": [],
   "source": [
    "corr_posteriors = get_corr_posteriors(ref[mutated_idx,:], alt[mutated_idx,:], homos, corr_prior = 1/2) "
   ]
  },
  {
   "cell_type": "code",
   "execution_count": null,
   "id": "090bf80e-5cb8-4e99-9973-592531e821bc",
   "metadata": {},
   "outputs": [],
   "source": [
    "pd.DataFrame(data = {'correlation posterior': np.concatenate((corr_posteriors, [0])), 'mutation type': ['H' + h for h in homos]}, \n",
    "             index = df_posteriors.index[mutated_idx]).to_csv('./corr_posteriors.csv')"
   ]
  },
  {
   "cell_type": "markdown",
   "id": "92a4bf55-a51a-4a6e-addc-5218ccf726a7",
   "metadata": {},
   "source": [
    "### Data Generator"
   ]
  },
  {
   "cell_type": "code",
   "execution_count": 1,
   "id": "c8a2d9c1-69ff-4504-aa94-7369d81b8f10",
   "metadata": {},
   "outputs": [],
   "source": [
    "from data_generator import *"
   ]
  },
  {
   "cell_type": "code",
   "execution_count": 3,
   "id": "bcf0fa99-2aa1-42ca-a0e7-e8ed281e9baf",
   "metadata": {},
   "outputs": [],
   "source": [
    "dg = DataGenerator(64, 200)"
   ]
  },
  {
   "cell_type": "code",
   "execution_count": 4,
   "id": "e63b1df5-3e4f-4265-8953-c79d338c8b8a",
   "metadata": {},
   "outputs": [
    {
     "data": {
      "application/vnd.jupyter.widget-view+json": {
       "model_id": "8bdca21a060c4dd3b7b7843bdcfef680",
       "version_major": 2,
       "version_minor": 0
      },
      "text/plain": [
       "  0%|          | 0/64 [00:00<?, ?it/s]"
      ]
     },
     "metadata": {},
     "output_type": "display_data"
    }
   ],
   "source": [
    "ref, alt = dg.generate_reads()"
   ]
  },
  {
   "cell_type": "code",
   "execution_count": 5,
   "id": "59ff4581-5694-4473-969d-1832c7cf281a",
   "metadata": {},
   "outputs": [],
   "source": [
    "likelihoods1, likelihoods2 = get_likelihoods(ref, alt, dg.gt1, dg.gt2)"
   ]
  },
  {
   "cell_type": "raw",
   "id": "c44dc441-1dd5-467f-8484-2658c3a01bd1",
   "metadata": {},
   "source": [
    "dg.tree.to_graphviz()"
   ]
  },
  {
   "cell_type": "code",
   "execution_count": 6,
   "id": "ed5d7b6d-b690-4785-bfea-5e914a8e051f",
   "metadata": {},
   "outputs": [],
   "source": [
    "dg.tree.fit_likelihoods(likelihoods1, likelihoods2)\n",
    "dg.tree.fit()"
   ]
  },
  {
   "cell_type": "code",
   "execution_count": 7,
   "id": "a99b53cd-80d2-4301-a4e2-c88fa49fd214",
   "metadata": {},
   "outputs": [
    {
     "data": {
      "text/plain": [
       "-17314.134162947557"
      ]
     },
     "execution_count": 7,
     "metadata": {},
     "output_type": "execute_result"
    }
   ],
   "source": [
    "dg.tree.likelihood"
   ]
  },
  {
   "cell_type": "raw",
   "id": "e22587d0-728d-4e84-a3d0-f4a4b8675864",
   "metadata": {},
   "source": [
    "mt = MutationTree(dg.tree)\n",
    "mt.fit_likelihoods(likelihoods1, likelihoods2)\n",
    "mt.fit()"
   ]
  },
  {
   "cell_type": "raw",
   "id": "ea9c0715-c611-4490-9a52-9bc285d9ebdc",
   "metadata": {},
   "source": [
    "mt.to_graphviz()"
   ]
  },
  {
   "cell_type": "raw",
   "id": "4fe02cba-d03a-4f15-abbd-f394f8c0c5a1",
   "metadata": {},
   "source": [
    "mt.likelihood"
   ]
  },
  {
   "cell_type": "raw",
   "id": "89e7652e-c98e-4eba-a6a2-01bb1b520fa5",
   "metadata": {},
   "source": [
    "ct = CellTree(mt.n_cells)"
   ]
  },
  {
   "cell_type": "raw",
   "id": "8f435206-29d3-4138-a93b-9a3394bf41c2",
   "metadata": {},
   "source": [
    "ct.fit_mutation_tree(mt)"
   ]
  },
  {
   "cell_type": "raw",
   "id": "202e17b9-b0e1-44df-9d10-33f5c74e1ba1",
   "metadata": {},
   "source": [
    "ct.to_graphviz()"
   ]
  },
  {
   "cell_type": "markdown",
   "id": "7fb88f10-e8ee-4a8f-9b33-323bb7407c57",
   "metadata": {},
   "source": [
    "### Tree Inference Test"
   ]
  },
  {
   "cell_type": "code",
   "execution_count": 8,
   "id": "c4e0d73c-e217-4217-a267-b1cc3d906473",
   "metadata": {},
   "outputs": [],
   "source": [
    "from tree import *\n",
    "from tree_inference import *"
   ]
  },
  {
   "cell_type": "code",
   "execution_count": 9,
   "id": "b4117b9a-aa9f-4868-9055-6854b699317a",
   "metadata": {},
   "outputs": [
    {
     "name": "stdout",
     "output_type": "stream",
     "text": [
      "[Cell Tree] Timeout reached.\n",
      "[Mutation Tree] Converged after 9541 steps\n",
      "[Cell Tree] Converged after 1060 steps\n",
      "[Mutation Tree] Converged after 1001 steps\n",
      "[Cell Tree] Converged after 1588 steps\n",
      "[Mutation Tree] Converged after 1031 steps\n",
      "[Cell Tree] Converged after 844 steps\n",
      "[Mutation Tree] Converged after 2709 steps\n",
      "[Cell Tree] Converged after 737 steps\n",
      "[Mutation Tree] Converged after 1413 steps\n",
      "[Cell Tree] Converged after 934 steps\n",
      "[Mutation Tree] Converged after 1987 steps\n",
      "[Cell Tree] Converged after 660 steps\n",
      "[Mutation Tree] Converged after 1001 steps\n",
      "[Cell Tree] Converged after 439 steps\n",
      "[Mutation Tree] Converged after 1001 steps\n",
      "[Cell Tree] Converged after 417 steps\n",
      "[Mutation Tree] Converged after 1002 steps\n",
      "[Cell Tree] Converged after 323 steps\n",
      "[Mutation Tree] Converged after 1006 steps\n",
      "[Cell Tree] Converged after 329 steps\n",
      "[Mutation Tree] Converged after 1022 steps\n",
      "[Cell Tree] Converged after 320 steps\n",
      "[Mutation Tree] Converged after 1050 steps\n",
      "[Cell Tree] Converged after 333 steps\n",
      "[Mutation Tree] Converged after 1029 steps\n",
      "[Cell Tree] Converged after 320 steps\n",
      "[Mutation Tree] Converged after 1000 steps\n"
     ]
    }
   ],
   "source": [
    "ct, mt, likelihood_history, space = optimize_tree(likelihoods1, likelihoods2)"
   ]
  },
  {
   "cell_type": "code",
   "execution_count": 10,
   "id": "18a77c75-e3df-4e23-9f13-4992d364c7e3",
   "metadata": {},
   "outputs": [
    {
     "data": {
      "text/plain": [
       "[-19121.9191899027,\n",
       " -19120.55981428237,\n",
       " -19117.223942184228,\n",
       " -19108.75348980886,\n",
       " -19099.883461924277,\n",
       " -19072.130760836953,\n",
       " -19064.298954730635,\n",
       " -19044.439030229845,\n",
       " -19036.077545724158,\n",
       " -19012.36355067896,\n",
       " -19005.84089676395,\n",
       " -18998.615056676732,\n",
       " -18961.220104788692,\n",
       " -18884.036945130003,\n",
       " -18869.84560582908,\n",
       " -18862.57124429683,\n",
       " -18855.664112821887,\n",
       " -18853.858315449685,\n",
       " -18827.619162807645,\n",
       " -18823.67376843705,\n",
       " -18800.61101018312,\n",
       " -18795.516133748406,\n",
       " -18790.469044722668,\n",
       " -18788.561061268876,\n",
       " -18769.66710575441,\n",
       " -18747.8415044831,\n",
       " -18743.911037621066,\n",
       " -18742.315135711662,\n",
       " -18737.837801073703,\n",
       " -18736.828652469085,\n",
       " -18736.81710849126,\n",
       " -18732.82859875505,\n",
       " -18726.9027157385,\n",
       " -18720.611592002275,\n",
       " -18718.03375200411,\n",
       " -18717.71158929747,\n",
       " -18707.104145292542,\n",
       " -18706.391714842168,\n",
       " -18689.69849401838,\n",
       " -18664.19009166465,\n",
       " -18637.34593032456,\n",
       " -18596.625049554135,\n",
       " -18568.731233687526,\n",
       " -18519.70525267933,\n",
       " -18518.930619022,\n",
       " -18518.17937231491,\n",
       " -18491.622896367036,\n",
       " -18480.54833407559,\n",
       " -18476.011486479885,\n",
       " -18463.014662356964,\n",
       " -18458.50756882674,\n",
       " -18454.06912491428,\n",
       " -18453.62034936003,\n",
       " -18404.974504200916,\n",
       " -18348.313052428963,\n",
       " -18315.918975242275,\n",
       " -18310.322183679673,\n",
       " -18287.37494963011,\n",
       " -18263.777107761285,\n",
       " -18255.570310929717,\n",
       " -18253.54689826918,\n",
       " -18243.245217968295,\n",
       " -18233.320287246985,\n",
       " -18224.966434049893,\n",
       " -18216.65644331817,\n",
       " -18205.644450613105,\n",
       " -18202.576398593686,\n",
       " -18181.97164064943,\n",
       " -18181.63437649076,\n",
       " -18181.634376490758,\n",
       " -18180.581520490337,\n",
       " -18178.12323892322,\n",
       " -18160.97018313205,\n",
       " -18155.93147810346,\n",
       " -18152.030891871396,\n",
       " -18129.43198121552,\n",
       " -18126.704770704848,\n",
       " -18109.746846043898,\n",
       " -18102.432670294875,\n",
       " -18099.47883580852,\n",
       " -18076.734269902547,\n",
       " -18073.543218551036,\n",
       " -18068.382595780942,\n",
       " -18061.74575850557,\n",
       " -18043.503859351164,\n",
       " -18029.23112511428,\n",
       " -18014.401417388664,\n",
       " -18010.43573237983,\n",
       " -18009.714604521992,\n",
       " -18008.581807636576,\n",
       " -18001.864056558756,\n",
       " -17980.167442560083,\n",
       " -17973.033302479053,\n",
       " -17965.620475737585,\n",
       " -17960.16932368858,\n",
       " -17960.121670848654,\n",
       " -17942.81296154416,\n",
       " -17930.005970173057,\n",
       " -17928.66545111478,\n",
       " -17919.472360561173,\n",
       " -17915.884316187086,\n",
       " -17891.62740758031,\n",
       " -17873.922525212867,\n",
       " -17870.975219624866,\n",
       " -17869.25630915614,\n",
       " -17867.008783840327,\n",
       " -17861.61962546066,\n",
       " -17860.010396856112,\n",
       " -17857.32216326044,\n",
       " -17854.71739350958,\n",
       " -17838.086669942924,\n",
       " -17835.922173288986,\n",
       " -17823.99167135208,\n",
       " -17822.813958971936,\n",
       " -17819.11749969375,\n",
       " -17815.413087795634,\n",
       " -17815.151063883866,\n",
       " -17808.466295750095,\n",
       " -17803.661126245363,\n",
       " -17800.18475273841,\n",
       " -17791.194201954742,\n",
       " -17784.49244008586,\n",
       " -17782.269191735104,\n",
       " -17767.30586072675,\n",
       " -17759.946601118576,\n",
       " -17754.351243802193,\n",
       " -17751.82558056701,\n",
       " -17744.956704599525,\n",
       " -17727.708716281835,\n",
       " -17726.173777111562,\n",
       " -17724.254249679947,\n",
       " -17716.52064124672,\n",
       " -17708.85853047577,\n",
       " -17699.19820582746,\n",
       " -17697.704958372295,\n",
       " -17697.51152157019,\n",
       " -17688.332808483658,\n",
       " -17673.31741181736,\n",
       " -17671.197304435504,\n",
       " -17664.720312327307,\n",
       " -17664.636465720305,\n",
       " -17659.652819685296,\n",
       " -17634.77979866864,\n",
       " -17633.065360191526,\n",
       " -17629.525531373252,\n",
       " -17625.914640032228,\n",
       " -17621.53137381441,\n",
       " -17618.285612192445,\n",
       " -17609.841312957513,\n",
       " -17609.84131295751,\n",
       " -17604.804914232343,\n",
       " -17602.24842720891,\n",
       " -17599.091544939733,\n",
       " -17597.751025881455,\n",
       " -17593.950748801377,\n",
       " -17589.14952096771,\n",
       " -17585.021899286523,\n",
       " -17580.314407511025,\n",
       " -17573.75626865808,\n",
       " -17572.81837678003,\n",
       " -17567.211202742856,\n",
       " -17562.56118858616,\n",
       " -17557.38410574905,\n",
       " -17556.665020574346,\n",
       " -17556.261101260534,\n",
       " -17553.087987802446,\n",
       " -17549.120942380716,\n",
       " -17544.789386755878,\n",
       " -17541.032076905427,\n",
       " -18891.98202359287,\n",
       " -17515.20813481268,\n",
       " -17514.26652022524,\n",
       " -17512.63750336544,\n",
       " -17510.117459134337,\n",
       " -17507.495333189036,\n",
       " -17504.18583809062,\n",
       " -17502.0610807427,\n",
       " -17500.720561684422,\n",
       " -17500.371285693625,\n",
       " -17494.7140396454,\n",
       " -17490.294723025887,\n",
       " -17487.7690597907,\n",
       " -17485.679975643456,\n",
       " -17485.51671238189,\n",
       " -17484.87485849572,\n",
       " -17482.593093227653,\n",
       " -17476.911790454342,\n",
       " -17476.562514463545,\n",
       " -17475.806918886403,\n",
       " -17475.752275563384,\n",
       " -17475.348356249568,\n",
       " -17474.592760672425,\n",
       " -17472.509339209177,\n",
       " -17541.032076905427,\n",
       " -17432.03491325402,\n",
       " -17430.645192675278,\n",
       " -17430.58497608218,\n",
       " -17429.244457023902,\n",
       " -17427.720505629215,\n",
       " -17425.8009781976,\n",
       " -17421.19351008777,\n",
       " -17472.509339209177,\n",
       " -17446.02460395384,\n",
       " -17421.19351008777,\n",
       " -17419.39666939136,\n",
       " -17414.737874756713,\n",
       " -17413.53057590744,\n",
       " -17410.587671607584,\n",
       " -17407.218923871318,\n",
       " -17406.490190658995,\n",
       " -17406.29675385689,\n",
       " -17405.541158279746,\n",
       " -17404.98980253402,\n",
       " -17401.91943486362,\n",
       " -17396.761591959807,\n",
       " -17395.74323560817,\n",
       " -17387.575998640135,\n",
       " -17446.02460395384,\n",
       " -17390.167981835475,\n",
       " -17386.20093917974,\n",
       " -17387.575998640135,\n",
       " -17374.616255094814,\n",
       " -17372.37703961575,\n",
       " -17371.24074530996,\n",
       " -17356.602007422392,\n",
       " -17386.20093917974,\n",
       " -17365.540738146505,\n",
       " -17359.127670657574,\n",
       " -17358.31399030798,\n",
       " -17357.905354721195,\n",
       " -17356.602007422392,\n",
       " -17341.768448460458,\n",
       " -17335.717830745776,\n",
       " -17330.333473461054,\n",
       " -17357.905354721195,\n",
       " -17336.893987242038,\n",
       " -17336.119353584712,\n",
       " -17330.333473461054,\n",
       " -17330.314435380875,\n",
       " -17329.29540231878,\n",
       " -17328.512228899905,\n",
       " -17327.848926773615,\n",
       " -17326.995021885246,\n",
       " -17323.430123667615,\n",
       " -17336.119353584712,\n",
       " -17335.276225940408,\n",
       " -17333.98170725232,\n",
       " -17331.53128123672,\n",
       " -17323.430123667615,\n",
       " -17318.004938368817,\n",
       " -17316.375921509018,\n",
       " -17331.53128123672,\n",
       " -17327.79272736959,\n",
       " -17316.375921509018,\n",
       " -17315.884782356392,\n",
       " -17314.484046705016,\n",
       " -17310.352956421946,\n",
       " -17327.79272736959,\n",
       " -17326.881286033004,\n",
       " -17310.352956421946,\n",
       " -17310.159519619858,\n",
       " -17326.881286033004,\n",
       " -17318.90202805858,\n",
       " -17310.159519619858,\n",
       " -17310.159519619847,\n",
       " -17318.90202805858,\n",
       " -17313.747563993948,\n",
       " -17310.159519619847,\n",
       " -17310.15951961984,\n",
       " -17313.747563993948,\n",
       " -17310.934153277187,\n",
       " -17310.15951961984,\n",
       " -17310.934153277187,\n",
       " -17310.563438933674,\n",
       " -17310.159519619843,\n",
       " -17310.15951961984,\n",
       " -17310.563438933674,\n",
       " -17310.15951961986,\n",
       " -17310.15951961984,\n",
       " -17310.15951961986]"
      ]
     },
     "execution_count": 10,
     "metadata": {},
     "output_type": "execute_result"
    }
   ],
   "source": [
    "likelihood_history"
   ]
  },
  {
   "cell_type": "code",
   "execution_count": null,
   "id": "e3d138a5-48ad-48d9-b0b1-8b1d397d18a6",
   "metadata": {},
   "outputs": [],
   "source": [
    "ct = CellTree()\n",
    "ct.fit(likelihoods1, likelihoods2)"
   ]
  },
  {
   "cell_type": "code",
   "execution_count": 30,
   "id": "a3c4b410-335e-40ea-ac5a-8635cab9da6f",
   "metadata": {},
   "outputs": [
    {
     "name": "stdout",
     "output_type": "stream",
     "text": [
      "[Cell Tree] Converged after 138 steps\n",
      "[-238.76419535645618, -235.22143096720703, -235.0821862275111, -233.3416557024404, -220.5962063797329, -218.51202780697867]\n"
     ]
    }
   ],
   "source": [
    "history = ct.hill_climb()\n",
    "print(history)"
   ]
  },
  {
   "cell_type": "code",
   "execution_count": 31,
   "id": "0fc1520c-5428-43ce-8409-96bd64e9b850",
   "metadata": {},
   "outputs": [
    {
     "data": {
      "text/plain": [
       "-230.0758738863463"
      ]
     },
     "execution_count": 31,
     "metadata": {},
     "output_type": "execute_result"
    }
   ],
   "source": [
    "ct.likelihood"
   ]
  },
  {
   "cell_type": "code",
   "execution_count": 21,
   "id": "1d83bff2-1df3-4091-9cf3-e6f23bef7cb6",
   "metadata": {},
   "outputs": [
    {
     "data": {
      "image/svg+xml": [
       "<?xml version=\"1.0\" encoding=\"UTF-8\" standalone=\"no\"?>\n",
       "<!DOCTYPE svg PUBLIC \"-//W3C//DTD SVG 1.1//EN\"\n",
       " \"http://www.w3.org/Graphics/SVG/1.1/DTD/svg11.dtd\">\n",
       "<!-- Generated by graphviz version 2.48.0 (0)\n",
       " -->\n",
       "<!-- Pages: 1 -->\n",
       "<svg width=\"243pt\" height=\"755pt\"\n",
       " viewBox=\"0.00 0.00 243.00 755.08\" xmlns=\"http://www.w3.org/2000/svg\" xmlns:xlink=\"http://www.w3.org/1999/xlink\">\n",
       "<g id=\"graph0\" class=\"graph\" transform=\"scale(1 1) rotate(0) translate(4 751.08)\">\n",
       "<polygon fill=\"white\" stroke=\"transparent\" points=\"-4,4 -4,-751.08 239,-751.08 239,4 -4,4\"/>\n",
       "<!-- 0 -->\n",
       "<g id=\"node1\" class=\"node\">\n",
       "<title>0</title>\n",
       "<ellipse fill=\"none\" stroke=\"black\" cx=\"72\" cy=\"-18\" rx=\"18\" ry=\"18\"/>\n",
       "<text text-anchor=\"middle\" x=\"72\" y=\"-14.3\" font-family=\"Times,serif\" font-size=\"14.00\">0</text>\n",
       "</g>\n",
       "<!-- 8 -->\n",
       "<g id=\"node2\" class=\"node\">\n",
       "<title>8</title>\n",
       "<ellipse fill=\"gray\" stroke=\"gray\" cx=\"99\" cy=\"-105\" rx=\"18\" ry=\"18\"/>\n",
       "<text text-anchor=\"middle\" x=\"99\" y=\"-101.3\" font-family=\"Times,serif\" font-size=\"14.00\">8</text>\n",
       "</g>\n",
       "<!-- 8&#45;&gt;0 -->\n",
       "<g id=\"edge1\" class=\"edge\">\n",
       "<title>8&#45;&gt;0</title>\n",
       "<path fill=\"none\" stroke=\"black\" d=\"M93.79,-87.61C89.98,-75.62 84.74,-59.09 80.34,-45.27\"/>\n",
       "<polygon fill=\"black\" stroke=\"black\" points=\"83.55,-43.81 77.19,-35.34 76.88,-45.93 83.55,-43.81\"/>\n",
       "</g>\n",
       "<!-- 4 -->\n",
       "<g id=\"node9\" class=\"node\">\n",
       "<title>4</title>\n",
       "<ellipse fill=\"none\" stroke=\"black\" cx=\"126\" cy=\"-18\" rx=\"18\" ry=\"18\"/>\n",
       "<text text-anchor=\"middle\" x=\"126\" y=\"-14.3\" font-family=\"Times,serif\" font-size=\"14.00\">4</text>\n",
       "</g>\n",
       "<!-- 8&#45;&gt;4 -->\n",
       "<g id=\"edge5\" class=\"edge\">\n",
       "<title>8&#45;&gt;4</title>\n",
       "<path fill=\"none\" stroke=\"black\" d=\"M104.21,-87.61C108.02,-75.62 113.26,-59.09 117.66,-45.27\"/>\n",
       "<polygon fill=\"black\" stroke=\"black\" points=\"121.12,-45.93 120.81,-35.34 114.45,-43.81 121.12,-45.93\"/>\n",
       "<text text-anchor=\"middle\" x=\"143.5\" y=\"-57.8\" font-family=\"Times,serif\" font-size=\"14.00\">m13, 15</text>\n",
       "</g>\n",
       "<!-- 1 -->\n",
       "<g id=\"node3\" class=\"node\">\n",
       "<title>1</title>\n",
       "<ellipse fill=\"none\" stroke=\"black\" cx=\"18\" cy=\"-293.24\" rx=\"18\" ry=\"18\"/>\n",
       "<text text-anchor=\"middle\" x=\"18\" y=\"-289.54\" font-family=\"Times,serif\" font-size=\"14.00\">1</text>\n",
       "</g>\n",
       "<!-- 11 -->\n",
       "<g id=\"node4\" class=\"node\">\n",
       "<title>11</title>\n",
       "<ellipse fill=\"gray\" stroke=\"gray\" cx=\"46\" cy=\"-389.74\" rx=\"23\" ry=\"23\"/>\n",
       "<text text-anchor=\"middle\" x=\"46\" y=\"-386.04\" font-family=\"Times,serif\" font-size=\"14.00\">11</text>\n",
       "</g>\n",
       "<!-- 11&#45;&gt;1 -->\n",
       "<g id=\"edge2\" class=\"edge\">\n",
       "<title>11&#45;&gt;1</title>\n",
       "<path fill=\"none\" stroke=\"black\" d=\"M31.86,-371.6C27.19,-364.95 22.55,-357.01 20,-348.99 17.25,-340.36 16.27,-330.57 16.13,-321.68\"/>\n",
       "<polygon fill=\"black\" stroke=\"black\" points=\"19.63,-321.48 16.3,-311.42 12.63,-321.36 19.63,-321.48\"/>\n",
       "<text text-anchor=\"middle\" x=\"40.5\" y=\"-337.79\" font-family=\"Times,serif\" font-size=\"14.00\">m3, 8</text>\n",
       "</g>\n",
       "<!-- 12 -->\n",
       "<g id=\"node11\" class=\"node\">\n",
       "<title>12</title>\n",
       "<ellipse fill=\"gray\" stroke=\"gray\" cx=\"77\" cy=\"-293.24\" rx=\"23\" ry=\"23\"/>\n",
       "<text text-anchor=\"middle\" x=\"77\" y=\"-289.54\" font-family=\"Times,serif\" font-size=\"14.00\">12</text>\n",
       "</g>\n",
       "<!-- 11&#45;&gt;12 -->\n",
       "<g id=\"edge13\" class=\"edge\">\n",
       "<title>11&#45;&gt;12</title>\n",
       "<path fill=\"none\" stroke=\"black\" d=\"M54.09,-368.22C56.42,-362.07 58.9,-355.29 61,-348.99 63.55,-341.35 66.1,-333.04 68.39,-325.25\"/>\n",
       "<polygon fill=\"black\" stroke=\"black\" points=\"71.81,-326 71.22,-315.42 65.09,-324.06 71.81,-326\"/>\n",
       "</g>\n",
       "<!-- 2 -->\n",
       "<g id=\"node5\" class=\"node\">\n",
       "<title>2</title>\n",
       "<ellipse fill=\"none\" stroke=\"black\" cx=\"18\" cy=\"-481.49\" rx=\"18\" ry=\"18\"/>\n",
       "<text text-anchor=\"middle\" x=\"18\" y=\"-477.79\" font-family=\"Times,serif\" font-size=\"14.00\">2</text>\n",
       "</g>\n",
       "<!-- 10 -->\n",
       "<g id=\"node6\" class=\"node\">\n",
       "<title>10</title>\n",
       "<ellipse fill=\"gray\" stroke=\"gray\" cx=\"50\" cy=\"-573.24\" rx=\"23\" ry=\"23\"/>\n",
       "<text text-anchor=\"middle\" x=\"50\" y=\"-569.54\" font-family=\"Times,serif\" font-size=\"14.00\">10</text>\n",
       "</g>\n",
       "<!-- 10&#45;&gt;2 -->\n",
       "<g id=\"edge3\" class=\"edge\">\n",
       "<title>10&#45;&gt;2</title>\n",
       "<path fill=\"none\" stroke=\"black\" d=\"M34.07,-556.67C28.17,-549.86 22.16,-541.39 19,-532.49 16.47,-525.37 15.55,-517.31 15.43,-509.78\"/>\n",
       "<polygon fill=\"black\" stroke=\"black\" points=\"18.93,-509.73 15.71,-499.63 11.93,-509.53 18.93,-509.73\"/>\n",
       "<text text-anchor=\"middle\" x=\"39.5\" y=\"-521.29\" font-family=\"Times,serif\" font-size=\"14.00\">m0, 5</text>\n",
       "</g>\n",
       "<!-- 9 -->\n",
       "<g id=\"node15\" class=\"node\">\n",
       "<title>9</title>\n",
       "<ellipse fill=\"gray\" stroke=\"gray\" cx=\"82\" cy=\"-481.49\" rx=\"18\" ry=\"18\"/>\n",
       "<text text-anchor=\"middle\" x=\"82\" y=\"-477.79\" font-family=\"Times,serif\" font-size=\"14.00\">9</text>\n",
       "</g>\n",
       "<!-- 10&#45;&gt;9 -->\n",
       "<g id=\"edge10\" class=\"edge\">\n",
       "<title>10&#45;&gt;9</title>\n",
       "<path fill=\"none\" stroke=\"black\" d=\"M57.42,-551.42C61.98,-538.63 67.86,-522.13 72.73,-508.49\"/>\n",
       "<polygon fill=\"black\" stroke=\"black\" points=\"76.15,-509.31 76.21,-498.71 69.56,-506.96 76.15,-509.31\"/>\n",
       "<text text-anchor=\"middle\" x=\"85\" y=\"-521.29\" font-family=\"Times,serif\" font-size=\"14.00\">m16</text>\n",
       "</g>\n",
       "<!-- 3 -->\n",
       "<g id=\"node7\" class=\"node\">\n",
       "<title>3</title>\n",
       "<ellipse fill=\"none\" stroke=\"black\" cx=\"109\" cy=\"-573.24\" rx=\"18\" ry=\"18\"/>\n",
       "<text text-anchor=\"middle\" x=\"109\" y=\"-569.54\" font-family=\"Times,serif\" font-size=\"14.00\">3</text>\n",
       "</g>\n",
       "<!-- 13 -->\n",
       "<g id=\"node8\" class=\"node\">\n",
       "<title>13</title>\n",
       "<ellipse fill=\"gray\" stroke=\"gray\" cx=\"79\" cy=\"-669.73\" rx=\"23\" ry=\"23\"/>\n",
       "<text text-anchor=\"middle\" x=\"79\" y=\"-666.03\" font-family=\"Times,serif\" font-size=\"14.00\">13</text>\n",
       "</g>\n",
       "<!-- 13&#45;&gt;10 -->\n",
       "<g id=\"edge11\" class=\"edge\">\n",
       "<title>13&#45;&gt;10</title>\n",
       "<path fill=\"none\" stroke=\"black\" d=\"M72.56,-647.76C68.7,-635.16 63.71,-618.9 59.4,-604.88\"/>\n",
       "<polygon fill=\"black\" stroke=\"black\" points=\"62.7,-603.68 56.42,-595.15 56.01,-605.74 62.7,-603.68\"/>\n",
       "</g>\n",
       "<!-- 13&#45;&gt;3 -->\n",
       "<g id=\"edge4\" class=\"edge\">\n",
       "<title>13&#45;&gt;3</title>\n",
       "<path fill=\"none\" stroke=\"black\" d=\"M85.66,-647.76C90.09,-633.8 95.95,-615.35 100.68,-600.43\"/>\n",
       "<polygon fill=\"black\" stroke=\"black\" points=\"104.07,-601.35 103.76,-590.76 97.39,-599.23 104.07,-601.35\"/>\n",
       "<text text-anchor=\"middle\" x=\"116.5\" y=\"-617.78\" font-family=\"Times,serif\" font-size=\"14.00\">m7, 9</text>\n",
       "</g>\n",
       "<!-- 5 -->\n",
       "<g id=\"node10\" class=\"node\">\n",
       "<title>5</title>\n",
       "<ellipse fill=\"none\" stroke=\"black\" cx=\"22\" cy=\"-196.75\" rx=\"18\" ry=\"18\"/>\n",
       "<text text-anchor=\"middle\" x=\"22\" y=\"-193.05\" font-family=\"Times,serif\" font-size=\"14.00\">5</text>\n",
       "</g>\n",
       "<!-- 12&#45;&gt;5 -->\n",
       "<g id=\"edge6\" class=\"edge\">\n",
       "<title>12&#45;&gt;5</title>\n",
       "<path fill=\"none\" stroke=\"black\" d=\"M58.51,-279.84C43.69,-269.7 25.03,-256.43 23,-252.5 18.62,-244.03 17.52,-233.8 17.8,-224.48\"/>\n",
       "<polygon fill=\"black\" stroke=\"black\" points=\"21.29,-224.74 18.6,-214.49 14.31,-224.18 21.29,-224.74\"/>\n",
       "<text text-anchor=\"middle\" x=\"70.5\" y=\"-241.3\" font-family=\"Times,serif\" font-size=\"14.00\">m1, 2, 18, 19</text>\n",
       "</g>\n",
       "<!-- 14 -->\n",
       "<g id=\"node13\" class=\"node\">\n",
       "<title>14</title>\n",
       "<ellipse fill=\"gray\" stroke=\"gray\" cx=\"132\" cy=\"-196.75\" rx=\"23\" ry=\"23\"/>\n",
       "<text text-anchor=\"middle\" x=\"132\" y=\"-193.05\" font-family=\"Times,serif\" font-size=\"14.00\">14</text>\n",
       "</g>\n",
       "<!-- 12&#45;&gt;14 -->\n",
       "<g id=\"edge15\" class=\"edge\">\n",
       "<title>12&#45;&gt;14</title>\n",
       "<path fill=\"none\" stroke=\"black\" d=\"M94.78,-278.87C102.96,-271.85 112.13,-262.62 118,-252.5 122.04,-245.53 124.93,-237.41 126.99,-229.59\"/>\n",
       "<polygon fill=\"black\" stroke=\"black\" points=\"130.45,-230.12 129.25,-219.59 123.63,-228.58 130.45,-230.12\"/>\n",
       "</g>\n",
       "<!-- 6 -->\n",
       "<g id=\"node12\" class=\"node\">\n",
       "<title>6</title>\n",
       "<ellipse fill=\"none\" stroke=\"black\" cx=\"153\" cy=\"-105\" rx=\"18\" ry=\"18\"/>\n",
       "<text text-anchor=\"middle\" x=\"153\" y=\"-101.3\" font-family=\"Times,serif\" font-size=\"14.00\">6</text>\n",
       "</g>\n",
       "<!-- 14&#45;&gt;8 -->\n",
       "<g id=\"edge9\" class=\"edge\">\n",
       "<title>14&#45;&gt;8</title>\n",
       "<path fill=\"none\" stroke=\"black\" d=\"M124.35,-174.93C119.64,-162.14 113.58,-145.65 108.56,-132\"/>\n",
       "<polygon fill=\"black\" stroke=\"black\" points=\"111.7,-130.4 104.97,-122.23 105.13,-132.82 111.7,-130.4\"/>\n",
       "</g>\n",
       "<!-- 14&#45;&gt;6 -->\n",
       "<g id=\"edge7\" class=\"edge\">\n",
       "<title>14&#45;&gt;6</title>\n",
       "<path fill=\"none\" stroke=\"black\" d=\"M136.98,-174.48C139.91,-161.96 143.64,-146.02 146.76,-132.67\"/>\n",
       "<polygon fill=\"black\" stroke=\"black\" points=\"150.24,-133.17 149.11,-122.63 143.42,-131.57 150.24,-133.17\"/>\n",
       "<text text-anchor=\"middle\" x=\"155.5\" y=\"-144.8\" font-family=\"Times,serif\" font-size=\"14.00\">m4</text>\n",
       "</g>\n",
       "<!-- 7 -->\n",
       "<g id=\"node14\" class=\"node\">\n",
       "<title>7</title>\n",
       "<ellipse fill=\"none\" stroke=\"black\" cx=\"105\" cy=\"-389.74\" rx=\"18\" ry=\"18\"/>\n",
       "<text text-anchor=\"middle\" x=\"105\" y=\"-386.04\" font-family=\"Times,serif\" font-size=\"14.00\">7</text>\n",
       "</g>\n",
       "<!-- 9&#45;&gt;11 -->\n",
       "<g id=\"edge12\" class=\"edge\">\n",
       "<title>9&#45;&gt;11</title>\n",
       "<path fill=\"none\" stroke=\"black\" d=\"M75.56,-464.44C70.7,-452.32 63.88,-435.32 58.02,-420.71\"/>\n",
       "<polygon fill=\"black\" stroke=\"black\" points=\"61.12,-419.03 54.15,-411.06 54.62,-421.64 61.12,-419.03\"/>\n",
       "</g>\n",
       "<!-- 9&#45;&gt;7 -->\n",
       "<g id=\"edge8\" class=\"edge\">\n",
       "<title>9&#45;&gt;7</title>\n",
       "<path fill=\"none\" stroke=\"black\" d=\"M86.33,-463.61C89.69,-450.49 94.41,-432.05 98.27,-417.01\"/>\n",
       "<polygon fill=\"black\" stroke=\"black\" points=\"101.68,-417.8 100.77,-407.24 94.9,-416.06 101.68,-417.8\"/>\n",
       "<text text-anchor=\"middle\" x=\"165\" y=\"-434.29\" font-family=\"Times,serif\" font-size=\"14.00\">m10, 11, 12, 14, 17</text>\n",
       "</g>\n",
       "<!-- dummy -->\n",
       "<g id=\"node16\" class=\"node\">\n",
       "<title>dummy</title>\n",
       "<ellipse fill=\"black\" stroke=\"black\" cx=\"79\" cy=\"-745.28\" rx=\"1.8\" ry=\"1.8\"/>\n",
       "</g>\n",
       "<!-- dummy&#45;&gt;13 -->\n",
       "<g id=\"edge14\" class=\"edge\">\n",
       "<title>dummy&#45;&gt;13</title>\n",
       "<path fill=\"none\" stroke=\"black\" d=\"M79,-743.45C79,-739.31 79,-720.3 79,-702.76\"/>\n",
       "<polygon fill=\"black\" stroke=\"black\" points=\"82.5,-702.72 79,-692.72 75.5,-702.72 82.5,-702.72\"/>\n",
       "<text text-anchor=\"middle\" x=\"90.5\" y=\"-714.28\" font-family=\"Times,serif\" font-size=\"14.00\">m6</text>\n",
       "</g>\n",
       "</g>\n",
       "</svg>\n"
      ],
      "text/plain": [
       "<graphviz.graphs.Digraph at 0x7f0a1135bd00>"
      ]
     },
     "execution_count": 21,
     "metadata": {},
     "output_type": "execute_result"
    }
   ],
   "source": [
    "ct.to_graphviz()"
   ]
  },
  {
   "cell_type": "code",
   "execution_count": 54,
   "id": "bbc708ec-2231-4c72-b3c4-ff2cefb7df9a",
   "metadata": {},
   "outputs": [
    {
     "data": {
      "text/plain": [
       "-4249.528260398164"
      ]
     },
     "execution_count": 54,
     "metadata": {},
     "output_type": "execute_result"
    }
   ],
   "source": [
    "ct.likelihood"
   ]
  },
  {
   "cell_type": "raw",
   "id": "5481d409-eb98-43b7-bc9d-dadbb49fd546",
   "metadata": {},
   "source": [
    "mt = MutationTree(ct)\n",
    "mt.fit(likelihoods1, likelihoods2)"
   ]
  },
  {
   "cell_type": "raw",
   "id": "af7704b2-555f-4937-840a-bdbc92306531",
   "metadata": {},
   "source": [
    "history = mt.hill_climb()\n",
    "print(history)"
   ]
  },
  {
   "cell_type": "markdown",
   "id": "3f95af0a-1d47-4c21-940c-4a35003dee55",
   "metadata": {},
   "source": [
    "### Tree Test"
   ]
  },
  {
   "cell_type": "raw",
   "id": "f7887523-39ea-4c3b-bec9-d3aa10179b8c",
   "metadata": {},
   "source": [
    "df_corr = pd.read_csv('./corr_posteriors.csv', index_col = (0,1))\n",
    "corr_posteriors = df_corr['correlation posterior'].to_numpy()"
   ]
  },
  {
   "cell_type": "raw",
   "id": "65fe8497-b29c-43d5-ae66-1d223e60cee8",
   "metadata": {},
   "source": [
    "df_corr"
   ]
  },
  {
   "cell_type": "raw",
   "id": "858eb813-52f3-4962-8956-95e7ecfbb75e",
   "metadata": {},
   "source": [
    "chromosome = 'chr12'\n",
    "plt.figure(figsize = (24,4))\n",
    "plt.plot(corr_posteriors[df_corr.index.get_level_values(0) == chromosome])\n",
    "plt.show()"
   ]
  },
  {
   "cell_type": "code",
   "execution_count": 8,
   "id": "5138f04a-4f2c-4f95-8d2d-b9aed43ca1d4",
   "metadata": {},
   "outputs": [],
   "source": [
    "from tree import *"
   ]
  },
  {
   "cell_type": "code",
   "execution_count": 14,
   "id": "819b101c-13dc-4f2a-9d43-2a333b315e84",
   "metadata": {},
   "outputs": [
    {
     "data": {
      "image/svg+xml": [
       "<?xml version=\"1.0\" encoding=\"UTF-8\" standalone=\"no\"?>\n",
       "<!DOCTYPE svg PUBLIC \"-//W3C//DTD SVG 1.1//EN\"\n",
       " \"http://www.w3.org/Graphics/SVG/1.1/DTD/svg11.dtd\">\n",
       "<!-- Generated by graphviz version 2.48.0 (0)\n",
       " -->\n",
       "<!-- Pages: 1 -->\n",
       "<svg width=\"206pt\" height=\"300pt\"\n",
       " viewBox=\"0.00 0.00 206.00 299.60\" xmlns=\"http://www.w3.org/2000/svg\" xmlns:xlink=\"http://www.w3.org/1999/xlink\">\n",
       "<g id=\"graph0\" class=\"graph\" transform=\"scale(1 1) rotate(0) translate(4 295.6)\">\n",
       "<polygon fill=\"white\" stroke=\"transparent\" points=\"-4,4 -4,-295.6 202,-295.6 202,4 -4,4\"/>\n",
       "<!-- 0 -->\n",
       "<g id=\"node1\" class=\"node\">\n",
       "<title>0</title>\n",
       "<ellipse fill=\"none\" stroke=\"black\" cx=\"18\" cy=\"-90\" rx=\"18\" ry=\"18\"/>\n",
       "<text text-anchor=\"middle\" x=\"18\" y=\"-86.3\" font-family=\"Times,serif\" font-size=\"14.00\">0</text>\n",
       "</g>\n",
       "<!-- 7 -->\n",
       "<g id=\"node2\" class=\"node\">\n",
       "<title>7</title>\n",
       "<ellipse fill=\"gray\" stroke=\"gray\" cx=\"72\" cy=\"-162\" rx=\"18\" ry=\"18\"/>\n",
       "<text text-anchor=\"middle\" x=\"72\" y=\"-158.3\" font-family=\"Times,serif\" font-size=\"14.00\">7</text>\n",
       "</g>\n",
       "<!-- 7&#45;&gt;0 -->\n",
       "<g id=\"edge1\" class=\"edge\">\n",
       "<title>7&#45;&gt;0</title>\n",
       "<path fill=\"none\" stroke=\"black\" d=\"M61.33,-147.17C53.79,-137.39 43.52,-124.08 34.87,-112.87\"/>\n",
       "<polygon fill=\"black\" stroke=\"black\" points=\"37.53,-110.58 28.65,-104.8 31.98,-114.86 37.53,-110.58\"/>\n",
       "</g>\n",
       "<!-- 6 -->\n",
       "<g id=\"node6\" class=\"node\">\n",
       "<title>6</title>\n",
       "<ellipse fill=\"gray\" stroke=\"gray\" cx=\"72\" cy=\"-90\" rx=\"18\" ry=\"18\"/>\n",
       "<text text-anchor=\"middle\" x=\"72\" y=\"-86.3\" font-family=\"Times,serif\" font-size=\"14.00\">6</text>\n",
       "</g>\n",
       "<!-- 7&#45;&gt;6 -->\n",
       "<g id=\"edge7\" class=\"edge\">\n",
       "<title>7&#45;&gt;6</title>\n",
       "<path fill=\"none\" stroke=\"black\" d=\"M72,-143.7C72,-135.98 72,-126.71 72,-118.11\"/>\n",
       "<polygon fill=\"black\" stroke=\"black\" points=\"75.5,-118.1 72,-108.1 68.5,-118.1 75.5,-118.1\"/>\n",
       "</g>\n",
       "<!-- 1 -->\n",
       "<g id=\"node3\" class=\"node\">\n",
       "<title>1</title>\n",
       "<ellipse fill=\"none\" stroke=\"black\" cx=\"126\" cy=\"-90\" rx=\"18\" ry=\"18\"/>\n",
       "<text text-anchor=\"middle\" x=\"126\" y=\"-86.3\" font-family=\"Times,serif\" font-size=\"14.00\">1</text>\n",
       "</g>\n",
       "<!-- 5 -->\n",
       "<g id=\"node4\" class=\"node\">\n",
       "<title>5</title>\n",
       "<ellipse fill=\"gray\" stroke=\"gray\" cx=\"126\" cy=\"-162\" rx=\"18\" ry=\"18\"/>\n",
       "<text text-anchor=\"middle\" x=\"126\" y=\"-158.3\" font-family=\"Times,serif\" font-size=\"14.00\">5</text>\n",
       "</g>\n",
       "<!-- 5&#45;&gt;1 -->\n",
       "<g id=\"edge2\" class=\"edge\">\n",
       "<title>5&#45;&gt;1</title>\n",
       "<path fill=\"none\" stroke=\"black\" d=\"M126,-143.7C126,-135.98 126,-126.71 126,-118.11\"/>\n",
       "<polygon fill=\"black\" stroke=\"black\" points=\"129.5,-118.1 126,-108.1 122.5,-118.1 129.5,-118.1\"/>\n",
       "</g>\n",
       "<!-- 4 -->\n",
       "<g id=\"node8\" class=\"node\">\n",
       "<title>4</title>\n",
       "<ellipse fill=\"none\" stroke=\"black\" cx=\"180\" cy=\"-90\" rx=\"18\" ry=\"18\"/>\n",
       "<text text-anchor=\"middle\" x=\"180\" y=\"-86.3\" font-family=\"Times,serif\" font-size=\"14.00\">4</text>\n",
       "</g>\n",
       "<!-- 5&#45;&gt;4 -->\n",
       "<g id=\"edge5\" class=\"edge\">\n",
       "<title>5&#45;&gt;4</title>\n",
       "<path fill=\"none\" stroke=\"black\" d=\"M136.67,-147.17C144.21,-137.39 154.48,-124.08 163.13,-112.87\"/>\n",
       "<polygon fill=\"black\" stroke=\"black\" points=\"166.02,-114.86 169.35,-104.8 160.47,-110.58 166.02,-114.86\"/>\n",
       "</g>\n",
       "<!-- 2 -->\n",
       "<g id=\"node5\" class=\"node\">\n",
       "<title>2</title>\n",
       "<ellipse fill=\"none\" stroke=\"black\" cx=\"45\" cy=\"-18\" rx=\"18\" ry=\"18\"/>\n",
       "<text text-anchor=\"middle\" x=\"45\" y=\"-14.3\" font-family=\"Times,serif\" font-size=\"14.00\">2</text>\n",
       "</g>\n",
       "<!-- 6&#45;&gt;2 -->\n",
       "<g id=\"edge3\" class=\"edge\">\n",
       "<title>6&#45;&gt;2</title>\n",
       "<path fill=\"none\" stroke=\"black\" d=\"M65.74,-72.76C62.5,-64.37 58.47,-53.93 54.83,-44.5\"/>\n",
       "<polygon fill=\"black\" stroke=\"black\" points=\"58.09,-43.22 51.23,-35.15 51.56,-45.74 58.09,-43.22\"/>\n",
       "</g>\n",
       "<!-- 3 -->\n",
       "<g id=\"node7\" class=\"node\">\n",
       "<title>3</title>\n",
       "<ellipse fill=\"none\" stroke=\"black\" cx=\"99\" cy=\"-18\" rx=\"18\" ry=\"18\"/>\n",
       "<text text-anchor=\"middle\" x=\"99\" y=\"-14.3\" font-family=\"Times,serif\" font-size=\"14.00\">3</text>\n",
       "</g>\n",
       "<!-- 6&#45;&gt;3 -->\n",
       "<g id=\"edge4\" class=\"edge\">\n",
       "<title>6&#45;&gt;3</title>\n",
       "<path fill=\"none\" stroke=\"black\" d=\"M78.26,-72.76C81.5,-64.37 85.53,-53.93 89.17,-44.5\"/>\n",
       "<polygon fill=\"black\" stroke=\"black\" points=\"92.44,-45.74 92.77,-35.15 85.91,-43.22 92.44,-45.74\"/>\n",
       "</g>\n",
       "<!-- 8 -->\n",
       "<g id=\"node9\" class=\"node\">\n",
       "<title>8</title>\n",
       "<ellipse fill=\"gray\" stroke=\"gray\" cx=\"99\" cy=\"-234\" rx=\"18\" ry=\"18\"/>\n",
       "<text text-anchor=\"middle\" x=\"99\" y=\"-230.3\" font-family=\"Times,serif\" font-size=\"14.00\">8</text>\n",
       "</g>\n",
       "<!-- 8&#45;&gt;7 -->\n",
       "<g id=\"edge8\" class=\"edge\">\n",
       "<title>8&#45;&gt;7</title>\n",
       "<path fill=\"none\" stroke=\"black\" d=\"M92.74,-216.76C89.5,-208.37 85.47,-197.93 81.83,-188.5\"/>\n",
       "<polygon fill=\"black\" stroke=\"black\" points=\"85.09,-187.22 78.23,-179.15 78.56,-189.74 85.09,-187.22\"/>\n",
       "</g>\n",
       "<!-- 8&#45;&gt;5 -->\n",
       "<g id=\"edge6\" class=\"edge\">\n",
       "<title>8&#45;&gt;5</title>\n",
       "<path fill=\"none\" stroke=\"black\" d=\"M105.26,-216.76C108.5,-208.37 112.53,-197.93 116.17,-188.5\"/>\n",
       "<polygon fill=\"black\" stroke=\"black\" points=\"119.44,-189.74 119.77,-179.15 112.91,-187.22 119.44,-189.74\"/>\n",
       "</g>\n",
       "<!-- dummy -->\n",
       "<g id=\"node10\" class=\"node\">\n",
       "<title>dummy</title>\n",
       "<ellipse fill=\"black\" stroke=\"black\" cx=\"99\" cy=\"-289.8\" rx=\"1.8\" ry=\"1.8\"/>\n",
       "</g>\n",
       "<!-- dummy&#45;&gt;8 -->\n",
       "<g id=\"edge9\" class=\"edge\">\n",
       "<title>dummy&#45;&gt;8</title>\n",
       "<path fill=\"none\" stroke=\"black\" d=\"M99,-287.87C99,-284.64 99,-273.55 99,-262.35\"/>\n",
       "<polygon fill=\"black\" stroke=\"black\" points=\"102.5,-262.26 99,-252.26 95.5,-262.26 102.5,-262.26\"/>\n",
       "</g>\n",
       "</g>\n",
       "</svg>\n"
      ],
      "text/plain": [
       "<graphviz.graphs.Digraph at 0x7f26a29ae260>"
      ]
     },
     "execution_count": 14,
     "metadata": {},
     "output_type": "execute_result"
    }
   ],
   "source": [
    "ct = CellTree(5)\n",
    "ct.to_graphviz()"
   ]
  },
  {
   "cell_type": "code",
   "execution_count": 15,
   "id": "c9ba384a-7028-4f81-a5b9-d3507972effa",
   "metadata": {},
   "outputs": [
    {
     "name": "stdout",
     "output_type": "stream",
     "text": [
      "1\n",
      "4\n",
      "5\n",
      "0\n",
      "2\n",
      "3\n",
      "6\n",
      "7\n",
      "8\n"
     ]
    }
   ],
   "source": [
    "for node in ct.root.reverse_DFS: \n",
    "    print(node.ID)"
   ]
  },
  {
   "cell_type": "code",
   "execution_count": 14,
   "id": "0900420d-49e4-462b-92ec-2a061b3e2b23",
   "metadata": {},
   "outputs": [
    {
     "data": {
      "image/svg+xml": [
       "<?xml version=\"1.0\" encoding=\"UTF-8\" standalone=\"no\"?>\n",
       "<!DOCTYPE svg PUBLIC \"-//W3C//DTD SVG 1.1//EN\"\n",
       " \"http://www.w3.org/Graphics/SVG/1.1/DTD/svg11.dtd\">\n",
       "<!-- Generated by graphviz version 2.48.0 (0)\n",
       " -->\n",
       "<!-- Pages: 1 -->\n",
       "<svg width=\"125pt\" height=\"372pt\"\n",
       " viewBox=\"0.00 0.00 125.00 371.60\" xmlns=\"http://www.w3.org/2000/svg\" xmlns:xlink=\"http://www.w3.org/1999/xlink\">\n",
       "<g id=\"graph0\" class=\"graph\" transform=\"scale(1 1) rotate(0) translate(4 367.6)\">\n",
       "<polygon fill=\"white\" stroke=\"transparent\" points=\"-4,4 -4,-367.6 121,-367.6 121,4 -4,4\"/>\n",
       "<!-- 0 -->\n",
       "<g id=\"node1\" class=\"node\">\n",
       "<title>0</title>\n",
       "<ellipse fill=\"none\" stroke=\"black\" cx=\"18\" cy=\"-18\" rx=\"18\" ry=\"18\"/>\n",
       "<text text-anchor=\"middle\" x=\"18\" y=\"-14.3\" font-family=\"Times,serif\" font-size=\"14.00\">0</text>\n",
       "</g>\n",
       "<!-- 7 -->\n",
       "<g id=\"node2\" class=\"node\">\n",
       "<title>7</title>\n",
       "<ellipse fill=\"gray\" stroke=\"gray\" cx=\"45\" cy=\"-90\" rx=\"18\" ry=\"18\"/>\n",
       "<text text-anchor=\"middle\" x=\"45\" y=\"-86.3\" font-family=\"Times,serif\" font-size=\"14.00\">7</text>\n",
       "</g>\n",
       "<!-- 7&#45;&gt;0 -->\n",
       "<g id=\"edge1\" class=\"edge\">\n",
       "<title>7&#45;&gt;0</title>\n",
       "<path fill=\"none\" stroke=\"black\" d=\"M38.74,-72.76C35.5,-64.37 31.47,-53.93 27.83,-44.5\"/>\n",
       "<polygon fill=\"black\" stroke=\"black\" points=\"31.09,-43.22 24.23,-35.15 24.56,-45.74 31.09,-43.22\"/>\n",
       "</g>\n",
       "<!-- 2 -->\n",
       "<g id=\"node5\" class=\"node\">\n",
       "<title>2</title>\n",
       "<ellipse fill=\"none\" stroke=\"black\" cx=\"72\" cy=\"-18\" rx=\"18\" ry=\"18\"/>\n",
       "<text text-anchor=\"middle\" x=\"72\" y=\"-14.3\" font-family=\"Times,serif\" font-size=\"14.00\">2</text>\n",
       "</g>\n",
       "<!-- 7&#45;&gt;2 -->\n",
       "<g id=\"edge3\" class=\"edge\">\n",
       "<title>7&#45;&gt;2</title>\n",
       "<path fill=\"none\" stroke=\"black\" d=\"M51.26,-72.76C54.5,-64.37 58.53,-53.93 62.17,-44.5\"/>\n",
       "<polygon fill=\"black\" stroke=\"black\" points=\"65.44,-45.74 65.77,-35.15 58.91,-43.22 65.44,-45.74\"/>\n",
       "</g>\n",
       "<!-- 1 -->\n",
       "<g id=\"node3\" class=\"node\">\n",
       "<title>1</title>\n",
       "<ellipse fill=\"none\" stroke=\"black\" cx=\"18\" cy=\"-162\" rx=\"18\" ry=\"18\"/>\n",
       "<text text-anchor=\"middle\" x=\"18\" y=\"-158.3\" font-family=\"Times,serif\" font-size=\"14.00\">1</text>\n",
       "</g>\n",
       "<!-- 6 -->\n",
       "<g id=\"node4\" class=\"node\">\n",
       "<title>6</title>\n",
       "<ellipse fill=\"gray\" stroke=\"gray\" cx=\"45\" cy=\"-234\" rx=\"18\" ry=\"18\"/>\n",
       "<text text-anchor=\"middle\" x=\"45\" y=\"-230.3\" font-family=\"Times,serif\" font-size=\"14.00\">6</text>\n",
       "</g>\n",
       "<!-- 6&#45;&gt;1 -->\n",
       "<g id=\"edge2\" class=\"edge\">\n",
       "<title>6&#45;&gt;1</title>\n",
       "<path fill=\"none\" stroke=\"black\" d=\"M38.74,-216.76C35.5,-208.37 31.47,-197.93 27.83,-188.5\"/>\n",
       "<polygon fill=\"black\" stroke=\"black\" points=\"31.09,-187.22 24.23,-179.15 24.56,-189.74 31.09,-187.22\"/>\n",
       "</g>\n",
       "<!-- 8 -->\n",
       "<g id=\"node7\" class=\"node\">\n",
       "<title>8</title>\n",
       "<ellipse fill=\"gray\" stroke=\"gray\" cx=\"72\" cy=\"-162\" rx=\"18\" ry=\"18\"/>\n",
       "<text text-anchor=\"middle\" x=\"72\" y=\"-158.3\" font-family=\"Times,serif\" font-size=\"14.00\">8</text>\n",
       "</g>\n",
       "<!-- 6&#45;&gt;8 -->\n",
       "<g id=\"edge9\" class=\"edge\">\n",
       "<title>6&#45;&gt;8</title>\n",
       "<path fill=\"none\" stroke=\"black\" d=\"M51.26,-216.76C54.5,-208.37 58.53,-197.93 62.17,-188.5\"/>\n",
       "<polygon fill=\"black\" stroke=\"black\" points=\"65.44,-189.74 65.77,-179.15 58.91,-187.22 65.44,-189.74\"/>\n",
       "</g>\n",
       "<!-- 3 -->\n",
       "<g id=\"node6\" class=\"node\">\n",
       "<title>3</title>\n",
       "<ellipse fill=\"none\" stroke=\"black\" cx=\"99\" cy=\"-90\" rx=\"18\" ry=\"18\"/>\n",
       "<text text-anchor=\"middle\" x=\"99\" y=\"-86.3\" font-family=\"Times,serif\" font-size=\"14.00\">3</text>\n",
       "</g>\n",
       "<!-- 8&#45;&gt;7 -->\n",
       "<g id=\"edge8\" class=\"edge\">\n",
       "<title>8&#45;&gt;7</title>\n",
       "<path fill=\"none\" stroke=\"black\" d=\"M65.74,-144.76C62.5,-136.37 58.47,-125.93 54.83,-116.5\"/>\n",
       "<polygon fill=\"black\" stroke=\"black\" points=\"58.09,-115.22 51.23,-107.15 51.56,-117.74 58.09,-115.22\"/>\n",
       "</g>\n",
       "<!-- 8&#45;&gt;3 -->\n",
       "<g id=\"edge4\" class=\"edge\">\n",
       "<title>8&#45;&gt;3</title>\n",
       "<path fill=\"none\" stroke=\"black\" d=\"M78.26,-144.76C81.5,-136.37 85.53,-125.93 89.17,-116.5\"/>\n",
       "<polygon fill=\"black\" stroke=\"black\" points=\"92.44,-117.74 92.77,-107.15 85.91,-115.22 92.44,-117.74\"/>\n",
       "</g>\n",
       "<!-- 4 -->\n",
       "<g id=\"node8\" class=\"node\">\n",
       "<title>4</title>\n",
       "<ellipse fill=\"none\" stroke=\"black\" cx=\"99\" cy=\"-234\" rx=\"18\" ry=\"18\"/>\n",
       "<text text-anchor=\"middle\" x=\"99\" y=\"-230.3\" font-family=\"Times,serif\" font-size=\"14.00\">4</text>\n",
       "</g>\n",
       "<!-- 5 -->\n",
       "<g id=\"node9\" class=\"node\">\n",
       "<title>5</title>\n",
       "<ellipse fill=\"gray\" stroke=\"gray\" cx=\"72\" cy=\"-306\" rx=\"18\" ry=\"18\"/>\n",
       "<text text-anchor=\"middle\" x=\"72\" y=\"-302.3\" font-family=\"Times,serif\" font-size=\"14.00\">5</text>\n",
       "</g>\n",
       "<!-- 5&#45;&gt;6 -->\n",
       "<g id=\"edge7\" class=\"edge\">\n",
       "<title>5&#45;&gt;6</title>\n",
       "<path fill=\"none\" stroke=\"black\" d=\"M65.74,-288.76C62.5,-280.37 58.47,-269.93 54.83,-260.5\"/>\n",
       "<polygon fill=\"black\" stroke=\"black\" points=\"58.09,-259.22 51.23,-251.15 51.56,-261.74 58.09,-259.22\"/>\n",
       "</g>\n",
       "<!-- 5&#45;&gt;4 -->\n",
       "<g id=\"edge5\" class=\"edge\">\n",
       "<title>5&#45;&gt;4</title>\n",
       "<path fill=\"none\" stroke=\"black\" d=\"M78.26,-288.76C81.5,-280.37 85.53,-269.93 89.17,-260.5\"/>\n",
       "<polygon fill=\"black\" stroke=\"black\" points=\"92.44,-261.74 92.77,-251.15 85.91,-259.22 92.44,-261.74\"/>\n",
       "</g>\n",
       "<!-- dummy -->\n",
       "<g id=\"node10\" class=\"node\">\n",
       "<title>dummy</title>\n",
       "<ellipse fill=\"black\" stroke=\"black\" cx=\"72\" cy=\"-361.8\" rx=\"1.8\" ry=\"1.8\"/>\n",
       "</g>\n",
       "<!-- dummy&#45;&gt;5 -->\n",
       "<g id=\"edge6\" class=\"edge\">\n",
       "<title>dummy&#45;&gt;5</title>\n",
       "<path fill=\"none\" stroke=\"black\" d=\"M72,-359.87C72,-356.64 72,-345.55 72,-334.35\"/>\n",
       "<polygon fill=\"black\" stroke=\"black\" points=\"75.5,-334.26 72,-324.26 68.5,-334.26 75.5,-334.26\"/>\n",
       "</g>\n",
       "</g>\n",
       "</svg>\n"
      ],
      "text/plain": [
       "<graphviz.graphs.Digraph at 0x7fd434b0f100>"
      ]
     },
     "execution_count": 14,
     "metadata": {},
     "output_type": "execute_result"
    }
   ],
   "source": [
    "ct.subtree_swap(ct.nodes[1], ct.nodes[4])\n",
    "ct.to_graphviz()"
   ]
  },
  {
   "cell_type": "code",
   "execution_count": 15,
   "id": "49e8aa17-5771-4405-b35a-ec64a42b4ce4",
   "metadata": {},
   "outputs": [
    {
     "data": {
      "image/svg+xml": [
       "<?xml version=\"1.0\" encoding=\"UTF-8\" standalone=\"no\"?>\n",
       "<!DOCTYPE svg PUBLIC \"-//W3C//DTD SVG 1.1//EN\"\n",
       " \"http://www.w3.org/Graphics/SVG/1.1/DTD/svg11.dtd\">\n",
       "<!-- Generated by graphviz version 2.48.0 (0)\n",
       " -->\n",
       "<!-- Pages: 1 -->\n",
       "<svg width=\"152pt\" height=\"372pt\"\n",
       " viewBox=\"0.00 0.00 152.00 371.60\" xmlns=\"http://www.w3.org/2000/svg\" xmlns:xlink=\"http://www.w3.org/1999/xlink\">\n",
       "<g id=\"graph0\" class=\"graph\" transform=\"scale(1 1) rotate(0) translate(4 367.6)\">\n",
       "<polygon fill=\"white\" stroke=\"transparent\" points=\"-4,4 -4,-367.6 148,-367.6 148,4 -4,4\"/>\n",
       "<!-- 0 -->\n",
       "<g id=\"node1\" class=\"node\">\n",
       "<title>0</title>\n",
       "<ellipse fill=\"none\" stroke=\"black\" cx=\"18\" cy=\"-18\" rx=\"18\" ry=\"18\"/>\n",
       "<text text-anchor=\"middle\" x=\"18\" y=\"-14.3\" font-family=\"Times,serif\" font-size=\"14.00\">0</text>\n",
       "</g>\n",
       "<!-- 7 -->\n",
       "<g id=\"node2\" class=\"node\">\n",
       "<title>7</title>\n",
       "<ellipse fill=\"gray\" stroke=\"gray\" cx=\"45\" cy=\"-90\" rx=\"18\" ry=\"18\"/>\n",
       "<text text-anchor=\"middle\" x=\"45\" y=\"-86.3\" font-family=\"Times,serif\" font-size=\"14.00\">7</text>\n",
       "</g>\n",
       "<!-- 7&#45;&gt;0 -->\n",
       "<g id=\"edge1\" class=\"edge\">\n",
       "<title>7&#45;&gt;0</title>\n",
       "<path fill=\"none\" stroke=\"black\" d=\"M38.74,-72.76C35.5,-64.37 31.47,-53.93 27.83,-44.5\"/>\n",
       "<polygon fill=\"black\" stroke=\"black\" points=\"31.09,-43.22 24.23,-35.15 24.56,-45.74 31.09,-43.22\"/>\n",
       "</g>\n",
       "<!-- 2 -->\n",
       "<g id=\"node5\" class=\"node\">\n",
       "<title>2</title>\n",
       "<ellipse fill=\"none\" stroke=\"black\" cx=\"72\" cy=\"-18\" rx=\"18\" ry=\"18\"/>\n",
       "<text text-anchor=\"middle\" x=\"72\" y=\"-14.3\" font-family=\"Times,serif\" font-size=\"14.00\">2</text>\n",
       "</g>\n",
       "<!-- 7&#45;&gt;2 -->\n",
       "<g id=\"edge3\" class=\"edge\">\n",
       "<title>7&#45;&gt;2</title>\n",
       "<path fill=\"none\" stroke=\"black\" d=\"M51.26,-72.76C54.5,-64.37 58.53,-53.93 62.17,-44.5\"/>\n",
       "<polygon fill=\"black\" stroke=\"black\" points=\"65.44,-45.74 65.77,-35.15 58.91,-43.22 65.44,-45.74\"/>\n",
       "</g>\n",
       "<!-- 1 -->\n",
       "<g id=\"node3\" class=\"node\">\n",
       "<title>1</title>\n",
       "<ellipse fill=\"none\" stroke=\"black\" cx=\"45\" cy=\"-234\" rx=\"18\" ry=\"18\"/>\n",
       "<text text-anchor=\"middle\" x=\"45\" y=\"-230.3\" font-family=\"Times,serif\" font-size=\"14.00\">1</text>\n",
       "</g>\n",
       "<!-- 6 -->\n",
       "<g id=\"node4\" class=\"node\">\n",
       "<title>6</title>\n",
       "<ellipse fill=\"gray\" stroke=\"gray\" cx=\"72\" cy=\"-306\" rx=\"18\" ry=\"18\"/>\n",
       "<text text-anchor=\"middle\" x=\"72\" y=\"-302.3\" font-family=\"Times,serif\" font-size=\"14.00\">6</text>\n",
       "</g>\n",
       "<!-- 6&#45;&gt;1 -->\n",
       "<g id=\"edge2\" class=\"edge\">\n",
       "<title>6&#45;&gt;1</title>\n",
       "<path fill=\"none\" stroke=\"black\" d=\"M65.74,-288.76C62.5,-280.37 58.47,-269.93 54.83,-260.5\"/>\n",
       "<polygon fill=\"black\" stroke=\"black\" points=\"58.09,-259.22 51.23,-251.15 51.56,-261.74 58.09,-259.22\"/>\n",
       "</g>\n",
       "<!-- 5 -->\n",
       "<g id=\"node9\" class=\"node\">\n",
       "<title>5</title>\n",
       "<ellipse fill=\"gray\" stroke=\"gray\" cx=\"99\" cy=\"-234\" rx=\"18\" ry=\"18\"/>\n",
       "<text text-anchor=\"middle\" x=\"99\" y=\"-230.3\" font-family=\"Times,serif\" font-size=\"14.00\">5</text>\n",
       "</g>\n",
       "<!-- 6&#45;&gt;5 -->\n",
       "<g id=\"edge6\" class=\"edge\">\n",
       "<title>6&#45;&gt;5</title>\n",
       "<path fill=\"none\" stroke=\"black\" d=\"M78.26,-288.76C81.5,-280.37 85.53,-269.93 89.17,-260.5\"/>\n",
       "<polygon fill=\"black\" stroke=\"black\" points=\"92.44,-261.74 92.77,-251.15 85.91,-259.22 92.44,-261.74\"/>\n",
       "</g>\n",
       "<!-- 3 -->\n",
       "<g id=\"node6\" class=\"node\">\n",
       "<title>3</title>\n",
       "<ellipse fill=\"none\" stroke=\"black\" cx=\"99\" cy=\"-90\" rx=\"18\" ry=\"18\"/>\n",
       "<text text-anchor=\"middle\" x=\"99\" y=\"-86.3\" font-family=\"Times,serif\" font-size=\"14.00\">3</text>\n",
       "</g>\n",
       "<!-- 8 -->\n",
       "<g id=\"node7\" class=\"node\">\n",
       "<title>8</title>\n",
       "<ellipse fill=\"gray\" stroke=\"gray\" cx=\"72\" cy=\"-162\" rx=\"18\" ry=\"18\"/>\n",
       "<text text-anchor=\"middle\" x=\"72\" y=\"-158.3\" font-family=\"Times,serif\" font-size=\"14.00\">8</text>\n",
       "</g>\n",
       "<!-- 8&#45;&gt;7 -->\n",
       "<g id=\"edge8\" class=\"edge\">\n",
       "<title>8&#45;&gt;7</title>\n",
       "<path fill=\"none\" stroke=\"black\" d=\"M65.74,-144.76C62.5,-136.37 58.47,-125.93 54.83,-116.5\"/>\n",
       "<polygon fill=\"black\" stroke=\"black\" points=\"58.09,-115.22 51.23,-107.15 51.56,-117.74 58.09,-115.22\"/>\n",
       "</g>\n",
       "<!-- 8&#45;&gt;3 -->\n",
       "<g id=\"edge4\" class=\"edge\">\n",
       "<title>8&#45;&gt;3</title>\n",
       "<path fill=\"none\" stroke=\"black\" d=\"M78.26,-144.76C81.5,-136.37 85.53,-125.93 89.17,-116.5\"/>\n",
       "<polygon fill=\"black\" stroke=\"black\" points=\"92.44,-117.74 92.77,-107.15 85.91,-115.22 92.44,-117.74\"/>\n",
       "</g>\n",
       "<!-- 4 -->\n",
       "<g id=\"node8\" class=\"node\">\n",
       "<title>4</title>\n",
       "<ellipse fill=\"none\" stroke=\"black\" cx=\"126\" cy=\"-162\" rx=\"18\" ry=\"18\"/>\n",
       "<text text-anchor=\"middle\" x=\"126\" y=\"-158.3\" font-family=\"Times,serif\" font-size=\"14.00\">4</text>\n",
       "</g>\n",
       "<!-- 5&#45;&gt;8 -->\n",
       "<g id=\"edge9\" class=\"edge\">\n",
       "<title>5&#45;&gt;8</title>\n",
       "<path fill=\"none\" stroke=\"black\" d=\"M92.74,-216.76C89.5,-208.37 85.47,-197.93 81.83,-188.5\"/>\n",
       "<polygon fill=\"black\" stroke=\"black\" points=\"85.09,-187.22 78.23,-179.15 78.56,-189.74 85.09,-187.22\"/>\n",
       "</g>\n",
       "<!-- 5&#45;&gt;4 -->\n",
       "<g id=\"edge5\" class=\"edge\">\n",
       "<title>5&#45;&gt;4</title>\n",
       "<path fill=\"none\" stroke=\"black\" d=\"M105.26,-216.76C108.5,-208.37 112.53,-197.93 116.17,-188.5\"/>\n",
       "<polygon fill=\"black\" stroke=\"black\" points=\"119.44,-189.74 119.77,-179.15 112.91,-187.22 119.44,-189.74\"/>\n",
       "</g>\n",
       "<!-- dummy -->\n",
       "<g id=\"node10\" class=\"node\">\n",
       "<title>dummy</title>\n",
       "<ellipse fill=\"black\" stroke=\"black\" cx=\"72\" cy=\"-361.8\" rx=\"1.8\" ry=\"1.8\"/>\n",
       "</g>\n",
       "<!-- dummy&#45;&gt;6 -->\n",
       "<g id=\"edge7\" class=\"edge\">\n",
       "<title>dummy&#45;&gt;6</title>\n",
       "<path fill=\"none\" stroke=\"black\" d=\"M72,-359.87C72,-356.64 72,-345.55 72,-334.35\"/>\n",
       "<polygon fill=\"black\" stroke=\"black\" points=\"75.5,-334.26 72,-324.26 68.5,-334.26 75.5,-334.26\"/>\n",
       "</g>\n",
       "</g>\n",
       "</svg>\n"
      ],
      "text/plain": [
       "<graphviz.graphs.Digraph at 0x7fd434b0f040>"
      ]
     },
     "execution_count": 15,
     "metadata": {},
     "output_type": "execute_result"
    }
   ],
   "source": [
    "ct.prune_insert(ct.nodes[4], ct.nodes[8])\n",
    "ct.to_graphviz()"
   ]
  },
  {
   "cell_type": "code",
   "execution_count": 4,
   "id": "5ecb3d7a-7841-4e34-96b3-19ed022e104e",
   "metadata": {},
   "outputs": [],
   "source": [
    "def infer_tree(likelihoods1, likelihoods2): \n",
    "    n_cells, n_mut = likelihoods1.shape\n",
    "    current_tree = CellTree(n_cells, n_mut)\n",
    "    proposed_tree = CellTree().copy(current_tree)"
   ]
  },
  {
   "cell_type": "code",
   "execution_count": 10,
   "id": "d6dfc1d9-5a2f-4e55-8383-739de854b49f",
   "metadata": {},
   "outputs": [],
   "source": [
    "mt = MutationTree(8)\n",
    "\n",
    "mt.nodes[1].assign_parent(self.nodes[0])\n",
    "mt.nodes[2].assign_parent(self.nodes[0])\n",
    "mt.nodes[3].assign_parent(self.nodes[0])\n",
    "mt.nodes[4].assign_parent(self.nodes[1])\n",
    "mt.nodes[5].assign_parent(self.nodes[2])\n",
    "mt.nodes[6].assign_parent(self.nodes[2])\n",
    "\n",
    "mt.nodes[1].mutations = [0,1]\n",
    "mt.nodes[2].mutations = [2]\n",
    "mt.nodes[3].mutations = [3]\n",
    "mt.nodes[4].mutations = [4]\n",
    "mt.nodes[5].mutations = [5]\n",
    "mt.nodes[6].mutations = [6]\n",
    "\n",
    "mt.attachments = np.array([1,1,0,5,5,5,3,2], dtype = int)"
   ]
  },
  {
   "cell_type": "code",
   "execution_count": 11,
   "id": "867366fc-d071-413e-bc73-55698d6d91ea",
   "metadata": {},
   "outputs": [
    {
     "data": {
      "image/svg+xml": [
       "<?xml version=\"1.0\" encoding=\"UTF-8\" standalone=\"no\"?>\n",
       "<!DOCTYPE svg PUBLIC \"-//W3C//DTD SVG 1.1//EN\"\n",
       " \"http://www.w3.org/Graphics/SVG/1.1/DTD/svg11.dtd\">\n",
       "<!-- Generated by graphviz version 2.48.0 (0)\n",
       " -->\n",
       "<!-- Pages: 1 -->\n",
       "<svg width=\"463pt\" height=\"325pt\"\n",
       " viewBox=\"0.00 0.00 463.01 325.28\" xmlns=\"http://www.w3.org/2000/svg\" xmlns:xlink=\"http://www.w3.org/1999/xlink\">\n",
       "<g id=\"graph0\" class=\"graph\" transform=\"scale(1 1) rotate(0) translate(4 321.28)\">\n",
       "<polygon fill=\"white\" stroke=\"transparent\" points=\"-4,4 -4,-321.28 459.01,-321.28 459.01,4 -4,4\"/>\n",
       "<!-- 0 -->\n",
       "<g id=\"node1\" class=\"node\">\n",
       "<title>0</title>\n",
       "<polygon fill=\"none\" stroke=\"black\" points=\"307.19,-164.84 253.19,-164.84 253.19,-128.84 307.19,-128.84 307.19,-164.84\"/>\n",
       "</g>\n",
       "<!-- 1 -->\n",
       "<g id=\"node2\" class=\"node\">\n",
       "<title>1</title>\n",
       "<polygon fill=\"none\" stroke=\"black\" points=\"392.98,-122.04 321.98,-122.04 321.98,-86.04 392.98,-86.04 392.98,-122.04\"/>\n",
       "<text text-anchor=\"middle\" x=\"357.48\" y=\"-100.34\" font-family=\"Times,serif\" font-size=\"14.00\">m0, m1</text>\n",
       "</g>\n",
       "<!-- 0&#45;&gt;1 -->\n",
       "<g id=\"edge1\" class=\"edge\">\n",
       "<title>0&#45;&gt;1</title>\n",
       "<path fill=\"none\" stroke=\"black\" d=\"M307.23,-131.87C310.06,-130.3 312.98,-128.68 315.92,-127.05\"/>\n",
       "<polygon fill=\"black\" stroke=\"black\" points=\"317.7,-130.07 324.75,-122.16 314.31,-123.95 317.7,-130.07\"/>\n",
       "</g>\n",
       "<!-- 2 -->\n",
       "<g id=\"node3\" class=\"node\">\n",
       "<title>2</title>\n",
       "<polygon fill=\"none\" stroke=\"black\" points=\"217.77,-172.85 163.77,-172.85 163.77,-136.85 217.77,-136.85 217.77,-172.85\"/>\n",
       "<text text-anchor=\"middle\" x=\"190.77\" y=\"-151.15\" font-family=\"Times,serif\" font-size=\"14.00\">m2</text>\n",
       "</g>\n",
       "<!-- 0&#45;&gt;2 -->\n",
       "<g id=\"edge2\" class=\"edge\">\n",
       "<title>0&#45;&gt;2</title>\n",
       "<path fill=\"none\" stroke=\"black\" d=\"M252.88,-149.28C245.08,-149.98 236.44,-150.76 228.15,-151.5\"/>\n",
       "<polygon fill=\"black\" stroke=\"black\" points=\"227.57,-148.04 217.92,-152.42 228.19,-155.01 227.57,-148.04\"/>\n",
       "</g>\n",
       "<!-- 3 -->\n",
       "<g id=\"node4\" class=\"node\">\n",
       "<title>3</title>\n",
       "<polygon fill=\"none\" stroke=\"black\" points=\"340.93,-244.04 286.93,-244.04 286.93,-208.04 340.93,-208.04 340.93,-244.04\"/>\n",
       "<text text-anchor=\"middle\" x=\"313.93\" y=\"-222.34\" font-family=\"Times,serif\" font-size=\"14.00\">m3</text>\n",
       "</g>\n",
       "<!-- 0&#45;&gt;3 -->\n",
       "<g id=\"edge3\" class=\"edge\">\n",
       "<title>0&#45;&gt;3</title>\n",
       "<path fill=\"none\" stroke=\"black\" d=\"M288.02,-165.21C292.23,-175.1 297.52,-187.51 302.22,-198.54\"/>\n",
       "<polygon fill=\"black\" stroke=\"black\" points=\"299.01,-199.94 306.15,-207.77 305.45,-197.2 299.01,-199.94\"/>\n",
       "</g>\n",
       "<!-- cell2 -->\n",
       "<g id=\"node10\" class=\"node\">\n",
       "<title>cell2</title>\n",
       "<text text-anchor=\"middle\" x=\"267.93\" y=\"-65.52\" font-family=\"Times,serif\" font-size=\"14.00\">2</text>\n",
       "</g>\n",
       "<!-- 0&#45;&gt;cell2 -->\n",
       "<g id=\"edge9\" class=\"edge\">\n",
       "<title>0&#45;&gt;cell2</title>\n",
       "<path fill=\"none\" stroke=\"black\" d=\"M277.35,-128.84C275.88,-119.5 274.04,-107.88 272.38,-97.39\"/>\n",
       "<polygon fill=\"black\" stroke=\"black\" points=\"275.82,-96.73 270.8,-87.4 268.91,-97.82 275.82,-96.73\"/>\n",
       "</g>\n",
       "<!-- 4 -->\n",
       "<g id=\"node5\" class=\"node\">\n",
       "<title>4</title>\n",
       "<polygon fill=\"none\" stroke=\"black\" points=\"454.24,-167.08 400.24,-167.08 400.24,-131.08 454.24,-131.08 454.24,-167.08\"/>\n",
       "<text text-anchor=\"middle\" x=\"427.24\" y=\"-145.38\" font-family=\"Times,serif\" font-size=\"14.00\">m4</text>\n",
       "</g>\n",
       "<!-- 1&#45;&gt;4 -->\n",
       "<g id=\"edge4\" class=\"edge\">\n",
       "<title>1&#45;&gt;4</title>\n",
       "<path fill=\"none\" stroke=\"black\" d=\"M385.45,-122.1C387.42,-123.37 389.42,-124.67 391.43,-125.96\"/>\n",
       "<polygon fill=\"black\" stroke=\"black\" points=\"389.87,-129.12 400.17,-131.6 393.67,-123.24 389.87,-129.12\"/>\n",
       "</g>\n",
       "<!-- cell0 -->\n",
       "<g id=\"node8\" class=\"node\">\n",
       "<title>cell0</title>\n",
       "<text text-anchor=\"middle\" x=\"428.01\" y=\"-64.12\" font-family=\"Times,serif\" font-size=\"14.00\">0</text>\n",
       "</g>\n",
       "<!-- 1&#45;&gt;cell0 -->\n",
       "<g id=\"edge7\" class=\"edge\">\n",
       "<title>1&#45;&gt;cell0</title>\n",
       "<path fill=\"none\" stroke=\"black\" d=\"M392.75,-85.93C392.83,-85.89 392.92,-85.84 393.01,-85.8\"/>\n",
       "<polygon fill=\"black\" stroke=\"black\" points=\"393.65,-89.4 400.94,-81.72 390.45,-83.17 393.65,-89.4\"/>\n",
       "</g>\n",
       "<!-- cell1 -->\n",
       "<g id=\"node9\" class=\"node\">\n",
       "<title>cell1</title>\n",
       "<text text-anchor=\"middle\" x=\"365.49\" y=\"-14.3\" font-family=\"Times,serif\" font-size=\"14.00\">1</text>\n",
       "</g>\n",
       "<!-- 1&#45;&gt;cell1 -->\n",
       "<g id=\"edge8\" class=\"edge\">\n",
       "<title>1&#45;&gt;cell1</title>\n",
       "<path fill=\"none\" stroke=\"black\" d=\"M359.18,-85.79C360.24,-74.38 361.63,-59.45 362.83,-46.51\"/>\n",
       "<polygon fill=\"black\" stroke=\"black\" points=\"366.35,-46.5 363.79,-36.22 359.38,-45.85 366.35,-46.5\"/>\n",
       "</g>\n",
       "<!-- 5 -->\n",
       "<g id=\"node6\" class=\"node\">\n",
       "<title>5</title>\n",
       "<polygon fill=\"none\" stroke=\"black\" points=\"131.49,-185.19 77.49,-185.19 77.49,-149.19 131.49,-149.19 131.49,-185.19\"/>\n",
       "<text text-anchor=\"middle\" x=\"104.49\" y=\"-163.49\" font-family=\"Times,serif\" font-size=\"14.00\">m5</text>\n",
       "</g>\n",
       "<!-- 2&#45;&gt;5 -->\n",
       "<g id=\"edge5\" class=\"edge\">\n",
       "<title>2&#45;&gt;5</title>\n",
       "<path fill=\"none\" stroke=\"black\" d=\"M163.47,-158.75C156.56,-159.74 149.02,-160.82 141.71,-161.87\"/>\n",
       "<polygon fill=\"black\" stroke=\"black\" points=\"141.02,-158.43 131.61,-163.31 142.01,-165.36 141.02,-158.43\"/>\n",
       "</g>\n",
       "<!-- 6 -->\n",
       "<g id=\"node7\" class=\"node\">\n",
       "<title>6</title>\n",
       "<polygon fill=\"none\" stroke=\"black\" points=\"192.25,-93.95 138.25,-93.95 138.25,-57.95 192.25,-57.95 192.25,-93.95\"/>\n",
       "<text text-anchor=\"middle\" x=\"165.25\" y=\"-72.25\" font-family=\"Times,serif\" font-size=\"14.00\">m6</text>\n",
       "</g>\n",
       "<!-- 2&#45;&gt;6 -->\n",
       "<g id=\"edge6\" class=\"edge\">\n",
       "<title>2&#45;&gt;6</title>\n",
       "<path fill=\"none\" stroke=\"black\" d=\"M184.85,-136.55C181.7,-126.79 177.75,-114.58 174.22,-103.68\"/>\n",
       "<polygon fill=\"black\" stroke=\"black\" points=\"177.55,-102.59 171.14,-94.15 170.88,-104.75 177.55,-102.59\"/>\n",
       "</g>\n",
       "<!-- cell7 -->\n",
       "<g id=\"node15\" class=\"node\">\n",
       "<title>cell7</title>\n",
       "<text text-anchor=\"middle\" x=\"189.46\" y=\"-231.75\" font-family=\"Times,serif\" font-size=\"14.00\">7</text>\n",
       "</g>\n",
       "<!-- 2&#45;&gt;cell7 -->\n",
       "<g id=\"edge14\" class=\"edge\">\n",
       "<title>2&#45;&gt;cell7</title>\n",
       "<path fill=\"none\" stroke=\"black\" d=\"M190.47,-173.14C190.31,-183.14 190.11,-195.74 189.93,-206.99\"/>\n",
       "<polygon fill=\"black\" stroke=\"black\" points=\"186.42,-207.18 189.76,-217.23 193.42,-207.29 186.42,-207.18\"/>\n",
       "</g>\n",
       "<!-- cell6 -->\n",
       "<g id=\"node14\" class=\"node\">\n",
       "<title>cell6</title>\n",
       "<text text-anchor=\"middle\" x=\"347.67\" y=\"-295.58\" font-family=\"Times,serif\" font-size=\"14.00\">6</text>\n",
       "</g>\n",
       "<!-- 3&#45;&gt;cell6 -->\n",
       "<g id=\"edge13\" class=\"edge\">\n",
       "<title>3&#45;&gt;cell6</title>\n",
       "<path fill=\"none\" stroke=\"black\" d=\"M322.27,-244.15C326.13,-252.51 330.78,-262.62 335.05,-271.89\"/>\n",
       "<polygon fill=\"black\" stroke=\"black\" points=\"331.95,-273.52 339.31,-281.13 338.31,-270.59 331.95,-273.52\"/>\n",
       "</g>\n",
       "<!-- cell3 -->\n",
       "<g id=\"node11\" class=\"node\">\n",
       "<title>cell3</title>\n",
       "<text text-anchor=\"middle\" x=\"51.78\" y=\"-96.32\" font-family=\"Times,serif\" font-size=\"14.00\">3</text>\n",
       "</g>\n",
       "<!-- 5&#45;&gt;cell3 -->\n",
       "<g id=\"edge10\" class=\"edge\">\n",
       "<title>5&#45;&gt;cell3</title>\n",
       "<path fill=\"none\" stroke=\"black\" d=\"M90.09,-148.83C84.63,-141.87 78.29,-133.81 72.37,-126.26\"/>\n",
       "<polygon fill=\"black\" stroke=\"black\" points=\"75.09,-124.06 66.16,-118.35 69.58,-128.38 75.09,-124.06\"/>\n",
       "</g>\n",
       "<!-- cell4 -->\n",
       "<g id=\"node12\" class=\"node\">\n",
       "<title>cell4</title>\n",
       "<text text-anchor=\"middle\" x=\"27\" y=\"-175.92\" font-family=\"Times,serif\" font-size=\"14.00\">4</text>\n",
       "</g>\n",
       "<!-- 5&#45;&gt;cell4 -->\n",
       "<g id=\"edge11\" class=\"edge\">\n",
       "<title>5&#45;&gt;cell4</title>\n",
       "<path fill=\"none\" stroke=\"black\" d=\"M77.39,-171.54C73.17,-172.21 68.74,-172.92 64.34,-173.63\"/>\n",
       "<polygon fill=\"black\" stroke=\"black\" points=\"63.54,-170.21 54.22,-175.25 64.65,-177.12 63.54,-170.21\"/>\n",
       "</g>\n",
       "<!-- cell5 -->\n",
       "<g id=\"node13\" class=\"node\">\n",
       "<title>cell5</title>\n",
       "<text text-anchor=\"middle\" x=\"74.22\" y=\"-243.34\" font-family=\"Times,serif\" font-size=\"14.00\">5</text>\n",
       "</g>\n",
       "<!-- 5&#45;&gt;cell5 -->\n",
       "<g id=\"edge12\" class=\"edge\">\n",
       "<title>5&#45;&gt;cell5</title>\n",
       "<path fill=\"none\" stroke=\"black\" d=\"M97.62,-185.31C93.79,-195.42 88.94,-208.21 84.65,-219.53\"/>\n",
       "<polygon fill=\"black\" stroke=\"black\" points=\"81.33,-218.4 81.06,-228.99 87.88,-220.88 81.33,-218.4\"/>\n",
       "</g>\n",
       "</g>\n",
       "</svg>\n"
      ],
      "text/plain": [
       "<graphviz.graphs.Digraph at 0x7f79774a05e0>"
      ]
     },
     "execution_count": 11,
     "metadata": {},
     "output_type": "execute_result"
    }
   ],
   "source": [
    "mt.to_graphviz()"
   ]
  },
  {
   "cell_type": "markdown",
   "id": "5dfc460d-0e95-4fe5-a03e-803f2e854952",
   "metadata": {
    "tags": []
   },
   "source": [
    "### SVD Imputation"
   ]
  },
  {
   "cell_type": "code",
   "execution_count": null,
   "id": "fce20e03-3823-4bee-9ccd-b2c799d80721",
   "metadata": {},
   "outputs": [],
   "source": [
    "# X: data matrix in which rows (dimension 0) are samples and columns (dimension 1) are features\n",
    "def mean_impute(X): \n",
    "    X_imputed = X.copy() \n",
    "    for i in range(X.shape[1]): \n",
    "        feature = X[:,i] \n",
    "        mean = np.nanmean(feature) # take mean of the feature, ignoring NaN\n",
    "        if np.isnan(mean): \n",
    "            print('[Mean Imputation] WARNING: Empty feature at column %d.'%i) \n",
    "        nan_indices = np.where(np.isnan(feature))[0] \n",
    "        X_imputed[nan_indices,i] = mean \n",
    "    return X_imputed \n",
    "\n",
    "\n",
    "def zero_impute(X): \n",
    "    X_imputed = X.copy()\n",
    "    X_imputed[np.isnan(X)] = 0\n",
    "    return X_imputed\n",
    "    \n",
    "\n",
    "def svd_impute(X, rank = None, tol = 0.1, max_iter = 100):\n",
    "    if rank is None: \n",
    "        rank = min(X.shape) // 2\n",
    "    \n",
    "    nan_indices = np.where(np.isnan(X))\n",
    "    X_imputed = zero_impute(X) #initialise all nan entries with the a mean imputation\n",
    "    \n",
    "    for i in tqdm(range(max_iter)):\n",
    "        X_old = X_imputed.copy()\n",
    "        L,D,R = np.linalg.svd(X_imputed)\n",
    "        X_approx = L[:,:rank] @ np.diag(D[:rank]) @ R[:rank,:] #rank r approximation of X_imputed\n",
    "        X_imputed[nan_indices] = X_approx[nan_indices]\n",
    "        fnorm = np.linalg.norm(X_old - X_imputed, ord=\"fro\")\n",
    "        if fnorm < tol:\n",
    "            print('[SVD Imputation]: Converged after %d iterations.'%(i+1))\n",
    "            print('Frobenius norm:', fnorm)\n",
    "            break\n",
    "        if (i+1) >= max_iter:\n",
    "            print('[SVD Imputation]: Maximum number (%d) of iterations reached.'%(i+1))\n",
    "            print('Frobenius norm:', fnorm)\n",
    "    \n",
    "    return X_imputed"
   ]
  },
  {
   "cell_type": "code",
   "execution_count": null,
   "id": "34437a62-d169-46c6-b755-f1940c89527b",
   "metadata": {},
   "outputs": [],
   "source": [
    "ref.shape"
   ]
  },
  {
   "cell_type": "code",
   "execution_count": null,
   "id": "71e61551-ddcb-43ab-96c7-c75c772953bc",
   "metadata": {},
   "outputs": [],
   "source": [
    "np.sum(alt > 5, axis = 1)"
   ]
  },
  {
   "cell_type": "code",
   "execution_count": null,
   "id": "5fb9f927-6c90-4e05-8d23-d31be01a8bfc",
   "metadata": {},
   "outputs": [],
   "source": [
    "with sns.axes_style(\"darkgrid\"):\n",
    "    plt.figure(figsize = (16, 12))\n",
    "    plt.plot(np.sum(alt > 16, axis = 1))\n",
    "    plt.show()"
   ]
  },
  {
   "cell_type": "code",
   "execution_count": null,
   "id": "6566879f-330d-4d92-8563-9b3797b28955",
   "metadata": {},
   "outputs": [],
   "source": [
    "for i in range(ref.shape[0]): \n",
    "    for j in range(ref.shape[1]): \n",
    "        if ref[i,j] == 0 and alt[i,j] == 0:\n",
    "            ref[i,j] = np.nan\n",
    "            alt[i,j] = np.nan"
   ]
  },
  {
   "cell_type": "code",
   "execution_count": null,
   "id": "d8d0eb3b-fca2-428c-b3f2-6680b1e2ccfc",
   "metadata": {},
   "outputs": [],
   "source": [
    "X = np.concatenate([ref, alt], axis = 1)\n",
    "X_imputed = svd_impute(X, rank = 5)"
   ]
  },
  {
   "cell_type": "code",
   "execution_count": null,
   "id": "a993f947-f096-4068-9f90-ad691368a230",
   "metadata": {},
   "outputs": [],
   "source": [
    "X_imputed.shape"
   ]
  },
  {
   "cell_type": "code",
   "execution_count": null,
   "id": "0e86cf2a-424f-4f92-a092-1156242bc9cf",
   "metadata": {},
   "outputs": [],
   "source": [
    "ref_imputed = X_imputed[:,:ref.shape[1]]\n",
    "alt_imputed = X_imputed[:,ref.shape[1]:]"
   ]
  },
  {
   "cell_type": "code",
   "execution_count": null,
   "id": "4f229ae4-39c7-4926-abb8-edca2ef94ce2",
   "metadata": {},
   "outputs": [],
   "source": [
    "ref_proportion = (ref_imputed + 1) / (ref_imputed + alt_imputed + 2)\n",
    "\n",
    "plt.figure(figsize=(24,16))\n",
    "plt.imshow(ref_proportion.T, cmap = 'viridis', vmin = 0., vmax = 1.) \n",
    "# \"viridis\": yellow for 1, purple for 0, green/blue for 0.5 (https://matplotlib.org/3.5.1/tutorials/colors/colormaps.html)\n",
    "plt.xlabel('locus index', fontsize = 17)\n",
    "plt.ylabel('cell index', fontsize = 17)\n",
    "plt.show()"
   ]
  },
  {
   "cell_type": "markdown",
   "id": "784a21f3-9096-41c9-b93c-8f992bf316e7",
   "metadata": {},
   "source": [
    "### HMM"
   ]
  },
  {
   "cell_type": "code",
   "execution_count": null,
   "id": "2eaf1e3f-fb05-41d0-a2f5-cfaaf984129c",
   "metadata": {},
   "outputs": [],
   "source": [
    "# I: initial probability\n",
    "# T: transition probability (including the begin state)\n",
    "# E: emission probability\n",
    "# X: observation\n",
    "def viterbi(I, T, E, X):\n",
    "    length = X.shape[0]\n",
    "    n_states = X.shape[1]\n",
    "    v = np.zeros((length, n_states)) # v[j, k] = max joint probability having k at step j and emission X[i]\n",
    "    \n",
    "    v[0,:] = np.array([I[i] * E(i, X[0]) for i in range(n_states)])\n",
    "    for j in range(1, length):\n",
    "        for k in range(n_states):\n",
    "            v[j,k] = E(k, X[j]) * np.max([v[j-1,l] * T(l,k) for l in range(n_states)]) # l: assumed state of previous step\n",
    "    \n",
    "    best_path = np.argmax(v, axis = 1)\n",
    "    \n",
    "    return best_path, v[-1, best_path[-1]] # second return is the max joint probability"
   ]
  },
  {
   "cell_type": "code",
   "execution_count": null,
   "id": "ae09694a-7884-4463-8062-0700ed7102f5",
   "metadata": {},
   "outputs": [],
   "source": [
    "transition_matrix = np.array([[0.9, 0.1],\n",
    "                              [0.5, 0.5]])\n",
    "def T(pre, post):\n",
    "    return transition_matrix[pre, post]"
   ]
  },
  {
   "cell_type": "code",
   "execution_count": null,
   "id": "1d6708b5-b751-44ca-9345-842247f8582f",
   "metadata": {},
   "outputs": [],
   "source": [
    "def E(state, obs, f = 0.7, omega = 10):\n",
    "    n_ref = obs[0]\n",
    "    coverage = np.sum(obs)\n",
    "    if state == 1: # normal (heterozygous)\n",
    "        alpha = (1/2 - 2/3 * f) / omega\n",
    "        beta = omega - alpha\n",
    "    elif state == 2: # LOH\n",
    "        alpha = f * omega\n",
    "        beta = omega - alpha\n",
    "    else: \n",
    "        print('\\n ERROR: invalid state \\n')\n",
    "        return\n",
    "    \n",
    "    return betabinom.pmf(n_ref, coverage, alpha, beta)"
   ]
  },
  {
   "cell_type": "code",
   "execution_count": null,
   "id": "93ba62b5-afca-4e2b-b10a-5b0cf5dae8f7",
   "metadata": {},
   "outputs": [],
   "source": [
    "X = np.stack((np.array(df_ref.loc['chr1',:])[0,:], np.array(df_alt.loc['chr1',:])[0,:])).T\n",
    "X"
   ]
  }
 ],
 "metadata": {
  "kernelspec": {
   "display_name": "Python 3 (ipykernel)",
   "language": "python",
   "name": "python3"
  },
  "language_info": {
   "codemirror_mode": {
    "name": "ipython",
    "version": 3
   },
   "file_extension": ".py",
   "mimetype": "text/x-python",
   "name": "python",
   "nbconvert_exporter": "python",
   "pygments_lexer": "ipython3",
   "version": "3.10.6"
  }
 },
 "nbformat": 4,
 "nbformat_minor": 5
}
