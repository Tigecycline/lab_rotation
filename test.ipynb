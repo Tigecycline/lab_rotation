{
 "cells": [
  {
   "cell_type": "code",
   "execution_count": null,
   "id": "0aa423f1-42a5-4039-babd-6a367bc8df5f",
   "metadata": {
    "tags": []
   },
   "outputs": [],
   "source": [
    "import pandas as pd\n",
    "import numpy as np\n",
    "import scipy as sp\n",
    "import matplotlib.pyplot as plt\n",
    "#import seaborn as sns"
   ]
  },
  {
   "cell_type": "code",
   "execution_count": null,
   "id": "9e705554-3ac1-4870-afe7-375383cb8562",
   "metadata": {},
   "outputs": [],
   "source": [
    "from random import random\n",
    "from tqdm.notebook import tqdm"
   ]
  },
  {
   "cell_type": "code",
   "execution_count": null,
   "id": "ba76eb97-3e5e-464c-b8b2-34824f54ae2a",
   "metadata": {},
   "outputs": [],
   "source": [
    "import time\n",
    "import multiprocess as mp"
   ]
  },
  {
   "cell_type": "markdown",
   "id": "c1ce9b3e-3f0a-4539-a3c0-bff77b6b35a4",
   "metadata": {
    "tags": []
   },
   "source": [
    "### Read data & preprocessing"
   ]
  },
  {
   "cell_type": "code",
   "execution_count": null,
   "id": "aa6877e3-3d2a-47f1-ac46-c1f909265ca1",
   "metadata": {},
   "outputs": [],
   "source": [
    "df_ref = pd.read_csv('./Data/glioblastoma_BT_S2/ref.csv', index_col = 0)\n",
    "df_alt = pd.read_csv('./Data/glioblastoma_BT_S2/alt.csv', index_col = 0)"
   ]
  },
  {
   "cell_type": "code",
   "execution_count": null,
   "id": "b0c578e5-dadf-49aa-ac69-dba3c5a916d6",
   "metadata": {},
   "outputs": [],
   "source": [
    "# use multi-index for easier handling of the data\n",
    "df_ref['chromosome'] = [locus.split('_')[0] for locus in df_ref.index]\n",
    "df_ref['locus'] = [locus.split('_')[1] for locus in df_ref.index]\n",
    "df_ref = df_ref.set_index(['chromosome', 'locus'])\n",
    "\n",
    "df_alt['chromosome'] = [locus.split('_')[0] for locus in df_alt.index]\n",
    "df_alt['locus'] = [locus.split('_')[1] for locus in df_alt.index]\n",
    "df_alt = df_alt.set_index(['chromosome', 'locus'])"
   ]
  },
  {
   "cell_type": "raw",
   "id": "20256990-cec3-4aa7-b1ba-123e1a188cd9",
   "metadata": {},
   "source": [
    "def heterozygosity_map(chromosome, save = False):\n",
    "    ref = np.array(df_ref.loc[chromosome,:])\n",
    "    alt = np.array(df_alt.loc[chromosome,:])\n",
    "    \n",
    "    ref_proportion = (ref + 1) / (ref + alt + 2) # add a dummy count to both ref and alt to avoid division by 0\n",
    "    alpha = 2 * np.arctan(ref + alt) / np.pi # hide loci without enough counts\n",
    "    \n",
    "    plt.figure(figsize=(24,16))\n",
    "    plt.imshow(ref_proportion.T, cmap = 'viridis', vmin = 0., vmax = 1., alpha = alpha.T) \n",
    "    # \"viridis\": yellow for 1, purple for 0, green/blue for 0.5 (https://matplotlib.org/3.5.1/tutorials/colors/colormaps.html)\n",
    "    plt.title(chromosome, fontsize = 17)\n",
    "    plt.xlabel('locus index', fontsize = 17)\n",
    "    plt.ylabel('cell index', fontsize = 17)\n",
    "    if save: \n",
    "        plt.savefig('chromosome' + '.png')\n",
    "    plt.show()"
   ]
  },
  {
   "cell_type": "raw",
   "id": "b4d58d17-0b66-49dd-bc63-a73f464e46f1",
   "metadata": {},
   "source": [
    "# proportion of entries that has at least one read (reference or alternative or both)\n",
    "np.sum(np.logical_or(np.array(df_ref), np.array(df_alt))) / df_ref.size\n",
    "# Conclustion: 70% of all entries have no read at all"
   ]
  },
  {
   "cell_type": "raw",
   "id": "0b265608-de43-40e4-ba28-fe01dab7de14",
   "metadata": {},
   "source": [
    "heterozygosity_map('chr1', save = True)"
   ]
  },
  {
   "cell_type": "raw",
   "id": "0c410337-5bb1-433f-80b0-86e3c703cf6f",
   "metadata": {
    "tags": []
   },
   "source": [
    "for chromosome in df_ref.index.get_level_values('chromosome').unique():\n",
    "    heterozygosity_map(chromosome)"
   ]
  },
  {
   "cell_type": "raw",
   "id": "9f20f0bc-a319-4d1a-af6e-ca0154f750da",
   "metadata": {},
   "source": [
    "plt.figure(figsize = (24, 16))\n",
    "plt.hist(coverages, bins = 1000)\n",
    "plt.yscale('log')\n",
    "plt.show()"
   ]
  },
  {
   "cell_type": "markdown",
   "id": "4f830e4c-a725-4dd1-99dd-66b4ec5f3efa",
   "metadata": {},
   "source": [
    "### Mutation detection"
   ]
  },
  {
   "cell_type": "code",
   "execution_count": null,
   "id": "f181fd2d-d8c1-42b9-9c2f-2650fa6b2711",
   "metadata": {},
   "outputs": [],
   "source": [
    "from mutation_detection import *\n",
    "from LOH_detection import *"
   ]
  },
  {
   "cell_type": "code",
   "execution_count": null,
   "id": "a2b16604-9126-4fca-9050-88d84dd9352c",
   "metadata": {},
   "outputs": [],
   "source": [
    "ref = df_ref.to_numpy(dtype = float)\n",
    "alt = df_alt.to_numpy(dtype = float)\n",
    "coverages = ref.flatten() + alt.flatten()"
   ]
  },
  {
   "cell_type": "raw",
   "id": "08ff1696-7ad4-4554-96b8-94f4bd94a8e6",
   "metadata": {},
   "source": [
    "def test_thread_numbers(max_n_threads, n_loci = 50):  \n",
    "    time_costs = np.zeros(max_n_threads)\n",
    "    for n in tqdm(range(1,max_n_threads+1)): \n",
    "        start_time = time.time()\n",
    "        get_posteriors(ref[0:n_loci,:], alt[0:n_loci,:], n_threads = n)\n",
    "        time_costs[n-1] = time.time() - start_time\n",
    "    \n",
    "    return time_costs"
   ]
  },
  {
   "cell_type": "raw",
   "id": "f0abadad-f587-4857-83d0-3641f6b3e544",
   "metadata": {
    "tags": []
   },
   "source": [
    "time_costs = test_thread_numbers(12)\n",
    "\n",
    "plt.figure(figsize = (8,6))\n",
    "plt.plot(np.array(range(1, 13)), time_costs)\n",
    "plt.xlabel('number of threads')\n",
    "plt.ylabel('runtime (s)')\n",
    "plt.grid()\n",
    "plt.show()"
   ]
  },
  {
   "cell_type": "raw",
   "id": "99bb33b3-6272-4c98-8a72-9022845f030c",
   "metadata": {},
   "source": [
    "# expected runtime (in minutes) to run on the complete dataset\n",
    "time_costs[5] / 50 * ref.shape[0] / 60"
   ]
  },
  {
   "cell_type": "code",
   "execution_count": null,
   "id": "0d1e993b-313b-43ef-a9aa-10e79cc0c001",
   "metadata": {},
   "outputs": [],
   "source": [
    "ref.shape"
   ]
  },
  {
   "cell_type": "code",
   "execution_count": null,
   "id": "2cfeee76-eda9-404d-b71c-0a6576764aa5",
   "metadata": {},
   "outputs": [],
   "source": [
    "(1 - 1/(2*1168 - 2)**2) ** 16153"
   ]
  },
  {
   "cell_type": "code",
   "execution_count": null,
   "id": "c2859045-57b5-4a7f-9041-3fdf25cdaea6",
   "metadata": {},
   "outputs": [],
   "source": [
    "get_composition_priors(10, genotype_freq = {'R': 1/3, 'H': 1/3, 'A': 1/3}, mutation_rate = 0.25)"
   ]
  },
  {
   "cell_type": "code",
   "execution_count": null,
   "id": "85cb5fd1-a07a-4768-8ac6-814afb902421",
   "metadata": {},
   "outputs": [],
   "source": [
    "start_time = time.time()\n",
    "posteriors = get_posteriors(ref, alt, n_threads = 6)\n",
    "print('Runtime:', (time.time() - start_time) / 60, 'min')\n",
    "pd.DataFrame(posteriors, columns = ['R', 'H', 'A', 'RH', 'HA'], index = df_ref.index).to_csv('./posteriors.csv')"
   ]
  },
  {
   "cell_type": "code",
   "execution_count": null,
   "id": "41b461ea-4d8a-433a-a56d-9396b221119c",
   "metadata": {},
   "outputs": [],
   "source": [
    "df_posteriors = pd.read_csv('./posteriors.csv', index_col = (0,1))\n",
    "posteriors = df_posteriors.to_numpy()"
   ]
  },
  {
   "cell_type": "code",
   "execution_count": null,
   "id": "9fe71449-4746-478f-a0cf-850e443334b1",
   "metadata": {},
   "outputs": [],
   "source": [
    "mutated_idx, mut_type_idx = np.where(posteriors[:,3:] > 1 - 1 / posteriors.shape[0])\n",
    "n_mutated = mutated_idx.size\n",
    "homos = [['R', 'A'][i] for i in mut_type_idx]"
   ]
  },
  {
   "cell_type": "code",
   "execution_count": null,
   "id": "2b598086-bbf1-4948-863f-dd23a7367428",
   "metadata": {},
   "outputs": [],
   "source": [
    "corr_posteriors = get_corr_posteriors(ref[mutated_idx,:], alt[mutated_idx,:], homos, corr_prior = 1/2) "
   ]
  },
  {
   "cell_type": "code",
   "execution_count": null,
   "id": "090bf80e-5cb8-4e99-9973-592531e821bc",
   "metadata": {},
   "outputs": [],
   "source": [
    "pd.DataFrame(data = {'correlation posterior': np.concatenate((corr_posteriors, [0])), 'mutation type': ['H' + h for h in homos]}, \n",
    "             index = df_posteriors.index[mutated_idx]).to_csv('./corr_posteriors.csv')"
   ]
  },
  {
   "cell_type": "markdown",
   "id": "92a4bf55-a51a-4a6e-addc-5218ccf726a7",
   "metadata": {},
   "source": [
    "### Tree inference"
   ]
  },
  {
   "cell_type": "code",
   "execution_count": null,
   "id": "da641632-d4d8-42a8-b502-a84a7da883ca",
   "metadata": {},
   "outputs": [],
   "source": [
    "df_corr = pd.read_csv('./corr_posteriors.csv', index_col = (0,1))\n",
    "corr_posteriors = df_corr['correlation posterior'].to_numpy()"
   ]
  },
  {
   "cell_type": "code",
   "execution_count": null,
   "id": "4ad9850c-98ac-4689-a3d2-8723e270ce86",
   "metadata": {},
   "outputs": [],
   "source": [
    "df_corr"
   ]
  },
  {
   "cell_type": "code",
   "execution_count": null,
   "id": "3a2c00c4-e24a-4121-b1c9-015e5d1d62dd",
   "metadata": {},
   "outputs": [],
   "source": [
    "chromosome = 'chr12'\n",
    "plt.figure(figsize = (24,4))\n",
    "plt.plot(corr_posteriors[df_corr.index.get_level_values(0) == chromosome])\n",
    "plt.show()"
   ]
  },
  {
   "cell_type": "code",
   "execution_count": 1,
   "id": "5138f04a-4f2c-4f95-8d2d-b9aed43ca1d4",
   "metadata": {},
   "outputs": [],
   "source": [
    "from tree import *"
   ]
  },
  {
   "cell_type": "code",
   "execution_count": 2,
   "id": "9eef59e8-daf4-441d-8e14-87bb37976cc4",
   "metadata": {},
   "outputs": [],
   "source": [
    "likelihoods1 = np.log(np.array([[1/2, 1/2], \n",
    "                                [1/4, 1/2], \n",
    "                                [1/4, 1/4]]))\n",
    "\n",
    "likelihoods2 = np.log(np.array([[1/4, 1/4], \n",
    "                                [1/2, 1/4], \n",
    "                                [1/2, 1/2]]))\n",
    "\n",
    "gt1 = ['H', 'H']\n",
    "gt2 = ['R', 'R']\n",
    "\n",
    "ct = CellTree(likelihoods1, likelihoods2, gt1, gt2)"
   ]
  },
  {
   "cell_type": "code",
   "execution_count": 3,
   "id": "19491ab0-121f-4ac8-9966-8592ee030fc6",
   "metadata": {},
   "outputs": [
    {
     "data": {
      "image/svg+xml": [
       "<?xml version=\"1.0\" encoding=\"UTF-8\" standalone=\"no\"?>\n",
       "<!DOCTYPE svg PUBLIC \"-//W3C//DTD SVG 1.1//EN\"\n",
       " \"http://www.w3.org/Graphics/SVG/1.1/DTD/svg11.dtd\">\n",
       "<!-- Generated by graphviz version 2.48.0 (0)\n",
       " -->\n",
       "<!-- Pages: 1 -->\n",
       "<svg width=\"125pt\" height=\"291pt\"\n",
       " viewBox=\"0.00 0.00 125.00 291.00\" xmlns=\"http://www.w3.org/2000/svg\" xmlns:xlink=\"http://www.w3.org/1999/xlink\">\n",
       "<g id=\"graph0\" class=\"graph\" transform=\"scale(1 1) rotate(0) translate(4 287)\">\n",
       "<polygon fill=\"white\" stroke=\"transparent\" points=\"-4,4 -4,-287 121,-287 121,4 -4,4\"/>\n",
       "<!-- 0 -->\n",
       "<g id=\"node1\" class=\"node\">\n",
       "<title>0</title>\n",
       "<ellipse fill=\"none\" stroke=\"black\" cx=\"45\" cy=\"-18\" rx=\"18\" ry=\"18\"/>\n",
       "<text text-anchor=\"middle\" x=\"45\" y=\"-14.3\" font-family=\"Times,serif\" font-size=\"14.00\">0</text>\n",
       "</g>\n",
       "<!-- 1 -->\n",
       "<g id=\"node2\" class=\"node\">\n",
       "<title>1</title>\n",
       "<ellipse fill=\"none\" stroke=\"black\" cx=\"18\" cy=\"-105\" rx=\"18\" ry=\"18\"/>\n",
       "<text text-anchor=\"middle\" x=\"18\" y=\"-101.3\" font-family=\"Times,serif\" font-size=\"14.00\">1</text>\n",
       "</g>\n",
       "<!-- 2 -->\n",
       "<g id=\"node3\" class=\"node\">\n",
       "<title>2</title>\n",
       "<ellipse fill=\"none\" stroke=\"black\" cx=\"99\" cy=\"-18\" rx=\"18\" ry=\"18\"/>\n",
       "<text text-anchor=\"middle\" x=\"99\" y=\"-14.3\" font-family=\"Times,serif\" font-size=\"14.00\">2</text>\n",
       "</g>\n",
       "<!-- 3 -->\n",
       "<g id=\"node4\" class=\"node\">\n",
       "<title>3</title>\n",
       "<ellipse fill=\"none\" stroke=\"black\" cx=\"72\" cy=\"-105\" rx=\"18\" ry=\"18\"/>\n",
       "</g>\n",
       "<!-- 3&#45;&gt;0 -->\n",
       "<g id=\"edge2\" class=\"edge\">\n",
       "<title>3&#45;&gt;0</title>\n",
       "<path fill=\"none\" stroke=\"black\" d=\"M66.79,-87.61C62.98,-75.62 57.74,-59.09 53.34,-45.27\"/>\n",
       "<polygon fill=\"black\" stroke=\"black\" points=\"56.55,-43.81 50.19,-35.34 49.88,-45.93 56.55,-43.81\"/>\n",
       "</g>\n",
       "<!-- 3&#45;&gt;2 -->\n",
       "<g id=\"edge1\" class=\"edge\">\n",
       "<title>3&#45;&gt;2</title>\n",
       "<path fill=\"none\" stroke=\"black\" d=\"M77.21,-87.61C81.02,-75.62 86.26,-59.09 90.66,-45.27\"/>\n",
       "<polygon fill=\"black\" stroke=\"black\" points=\"94.12,-45.93 93.81,-35.34 87.45,-43.81 94.12,-45.93\"/>\n",
       "<text text-anchor=\"middle\" x=\"98.5\" y=\"-57.8\" font-family=\"Times,serif\" font-size=\"14.00\">m1</text>\n",
       "</g>\n",
       "<!-- 4 -->\n",
       "<g id=\"node5\" class=\"node\">\n",
       "<title>4</title>\n",
       "<ellipse fill=\"none\" stroke=\"black\" cx=\"37\" cy=\"-192\" rx=\"18\" ry=\"18\"/>\n",
       "</g>\n",
       "<!-- 4&#45;&gt;1 -->\n",
       "<g id=\"edge4\" class=\"edge\">\n",
       "<title>4&#45;&gt;1</title>\n",
       "<path fill=\"none\" stroke=\"black\" d=\"M31.98,-174.71C30.27,-168.84 28.43,-162.16 27,-156 25.29,-148.64 23.72,-140.61 22.38,-133.18\"/>\n",
       "<polygon fill=\"black\" stroke=\"black\" points=\"25.81,-132.47 20.66,-123.21 18.91,-133.66 25.81,-132.47\"/>\n",
       "<text text-anchor=\"middle\" x=\"38.5\" y=\"-144.8\" font-family=\"Times,serif\" font-size=\"14.00\">m0</text>\n",
       "</g>\n",
       "<!-- 4&#45;&gt;3 -->\n",
       "<g id=\"edge3\" class=\"edge\">\n",
       "<title>4&#45;&gt;3</title>\n",
       "<path fill=\"none\" stroke=\"black\" d=\"M43.58,-175.01C48.62,-162.78 55.66,-145.68 61.48,-131.56\"/>\n",
       "<polygon fill=\"black\" stroke=\"black\" points=\"64.88,-132.5 65.45,-121.92 58.4,-129.83 64.88,-132.5\"/>\n",
       "</g>\n",
       "<!-- 5 -->\n",
       "<g id=\"node6\" class=\"node\">\n",
       "<title>5</title>\n",
       "<ellipse fill=\"none\" stroke=\"black\" cx=\"37\" cy=\"-265\" rx=\"18\" ry=\"18\"/>\n",
       "</g>\n",
       "<!-- 5&#45;&gt;4 -->\n",
       "<g id=\"edge5\" class=\"edge\">\n",
       "<title>5&#45;&gt;4</title>\n",
       "<path fill=\"none\" stroke=\"black\" d=\"M37,-246.81C37,-238.79 37,-229.05 37,-220.07\"/>\n",
       "<polygon fill=\"black\" stroke=\"black\" points=\"40.5,-220.03 37,-210.03 33.5,-220.03 40.5,-220.03\"/>\n",
       "</g>\n",
       "</g>\n",
       "</svg>\n"
      ],
      "text/plain": [
       "<graphviz.graphs.Digraph at 0x7f0782370670>"
      ]
     },
     "execution_count": 3,
     "metadata": {},
     "output_type": "execute_result"
    }
   ],
   "source": [
    "ct.to_graphviz()"
   ]
  },
  {
   "cell_type": "code",
   "execution_count": 7,
   "id": "3e940a0e-9aa0-49b1-978e-ee9b057caa89",
   "metadata": {},
   "outputs": [],
   "source": [
    "mt = MutationTree(likelihoods1, likelihoods2, ct)"
   ]
  },
  {
   "cell_type": "code",
   "execution_count": 8,
   "id": "3a99b768-b8f9-41e4-ad09-5cd384f6727e",
   "metadata": {},
   "outputs": [
    {
     "data": {
      "image/svg+xml": [
       "<?xml version=\"1.0\" encoding=\"UTF-8\" standalone=\"no\"?>\n",
       "<!DOCTYPE svg PUBLIC \"-//W3C//DTD SVG 1.1//EN\"\n",
       " \"http://www.w3.org/Graphics/SVG/1.1/DTD/svg11.dtd\">\n",
       "<!-- Generated by graphviz version 2.48.0 (0)\n",
       " -->\n",
       "<!-- Pages: 1 -->\n",
       "<svg width=\"279pt\" height=\"248pt\"\n",
       " viewBox=\"0.00 0.00 278.95 248.14\" xmlns=\"http://www.w3.org/2000/svg\" xmlns:xlink=\"http://www.w3.org/1999/xlink\">\n",
       "<g id=\"graph0\" class=\"graph\" transform=\"scale(1 1) rotate(0) translate(4 244.14)\">\n",
       "<polygon fill=\"white\" stroke=\"transparent\" points=\"-4,4 -4,-244.14 274.95,-244.14 274.95,4 -4,4\"/>\n",
       "<!-- 0 -->\n",
       "<g id=\"node1\" class=\"node\">\n",
       "<title>0</title>\n",
       "<polygon fill=\"none\" stroke=\"black\" points=\"129.63,-114.53 75.63,-114.53 75.63,-78.53 129.63,-78.53 129.63,-114.53\"/>\n",
       "</g>\n",
       "<!-- 1 -->\n",
       "<g id=\"node2\" class=\"node\">\n",
       "<title>1</title>\n",
       "<polygon fill=\"none\" stroke=\"black\" points=\"195.1,-161.49 141.1,-161.49 141.1,-125.49 195.1,-125.49 195.1,-161.49\"/>\n",
       "<text text-anchor=\"middle\" x=\"168.1\" y=\"-139.79\" font-family=\"Times,serif\" font-size=\"14.00\">m0</text>\n",
       "</g>\n",
       "<!-- 0&#45;&gt;1 -->\n",
       "<g id=\"edge1\" class=\"edge\">\n",
       "<title>0&#45;&gt;1</title>\n",
       "<path fill=\"none\" stroke=\"black\" d=\"M127.75,-114.55C129.9,-116.09 132.09,-117.66 134.29,-119.24\"/>\n",
       "<polygon fill=\"black\" stroke=\"black\" points=\"132.55,-122.3 142.71,-125.29 136.63,-116.61 132.55,-122.3\"/>\n",
       "</g>\n",
       "<!-- 2 -->\n",
       "<g id=\"node3\" class=\"node\">\n",
       "<title>2</title>\n",
       "<polygon fill=\"none\" stroke=\"black\" points=\"125.19,-36 71.19,-36 71.19,0 125.19,0 125.19,-36\"/>\n",
       "<text text-anchor=\"middle\" x=\"98.19\" y=\"-14.3\" font-family=\"Times,serif\" font-size=\"14.00\">m1</text>\n",
       "</g>\n",
       "<!-- 0&#45;&gt;2 -->\n",
       "<g id=\"edge2\" class=\"edge\">\n",
       "<title>0&#45;&gt;2</title>\n",
       "<path fill=\"none\" stroke=\"black\" d=\"M101.6,-78.32C101.06,-68.8 100.39,-56.95 99.79,-46.27\"/>\n",
       "<polygon fill=\"black\" stroke=\"black\" points=\"103.27,-45.9 99.21,-36.12 96.28,-46.3 103.27,-45.9\"/>\n",
       "</g>\n",
       "<!-- cell0 -->\n",
       "<g id=\"node4\" class=\"node\">\n",
       "<title>cell0</title>\n",
       "<text text-anchor=\"middle\" x=\"27\" y=\"-114.72\" font-family=\"Times,serif\" font-size=\"14.00\">0</text>\n",
       "</g>\n",
       "<!-- 0&#45;&gt;cell0 -->\n",
       "<g id=\"edge3\" class=\"edge\">\n",
       "<title>0&#45;&gt;cell0</title>\n",
       "<path fill=\"none\" stroke=\"black\" d=\"M75.32,-104.43C71.53,-105.53 67.58,-106.67 63.65,-107.81\"/>\n",
       "<polygon fill=\"black\" stroke=\"black\" points=\"62.64,-104.46 54.01,-110.6 64.59,-111.18 62.64,-104.46\"/>\n",
       "</g>\n",
       "<!-- cell1 -->\n",
       "<g id=\"node5\" class=\"node\">\n",
       "<title>cell1</title>\n",
       "<text text-anchor=\"middle\" x=\"243.95\" y=\"-118.98\" font-family=\"Times,serif\" font-size=\"14.00\">1</text>\n",
       "</g>\n",
       "<!-- 1&#45;&gt;cell1 -->\n",
       "<g id=\"edge4\" class=\"edge\">\n",
       "<title>1&#45;&gt;cell1</title>\n",
       "<path fill=\"none\" stroke=\"black\" d=\"M195.48,-135.98C199.29,-134.93 203.25,-133.85 207.19,-132.77\"/>\n",
       "<polygon fill=\"black\" stroke=\"black\" points=\"208.14,-136.13 216.86,-130.11 206.29,-129.38 208.14,-136.13\"/>\n",
       "</g>\n",
       "<!-- cell2 -->\n",
       "<g id=\"node6\" class=\"node\">\n",
       "<title>cell2</title>\n",
       "<text text-anchor=\"middle\" x=\"171.63\" y=\"-218.44\" font-family=\"Times,serif\" font-size=\"14.00\">2</text>\n",
       "</g>\n",
       "<!-- 1&#45;&gt;cell2 -->\n",
       "<g id=\"edge5\" class=\"edge\">\n",
       "<title>1&#45;&gt;cell2</title>\n",
       "<path fill=\"none\" stroke=\"black\" d=\"M168.91,-161.73C169.34,-171.26 169.88,-183.13 170.35,-193.83\"/>\n",
       "<polygon fill=\"black\" stroke=\"black\" points=\"166.87,-194.16 170.81,-203.99 173.86,-193.85 166.87,-194.16\"/>\n",
       "</g>\n",
       "</g>\n",
       "</svg>\n"
      ],
      "text/plain": [
       "<graphviz.graphs.Digraph at 0x7f1a2f081750>"
      ]
     },
     "execution_count": 8,
     "metadata": {},
     "output_type": "execute_result"
    }
   ],
   "source": [
    "mt.to_graphviz()"
   ]
  },
  {
   "cell_type": "code",
   "execution_count": 9,
   "id": "b7c8fc8a-cd41-4cd7-9eea-549aaba436d7",
   "metadata": {},
   "outputs": [],
   "source": [
    "mt = MutationTree()"
   ]
  },
  {
   "cell_type": "code",
   "execution_count": 10,
   "id": "db0ee19e-c764-43ba-93d3-c65ff897316d",
   "metadata": {},
   "outputs": [
    {
     "data": {
      "image/svg+xml": [
       "<?xml version=\"1.0\" encoding=\"UTF-8\" standalone=\"no\"?>\n",
       "<!DOCTYPE svg PUBLIC \"-//W3C//DTD SVG 1.1//EN\"\n",
       " \"http://www.w3.org/Graphics/SVG/1.1/DTD/svg11.dtd\">\n",
       "<!-- Generated by graphviz version 2.48.0 (0)\n",
       " -->\n",
       "<!-- Pages: 1 -->\n",
       "<svg width=\"463pt\" height=\"325pt\"\n",
       " viewBox=\"0.00 0.00 463.01 325.28\" xmlns=\"http://www.w3.org/2000/svg\" xmlns:xlink=\"http://www.w3.org/1999/xlink\">\n",
       "<g id=\"graph0\" class=\"graph\" transform=\"scale(1 1) rotate(0) translate(4 321.28)\">\n",
       "<polygon fill=\"white\" stroke=\"transparent\" points=\"-4,4 -4,-321.28 459.01,-321.28 459.01,4 -4,4\"/>\n",
       "<!-- 0 -->\n",
       "<g id=\"node1\" class=\"node\">\n",
       "<title>0</title>\n",
       "<polygon fill=\"none\" stroke=\"black\" points=\"307.19,-164.84 253.19,-164.84 253.19,-128.84 307.19,-128.84 307.19,-164.84\"/>\n",
       "</g>\n",
       "<!-- 1 -->\n",
       "<g id=\"node2\" class=\"node\">\n",
       "<title>1</title>\n",
       "<polygon fill=\"none\" stroke=\"black\" points=\"392.98,-122.04 321.98,-122.04 321.98,-86.04 392.98,-86.04 392.98,-122.04\"/>\n",
       "<text text-anchor=\"middle\" x=\"357.48\" y=\"-100.34\" font-family=\"Times,serif\" font-size=\"14.00\">m0, m1</text>\n",
       "</g>\n",
       "<!-- 0&#45;&gt;1 -->\n",
       "<g id=\"edge1\" class=\"edge\">\n",
       "<title>0&#45;&gt;1</title>\n",
       "<path fill=\"none\" stroke=\"black\" d=\"M307.23,-131.87C310.06,-130.3 312.98,-128.68 315.92,-127.05\"/>\n",
       "<polygon fill=\"black\" stroke=\"black\" points=\"317.7,-130.07 324.75,-122.16 314.31,-123.95 317.7,-130.07\"/>\n",
       "</g>\n",
       "<!-- 2 -->\n",
       "<g id=\"node3\" class=\"node\">\n",
       "<title>2</title>\n",
       "<polygon fill=\"none\" stroke=\"black\" points=\"217.77,-172.85 163.77,-172.85 163.77,-136.85 217.77,-136.85 217.77,-172.85\"/>\n",
       "<text text-anchor=\"middle\" x=\"190.77\" y=\"-151.15\" font-family=\"Times,serif\" font-size=\"14.00\">m2</text>\n",
       "</g>\n",
       "<!-- 0&#45;&gt;2 -->\n",
       "<g id=\"edge2\" class=\"edge\">\n",
       "<title>0&#45;&gt;2</title>\n",
       "<path fill=\"none\" stroke=\"black\" d=\"M252.88,-149.28C245.08,-149.98 236.44,-150.76 228.15,-151.5\"/>\n",
       "<polygon fill=\"black\" stroke=\"black\" points=\"227.57,-148.04 217.92,-152.42 228.19,-155.01 227.57,-148.04\"/>\n",
       "</g>\n",
       "<!-- 3 -->\n",
       "<g id=\"node4\" class=\"node\">\n",
       "<title>3</title>\n",
       "<polygon fill=\"none\" stroke=\"black\" points=\"340.93,-244.04 286.93,-244.04 286.93,-208.04 340.93,-208.04 340.93,-244.04\"/>\n",
       "<text text-anchor=\"middle\" x=\"313.93\" y=\"-222.34\" font-family=\"Times,serif\" font-size=\"14.00\">m3</text>\n",
       "</g>\n",
       "<!-- 0&#45;&gt;3 -->\n",
       "<g id=\"edge3\" class=\"edge\">\n",
       "<title>0&#45;&gt;3</title>\n",
       "<path fill=\"none\" stroke=\"black\" d=\"M288.02,-165.21C292.23,-175.1 297.52,-187.51 302.22,-198.54\"/>\n",
       "<polygon fill=\"black\" stroke=\"black\" points=\"299.01,-199.94 306.15,-207.77 305.45,-197.2 299.01,-199.94\"/>\n",
       "</g>\n",
       "<!-- cell2 -->\n",
       "<g id=\"node10\" class=\"node\">\n",
       "<title>cell2</title>\n",
       "<text text-anchor=\"middle\" x=\"267.93\" y=\"-65.52\" font-family=\"Times,serif\" font-size=\"14.00\">2</text>\n",
       "</g>\n",
       "<!-- 0&#45;&gt;cell2 -->\n",
       "<g id=\"edge9\" class=\"edge\">\n",
       "<title>0&#45;&gt;cell2</title>\n",
       "<path fill=\"none\" stroke=\"black\" d=\"M277.35,-128.84C275.88,-119.5 274.04,-107.88 272.38,-97.39\"/>\n",
       "<polygon fill=\"black\" stroke=\"black\" points=\"275.82,-96.73 270.8,-87.4 268.91,-97.82 275.82,-96.73\"/>\n",
       "</g>\n",
       "<!-- 4 -->\n",
       "<g id=\"node5\" class=\"node\">\n",
       "<title>4</title>\n",
       "<polygon fill=\"none\" stroke=\"black\" points=\"454.24,-167.08 400.24,-167.08 400.24,-131.08 454.24,-131.08 454.24,-167.08\"/>\n",
       "<text text-anchor=\"middle\" x=\"427.24\" y=\"-145.38\" font-family=\"Times,serif\" font-size=\"14.00\">m4</text>\n",
       "</g>\n",
       "<!-- 1&#45;&gt;4 -->\n",
       "<g id=\"edge4\" class=\"edge\">\n",
       "<title>1&#45;&gt;4</title>\n",
       "<path fill=\"none\" stroke=\"black\" d=\"M385.45,-122.1C387.42,-123.37 389.42,-124.67 391.43,-125.96\"/>\n",
       "<polygon fill=\"black\" stroke=\"black\" points=\"389.87,-129.12 400.17,-131.6 393.67,-123.24 389.87,-129.12\"/>\n",
       "</g>\n",
       "<!-- cell0 -->\n",
       "<g id=\"node8\" class=\"node\">\n",
       "<title>cell0</title>\n",
       "<text text-anchor=\"middle\" x=\"428.01\" y=\"-64.12\" font-family=\"Times,serif\" font-size=\"14.00\">0</text>\n",
       "</g>\n",
       "<!-- 1&#45;&gt;cell0 -->\n",
       "<g id=\"edge7\" class=\"edge\">\n",
       "<title>1&#45;&gt;cell0</title>\n",
       "<path fill=\"none\" stroke=\"black\" d=\"M392.75,-85.93C392.83,-85.89 392.92,-85.84 393.01,-85.8\"/>\n",
       "<polygon fill=\"black\" stroke=\"black\" points=\"393.65,-89.4 400.94,-81.72 390.45,-83.17 393.65,-89.4\"/>\n",
       "</g>\n",
       "<!-- cell1 -->\n",
       "<g id=\"node9\" class=\"node\">\n",
       "<title>cell1</title>\n",
       "<text text-anchor=\"middle\" x=\"365.49\" y=\"-14.3\" font-family=\"Times,serif\" font-size=\"14.00\">1</text>\n",
       "</g>\n",
       "<!-- 1&#45;&gt;cell1 -->\n",
       "<g id=\"edge8\" class=\"edge\">\n",
       "<title>1&#45;&gt;cell1</title>\n",
       "<path fill=\"none\" stroke=\"black\" d=\"M359.18,-85.79C360.24,-74.38 361.63,-59.45 362.83,-46.51\"/>\n",
       "<polygon fill=\"black\" stroke=\"black\" points=\"366.35,-46.5 363.79,-36.22 359.38,-45.85 366.35,-46.5\"/>\n",
       "</g>\n",
       "<!-- 5 -->\n",
       "<g id=\"node6\" class=\"node\">\n",
       "<title>5</title>\n",
       "<polygon fill=\"none\" stroke=\"black\" points=\"131.49,-185.19 77.49,-185.19 77.49,-149.19 131.49,-149.19 131.49,-185.19\"/>\n",
       "<text text-anchor=\"middle\" x=\"104.49\" y=\"-163.49\" font-family=\"Times,serif\" font-size=\"14.00\">m5</text>\n",
       "</g>\n",
       "<!-- 2&#45;&gt;5 -->\n",
       "<g id=\"edge5\" class=\"edge\">\n",
       "<title>2&#45;&gt;5</title>\n",
       "<path fill=\"none\" stroke=\"black\" d=\"M163.47,-158.75C156.56,-159.74 149.02,-160.82 141.71,-161.87\"/>\n",
       "<polygon fill=\"black\" stroke=\"black\" points=\"141.02,-158.43 131.61,-163.31 142.01,-165.36 141.02,-158.43\"/>\n",
       "</g>\n",
       "<!-- 6 -->\n",
       "<g id=\"node7\" class=\"node\">\n",
       "<title>6</title>\n",
       "<polygon fill=\"none\" stroke=\"black\" points=\"192.25,-93.95 138.25,-93.95 138.25,-57.95 192.25,-57.95 192.25,-93.95\"/>\n",
       "<text text-anchor=\"middle\" x=\"165.25\" y=\"-72.25\" font-family=\"Times,serif\" font-size=\"14.00\">m6</text>\n",
       "</g>\n",
       "<!-- 2&#45;&gt;6 -->\n",
       "<g id=\"edge6\" class=\"edge\">\n",
       "<title>2&#45;&gt;6</title>\n",
       "<path fill=\"none\" stroke=\"black\" d=\"M184.85,-136.55C181.7,-126.79 177.75,-114.58 174.22,-103.68\"/>\n",
       "<polygon fill=\"black\" stroke=\"black\" points=\"177.55,-102.59 171.14,-94.15 170.88,-104.75 177.55,-102.59\"/>\n",
       "</g>\n",
       "<!-- cell7 -->\n",
       "<g id=\"node15\" class=\"node\">\n",
       "<title>cell7</title>\n",
       "<text text-anchor=\"middle\" x=\"189.46\" y=\"-231.75\" font-family=\"Times,serif\" font-size=\"14.00\">7</text>\n",
       "</g>\n",
       "<!-- 2&#45;&gt;cell7 -->\n",
       "<g id=\"edge14\" class=\"edge\">\n",
       "<title>2&#45;&gt;cell7</title>\n",
       "<path fill=\"none\" stroke=\"black\" d=\"M190.47,-173.14C190.31,-183.14 190.11,-195.74 189.93,-206.99\"/>\n",
       "<polygon fill=\"black\" stroke=\"black\" points=\"186.42,-207.18 189.76,-217.23 193.42,-207.29 186.42,-207.18\"/>\n",
       "</g>\n",
       "<!-- cell6 -->\n",
       "<g id=\"node14\" class=\"node\">\n",
       "<title>cell6</title>\n",
       "<text text-anchor=\"middle\" x=\"347.67\" y=\"-295.58\" font-family=\"Times,serif\" font-size=\"14.00\">6</text>\n",
       "</g>\n",
       "<!-- 3&#45;&gt;cell6 -->\n",
       "<g id=\"edge13\" class=\"edge\">\n",
       "<title>3&#45;&gt;cell6</title>\n",
       "<path fill=\"none\" stroke=\"black\" d=\"M322.27,-244.15C326.13,-252.51 330.78,-262.62 335.05,-271.89\"/>\n",
       "<polygon fill=\"black\" stroke=\"black\" points=\"331.95,-273.52 339.31,-281.13 338.31,-270.59 331.95,-273.52\"/>\n",
       "</g>\n",
       "<!-- cell3 -->\n",
       "<g id=\"node11\" class=\"node\">\n",
       "<title>cell3</title>\n",
       "<text text-anchor=\"middle\" x=\"51.78\" y=\"-96.32\" font-family=\"Times,serif\" font-size=\"14.00\">3</text>\n",
       "</g>\n",
       "<!-- 5&#45;&gt;cell3 -->\n",
       "<g id=\"edge10\" class=\"edge\">\n",
       "<title>5&#45;&gt;cell3</title>\n",
       "<path fill=\"none\" stroke=\"black\" d=\"M90.09,-148.83C84.63,-141.87 78.29,-133.81 72.37,-126.26\"/>\n",
       "<polygon fill=\"black\" stroke=\"black\" points=\"75.09,-124.06 66.16,-118.35 69.58,-128.38 75.09,-124.06\"/>\n",
       "</g>\n",
       "<!-- cell4 -->\n",
       "<g id=\"node12\" class=\"node\">\n",
       "<title>cell4</title>\n",
       "<text text-anchor=\"middle\" x=\"27\" y=\"-175.92\" font-family=\"Times,serif\" font-size=\"14.00\">4</text>\n",
       "</g>\n",
       "<!-- 5&#45;&gt;cell4 -->\n",
       "<g id=\"edge11\" class=\"edge\">\n",
       "<title>5&#45;&gt;cell4</title>\n",
       "<path fill=\"none\" stroke=\"black\" d=\"M77.39,-171.54C73.17,-172.21 68.74,-172.92 64.34,-173.63\"/>\n",
       "<polygon fill=\"black\" stroke=\"black\" points=\"63.54,-170.21 54.22,-175.25 64.65,-177.12 63.54,-170.21\"/>\n",
       "</g>\n",
       "<!-- cell5 -->\n",
       "<g id=\"node13\" class=\"node\">\n",
       "<title>cell5</title>\n",
       "<text text-anchor=\"middle\" x=\"74.22\" y=\"-243.34\" font-family=\"Times,serif\" font-size=\"14.00\">5</text>\n",
       "</g>\n",
       "<!-- 5&#45;&gt;cell5 -->\n",
       "<g id=\"edge12\" class=\"edge\">\n",
       "<title>5&#45;&gt;cell5</title>\n",
       "<path fill=\"none\" stroke=\"black\" d=\"M97.62,-185.31C93.79,-195.42 88.94,-208.21 84.65,-219.53\"/>\n",
       "<polygon fill=\"black\" stroke=\"black\" points=\"81.33,-218.4 81.06,-228.99 87.88,-220.88 81.33,-218.4\"/>\n",
       "</g>\n",
       "</g>\n",
       "</svg>\n"
      ],
      "text/plain": [
       "<graphviz.graphs.Digraph at 0x7f1a2f0817e0>"
      ]
     },
     "execution_count": 10,
     "metadata": {},
     "output_type": "execute_result"
    }
   ],
   "source": [
    "mt.to_graphviz()"
   ]
  },
  {
   "cell_type": "code",
   "execution_count": 11,
   "id": "393c6d87-b7cc-42c9-8e70-5cdc34015036",
   "metadata": {},
   "outputs": [
    {
     "name": "stdout",
     "output_type": "stream",
     "text": [
      "[[2], [0, 1], [7], [6], [], [3, 4, 5], [], []]\n",
      "Processing node 6\n",
      "The leaves are: []\n",
      "****** node \"6\" ******\n",
      "parent: 2\n",
      "has no children\n",
      "mutations: [6]\n",
      "\n",
      "Processing node 5\n",
      "The leaves are: [3, 4, 5]\n",
      "****** node \"5\" ******\n",
      "parent: 2\n",
      "has no children\n",
      "mutations: [5]\n",
      "\n",
      "Processing node 4\n",
      "The leaves are: []\n",
      "****** node \"4\" ******\n",
      "parent: 1\n",
      "has no children\n",
      "mutations: [4]\n",
      "\n",
      "Processing node 3\n",
      "The leaves are: [6]\n",
      "****** node \"3\" ******\n",
      "parent: 0\n",
      "has no children\n",
      "mutations: [3]\n",
      "\n",
      "Processing node 2\n",
      "The leaves are: [7, 9]\n",
      "****** node \"2\" ******\n",
      "parent: 0\n",
      "children: [5, 6]\n",
      "mutations: [2]\n",
      "\n",
      "Processing node 1\n",
      "The leaves are: [0, 1]\n",
      "****** node \"1\" ******\n",
      "parent: 0\n",
      "children: [4]\n",
      "mutations: [0, 1]\n",
      "\n",
      "Processing node 0\n",
      "The leaves are: [2, 6, 10, 11]\n",
      "****** node \"0\" ******\n",
      "has no parent\n",
      "children: [1, 2, 3]\n",
      "mutations: []\n",
      "\n"
     ]
    }
   ],
   "source": [
    "ct = CellTree(likelihoods1, likelihoods2, gt1, gt2)\n",
    "    \n",
    "ct.nodes = [TreeNode(i) for i in range(16)]\n",
    "ct.L = 8\n",
    "ct.read_mutation_tree(mt)"
   ]
  },
  {
   "cell_type": "code",
   "execution_count": 12,
   "id": "ee7e70e5-fe88-4375-a0e7-5a063483636e",
   "metadata": {},
   "outputs": [
    {
     "data": {
      "image/svg+xml": [
       "<?xml version=\"1.0\" encoding=\"UTF-8\" standalone=\"no\"?>\n",
       "<!DOCTYPE svg PUBLIC \"-//W3C//DTD SVG 1.1//EN\"\n",
       " \"http://www.w3.org/Graphics/SVG/1.1/DTD/svg11.dtd\">\n",
       "<!-- Generated by graphviz version 2.48.0 (0)\n",
       " -->\n",
       "<!-- Pages: 1 -->\n",
       "<svg width=\"260pt\" height=\"476pt\"\n",
       " viewBox=\"0.00 0.00 260.00 476.00\" xmlns=\"http://www.w3.org/2000/svg\" xmlns:xlink=\"http://www.w3.org/1999/xlink\">\n",
       "<g id=\"graph0\" class=\"graph\" transform=\"scale(1 1) rotate(0) translate(4 472)\">\n",
       "<polygon fill=\"white\" stroke=\"transparent\" points=\"-4,4 -4,-472 256,-472 256,4 -4,4\"/>\n",
       "<!-- 0 -->\n",
       "<g id=\"node1\" class=\"node\">\n",
       "<title>0</title>\n",
       "<ellipse fill=\"none\" stroke=\"black\" cx=\"180\" cy=\"-162\" rx=\"18\" ry=\"18\"/>\n",
       "<text text-anchor=\"middle\" x=\"180\" y=\"-158.3\" font-family=\"Times,serif\" font-size=\"14.00\">0</text>\n",
       "</g>\n",
       "<!-- 1 -->\n",
       "<g id=\"node2\" class=\"node\">\n",
       "<title>1</title>\n",
       "<ellipse fill=\"none\" stroke=\"black\" cx=\"234\" cy=\"-162\" rx=\"18\" ry=\"18\"/>\n",
       "<text text-anchor=\"middle\" x=\"234\" y=\"-158.3\" font-family=\"Times,serif\" font-size=\"14.00\">1</text>\n",
       "</g>\n",
       "<!-- 2 -->\n",
       "<g id=\"node3\" class=\"node\">\n",
       "<title>2</title>\n",
       "<ellipse fill=\"none\" stroke=\"black\" cx=\"18\" cy=\"-234\" rx=\"18\" ry=\"18\"/>\n",
       "<text text-anchor=\"middle\" x=\"18\" y=\"-230.3\" font-family=\"Times,serif\" font-size=\"14.00\">2</text>\n",
       "</g>\n",
       "<!-- 3 -->\n",
       "<g id=\"node4\" class=\"node\">\n",
       "<title>3</title>\n",
       "<ellipse fill=\"none\" stroke=\"black\" cx=\"126\" cy=\"-18\" rx=\"18\" ry=\"18\"/>\n",
       "<text text-anchor=\"middle\" x=\"126\" y=\"-14.3\" font-family=\"Times,serif\" font-size=\"14.00\">3</text>\n",
       "</g>\n",
       "<!-- 4 -->\n",
       "<g id=\"node5\" class=\"node\">\n",
       "<title>4</title>\n",
       "<ellipse fill=\"none\" stroke=\"black\" cx=\"99\" cy=\"-90\" rx=\"18\" ry=\"18\"/>\n",
       "<text text-anchor=\"middle\" x=\"99\" y=\"-86.3\" font-family=\"Times,serif\" font-size=\"14.00\">4</text>\n",
       "</g>\n",
       "<!-- 5 -->\n",
       "<g id=\"node6\" class=\"node\">\n",
       "<title>5</title>\n",
       "<ellipse fill=\"none\" stroke=\"black\" cx=\"180\" cy=\"-18\" rx=\"18\" ry=\"18\"/>\n",
       "<text text-anchor=\"middle\" x=\"180\" y=\"-14.3\" font-family=\"Times,serif\" font-size=\"14.00\">5</text>\n",
       "</g>\n",
       "<!-- 6 -->\n",
       "<g id=\"node7\" class=\"node\">\n",
       "<title>6</title>\n",
       "<ellipse fill=\"none\" stroke=\"black\" cx=\"72\" cy=\"-234\" rx=\"18\" ry=\"18\"/>\n",
       "<text text-anchor=\"middle\" x=\"72\" y=\"-230.3\" font-family=\"Times,serif\" font-size=\"14.00\">6</text>\n",
       "</g>\n",
       "<!-- 7 -->\n",
       "<g id=\"node8\" class=\"node\">\n",
       "<title>7</title>\n",
       "<ellipse fill=\"none\" stroke=\"black\" cx=\"72\" cy=\"-162\" rx=\"18\" ry=\"18\"/>\n",
       "<text text-anchor=\"middle\" x=\"72\" y=\"-158.3\" font-family=\"Times,serif\" font-size=\"14.00\">7</text>\n",
       "</g>\n",
       "<!-- 8 -->\n",
       "<g id=\"node9\" class=\"node\">\n",
       "<title>8</title>\n",
       "<ellipse fill=\"none\" stroke=\"black\" cx=\"153\" cy=\"-90\" rx=\"18\" ry=\"18\"/>\n",
       "</g>\n",
       "<!-- 8&#45;&gt;3 -->\n",
       "<g id=\"edge1\" class=\"edge\">\n",
       "<title>8&#45;&gt;3</title>\n",
       "<path fill=\"none\" stroke=\"black\" d=\"M146.74,-72.76C143.5,-64.37 139.47,-53.93 135.83,-44.5\"/>\n",
       "<polygon fill=\"black\" stroke=\"black\" points=\"139.09,-43.22 132.23,-35.15 132.56,-45.74 139.09,-43.22\"/>\n",
       "</g>\n",
       "<!-- 8&#45;&gt;5 -->\n",
       "<g id=\"edge2\" class=\"edge\">\n",
       "<title>8&#45;&gt;5</title>\n",
       "<path fill=\"none\" stroke=\"black\" d=\"M159.26,-72.76C162.5,-64.37 166.53,-53.93 170.17,-44.5\"/>\n",
       "<polygon fill=\"black\" stroke=\"black\" points=\"173.44,-45.74 173.77,-35.15 166.91,-43.22 173.44,-45.74\"/>\n",
       "</g>\n",
       "<!-- 9 -->\n",
       "<g id=\"node10\" class=\"node\">\n",
       "<title>9</title>\n",
       "<ellipse fill=\"none\" stroke=\"black\" cx=\"126\" cy=\"-162\" rx=\"18\" ry=\"18\"/>\n",
       "</g>\n",
       "<!-- 9&#45;&gt;4 -->\n",
       "<g id=\"edge4\" class=\"edge\">\n",
       "<title>9&#45;&gt;4</title>\n",
       "<path fill=\"none\" stroke=\"black\" d=\"M119.74,-144.76C116.5,-136.37 112.47,-125.93 108.83,-116.5\"/>\n",
       "<polygon fill=\"black\" stroke=\"black\" points=\"112.09,-115.22 105.23,-107.15 105.56,-117.74 112.09,-115.22\"/>\n",
       "</g>\n",
       "<!-- 9&#45;&gt;8 -->\n",
       "<g id=\"edge3\" class=\"edge\">\n",
       "<title>9&#45;&gt;8</title>\n",
       "<path fill=\"none\" stroke=\"black\" d=\"M132.26,-144.76C135.5,-136.37 139.53,-125.93 143.17,-116.5\"/>\n",
       "<polygon fill=\"black\" stroke=\"black\" points=\"146.44,-117.74 146.77,-107.15 139.91,-115.22 146.44,-117.74\"/>\n",
       "</g>\n",
       "<!-- 10 -->\n",
       "<g id=\"node11\" class=\"node\">\n",
       "<title>10</title>\n",
       "<ellipse fill=\"none\" stroke=\"black\" cx=\"126\" cy=\"-234\" rx=\"18\" ry=\"18\"/>\n",
       "</g>\n",
       "<!-- 10&#45;&gt;7 -->\n",
       "<g id=\"edge5\" class=\"edge\">\n",
       "<title>10&#45;&gt;7</title>\n",
       "<path fill=\"none\" stroke=\"black\" d=\"M115.33,-219.17C107.79,-209.39 97.52,-196.08 88.87,-184.87\"/>\n",
       "<polygon fill=\"black\" stroke=\"black\" points=\"91.53,-182.58 82.65,-176.8 85.98,-186.86 91.53,-182.58\"/>\n",
       "</g>\n",
       "<!-- 10&#45;&gt;9 -->\n",
       "<g id=\"edge6\" class=\"edge\">\n",
       "<title>10&#45;&gt;9</title>\n",
       "<path fill=\"none\" stroke=\"black\" d=\"M126,-215.7C126,-207.98 126,-198.71 126,-190.11\"/>\n",
       "<polygon fill=\"black\" stroke=\"black\" points=\"129.5,-190.1 126,-180.1 122.5,-190.1 129.5,-190.1\"/>\n",
       "</g>\n",
       "<!-- 11 -->\n",
       "<g id=\"node12\" class=\"node\">\n",
       "<title>11</title>\n",
       "<ellipse fill=\"none\" stroke=\"black\" cx=\"180\" cy=\"-234\" rx=\"18\" ry=\"18\"/>\n",
       "</g>\n",
       "<!-- 11&#45;&gt;0 -->\n",
       "<g id=\"edge8\" class=\"edge\">\n",
       "<title>11&#45;&gt;0</title>\n",
       "<path fill=\"none\" stroke=\"black\" d=\"M180,-215.7C180,-207.98 180,-198.71 180,-190.11\"/>\n",
       "<polygon fill=\"black\" stroke=\"black\" points=\"183.5,-190.1 180,-180.1 176.5,-190.1 183.5,-190.1\"/>\n",
       "</g>\n",
       "<!-- 11&#45;&gt;1 -->\n",
       "<g id=\"edge7\" class=\"edge\">\n",
       "<title>11&#45;&gt;1</title>\n",
       "<path fill=\"none\" stroke=\"black\" d=\"M190.67,-219.17C198.21,-209.39 208.48,-196.08 217.13,-184.87\"/>\n",
       "<polygon fill=\"black\" stroke=\"black\" points=\"220.02,-186.86 223.35,-176.8 214.47,-182.58 220.02,-186.86\"/>\n",
       "</g>\n",
       "<!-- 12 -->\n",
       "<g id=\"node13\" class=\"node\">\n",
       "<title>12</title>\n",
       "<ellipse fill=\"none\" stroke=\"black\" cx=\"72\" cy=\"-306\" rx=\"18\" ry=\"18\"/>\n",
       "</g>\n",
       "<!-- 12&#45;&gt;2 -->\n",
       "<g id=\"edge9\" class=\"edge\">\n",
       "<title>12&#45;&gt;2</title>\n",
       "<path fill=\"none\" stroke=\"black\" d=\"M61.33,-291.17C53.79,-281.39 43.52,-268.08 34.87,-256.87\"/>\n",
       "<polygon fill=\"black\" stroke=\"black\" points=\"37.53,-254.58 28.65,-248.8 31.98,-258.86 37.53,-254.58\"/>\n",
       "</g>\n",
       "<!-- 12&#45;&gt;6 -->\n",
       "<g id=\"edge10\" class=\"edge\">\n",
       "<title>12&#45;&gt;6</title>\n",
       "<path fill=\"none\" stroke=\"black\" d=\"M72,-287.7C72,-279.98 72,-270.71 72,-262.11\"/>\n",
       "<polygon fill=\"black\" stroke=\"black\" points=\"75.5,-262.1 72,-252.1 68.5,-262.1 75.5,-262.1\"/>\n",
       "</g>\n",
       "<!-- 13 -->\n",
       "<g id=\"node14\" class=\"node\">\n",
       "<title>13</title>\n",
       "<ellipse fill=\"none\" stroke=\"black\" cx=\"126\" cy=\"-306\" rx=\"18\" ry=\"18\"/>\n",
       "</g>\n",
       "<!-- 13&#45;&gt;10 -->\n",
       "<g id=\"edge11\" class=\"edge\">\n",
       "<title>13&#45;&gt;10</title>\n",
       "<path fill=\"none\" stroke=\"black\" d=\"M126,-287.7C126,-279.98 126,-270.71 126,-262.11\"/>\n",
       "<polygon fill=\"black\" stroke=\"black\" points=\"129.5,-262.1 126,-252.1 122.5,-262.1 129.5,-262.1\"/>\n",
       "</g>\n",
       "<!-- 13&#45;&gt;11 -->\n",
       "<g id=\"edge12\" class=\"edge\">\n",
       "<title>13&#45;&gt;11</title>\n",
       "<path fill=\"none\" stroke=\"black\" d=\"M136.67,-291.17C144.21,-281.39 154.48,-268.08 163.13,-256.87\"/>\n",
       "<polygon fill=\"black\" stroke=\"black\" points=\"166.02,-258.86 169.35,-248.8 160.47,-254.58 166.02,-258.86\"/>\n",
       "</g>\n",
       "<!-- 14 -->\n",
       "<g id=\"node15\" class=\"node\">\n",
       "<title>14</title>\n",
       "<ellipse fill=\"none\" stroke=\"black\" cx=\"99\" cy=\"-378\" rx=\"18\" ry=\"18\"/>\n",
       "</g>\n",
       "<!-- 14&#45;&gt;12 -->\n",
       "<g id=\"edge14\" class=\"edge\">\n",
       "<title>14&#45;&gt;12</title>\n",
       "<path fill=\"none\" stroke=\"black\" d=\"M92.74,-360.76C89.5,-352.37 85.47,-341.93 81.83,-332.5\"/>\n",
       "<polygon fill=\"black\" stroke=\"black\" points=\"85.09,-331.22 78.23,-323.15 78.56,-333.74 85.09,-331.22\"/>\n",
       "</g>\n",
       "<!-- 14&#45;&gt;13 -->\n",
       "<g id=\"edge13\" class=\"edge\">\n",
       "<title>14&#45;&gt;13</title>\n",
       "<path fill=\"none\" stroke=\"black\" d=\"M105.26,-360.76C108.5,-352.37 112.53,-341.93 116.17,-332.5\"/>\n",
       "<polygon fill=\"black\" stroke=\"black\" points=\"119.44,-333.74 119.77,-323.15 112.91,-331.22 119.44,-333.74\"/>\n",
       "</g>\n",
       "<!-- 15 -->\n",
       "<g id=\"node16\" class=\"node\">\n",
       "<title>15</title>\n",
       "<ellipse fill=\"none\" stroke=\"black\" cx=\"99\" cy=\"-450\" rx=\"18\" ry=\"18\"/>\n",
       "</g>\n",
       "<!-- 15&#45;&gt;14 -->\n",
       "<g id=\"edge15\" class=\"edge\">\n",
       "<title>15&#45;&gt;14</title>\n",
       "<path fill=\"none\" stroke=\"black\" d=\"M99,-431.7C99,-423.98 99,-414.71 99,-406.11\"/>\n",
       "<polygon fill=\"black\" stroke=\"black\" points=\"102.5,-406.1 99,-396.1 95.5,-406.1 102.5,-406.1\"/>\n",
       "</g>\n",
       "</g>\n",
       "</svg>\n"
      ],
      "text/plain": [
       "<graphviz.graphs.Digraph at 0x7f1a00d4ea10>"
      ]
     },
     "execution_count": 12,
     "metadata": {},
     "output_type": "execute_result"
    }
   ],
   "source": [
    "ct.to_graphviz()"
   ]
  },
  {
   "cell_type": "markdown",
   "id": "5dfc460d-0e95-4fe5-a03e-803f2e854952",
   "metadata": {
    "tags": []
   },
   "source": [
    "### SVD Imputation"
   ]
  },
  {
   "cell_type": "code",
   "execution_count": null,
   "id": "fce20e03-3823-4bee-9ccd-b2c799d80721",
   "metadata": {},
   "outputs": [],
   "source": [
    "# X: data matrix in which rows (dimension 0) are samples and columns (dimension 1) are features\n",
    "def mean_impute(X): \n",
    "    X_imputed = X.copy() \n",
    "    for i in range(X.shape[1]): \n",
    "        feature = X[:,i] \n",
    "        mean = np.nanmean(feature) # take mean of the feature, ignoring NaN\n",
    "        if np.isnan(mean): \n",
    "            print('[Mean Imputation] WARNING: Empty feature at column %d.'%i) \n",
    "        nan_indices = np.where(np.isnan(feature))[0] \n",
    "        X_imputed[nan_indices,i] = mean \n",
    "    return X_imputed \n",
    "\n",
    "\n",
    "def zero_impute(X): \n",
    "    X_imputed = X.copy()\n",
    "    X_imputed[np.isnan(X)] = 0\n",
    "    return X_imputed\n",
    "    \n",
    "\n",
    "def svd_impute(X, rank = None, tol = 0.1, max_iter = 100):\n",
    "    if rank is None: \n",
    "        rank = min(X.shape) // 2\n",
    "    \n",
    "    nan_indices = np.where(np.isnan(X))\n",
    "    X_imputed = zero_impute(X) #initialise all nan entries with the a mean imputation\n",
    "    \n",
    "    for i in tqdm(range(max_iter)):\n",
    "        X_old = X_imputed.copy()\n",
    "        L,D,R = np.linalg.svd(X_imputed)\n",
    "        X_approx = L[:,:rank] @ np.diag(D[:rank]) @ R[:rank,:] #rank r approximation of X_imputed\n",
    "        X_imputed[nan_indices] = X_approx[nan_indices]\n",
    "        fnorm = np.linalg.norm(X_old - X_imputed, ord=\"fro\")\n",
    "        if fnorm < tol:\n",
    "            print('[SVD Imputation]: Converged after %d iterations.'%(i+1))\n",
    "            print('Frobenius norm:', fnorm)\n",
    "            break\n",
    "        if (i+1) >= max_iter:\n",
    "            print('[SVD Imputation]: Maximum number (%d) of iterations reached.'%(i+1))\n",
    "            print('Frobenius norm:', fnorm)\n",
    "    \n",
    "    return X_imputed"
   ]
  },
  {
   "cell_type": "code",
   "execution_count": null,
   "id": "34437a62-d169-46c6-b755-f1940c89527b",
   "metadata": {},
   "outputs": [],
   "source": [
    "ref.shape"
   ]
  },
  {
   "cell_type": "code",
   "execution_count": null,
   "id": "71e61551-ddcb-43ab-96c7-c75c772953bc",
   "metadata": {},
   "outputs": [],
   "source": [
    "np.sum(alt > 5, axis = 1)"
   ]
  },
  {
   "cell_type": "code",
   "execution_count": null,
   "id": "5fb9f927-6c90-4e05-8d23-d31be01a8bfc",
   "metadata": {},
   "outputs": [],
   "source": [
    "with sns.axes_style(\"darkgrid\"):\n",
    "    plt.figure(figsize = (16, 12))\n",
    "    plt.plot(np.sum(alt > 16, axis = 1))\n",
    "    plt.show()"
   ]
  },
  {
   "cell_type": "code",
   "execution_count": null,
   "id": "6566879f-330d-4d92-8563-9b3797b28955",
   "metadata": {},
   "outputs": [],
   "source": [
    "for i in range(ref.shape[0]): \n",
    "    for j in range(ref.shape[1]): \n",
    "        if ref[i,j] == 0 and alt[i,j] == 0:\n",
    "            ref[i,j] = np.nan\n",
    "            alt[i,j] = np.nan"
   ]
  },
  {
   "cell_type": "code",
   "execution_count": null,
   "id": "d8d0eb3b-fca2-428c-b3f2-6680b1e2ccfc",
   "metadata": {},
   "outputs": [],
   "source": [
    "X = np.concatenate([ref, alt], axis = 1)\n",
    "X_imputed = svd_impute(X, rank = 5)"
   ]
  },
  {
   "cell_type": "code",
   "execution_count": null,
   "id": "a993f947-f096-4068-9f90-ad691368a230",
   "metadata": {},
   "outputs": [],
   "source": [
    "X_imputed.shape"
   ]
  },
  {
   "cell_type": "code",
   "execution_count": null,
   "id": "0e86cf2a-424f-4f92-a092-1156242bc9cf",
   "metadata": {},
   "outputs": [],
   "source": [
    "ref_imputed = X_imputed[:,:ref.shape[1]]\n",
    "alt_imputed = X_imputed[:,ref.shape[1]:]"
   ]
  },
  {
   "cell_type": "code",
   "execution_count": null,
   "id": "4f229ae4-39c7-4926-abb8-edca2ef94ce2",
   "metadata": {},
   "outputs": [],
   "source": [
    "ref_proportion = (ref_imputed + 1) / (ref_imputed + alt_imputed + 2)\n",
    "\n",
    "plt.figure(figsize=(24,16))\n",
    "plt.imshow(ref_proportion.T, cmap = 'viridis', vmin = 0., vmax = 1.) \n",
    "# \"viridis\": yellow for 1, purple for 0, green/blue for 0.5 (https://matplotlib.org/3.5.1/tutorials/colors/colormaps.html)\n",
    "plt.xlabel('locus index', fontsize = 17)\n",
    "plt.ylabel('cell index', fontsize = 17)\n",
    "plt.show()"
   ]
  },
  {
   "cell_type": "markdown",
   "id": "784a21f3-9096-41c9-b93c-8f992bf316e7",
   "metadata": {},
   "source": [
    "### HMM"
   ]
  },
  {
   "cell_type": "code",
   "execution_count": null,
   "id": "2eaf1e3f-fb05-41d0-a2f5-cfaaf984129c",
   "metadata": {},
   "outputs": [],
   "source": [
    "# I: initial probability\n",
    "# T: transition probability (including the begin state)\n",
    "# E: emission probability\n",
    "# X: observation\n",
    "def viterbi(I, T, E, X):\n",
    "    length = X.shape[0]\n",
    "    n_states = X.shape[1]\n",
    "    v = np.zeros((length, n_states)) # v[j, k] = max joint probability having k at step j and emission X[i]\n",
    "    \n",
    "    v[0,:] = np.array([I[i] * E(i, X[0]) for i in range(n_states)])\n",
    "    for j in range(1, length):\n",
    "        for k in range(n_states):\n",
    "            v[j,k] = E(k, X[j]) * np.max([v[j-1,l] * T(l,k) for l in range(n_states)]) # l: assumed state of previous step\n",
    "    \n",
    "    best_path = np.argmax(v, axis = 1)\n",
    "    \n",
    "    return best_path, v[-1, best_path[-1]] # second return is the max joint probability"
   ]
  },
  {
   "cell_type": "code",
   "execution_count": null,
   "id": "ae09694a-7884-4463-8062-0700ed7102f5",
   "metadata": {},
   "outputs": [],
   "source": [
    "transition_matrix = np.array([[0.9, 0.1],\n",
    "                              [0.5, 0.5]])\n",
    "def T(pre, post):\n",
    "    return transition_matrix[pre, post]"
   ]
  },
  {
   "cell_type": "code",
   "execution_count": null,
   "id": "1d6708b5-b751-44ca-9345-842247f8582f",
   "metadata": {},
   "outputs": [],
   "source": [
    "def E(state, obs, f = 0.7, omega = 10):\n",
    "    n_ref = obs[0]\n",
    "    coverage = np.sum(obs)\n",
    "    if state == 1: # normal (heterozygous)\n",
    "        alpha = (1/2 - 2/3 * f) / omega\n",
    "        beta = omega - alpha\n",
    "    elif state == 2: # LOH\n",
    "        alpha = f * omega\n",
    "        beta = omega - alpha\n",
    "    else: \n",
    "        print('\\n ERROR: invalid state \\n')\n",
    "        return\n",
    "    \n",
    "    return betabinom.pmf(n_ref, coverage, alpha, beta)"
   ]
  },
  {
   "cell_type": "code",
   "execution_count": null,
   "id": "93ba62b5-afca-4e2b-b10a-5b0cf5dae8f7",
   "metadata": {},
   "outputs": [],
   "source": [
    "X = np.stack((np.array(df_ref.loc['chr1',:])[0,:], np.array(df_alt.loc['chr1',:])[0,:])).T\n",
    "X"
   ]
  }
 ],
 "metadata": {
  "kernelspec": {
   "display_name": "Python 3 (ipykernel)",
   "language": "python",
   "name": "python3"
  },
  "language_info": {
   "codemirror_mode": {
    "name": "ipython",
    "version": 3
   },
   "file_extension": ".py",
   "mimetype": "text/x-python",
   "name": "python",
   "nbconvert_exporter": "python",
   "pygments_lexer": "ipython3",
   "version": "3.10.5"
  }
 },
 "nbformat": 4,
 "nbformat_minor": 5
}
