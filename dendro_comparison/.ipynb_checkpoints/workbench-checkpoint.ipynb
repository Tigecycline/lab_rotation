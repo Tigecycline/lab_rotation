{
 "cells": [
  {
   "cell_type": "code",
   "execution_count": 3,
   "metadata": {},
   "outputs": [],
   "source": [
    "import numpy as np\n",
    "import os\n",
    "import warnings"
   ]
  },
  {
   "cell_type": "code",
   "execution_count": 4,
   "metadata": {},
   "outputs": [],
   "source": [
    "from tree_inference.utilities import *\n",
    "from tree_inference.tree_optimizer import TreeOptimizer\n",
    "from tree_inference.mutation_detection import filter_mutations, likelihood_matrices\n",
    "from tree_inference.data_generator import DataGenerator"
   ]
  },
  {
   "cell_type": "markdown",
   "metadata": {},
   "source": [
    "## Comparison using the demo data of DENDRO"
   ]
  },
  {
   "cell_type": "code",
   "execution_count": 3,
   "metadata": {},
   "outputs": [
    {
     "data": {
      "text/plain": [
       "(130, 200)"
      ]
     },
     "execution_count": 3,
     "metadata": {},
     "output_type": "execute_result"
    }
   ],
   "source": [
    "ref_raw = np.loadtxt('dendro_demo_ref.txt')\n",
    "alt_raw = np.loadtxt('dendro_demo_alt.txt')\n",
    "ref_raw.shape"
   ]
  },
  {
   "cell_type": "code",
   "execution_count": 4,
   "metadata": {},
   "outputs": [
    {
     "data": {
      "text/plain": [
       "(130, 58)"
      ]
     },
     "execution_count": 4,
     "metadata": {},
     "output_type": "execute_result"
    }
   ],
   "source": [
    "ref, alt, gt1, gt2 = filter_mutations(ref_raw, alt_raw, method = 'threshold', t = 0.5)\n",
    "likelihoods1, likelihoods2 = likelihood_matrices(ref, alt, gt1, gt2)\n",
    "ref.shape"
   ]
  },
  {
   "cell_type": "code",
   "execution_count": 5,
   "metadata": {},
   "outputs": [],
   "source": [
    "optimizer = TreeOptimizer()\n",
    "optimizer.fit(likelihoods1, likelihoods2, reversible=True)"
   ]
  },
  {
   "cell_type": "code",
   "execution_count": 6,
   "metadata": {},
   "outputs": [
    {
     "name": "stdout",
     "output_type": "stream",
     "text": [
      "[Cell Tree Space] convergence after 11605 steps and 344 move(s).\n",
      "[Mutation Tree Space] convergence after 3888 steps and 24 move(s).\n",
      "[Cell Tree Space] convergence after 650 steps and 0 move(s).\n",
      "[Mutation Tree Space] convergence after 580 steps and 0 move(s).\n",
      "[Cell Tree Space] convergence after 650 steps and 0 move(s).\n",
      "[Mutation Tree Space] convergence after 580 steps and 0 move(s).\n"
     ]
    }
   ],
   "source": [
    "optimizer.optimize()"
   ]
  },
  {
   "cell_type": "code",
   "execution_count": 7,
   "metadata": {},
   "outputs": [
    {
     "data": {
      "text/plain": [
       "'./figures/ct_graphviz.txt'"
      ]
     },
     "execution_count": 7,
     "metadata": {},
     "output_type": "execute_result"
    }
   ],
   "source": [
    "import graphviz\n",
    "\n",
    "labels = np.loadtxt('dendro_demo_labels.txt', dtype=int) - 1\n",
    "color_map = ['red', 'green', 'blue']\n",
    "colors = [color_map[label] for label in labels]\n",
    "\n",
    "g = graphviz.Graph(filename='tree.svg', engine='neato')\n",
    "for node in optimizer.ct.nodes:\n",
    "    if node.isleaf:\n",
    "        g.node(str(node.ID), label='', shape='circle', style='filled', color=colors[node.ID])\n",
    "    else:\n",
    "        g.node(str(node.ID), label='', shape='point', style='filled', color='gray')\n",
    "    \n",
    "    if not node.isroot:\n",
    "        g.edge(str(node.parent.ID), str(node.ID))\n",
    "\n",
    "g.save('./figures/ct_graphviz.txt')"
   ]
  },
  {
   "cell_type": "markdown",
   "metadata": {},
   "source": [
    "## Generate data for comparison"
   ]
  },
  {
   "cell_type": "code",
   "execution_count": 7,
   "metadata": {},
   "outputs": [],
   "source": [
    "def generate_comparison_data(n_cells=130, n_loci=200, size=100, path='./comparison_data/'):\n",
    "    #np.random.seed(0)\n",
    "    if not os.path.exists(path):\n",
    "        warnings.warn('Target path does not exist and will be created.', UserWarning)\n",
    "        os.makedirs(path)\n",
    "    \n",
    "    for i in range(size):\n",
    "        generator = DataGenerator(n_cells, n_loci)\n",
    "        generator.random_tree()\n",
    "        generator.random_mutations(mut_prop=0.75, genotype_freq=[1/3, 1/3, 1/3])\n",
    "        ref, alt = generator.generate_reads()\n",
    "        \n",
    "        np.savetxt(os.path.join(path, 'ref_%i' % i), ref.T)\n",
    "        np.savetxt(os.path.join(path, 'alt_%i' % i), alt.T)\n",
    "        np.savetxt(os.path.join(path, 'parent_vec_%i' % i), generator.tree.parent_vec)\n",
    "        np.savetxt(os.path.join(path, 'mut_indicator_%i' % i), generator.mut_indicator.T)"
   ]
  },
  {
   "cell_type": "code",
   "execution_count": 8,
   "metadata": {},
   "outputs": [],
   "source": [
    "generate_comparison_data(size=1)"
   ]
  }
 ],
 "metadata": {
  "kernelspec": {
   "display_name": "Python 3 (ipykernel)",
   "language": "python",
   "name": "python3"
  },
  "language_info": {
   "codemirror_mode": {
    "name": "ipython",
    "version": 3
   },
   "file_extension": ".py",
   "mimetype": "text/x-python",
   "name": "python",
   "nbconvert_exporter": "python",
   "pygments_lexer": "ipython3",
   "version": "3.10.8"
  }
 },
 "nbformat": 4,
 "nbformat_minor": 2
}
