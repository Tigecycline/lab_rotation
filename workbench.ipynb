{
 "cells": [
  {
   "cell_type": "code",
   "execution_count": null,
   "id": "0aa423f1-42a5-4039-babd-6a367bc8df5f",
   "metadata": {
    "tags": []
   },
   "outputs": [],
   "source": [
    "import pandas as pd\n",
    "import numpy as np\n",
    "import scipy as sp\n",
    "import matplotlib.pyplot as plt\n",
    "#import seaborn as sns"
   ]
  },
  {
   "cell_type": "code",
   "execution_count": null,
   "id": "9e705554-3ac1-4870-afe7-375383cb8562",
   "metadata": {
    "tags": []
   },
   "outputs": [],
   "source": [
    "from random import random\n",
    "from tqdm.notebook import tqdm"
   ]
  },
  {
   "cell_type": "code",
   "execution_count": null,
   "id": "ba76eb97-3e5e-464c-b8b2-34824f54ae2a",
   "metadata": {},
   "outputs": [],
   "source": [
    "import time\n",
    "import multiprocess as mp"
   ]
  },
  {
   "cell_type": "markdown",
   "id": "c1ce9b3e-3f0a-4539-a3c0-bff77b6b35a4",
   "metadata": {
    "tags": []
   },
   "source": [
    "### Data analysis"
   ]
  },
  {
   "cell_type": "code",
   "execution_count": null,
   "id": "20256990-cec3-4aa7-b1ba-123e1a188cd9",
   "metadata": {},
   "outputs": [],
   "source": [
    "def heterozygosity_map(chromosome, fname = None):\n",
    "    ref, alt = read_data('./Data/glioblastoma_BT_S2/ref.csv', './Data/glioblastoma_BT_S2/alt.csv')\n",
    "    \n",
    "    ref_proportion = (ref + 1) / (ref + alt + 2) # add a dummy count to both ref and alt to avoid division by 0\n",
    "    alpha = 2 * np.arctan(ref + alt) / np.pi # hide loci without enough counts\n",
    "    \n",
    "    plt.figure(figsize=(24,16))\n",
    "    plt.imshow(ref_proportion.T, cmap = 'viridis', vmin = 0., vmax = 1., alpha = alpha.T) \n",
    "    # \"viridis\": yellow for 1, purple for 0, green/blue for 0.5 (https://matplotlib.org/3.5.1/tutorials/colors/colormaps.html)\n",
    "    plt.title(chromosome, fontsize = 17)\n",
    "    plt.xlabel('locus index', fontsize = 17)\n",
    "    plt.ylabel('cell index', fontsize = 17)\n",
    "    if fname is None: \n",
    "        fname = 'map_chr' + str(chromosome) + '.png'\n",
    "    plt.savefig('./figures/' + fname)"
   ]
  },
  {
   "cell_type": "raw",
   "id": "b4d58d17-0b66-49dd-bc63-a73f464e46f1",
   "metadata": {},
   "source": [
    "# proportion of entries that has at least one read (reference or alternative or both)\n",
    "np.sum(np.logical_or(np.array(df_ref), np.array(df_alt))) / df_ref.size\n",
    "# Conclustion: 70% of all entries have no read at all"
   ]
  },
  {
   "cell_type": "raw",
   "id": "0b265608-de43-40e4-ba28-fe01dab7de14",
   "metadata": {},
   "source": [
    "heterozygosity_map('chr1', save = True)"
   ]
  },
  {
   "cell_type": "raw",
   "id": "0c410337-5bb1-433f-80b0-86e3c703cf6f",
   "metadata": {
    "tags": []
   },
   "source": [
    "for chromosome in df_ref.index.get_level_values('chromosome').unique():\n",
    "    heterozygosity_map(chromosome)"
   ]
  },
  {
   "cell_type": "raw",
   "id": "9f20f0bc-a319-4d1a-af6e-ca0154f750da",
   "metadata": {},
   "source": [
    "plt.figure(figsize = (24, 16))\n",
    "plt.hist(coverages, bins = 1000)\n",
    "plt.yscale('log')\n",
    "plt.show()"
   ]
  },
  {
   "cell_type": "markdown",
   "id": "92a4bf55-a51a-4a6e-addc-5218ccf726a7",
   "metadata": {
    "tags": []
   },
   "source": [
    "### Data generator"
   ]
  },
  {
   "cell_type": "code",
   "execution_count": null,
   "id": "c8a2d9c1-69ff-4504-aa94-7369d81b8f10",
   "metadata": {},
   "outputs": [],
   "source": [
    "from data_generator import *\n",
    "from utilities import *"
   ]
  },
  {
   "cell_type": "code",
   "execution_count": null,
   "id": "bcf0fa99-2aa1-42ca-a0e7-e8ed281e9baf",
   "metadata": {},
   "outputs": [],
   "source": [
    "dg = DataGenerator(50, 400, coverage_sampler=coverage_sampler())\n",
    "dg.random_tree()\n",
    "dg.random_mutations(mut_prop = 0.5, genotype_freq = [1., 0., 0.])"
   ]
  },
  {
   "cell_type": "code",
   "execution_count": null,
   "id": "e63b1df5-3e4f-4265-8953-c79d338c8b8a",
   "metadata": {},
   "outputs": [],
   "source": [
    "ref_raw, alt_raw = dg.generate_reads()"
   ]
  },
  {
   "cell_type": "code",
   "execution_count": null,
   "id": "adae0980",
   "metadata": {},
   "outputs": [],
   "source": [
    "from mutation_detection import mut_type_posteriors"
   ]
  },
  {
   "cell_type": "code",
   "execution_count": null,
   "id": "ede30059",
   "metadata": {},
   "outputs": [],
   "source": [
    "posteriors = mut_type_posteriors(ref_raw, alt_raw, genotype_freq = {'R': 1/3, 'H': 1/3, 'A': 1/3})\n",
    "selected = np.where(np.sum(posteriors[:,3:], axis = 1) > 0.1)[0]\n",
    "ref, alt = ref_raw[:,selected], alt_raw[:,selected]"
   ]
  },
  {
   "cell_type": "code",
   "execution_count": null,
   "id": "44cbdc2e",
   "metadata": {},
   "outputs": [],
   "source": [
    "mut_type = np.argmax(posteriors[selected, 3:], axis = 1)\n",
    "gt1 = np.choose(mut_type, choices = ['R', 'H', 'H', 'A'])\n",
    "gt2 = np.choose(mut_type, choices = ['H', 'A', 'R', 'H'])"
   ]
  },
  {
   "cell_type": "code",
   "execution_count": null,
   "id": "da814e9b",
   "metadata": {},
   "outputs": [],
   "source": [
    "len(gt2)"
   ]
  },
  {
   "cell_type": "code",
   "execution_count": null,
   "id": "20c01a19",
   "metadata": {},
   "outputs": [],
   "source": [
    "# correct mutation and correct direction\n",
    "np.sum(np.logical_and(gt1 == dg.gt1[selected], gt2 == dg.gt2[selected]))"
   ]
  },
  {
   "cell_type": "code",
   "execution_count": null,
   "id": "88f5d7c3",
   "metadata": {},
   "outputs": [],
   "source": [
    "# correct mutation, either direction\n",
    "np.sum(np.logical_or(np.logical_and(gt1 == dg.gt1[selected], gt2 == dg.gt2[selected]), np.logical_and(gt2 == dg.gt1[selected], gt1 == dg.gt2[selected])))"
   ]
  },
  {
   "cell_type": "markdown",
   "id": "7fb88f10-e8ee-4a8f-9b33-323bb7407c57",
   "metadata": {},
   "source": [
    "### Tree inference with generated data"
   ]
  },
  {
   "cell_type": "code",
   "execution_count": null,
   "id": "b4407d92-9431-4d3d-adc4-1dd5910b0315",
   "metadata": {},
   "outputs": [],
   "source": [
    "from tree_inference import *\n",
    "from mutation_detection import likelihood_matrices\n",
    "from utilities import path_len_dist"
   ]
  },
  {
   "cell_type": "code",
   "execution_count": null,
   "id": "c159b6f9-e382-4135-9c4a-6319cff5bbc2",
   "metadata": {},
   "outputs": [],
   "source": [
    "ref, alt, gt1, gt2 = filter_mutations(ref_raw, alt_raw, method = 'threshold', t = 0.5)"
   ]
  },
  {
   "cell_type": "code",
   "execution_count": null,
   "id": "9f7ee444-b2de-4197-9723-a56e74fa637d",
   "metadata": {},
   "outputs": [],
   "source": [
    "likelihoods1, likelihoods2 = likelihood_matrices(ref, alt, gt1, gt2)"
   ]
  },
  {
   "cell_type": "markdown",
   "id": "5aacfb66-4de0-4e32-8965-e3a61a900655",
   "metadata": {},
   "source": [
    "#### True tree"
   ]
  },
  {
   "cell_type": "code",
   "execution_count": null,
   "id": "bc8a259e-716a-40a6-8894-0246e3f3ff9d",
   "metadata": {},
   "outputs": [],
   "source": [
    "optz = TreeOptimizer()\n",
    "optz.fit(likelihoods1, likelihoods2, reversible = True)\n",
    "optz.ct = dg.tree.copy()\n",
    "optz.ct.n_mut = optz.n_mut\n",
    "optz.update_ct()"
   ]
  },
  {
   "cell_type": "code",
   "execution_count": null,
   "id": "69d9c66b-f6a5-427e-ae18-c9e0b02c8ba7",
   "metadata": {},
   "outputs": [],
   "source": [
    "optz.ct_joint / likelihoods1.size"
   ]
  },
  {
   "cell_type": "code",
   "execution_count": null,
   "id": "bbd855d7-363b-4332-bd6e-5b2726c9bf20",
   "metadata": {},
   "outputs": [],
   "source": [
    "print('Distance matrix MSE to real tree:', path_len_dist(optz.ct, dg.tree))"
   ]
  },
  {
   "cell_type": "code",
   "execution_count": null,
   "id": "bbc81048-4fe3-4132-bdba-4646d79b2dee",
   "metadata": {},
   "outputs": [],
   "source": [
    "optz.mt.fit_structure(optz.ct)\n",
    "optz.mt_L[:,optz.mt.root.ID] = np.sum(optz.likelihoods1, axis = 1)\n",
    "optz.update_mt()"
   ]
  },
  {
   "cell_type": "code",
   "execution_count": null,
   "id": "04191901-7cbf-4a12-8832-3701e42b3d15",
   "metadata": {},
   "outputs": [],
   "source": [
    "optz.mt_joint / likelihoods1.size"
   ]
  },
  {
   "cell_type": "markdown",
   "id": "0d0d9b31-ad69-42a9-b389-3053011c43fe",
   "metadata": {},
   "source": [
    "#### All mutations reversible"
   ]
  },
  {
   "cell_type": "code",
   "execution_count": null,
   "id": "4983de45",
   "metadata": {},
   "outputs": [],
   "source": [
    "import matplotlib.pyplot as plt"
   ]
  },
  {
   "cell_type": "code",
   "execution_count": null,
   "id": "acd11917-9663-4779-a258-850b2ba632b6",
   "metadata": {
    "tags": []
   },
   "outputs": [],
   "source": [
    "optz = TreeOptimizer()\n",
    "optz.fit(likelihoods2, likelihoods1, reversible = True)\n",
    "print('Distance matrix MSE to real tree:', path_len_dist(optz.ct, dg.tree))"
   ]
  },
  {
   "cell_type": "code",
   "execution_count": null,
   "id": "d194d407-835a-48c8-964b-063d0fad0d91",
   "metadata": {},
   "outputs": [],
   "source": [
    "optz.optimize(spaces = ['c', 'm'])"
   ]
  },
  {
   "cell_type": "code",
   "execution_count": null,
   "id": "b8330454-e8fb-46e3-9673-a003854ed5a8",
   "metadata": {},
   "outputs": [],
   "source": [
    "mean_likelihoods = np.array(optz.likelihood_history) / likelihoods1.size\n",
    "plt.plot(mean_likelihoods)"
   ]
  },
  {
   "cell_type": "code",
   "execution_count": null,
   "id": "8e086bed-a82a-4cbf-b939-7d3269b8a135",
   "metadata": {},
   "outputs": [],
   "source": [
    "print('MSE of distance matrix:', path_len_dist(optz.ct, dg.tree))\n",
    "print('Cell tree mean loglikelihood:', optz.ct_joint / likelihoods1.size)\n",
    "print('Mutation tree mean loglikelihood:', optz.mt_joint / likelihoods1.size)"
   ]
  },
  {
   "cell_type": "markdown",
   "id": "1a49ec20-3e10-4e3f-a5ad-cd6eb4e00678",
   "metadata": {},
   "source": [
    "#### No mutation reversible"
   ]
  },
  {
   "cell_type": "code",
   "execution_count": null,
   "id": "2156f9a9-8801-4a9b-acd4-5200e969cf85",
   "metadata": {},
   "outputs": [],
   "source": [
    "optz = TreeOptimizer()\n",
    "optz.fit(likelihoods1, likelihoods2, reversible = False)\n",
    "print('Distance matrix MSE to real tree:', path_len_dist(optz.ct, dg.tree))"
   ]
  },
  {
   "cell_type": "code",
   "execution_count": null,
   "id": "dbc77849-5d56-4e81-8357-0c4c0dd0856b",
   "metadata": {},
   "outputs": [],
   "source": [
    "optz.optimize()"
   ]
  },
  {
   "cell_type": "code",
   "execution_count": null,
   "id": "3c44b5e0-78bb-49f3-8032-ecc4961f7b7d",
   "metadata": {},
   "outputs": [],
   "source": [
    "mean_likelihoods = np.array(optz.likelihood_history) / likelihoods1.size\n",
    "plt.plot(mean_likelihoods)"
   ]
  },
  {
   "cell_type": "code",
   "execution_count": null,
   "id": "3a64c61e-aa50-4a59-9f0d-42cf7fb5fa7e",
   "metadata": {},
   "outputs": [],
   "source": [
    "print('MSE of distance matrix:', path_len_dist(optz.ct, dg.tree))\n",
    "print('Cell tree mean loglikelihood:', optz.ct_joint / likelihoods1.size)\n",
    "print('Mutation tree mean loglikelihood:', optz.mt_joint / likelihoods1.size)"
   ]
  },
  {
   "cell_type": "markdown",
   "id": "21842d4e",
   "metadata": {},
   "source": [
    "### Other tests"
   ]
  },
  {
   "cell_type": "code",
   "execution_count": null,
   "id": "2728dfc1",
   "metadata": {},
   "outputs": [],
   "source": [
    "import matplotlib.pyplot as plt\n",
    "import numpy as np\n",
    "from utilities import *"
   ]
  },
  {
   "cell_type": "code",
   "execution_count": 7,
   "id": "e53070d4",
   "metadata": {},
   "outputs": [],
   "source": [
    "import numpy as np"
   ]
  },
  {
   "cell_type": "code",
   "execution_count": 10,
   "id": "b71e46c7",
   "metadata": {},
   "outputs": [],
   "source": [
    "dist_rev = np.load('./test_results/reversibility_50c_100m/dist_rev.npy')\n",
    "dist_irr = np.load('./test_results/reversibility_50c_100m/dist_irr.npy')"
   ]
  }
 ],
 "metadata": {
  "kernelspec": {
   "display_name": "Python 3.10.7 64-bit",
   "language": "python",
   "name": "python3"
  },
  "language_info": {
   "codemirror_mode": {
    "name": "ipython",
    "version": 3
   },
   "file_extension": ".py",
   "mimetype": "text/x-python",
   "name": "python",
   "nbconvert_exporter": "python",
   "pygments_lexer": "ipython3",
   "version": "3.10.8"
  },
  "vscode": {
   "interpreter": {
    "hash": "e7370f93d1d0cde622a1f8e1c04877d8463912d04d973331ad4851f04de6915a"
   }
  }
 },
 "nbformat": 4,
 "nbformat_minor": 5
}
