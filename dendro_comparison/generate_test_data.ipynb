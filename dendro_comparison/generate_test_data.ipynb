{
 "cells": [
  {
   "cell_type": "code",
   "execution_count": null,
   "metadata": {},
   "outputs": [],
   "source": [
    "import os, sys"
   ]
  },
  {
   "cell_type": "code",
   "execution_count": null,
   "metadata": {},
   "outputs": [],
   "source": [
    "sys.path.append('../')\n",
    "from tree_inference.utilities import *\n",
    "from tree_inference.tree_optimizer import TreeOptimizer\n",
    "from tree_inference.mutation_detection import filter_mutations, likelihood_matrices\n",
    "from tree_inference.data_generator import DataGenerator"
   ]
  },
  {
   "cell_type": "markdown",
   "metadata": {},
   "source": [
    "## Generate data for comparison"
   ]
  },
  {
   "cell_type": "code",
   "execution_count": null,
   "metadata": {},
   "outputs": [],
   "source": [
    "dg = DataGenerator(n_cells=130, n_loci=200)\n",
    "dg.generate_comparison_data(size=100)"
   ]
  },
  {
   "cell_type": "markdown",
   "metadata": {},
   "source": [
    "## Infer trees using own algorithm"
   ]
  },
  {
   "cell_type": "code",
   "execution_count": null,
   "metadata": {},
   "outputs": [],
   "source": [
    "def generate_parent_vec(path=None, n_tests=100):\n",
    "    if path is None:\n",
    "        path = './comparison_data/'\n",
    "    optimizer = TreeOptimizer()\n",
    "    for i in range(n_tests):\n",
    "        print(f'Running inference on dataset {i}...')\n",
    "\n",
    "        ref = np.loadtxt(os.path.join(path, 'ref_%i.txt' % i))\n",
    "        alt = np.loadtxt(os.path.join(path, 'alt_%i.txt' % i))\n",
    "        \n",
    "        ref, alt, gt1, gt2 = filter_mutations(ref, alt, method='threshold', t=0.5)\n",
    "        likelihoods1, likelihoods2 = likelihood_matrices(ref, alt, gt1, gt2)\n",
    "\n",
    "        optimizer.fit(likelihoods1, likelihoods2)\n",
    "        optimizer.optimize()\n",
    "\n",
    "        np.savetxt(os.path.join(path, f'inferred_parent_vec_{i}.txt'), optimizer.ct.parent_vec, fmt='%i')\n",
    "    \n",
    "    print('All done.')"
   ]
  },
  {
   "cell_type": "code",
   "execution_count": null,
   "metadata": {},
   "outputs": [],
   "source": [
    "generate_parent_vec()"
   ]
  }
 ],
 "metadata": {
  "kernelspec": {
   "display_name": "Python 3 (ipykernel)",
   "language": "python",
   "name": "python3"
  },
  "language_info": {
   "codemirror_mode": {
    "name": "ipython",
    "version": 3
   },
   "file_extension": ".py",
   "mimetype": "text/x-python",
   "name": "python",
   "nbconvert_exporter": "python",
   "pygments_lexer": "ipython3",
   "version": "3.10.8"
  }
 },
 "nbformat": 4,
 "nbformat_minor": 2
}
