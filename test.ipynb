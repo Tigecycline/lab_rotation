{
 "cells": [
  {
   "cell_type": "code",
   "execution_count": null,
   "id": "0aa423f1-42a5-4039-babd-6a367bc8df5f",
   "metadata": {
    "tags": []
   },
   "outputs": [],
   "source": [
    "import pandas as pd\n",
    "import numpy as np\n",
    "import scipy as sp\n",
    "import matplotlib.pyplot as plt\n",
    "#import seaborn as sns"
   ]
  },
  {
   "cell_type": "code",
   "execution_count": null,
   "id": "9e705554-3ac1-4870-afe7-375383cb8562",
   "metadata": {
    "tags": []
   },
   "outputs": [],
   "source": [
    "from random import random\n",
    "from tqdm.notebook import tqdm"
   ]
  },
  {
   "cell_type": "code",
   "execution_count": null,
   "id": "ba76eb97-3e5e-464c-b8b2-34824f54ae2a",
   "metadata": {},
   "outputs": [],
   "source": [
    "import time\n",
    "import multiprocess as mp"
   ]
  },
  {
   "cell_type": "markdown",
   "id": "c1ce9b3e-3f0a-4539-a3c0-bff77b6b35a4",
   "metadata": {
    "tags": []
   },
   "source": [
    "### Read data & preprocessing"
   ]
  },
  {
   "cell_type": "code",
   "execution_count": null,
   "id": "aa6877e3-3d2a-47f1-ac46-c1f909265ca1",
   "metadata": {},
   "outputs": [],
   "source": [
    "df_ref = pd.read_csv('./Data/glioblastoma_BT_S2/ref.csv', index_col = 0)\n",
    "df_alt = pd.read_csv('./Data/glioblastoma_BT_S2/alt.csv', index_col = 0)"
   ]
  },
  {
   "cell_type": "code",
   "execution_count": null,
   "id": "b0c578e5-dadf-49aa-ac69-dba3c5a916d6",
   "metadata": {},
   "outputs": [],
   "source": [
    "# use multi-index for easier handling of the data\n",
    "df_ref['chromosome'] = [locus.split('_')[0] for locus in df_ref.index]\n",
    "df_ref['locus'] = [locus.split('_')[1] for locus in df_ref.index]\n",
    "df_ref = df_ref.set_index(['chromosome', 'locus'])\n",
    "\n",
    "df_alt['chromosome'] = [locus.split('_')[0] for locus in df_alt.index]\n",
    "df_alt['locus'] = [locus.split('_')[1] for locus in df_alt.index]\n",
    "df_alt = df_alt.set_index(['chromosome', 'locus'])"
   ]
  },
  {
   "cell_type": "raw",
   "id": "20256990-cec3-4aa7-b1ba-123e1a188cd9",
   "metadata": {},
   "source": [
    "def heterozygosity_map(chromosome, save = False):\n",
    "    ref = np.array(df_ref.loc[chromosome,:])\n",
    "    alt = np.array(df_alt.loc[chromosome,:])\n",
    "    \n",
    "    ref_proportion = (ref + 1) / (ref + alt + 2) # add a dummy count to both ref and alt to avoid division by 0\n",
    "    alpha = 2 * np.arctan(ref + alt) / np.pi # hide loci without enough counts\n",
    "    \n",
    "    plt.figure(figsize=(24,16))\n",
    "    plt.imshow(ref_proportion.T, cmap = 'viridis', vmin = 0., vmax = 1., alpha = alpha.T) \n",
    "    # \"viridis\": yellow for 1, purple for 0, green/blue for 0.5 (https://matplotlib.org/3.5.1/tutorials/colors/colormaps.html)\n",
    "    plt.title(chromosome, fontsize = 17)\n",
    "    plt.xlabel('locus index', fontsize = 17)\n",
    "    plt.ylabel('cell index', fontsize = 17)\n",
    "    if save: \n",
    "        plt.savefig('chromosome' + '.png')\n",
    "    plt.show()"
   ]
  },
  {
   "cell_type": "raw",
   "id": "b4d58d17-0b66-49dd-bc63-a73f464e46f1",
   "metadata": {},
   "source": [
    "# proportion of entries that has at least one read (reference or alternative or both)\n",
    "np.sum(np.logical_or(np.array(df_ref), np.array(df_alt))) / df_ref.size\n",
    "# Conclustion: 70% of all entries have no read at all"
   ]
  },
  {
   "cell_type": "raw",
   "id": "0b265608-de43-40e4-ba28-fe01dab7de14",
   "metadata": {},
   "source": [
    "heterozygosity_map('chr1', save = True)"
   ]
  },
  {
   "cell_type": "raw",
   "id": "0c410337-5bb1-433f-80b0-86e3c703cf6f",
   "metadata": {
    "tags": []
   },
   "source": [
    "for chromosome in df_ref.index.get_level_values('chromosome').unique():\n",
    "    heterozygosity_map(chromosome)"
   ]
  },
  {
   "cell_type": "raw",
   "id": "9f20f0bc-a319-4d1a-af6e-ca0154f750da",
   "metadata": {},
   "source": [
    "plt.figure(figsize = (24, 16))\n",
    "plt.hist(coverages, bins = 1000)\n",
    "plt.yscale('log')\n",
    "plt.show()"
   ]
  },
  {
   "cell_type": "markdown",
   "id": "4f830e4c-a725-4dd1-99dd-66b4ec5f3efa",
   "metadata": {},
   "source": [
    "### Mutation detection"
   ]
  },
  {
   "cell_type": "code",
   "execution_count": null,
   "id": "f181fd2d-d8c1-42b9-9c2f-2650fa6b2711",
   "metadata": {},
   "outputs": [],
   "source": [
    "from mutation_detection import *\n",
    "from LOH_detection import *"
   ]
  },
  {
   "cell_type": "code",
   "execution_count": null,
   "id": "a2b16604-9126-4fca-9050-88d84dd9352c",
   "metadata": {},
   "outputs": [],
   "source": [
    "ref = df_ref.to_numpy(dtype = float)\n",
    "alt = df_alt.to_numpy(dtype = float)\n",
    "coverages = ref.flatten() + alt.flatten()"
   ]
  },
  {
   "cell_type": "raw",
   "id": "08ff1696-7ad4-4554-96b8-94f4bd94a8e6",
   "metadata": {},
   "source": [
    "def test_thread_numbers(max_n_threads, n_loci = 50):  \n",
    "    time_costs = np.zeros(max_n_threads)\n",
    "    for n in tqdm(range(1,max_n_threads+1)): \n",
    "        start_time = time.time()\n",
    "        get_posteriors(ref[0:n_loci,:], alt[0:n_loci,:], n_threads = n)\n",
    "        time_costs[n-1] = time.time() - start_time\n",
    "    \n",
    "    return time_costs"
   ]
  },
  {
   "cell_type": "raw",
   "id": "f0abadad-f587-4857-83d0-3641f6b3e544",
   "metadata": {
    "tags": []
   },
   "source": [
    "time_costs = test_thread_numbers(12)\n",
    "\n",
    "plt.figure(figsize = (8,6))\n",
    "plt.plot(np.array(range(1, 13)), time_costs)\n",
    "plt.xlabel('number of threads')\n",
    "plt.ylabel('runtime (s)')\n",
    "plt.grid()\n",
    "plt.show()"
   ]
  },
  {
   "cell_type": "raw",
   "id": "99bb33b3-6272-4c98-8a72-9022845f030c",
   "metadata": {},
   "source": [
    "# expected runtime (in minutes) to run on the complete dataset\n",
    "time_costs[5] / 50 * ref.shape[0] / 60"
   ]
  },
  {
   "cell_type": "code",
   "execution_count": null,
   "id": "0d1e993b-313b-43ef-a9aa-10e79cc0c001",
   "metadata": {},
   "outputs": [],
   "source": [
    "ref.shape"
   ]
  },
  {
   "cell_type": "code",
   "execution_count": null,
   "id": "2cfeee76-eda9-404d-b71c-0a6576764aa5",
   "metadata": {},
   "outputs": [],
   "source": [
    "(1 - 1/(2*1168 - 2)**2) ** 16153"
   ]
  },
  {
   "cell_type": "code",
   "execution_count": null,
   "id": "c2859045-57b5-4a7f-9041-3fdf25cdaea6",
   "metadata": {},
   "outputs": [],
   "source": [
    "get_composition_priors(10, genotype_freq = {'R': 1/3, 'H': 1/3, 'A': 1/3}, mutation_rate = 0.25)"
   ]
  },
  {
   "cell_type": "code",
   "execution_count": null,
   "id": "85cb5fd1-a07a-4768-8ac6-814afb902421",
   "metadata": {},
   "outputs": [],
   "source": [
    "start_time = time.time()\n",
    "posteriors = get_posteriors(ref, alt, n_threads = 6)\n",
    "print('Runtime:', (time.time() - start_time) / 60, 'min')\n",
    "pd.DataFrame(posteriors, columns = ['R', 'H', 'A', 'RH', 'HA'], index = df_ref.index).to_csv('./posteriors.csv')"
   ]
  },
  {
   "cell_type": "code",
   "execution_count": null,
   "id": "41b461ea-4d8a-433a-a56d-9396b221119c",
   "metadata": {},
   "outputs": [],
   "source": [
    "df_posteriors = pd.read_csv('./posteriors.csv', index_col = (0,1))\n",
    "posteriors = df_posteriors.to_numpy()"
   ]
  },
  {
   "cell_type": "code",
   "execution_count": null,
   "id": "9fe71449-4746-478f-a0cf-850e443334b1",
   "metadata": {},
   "outputs": [],
   "source": [
    "mutated_idx, mut_type_idx = np.where(posteriors[:,3:] > 1 - 1 / posteriors.shape[0])\n",
    "n_mutated = mutated_idx.size\n",
    "homos = [['R', 'A'][i] for i in mut_type_idx]"
   ]
  },
  {
   "cell_type": "code",
   "execution_count": null,
   "id": "2b598086-bbf1-4948-863f-dd23a7367428",
   "metadata": {},
   "outputs": [],
   "source": [
    "corr_posteriors = get_corr_posteriors(ref[mutated_idx,:], alt[mutated_idx,:], homos, corr_prior = 1/2) "
   ]
  },
  {
   "cell_type": "code",
   "execution_count": null,
   "id": "090bf80e-5cb8-4e99-9973-592531e821bc",
   "metadata": {},
   "outputs": [],
   "source": [
    "pd.DataFrame(data = {'correlation posterior': np.concatenate((corr_posteriors, [0])), 'mutation type': ['H' + h for h in homos]}, \n",
    "             index = df_posteriors.index[mutated_idx]).to_csv('./corr_posteriors.csv')"
   ]
  },
  {
   "cell_type": "markdown",
   "id": "92a4bf55-a51a-4a6e-addc-5218ccf726a7",
   "metadata": {},
   "source": [
    "### Data Generator"
   ]
  },
  {
   "cell_type": "code",
   "execution_count": 11,
   "id": "c8a2d9c1-69ff-4504-aa94-7369d81b8f10",
   "metadata": {},
   "outputs": [],
   "source": [
    "from data_generator import *"
   ]
  },
  {
   "cell_type": "code",
   "execution_count": 12,
   "id": "bcf0fa99-2aa1-42ca-a0e7-e8ed281e9baf",
   "metadata": {},
   "outputs": [],
   "source": [
    "dg = DataGenerator(32, 100, forbid_root_mut = True)"
   ]
  },
  {
   "cell_type": "code",
   "execution_count": 13,
   "id": "e63b1df5-3e4f-4265-8953-c79d338c8b8a",
   "metadata": {},
   "outputs": [
    {
     "data": {
      "application/vnd.jupyter.widget-view+json": {
       "model_id": "9a090637c1544ab9acdc8fafabc2f8bd",
       "version_major": 2,
       "version_minor": 0
      },
      "text/plain": [
       "  0%|          | 0/32 [00:00<?, ?it/s]"
      ]
     },
     "metadata": {},
     "output_type": "display_data"
    }
   ],
   "source": [
    "ref, alt = dg.generate_reads()"
   ]
  },
  {
   "cell_type": "raw",
   "id": "8ee817ad-313f-420a-af6d-632a5a22b53e",
   "metadata": {},
   "source": [
    "dg.tree.to_graphviz()"
   ]
  },
  {
   "cell_type": "raw",
   "id": "7572021b-7c16-40fb-88a7-29c9ac66ca75",
   "metadata": {},
   "source": [
    "mt.to_graphviz()"
   ]
  },
  {
   "cell_type": "markdown",
   "id": "7fb88f10-e8ee-4a8f-9b33-323bb7407c57",
   "metadata": {},
   "source": [
    "### Tree Inference Test"
   ]
  },
  {
   "cell_type": "code",
   "execution_count": 14,
   "id": "c4e0d73c-e217-4217-a267-b1cc3d906473",
   "metadata": {},
   "outputs": [],
   "source": [
    "from tree import *\n",
    "from tree_inference import *"
   ]
  },
  {
   "cell_type": "code",
   "execution_count": 15,
   "id": "59ff4581-5694-4473-969d-1832c7cf281a",
   "metadata": {},
   "outputs": [],
   "source": [
    "likelihoods1, likelihoods2 = get_likelihoods(ref, alt, dg.gt1, dg.gt2)"
   ]
  },
  {
   "cell_type": "code",
   "execution_count": 42,
   "id": "e89dae0d-2050-4c8f-9136-70234ec43fb2",
   "metadata": {},
   "outputs": [
    {
     "name": "stdout",
     "output_type": "stream",
     "text": [
      "[Cell Tree] Converged after 178 steps\n",
      "[Mutation Tree] Converged after 65 steps\n",
      "[Cell Tree] Converged after 65 steps\n",
      "[Mutation Tree] Converged after 112 steps\n",
      "[Cell Tree] Converged after 127 steps\n",
      "[Mutation Tree] Converged after 65 steps\n",
      "[Cell Tree] Converged after 118 steps\n",
      "[Mutation Tree] Converged after 65 steps\n",
      "[Cell Tree] Converged after 81 steps\n",
      "[Mutation Tree] Converged after 67 steps\n",
      "[Cell Tree] Converged after 293 steps\n",
      "[Mutation Tree] Converged after 125 steps\n",
      "[Cell Tree] Converged after 97 steps\n",
      "[Mutation Tree] Converged after 65 steps\n",
      "[Cell Tree] Converged after 82 steps\n",
      "[Mutation Tree] Converged after 65 steps\n",
      "[Cell Tree] Converged after 65 steps\n",
      "[Mutation Tree] Converged after 80 steps\n",
      "[Cell Tree] Converged after 64 steps\n",
      "[Mutation Tree] Converged after 64 steps\n"
     ]
    }
   ],
   "source": [
    "ct, mt, likelihoods, space = optimize_tree(likelihoods1, likelihoods2)"
   ]
  },
  {
   "cell_type": "code",
   "execution_count": 43,
   "id": "a87be531-8024-4bb3-832a-2553d0b5fa49",
   "metadata": {},
   "outputs": [
    {
     "name": "stdout",
     "output_type": "stream",
     "text": [
      "[-4839.310480048074, -4663.389287747373, -4657.991063067159, -4656.880055099756, -4640.0918792938255, -4632.55033964497, -4622.032450107297, -4606.7232310307545, -4603.257501973448, -4573.093700269636, -4497.464623711356, -4458.201970071382, -4451.482895388203, -4449.903515615623, -4760.8471399451955, -4431.281479248771, -4449.903515615623, -4315.633799406907, -4431.281479248771, -4413.052360402255, -4408.194625961178, -4315.633799406907, -4311.836027339849, -4305.462494820972, -4300.946668199819, -4408.194625961178, -4372.1813452327415, -4300.946668199819, -4295.2830379739025, -4290.760820856844, -4287.039804633634, -4372.1813452327415, -4316.1867509278, -4287.039804633634, -4281.902391535313, -4316.1867509278, -4289.656187699958, -4281.902391535313, -4277.830385070799, -4274.364656013492, -4273.09984535799, -4254.358267605255, -4250.40348168344, -4249.999562369627, -4248.129606696329, -4242.195889695183, -4289.656187699958, -4272.28099429453, -4271.238286182297, -4242.195889695183, -4232.444126428113, -4231.471605629614, -4229.590283557043, -4271.238286182297, -4237.898630589787, -4229.590283557043, -4226.265716930454, -4237.898630589787, -4229.17326817663, -4226.265716930454, -4224.159746152665, -4229.17326817663, -4224.159746152666, -4224.159746152665, -4224.159746152666]\n"
     ]
    }
   ],
   "source": [
    "print(likelihoods)"
   ]
  },
  {
   "cell_type": "code",
   "execution_count": 44,
   "id": "e3d138a5-48ad-48d9-b0b1-8b1d397d18a6",
   "metadata": {},
   "outputs": [],
   "source": [
    "ct = CellTree()\n",
    "ct.fit(likelihoods1, likelihoods2)"
   ]
  },
  {
   "cell_type": "code",
   "execution_count": 45,
   "id": "a3c4b410-335e-40ea-ac5a-8635cab9da6f",
   "metadata": {},
   "outputs": [
    {
     "name": "stdout",
     "output_type": "stream",
     "text": [
      "[Cell Tree] Converged after 540 steps\n",
      "[-4832.907486195884, -4829.205148393992, -4821.368075037535, -4815.927703106029, -4809.440861306346, -4805.597361610604, -4772.71216493346, -4768.119655564058, -4751.594809763706, -4744.982362426543, -4738.576326080189, -4728.884007507773, -4707.165643667596, -4706.206720510854, -4681.64664795244, -4681.266464392855, -4675.520131811273, -4657.508124024175, -4647.746248770896, -4643.430774010308, -4635.8178094349605, -4621.845519162217, -4619.953644358211, -4600.182882794953, -4598.719501707329, -4568.977492490231, -4568.349140701806, -4563.053860806422, -4546.15626909391, -4544.595142755021, -4543.37674535257, -4536.766346409959, -4530.531928712946, -4526.118153383954, -4524.8486120987845, -4520.836657509468, -4520.488532567106, -4500.52549489386, -4499.184975835583, -4480.658454639122, -4480.254535325309, -4478.955893839186, -4474.936464555008, -4474.740314073643, -4458.198253731008, -4455.783053867041, -4447.749452956779, -4447.556016154675, -4446.507958755946, -4438.440699156428, -4436.207426139882, -4426.957867133186, -4422.692137903585, -4419.018167148214, -4406.00144551475, -4396.581116065954, -4383.093148473394, -4382.025927033294, -4380.756385748124, -4378.719263212943]\n"
     ]
    }
   ],
   "source": [
    "history = ct.hill_climb()\n",
    "print(history)"
   ]
  },
  {
   "cell_type": "code",
   "execution_count": 46,
   "id": "bbc708ec-2231-4c72-b3c4-ff2cefb7df9a",
   "metadata": {},
   "outputs": [
    {
     "data": {
      "text/plain": [
       "-4378.719263212943"
      ]
     },
     "execution_count": 46,
     "metadata": {},
     "output_type": "execute_result"
    }
   ],
   "source": [
    "ct.likelihood"
   ]
  },
  {
   "cell_type": "raw",
   "id": "5481d409-eb98-43b7-bc9d-dadbb49fd546",
   "metadata": {},
   "source": [
    "mt = MutationTree(ct)\n",
    "mt.fit(likelihoods1, likelihoods2)"
   ]
  },
  {
   "cell_type": "raw",
   "id": "af7704b2-555f-4937-840a-bdbc92306531",
   "metadata": {},
   "source": [
    "history = mt.hill_climb()\n",
    "print(history)"
   ]
  },
  {
   "cell_type": "code",
   "execution_count": 47,
   "id": "759f3bcd-7c54-43b6-86fc-9b4dbc8b100e",
   "metadata": {},
   "outputs": [],
   "source": [
    "# likelihood of true tree\n",
    "dg.tree.fit(likelihoods1, likelihoods2)"
   ]
  },
  {
   "cell_type": "raw",
   "id": "bda8f290-ed0a-421e-b991-f74d2a1e1aab",
   "metadata": {},
   "source": [
    "dg.tree.to_graphviz()"
   ]
  },
  {
   "cell_type": "code",
   "execution_count": 48,
   "id": "21e5f57c-1733-4608-a77c-1eb17e287b8d",
   "metadata": {},
   "outputs": [
    {
     "data": {
      "text/plain": [
       "-4204.484415429013"
      ]
     },
     "execution_count": 48,
     "metadata": {},
     "output_type": "execute_result"
    }
   ],
   "source": [
    "dg.tree.likelihood"
   ]
  },
  {
   "cell_type": "markdown",
   "id": "3f95af0a-1d47-4c21-940c-4a35003dee55",
   "metadata": {},
   "source": [
    "### Tree Test"
   ]
  },
  {
   "cell_type": "raw",
   "id": "f7887523-39ea-4c3b-bec9-d3aa10179b8c",
   "metadata": {},
   "source": [
    "df_corr = pd.read_csv('./corr_posteriors.csv', index_col = (0,1))\n",
    "corr_posteriors = df_corr['correlation posterior'].to_numpy()"
   ]
  },
  {
   "cell_type": "raw",
   "id": "65fe8497-b29c-43d5-ae66-1d223e60cee8",
   "metadata": {},
   "source": [
    "df_corr"
   ]
  },
  {
   "cell_type": "raw",
   "id": "858eb813-52f3-4962-8956-95e7ecfbb75e",
   "metadata": {},
   "source": [
    "chromosome = 'chr12'\n",
    "plt.figure(figsize = (24,4))\n",
    "plt.plot(corr_posteriors[df_corr.index.get_level_values(0) == chromosome])\n",
    "plt.show()"
   ]
  },
  {
   "cell_type": "code",
   "execution_count": 8,
   "id": "5138f04a-4f2c-4f95-8d2d-b9aed43ca1d4",
   "metadata": {},
   "outputs": [],
   "source": [
    "from tree import *"
   ]
  },
  {
   "cell_type": "code",
   "execution_count": 14,
   "id": "819b101c-13dc-4f2a-9d43-2a333b315e84",
   "metadata": {},
   "outputs": [
    {
     "data": {
      "image/svg+xml": [
       "<?xml version=\"1.0\" encoding=\"UTF-8\" standalone=\"no\"?>\n",
       "<!DOCTYPE svg PUBLIC \"-//W3C//DTD SVG 1.1//EN\"\n",
       " \"http://www.w3.org/Graphics/SVG/1.1/DTD/svg11.dtd\">\n",
       "<!-- Generated by graphviz version 2.48.0 (0)\n",
       " -->\n",
       "<!-- Pages: 1 -->\n",
       "<svg width=\"206pt\" height=\"300pt\"\n",
       " viewBox=\"0.00 0.00 206.00 299.60\" xmlns=\"http://www.w3.org/2000/svg\" xmlns:xlink=\"http://www.w3.org/1999/xlink\">\n",
       "<g id=\"graph0\" class=\"graph\" transform=\"scale(1 1) rotate(0) translate(4 295.6)\">\n",
       "<polygon fill=\"white\" stroke=\"transparent\" points=\"-4,4 -4,-295.6 202,-295.6 202,4 -4,4\"/>\n",
       "<!-- 0 -->\n",
       "<g id=\"node1\" class=\"node\">\n",
       "<title>0</title>\n",
       "<ellipse fill=\"none\" stroke=\"black\" cx=\"18\" cy=\"-90\" rx=\"18\" ry=\"18\"/>\n",
       "<text text-anchor=\"middle\" x=\"18\" y=\"-86.3\" font-family=\"Times,serif\" font-size=\"14.00\">0</text>\n",
       "</g>\n",
       "<!-- 7 -->\n",
       "<g id=\"node2\" class=\"node\">\n",
       "<title>7</title>\n",
       "<ellipse fill=\"gray\" stroke=\"gray\" cx=\"72\" cy=\"-162\" rx=\"18\" ry=\"18\"/>\n",
       "<text text-anchor=\"middle\" x=\"72\" y=\"-158.3\" font-family=\"Times,serif\" font-size=\"14.00\">7</text>\n",
       "</g>\n",
       "<!-- 7&#45;&gt;0 -->\n",
       "<g id=\"edge1\" class=\"edge\">\n",
       "<title>7&#45;&gt;0</title>\n",
       "<path fill=\"none\" stroke=\"black\" d=\"M61.33,-147.17C53.79,-137.39 43.52,-124.08 34.87,-112.87\"/>\n",
       "<polygon fill=\"black\" stroke=\"black\" points=\"37.53,-110.58 28.65,-104.8 31.98,-114.86 37.53,-110.58\"/>\n",
       "</g>\n",
       "<!-- 6 -->\n",
       "<g id=\"node6\" class=\"node\">\n",
       "<title>6</title>\n",
       "<ellipse fill=\"gray\" stroke=\"gray\" cx=\"72\" cy=\"-90\" rx=\"18\" ry=\"18\"/>\n",
       "<text text-anchor=\"middle\" x=\"72\" y=\"-86.3\" font-family=\"Times,serif\" font-size=\"14.00\">6</text>\n",
       "</g>\n",
       "<!-- 7&#45;&gt;6 -->\n",
       "<g id=\"edge7\" class=\"edge\">\n",
       "<title>7&#45;&gt;6</title>\n",
       "<path fill=\"none\" stroke=\"black\" d=\"M72,-143.7C72,-135.98 72,-126.71 72,-118.11\"/>\n",
       "<polygon fill=\"black\" stroke=\"black\" points=\"75.5,-118.1 72,-108.1 68.5,-118.1 75.5,-118.1\"/>\n",
       "</g>\n",
       "<!-- 1 -->\n",
       "<g id=\"node3\" class=\"node\">\n",
       "<title>1</title>\n",
       "<ellipse fill=\"none\" stroke=\"black\" cx=\"126\" cy=\"-90\" rx=\"18\" ry=\"18\"/>\n",
       "<text text-anchor=\"middle\" x=\"126\" y=\"-86.3\" font-family=\"Times,serif\" font-size=\"14.00\">1</text>\n",
       "</g>\n",
       "<!-- 5 -->\n",
       "<g id=\"node4\" class=\"node\">\n",
       "<title>5</title>\n",
       "<ellipse fill=\"gray\" stroke=\"gray\" cx=\"126\" cy=\"-162\" rx=\"18\" ry=\"18\"/>\n",
       "<text text-anchor=\"middle\" x=\"126\" y=\"-158.3\" font-family=\"Times,serif\" font-size=\"14.00\">5</text>\n",
       "</g>\n",
       "<!-- 5&#45;&gt;1 -->\n",
       "<g id=\"edge2\" class=\"edge\">\n",
       "<title>5&#45;&gt;1</title>\n",
       "<path fill=\"none\" stroke=\"black\" d=\"M126,-143.7C126,-135.98 126,-126.71 126,-118.11\"/>\n",
       "<polygon fill=\"black\" stroke=\"black\" points=\"129.5,-118.1 126,-108.1 122.5,-118.1 129.5,-118.1\"/>\n",
       "</g>\n",
       "<!-- 4 -->\n",
       "<g id=\"node8\" class=\"node\">\n",
       "<title>4</title>\n",
       "<ellipse fill=\"none\" stroke=\"black\" cx=\"180\" cy=\"-90\" rx=\"18\" ry=\"18\"/>\n",
       "<text text-anchor=\"middle\" x=\"180\" y=\"-86.3\" font-family=\"Times,serif\" font-size=\"14.00\">4</text>\n",
       "</g>\n",
       "<!-- 5&#45;&gt;4 -->\n",
       "<g id=\"edge5\" class=\"edge\">\n",
       "<title>5&#45;&gt;4</title>\n",
       "<path fill=\"none\" stroke=\"black\" d=\"M136.67,-147.17C144.21,-137.39 154.48,-124.08 163.13,-112.87\"/>\n",
       "<polygon fill=\"black\" stroke=\"black\" points=\"166.02,-114.86 169.35,-104.8 160.47,-110.58 166.02,-114.86\"/>\n",
       "</g>\n",
       "<!-- 2 -->\n",
       "<g id=\"node5\" class=\"node\">\n",
       "<title>2</title>\n",
       "<ellipse fill=\"none\" stroke=\"black\" cx=\"45\" cy=\"-18\" rx=\"18\" ry=\"18\"/>\n",
       "<text text-anchor=\"middle\" x=\"45\" y=\"-14.3\" font-family=\"Times,serif\" font-size=\"14.00\">2</text>\n",
       "</g>\n",
       "<!-- 6&#45;&gt;2 -->\n",
       "<g id=\"edge3\" class=\"edge\">\n",
       "<title>6&#45;&gt;2</title>\n",
       "<path fill=\"none\" stroke=\"black\" d=\"M65.74,-72.76C62.5,-64.37 58.47,-53.93 54.83,-44.5\"/>\n",
       "<polygon fill=\"black\" stroke=\"black\" points=\"58.09,-43.22 51.23,-35.15 51.56,-45.74 58.09,-43.22\"/>\n",
       "</g>\n",
       "<!-- 3 -->\n",
       "<g id=\"node7\" class=\"node\">\n",
       "<title>3</title>\n",
       "<ellipse fill=\"none\" stroke=\"black\" cx=\"99\" cy=\"-18\" rx=\"18\" ry=\"18\"/>\n",
       "<text text-anchor=\"middle\" x=\"99\" y=\"-14.3\" font-family=\"Times,serif\" font-size=\"14.00\">3</text>\n",
       "</g>\n",
       "<!-- 6&#45;&gt;3 -->\n",
       "<g id=\"edge4\" class=\"edge\">\n",
       "<title>6&#45;&gt;3</title>\n",
       "<path fill=\"none\" stroke=\"black\" d=\"M78.26,-72.76C81.5,-64.37 85.53,-53.93 89.17,-44.5\"/>\n",
       "<polygon fill=\"black\" stroke=\"black\" points=\"92.44,-45.74 92.77,-35.15 85.91,-43.22 92.44,-45.74\"/>\n",
       "</g>\n",
       "<!-- 8 -->\n",
       "<g id=\"node9\" class=\"node\">\n",
       "<title>8</title>\n",
       "<ellipse fill=\"gray\" stroke=\"gray\" cx=\"99\" cy=\"-234\" rx=\"18\" ry=\"18\"/>\n",
       "<text text-anchor=\"middle\" x=\"99\" y=\"-230.3\" font-family=\"Times,serif\" font-size=\"14.00\">8</text>\n",
       "</g>\n",
       "<!-- 8&#45;&gt;7 -->\n",
       "<g id=\"edge8\" class=\"edge\">\n",
       "<title>8&#45;&gt;7</title>\n",
       "<path fill=\"none\" stroke=\"black\" d=\"M92.74,-216.76C89.5,-208.37 85.47,-197.93 81.83,-188.5\"/>\n",
       "<polygon fill=\"black\" stroke=\"black\" points=\"85.09,-187.22 78.23,-179.15 78.56,-189.74 85.09,-187.22\"/>\n",
       "</g>\n",
       "<!-- 8&#45;&gt;5 -->\n",
       "<g id=\"edge6\" class=\"edge\">\n",
       "<title>8&#45;&gt;5</title>\n",
       "<path fill=\"none\" stroke=\"black\" d=\"M105.26,-216.76C108.5,-208.37 112.53,-197.93 116.17,-188.5\"/>\n",
       "<polygon fill=\"black\" stroke=\"black\" points=\"119.44,-189.74 119.77,-179.15 112.91,-187.22 119.44,-189.74\"/>\n",
       "</g>\n",
       "<!-- dummy -->\n",
       "<g id=\"node10\" class=\"node\">\n",
       "<title>dummy</title>\n",
       "<ellipse fill=\"black\" stroke=\"black\" cx=\"99\" cy=\"-289.8\" rx=\"1.8\" ry=\"1.8\"/>\n",
       "</g>\n",
       "<!-- dummy&#45;&gt;8 -->\n",
       "<g id=\"edge9\" class=\"edge\">\n",
       "<title>dummy&#45;&gt;8</title>\n",
       "<path fill=\"none\" stroke=\"black\" d=\"M99,-287.87C99,-284.64 99,-273.55 99,-262.35\"/>\n",
       "<polygon fill=\"black\" stroke=\"black\" points=\"102.5,-262.26 99,-252.26 95.5,-262.26 102.5,-262.26\"/>\n",
       "</g>\n",
       "</g>\n",
       "</svg>\n"
      ],
      "text/plain": [
       "<graphviz.graphs.Digraph at 0x7f26a29ae260>"
      ]
     },
     "execution_count": 14,
     "metadata": {},
     "output_type": "execute_result"
    }
   ],
   "source": [
    "ct = CellTree(5)\n",
    "ct.to_graphviz()"
   ]
  },
  {
   "cell_type": "code",
   "execution_count": 15,
   "id": "c9ba384a-7028-4f81-a5b9-d3507972effa",
   "metadata": {},
   "outputs": [
    {
     "name": "stdout",
     "output_type": "stream",
     "text": [
      "1\n",
      "4\n",
      "5\n",
      "0\n",
      "2\n",
      "3\n",
      "6\n",
      "7\n",
      "8\n"
     ]
    }
   ],
   "source": [
    "for node in ct.root.reverse_DFS: \n",
    "    print(node.ID)"
   ]
  },
  {
   "cell_type": "code",
   "execution_count": 14,
   "id": "0900420d-49e4-462b-92ec-2a061b3e2b23",
   "metadata": {},
   "outputs": [
    {
     "data": {
      "image/svg+xml": [
       "<?xml version=\"1.0\" encoding=\"UTF-8\" standalone=\"no\"?>\n",
       "<!DOCTYPE svg PUBLIC \"-//W3C//DTD SVG 1.1//EN\"\n",
       " \"http://www.w3.org/Graphics/SVG/1.1/DTD/svg11.dtd\">\n",
       "<!-- Generated by graphviz version 2.48.0 (0)\n",
       " -->\n",
       "<!-- Pages: 1 -->\n",
       "<svg width=\"125pt\" height=\"372pt\"\n",
       " viewBox=\"0.00 0.00 125.00 371.60\" xmlns=\"http://www.w3.org/2000/svg\" xmlns:xlink=\"http://www.w3.org/1999/xlink\">\n",
       "<g id=\"graph0\" class=\"graph\" transform=\"scale(1 1) rotate(0) translate(4 367.6)\">\n",
       "<polygon fill=\"white\" stroke=\"transparent\" points=\"-4,4 -4,-367.6 121,-367.6 121,4 -4,4\"/>\n",
       "<!-- 0 -->\n",
       "<g id=\"node1\" class=\"node\">\n",
       "<title>0</title>\n",
       "<ellipse fill=\"none\" stroke=\"black\" cx=\"18\" cy=\"-18\" rx=\"18\" ry=\"18\"/>\n",
       "<text text-anchor=\"middle\" x=\"18\" y=\"-14.3\" font-family=\"Times,serif\" font-size=\"14.00\">0</text>\n",
       "</g>\n",
       "<!-- 7 -->\n",
       "<g id=\"node2\" class=\"node\">\n",
       "<title>7</title>\n",
       "<ellipse fill=\"gray\" stroke=\"gray\" cx=\"45\" cy=\"-90\" rx=\"18\" ry=\"18\"/>\n",
       "<text text-anchor=\"middle\" x=\"45\" y=\"-86.3\" font-family=\"Times,serif\" font-size=\"14.00\">7</text>\n",
       "</g>\n",
       "<!-- 7&#45;&gt;0 -->\n",
       "<g id=\"edge1\" class=\"edge\">\n",
       "<title>7&#45;&gt;0</title>\n",
       "<path fill=\"none\" stroke=\"black\" d=\"M38.74,-72.76C35.5,-64.37 31.47,-53.93 27.83,-44.5\"/>\n",
       "<polygon fill=\"black\" stroke=\"black\" points=\"31.09,-43.22 24.23,-35.15 24.56,-45.74 31.09,-43.22\"/>\n",
       "</g>\n",
       "<!-- 2 -->\n",
       "<g id=\"node5\" class=\"node\">\n",
       "<title>2</title>\n",
       "<ellipse fill=\"none\" stroke=\"black\" cx=\"72\" cy=\"-18\" rx=\"18\" ry=\"18\"/>\n",
       "<text text-anchor=\"middle\" x=\"72\" y=\"-14.3\" font-family=\"Times,serif\" font-size=\"14.00\">2</text>\n",
       "</g>\n",
       "<!-- 7&#45;&gt;2 -->\n",
       "<g id=\"edge3\" class=\"edge\">\n",
       "<title>7&#45;&gt;2</title>\n",
       "<path fill=\"none\" stroke=\"black\" d=\"M51.26,-72.76C54.5,-64.37 58.53,-53.93 62.17,-44.5\"/>\n",
       "<polygon fill=\"black\" stroke=\"black\" points=\"65.44,-45.74 65.77,-35.15 58.91,-43.22 65.44,-45.74\"/>\n",
       "</g>\n",
       "<!-- 1 -->\n",
       "<g id=\"node3\" class=\"node\">\n",
       "<title>1</title>\n",
       "<ellipse fill=\"none\" stroke=\"black\" cx=\"18\" cy=\"-162\" rx=\"18\" ry=\"18\"/>\n",
       "<text text-anchor=\"middle\" x=\"18\" y=\"-158.3\" font-family=\"Times,serif\" font-size=\"14.00\">1</text>\n",
       "</g>\n",
       "<!-- 6 -->\n",
       "<g id=\"node4\" class=\"node\">\n",
       "<title>6</title>\n",
       "<ellipse fill=\"gray\" stroke=\"gray\" cx=\"45\" cy=\"-234\" rx=\"18\" ry=\"18\"/>\n",
       "<text text-anchor=\"middle\" x=\"45\" y=\"-230.3\" font-family=\"Times,serif\" font-size=\"14.00\">6</text>\n",
       "</g>\n",
       "<!-- 6&#45;&gt;1 -->\n",
       "<g id=\"edge2\" class=\"edge\">\n",
       "<title>6&#45;&gt;1</title>\n",
       "<path fill=\"none\" stroke=\"black\" d=\"M38.74,-216.76C35.5,-208.37 31.47,-197.93 27.83,-188.5\"/>\n",
       "<polygon fill=\"black\" stroke=\"black\" points=\"31.09,-187.22 24.23,-179.15 24.56,-189.74 31.09,-187.22\"/>\n",
       "</g>\n",
       "<!-- 8 -->\n",
       "<g id=\"node7\" class=\"node\">\n",
       "<title>8</title>\n",
       "<ellipse fill=\"gray\" stroke=\"gray\" cx=\"72\" cy=\"-162\" rx=\"18\" ry=\"18\"/>\n",
       "<text text-anchor=\"middle\" x=\"72\" y=\"-158.3\" font-family=\"Times,serif\" font-size=\"14.00\">8</text>\n",
       "</g>\n",
       "<!-- 6&#45;&gt;8 -->\n",
       "<g id=\"edge9\" class=\"edge\">\n",
       "<title>6&#45;&gt;8</title>\n",
       "<path fill=\"none\" stroke=\"black\" d=\"M51.26,-216.76C54.5,-208.37 58.53,-197.93 62.17,-188.5\"/>\n",
       "<polygon fill=\"black\" stroke=\"black\" points=\"65.44,-189.74 65.77,-179.15 58.91,-187.22 65.44,-189.74\"/>\n",
       "</g>\n",
       "<!-- 3 -->\n",
       "<g id=\"node6\" class=\"node\">\n",
       "<title>3</title>\n",
       "<ellipse fill=\"none\" stroke=\"black\" cx=\"99\" cy=\"-90\" rx=\"18\" ry=\"18\"/>\n",
       "<text text-anchor=\"middle\" x=\"99\" y=\"-86.3\" font-family=\"Times,serif\" font-size=\"14.00\">3</text>\n",
       "</g>\n",
       "<!-- 8&#45;&gt;7 -->\n",
       "<g id=\"edge8\" class=\"edge\">\n",
       "<title>8&#45;&gt;7</title>\n",
       "<path fill=\"none\" stroke=\"black\" d=\"M65.74,-144.76C62.5,-136.37 58.47,-125.93 54.83,-116.5\"/>\n",
       "<polygon fill=\"black\" stroke=\"black\" points=\"58.09,-115.22 51.23,-107.15 51.56,-117.74 58.09,-115.22\"/>\n",
       "</g>\n",
       "<!-- 8&#45;&gt;3 -->\n",
       "<g id=\"edge4\" class=\"edge\">\n",
       "<title>8&#45;&gt;3</title>\n",
       "<path fill=\"none\" stroke=\"black\" d=\"M78.26,-144.76C81.5,-136.37 85.53,-125.93 89.17,-116.5\"/>\n",
       "<polygon fill=\"black\" stroke=\"black\" points=\"92.44,-117.74 92.77,-107.15 85.91,-115.22 92.44,-117.74\"/>\n",
       "</g>\n",
       "<!-- 4 -->\n",
       "<g id=\"node8\" class=\"node\">\n",
       "<title>4</title>\n",
       "<ellipse fill=\"none\" stroke=\"black\" cx=\"99\" cy=\"-234\" rx=\"18\" ry=\"18\"/>\n",
       "<text text-anchor=\"middle\" x=\"99\" y=\"-230.3\" font-family=\"Times,serif\" font-size=\"14.00\">4</text>\n",
       "</g>\n",
       "<!-- 5 -->\n",
       "<g id=\"node9\" class=\"node\">\n",
       "<title>5</title>\n",
       "<ellipse fill=\"gray\" stroke=\"gray\" cx=\"72\" cy=\"-306\" rx=\"18\" ry=\"18\"/>\n",
       "<text text-anchor=\"middle\" x=\"72\" y=\"-302.3\" font-family=\"Times,serif\" font-size=\"14.00\">5</text>\n",
       "</g>\n",
       "<!-- 5&#45;&gt;6 -->\n",
       "<g id=\"edge7\" class=\"edge\">\n",
       "<title>5&#45;&gt;6</title>\n",
       "<path fill=\"none\" stroke=\"black\" d=\"M65.74,-288.76C62.5,-280.37 58.47,-269.93 54.83,-260.5\"/>\n",
       "<polygon fill=\"black\" stroke=\"black\" points=\"58.09,-259.22 51.23,-251.15 51.56,-261.74 58.09,-259.22\"/>\n",
       "</g>\n",
       "<!-- 5&#45;&gt;4 -->\n",
       "<g id=\"edge5\" class=\"edge\">\n",
       "<title>5&#45;&gt;4</title>\n",
       "<path fill=\"none\" stroke=\"black\" d=\"M78.26,-288.76C81.5,-280.37 85.53,-269.93 89.17,-260.5\"/>\n",
       "<polygon fill=\"black\" stroke=\"black\" points=\"92.44,-261.74 92.77,-251.15 85.91,-259.22 92.44,-261.74\"/>\n",
       "</g>\n",
       "<!-- dummy -->\n",
       "<g id=\"node10\" class=\"node\">\n",
       "<title>dummy</title>\n",
       "<ellipse fill=\"black\" stroke=\"black\" cx=\"72\" cy=\"-361.8\" rx=\"1.8\" ry=\"1.8\"/>\n",
       "</g>\n",
       "<!-- dummy&#45;&gt;5 -->\n",
       "<g id=\"edge6\" class=\"edge\">\n",
       "<title>dummy&#45;&gt;5</title>\n",
       "<path fill=\"none\" stroke=\"black\" d=\"M72,-359.87C72,-356.64 72,-345.55 72,-334.35\"/>\n",
       "<polygon fill=\"black\" stroke=\"black\" points=\"75.5,-334.26 72,-324.26 68.5,-334.26 75.5,-334.26\"/>\n",
       "</g>\n",
       "</g>\n",
       "</svg>\n"
      ],
      "text/plain": [
       "<graphviz.graphs.Digraph at 0x7fd434b0f100>"
      ]
     },
     "execution_count": 14,
     "metadata": {},
     "output_type": "execute_result"
    }
   ],
   "source": [
    "ct.subtree_swap(ct.nodes[1], ct.nodes[4])\n",
    "ct.to_graphviz()"
   ]
  },
  {
   "cell_type": "code",
   "execution_count": 15,
   "id": "49e8aa17-5771-4405-b35a-ec64a42b4ce4",
   "metadata": {},
   "outputs": [
    {
     "data": {
      "image/svg+xml": [
       "<?xml version=\"1.0\" encoding=\"UTF-8\" standalone=\"no\"?>\n",
       "<!DOCTYPE svg PUBLIC \"-//W3C//DTD SVG 1.1//EN\"\n",
       " \"http://www.w3.org/Graphics/SVG/1.1/DTD/svg11.dtd\">\n",
       "<!-- Generated by graphviz version 2.48.0 (0)\n",
       " -->\n",
       "<!-- Pages: 1 -->\n",
       "<svg width=\"152pt\" height=\"372pt\"\n",
       " viewBox=\"0.00 0.00 152.00 371.60\" xmlns=\"http://www.w3.org/2000/svg\" xmlns:xlink=\"http://www.w3.org/1999/xlink\">\n",
       "<g id=\"graph0\" class=\"graph\" transform=\"scale(1 1) rotate(0) translate(4 367.6)\">\n",
       "<polygon fill=\"white\" stroke=\"transparent\" points=\"-4,4 -4,-367.6 148,-367.6 148,4 -4,4\"/>\n",
       "<!-- 0 -->\n",
       "<g id=\"node1\" class=\"node\">\n",
       "<title>0</title>\n",
       "<ellipse fill=\"none\" stroke=\"black\" cx=\"18\" cy=\"-18\" rx=\"18\" ry=\"18\"/>\n",
       "<text text-anchor=\"middle\" x=\"18\" y=\"-14.3\" font-family=\"Times,serif\" font-size=\"14.00\">0</text>\n",
       "</g>\n",
       "<!-- 7 -->\n",
       "<g id=\"node2\" class=\"node\">\n",
       "<title>7</title>\n",
       "<ellipse fill=\"gray\" stroke=\"gray\" cx=\"45\" cy=\"-90\" rx=\"18\" ry=\"18\"/>\n",
       "<text text-anchor=\"middle\" x=\"45\" y=\"-86.3\" font-family=\"Times,serif\" font-size=\"14.00\">7</text>\n",
       "</g>\n",
       "<!-- 7&#45;&gt;0 -->\n",
       "<g id=\"edge1\" class=\"edge\">\n",
       "<title>7&#45;&gt;0</title>\n",
       "<path fill=\"none\" stroke=\"black\" d=\"M38.74,-72.76C35.5,-64.37 31.47,-53.93 27.83,-44.5\"/>\n",
       "<polygon fill=\"black\" stroke=\"black\" points=\"31.09,-43.22 24.23,-35.15 24.56,-45.74 31.09,-43.22\"/>\n",
       "</g>\n",
       "<!-- 2 -->\n",
       "<g id=\"node5\" class=\"node\">\n",
       "<title>2</title>\n",
       "<ellipse fill=\"none\" stroke=\"black\" cx=\"72\" cy=\"-18\" rx=\"18\" ry=\"18\"/>\n",
       "<text text-anchor=\"middle\" x=\"72\" y=\"-14.3\" font-family=\"Times,serif\" font-size=\"14.00\">2</text>\n",
       "</g>\n",
       "<!-- 7&#45;&gt;2 -->\n",
       "<g id=\"edge3\" class=\"edge\">\n",
       "<title>7&#45;&gt;2</title>\n",
       "<path fill=\"none\" stroke=\"black\" d=\"M51.26,-72.76C54.5,-64.37 58.53,-53.93 62.17,-44.5\"/>\n",
       "<polygon fill=\"black\" stroke=\"black\" points=\"65.44,-45.74 65.77,-35.15 58.91,-43.22 65.44,-45.74\"/>\n",
       "</g>\n",
       "<!-- 1 -->\n",
       "<g id=\"node3\" class=\"node\">\n",
       "<title>1</title>\n",
       "<ellipse fill=\"none\" stroke=\"black\" cx=\"45\" cy=\"-234\" rx=\"18\" ry=\"18\"/>\n",
       "<text text-anchor=\"middle\" x=\"45\" y=\"-230.3\" font-family=\"Times,serif\" font-size=\"14.00\">1</text>\n",
       "</g>\n",
       "<!-- 6 -->\n",
       "<g id=\"node4\" class=\"node\">\n",
       "<title>6</title>\n",
       "<ellipse fill=\"gray\" stroke=\"gray\" cx=\"72\" cy=\"-306\" rx=\"18\" ry=\"18\"/>\n",
       "<text text-anchor=\"middle\" x=\"72\" y=\"-302.3\" font-family=\"Times,serif\" font-size=\"14.00\">6</text>\n",
       "</g>\n",
       "<!-- 6&#45;&gt;1 -->\n",
       "<g id=\"edge2\" class=\"edge\">\n",
       "<title>6&#45;&gt;1</title>\n",
       "<path fill=\"none\" stroke=\"black\" d=\"M65.74,-288.76C62.5,-280.37 58.47,-269.93 54.83,-260.5\"/>\n",
       "<polygon fill=\"black\" stroke=\"black\" points=\"58.09,-259.22 51.23,-251.15 51.56,-261.74 58.09,-259.22\"/>\n",
       "</g>\n",
       "<!-- 5 -->\n",
       "<g id=\"node9\" class=\"node\">\n",
       "<title>5</title>\n",
       "<ellipse fill=\"gray\" stroke=\"gray\" cx=\"99\" cy=\"-234\" rx=\"18\" ry=\"18\"/>\n",
       "<text text-anchor=\"middle\" x=\"99\" y=\"-230.3\" font-family=\"Times,serif\" font-size=\"14.00\">5</text>\n",
       "</g>\n",
       "<!-- 6&#45;&gt;5 -->\n",
       "<g id=\"edge6\" class=\"edge\">\n",
       "<title>6&#45;&gt;5</title>\n",
       "<path fill=\"none\" stroke=\"black\" d=\"M78.26,-288.76C81.5,-280.37 85.53,-269.93 89.17,-260.5\"/>\n",
       "<polygon fill=\"black\" stroke=\"black\" points=\"92.44,-261.74 92.77,-251.15 85.91,-259.22 92.44,-261.74\"/>\n",
       "</g>\n",
       "<!-- 3 -->\n",
       "<g id=\"node6\" class=\"node\">\n",
       "<title>3</title>\n",
       "<ellipse fill=\"none\" stroke=\"black\" cx=\"99\" cy=\"-90\" rx=\"18\" ry=\"18\"/>\n",
       "<text text-anchor=\"middle\" x=\"99\" y=\"-86.3\" font-family=\"Times,serif\" font-size=\"14.00\">3</text>\n",
       "</g>\n",
       "<!-- 8 -->\n",
       "<g id=\"node7\" class=\"node\">\n",
       "<title>8</title>\n",
       "<ellipse fill=\"gray\" stroke=\"gray\" cx=\"72\" cy=\"-162\" rx=\"18\" ry=\"18\"/>\n",
       "<text text-anchor=\"middle\" x=\"72\" y=\"-158.3\" font-family=\"Times,serif\" font-size=\"14.00\">8</text>\n",
       "</g>\n",
       "<!-- 8&#45;&gt;7 -->\n",
       "<g id=\"edge8\" class=\"edge\">\n",
       "<title>8&#45;&gt;7</title>\n",
       "<path fill=\"none\" stroke=\"black\" d=\"M65.74,-144.76C62.5,-136.37 58.47,-125.93 54.83,-116.5\"/>\n",
       "<polygon fill=\"black\" stroke=\"black\" points=\"58.09,-115.22 51.23,-107.15 51.56,-117.74 58.09,-115.22\"/>\n",
       "</g>\n",
       "<!-- 8&#45;&gt;3 -->\n",
       "<g id=\"edge4\" class=\"edge\">\n",
       "<title>8&#45;&gt;3</title>\n",
       "<path fill=\"none\" stroke=\"black\" d=\"M78.26,-144.76C81.5,-136.37 85.53,-125.93 89.17,-116.5\"/>\n",
       "<polygon fill=\"black\" stroke=\"black\" points=\"92.44,-117.74 92.77,-107.15 85.91,-115.22 92.44,-117.74\"/>\n",
       "</g>\n",
       "<!-- 4 -->\n",
       "<g id=\"node8\" class=\"node\">\n",
       "<title>4</title>\n",
       "<ellipse fill=\"none\" stroke=\"black\" cx=\"126\" cy=\"-162\" rx=\"18\" ry=\"18\"/>\n",
       "<text text-anchor=\"middle\" x=\"126\" y=\"-158.3\" font-family=\"Times,serif\" font-size=\"14.00\">4</text>\n",
       "</g>\n",
       "<!-- 5&#45;&gt;8 -->\n",
       "<g id=\"edge9\" class=\"edge\">\n",
       "<title>5&#45;&gt;8</title>\n",
       "<path fill=\"none\" stroke=\"black\" d=\"M92.74,-216.76C89.5,-208.37 85.47,-197.93 81.83,-188.5\"/>\n",
       "<polygon fill=\"black\" stroke=\"black\" points=\"85.09,-187.22 78.23,-179.15 78.56,-189.74 85.09,-187.22\"/>\n",
       "</g>\n",
       "<!-- 5&#45;&gt;4 -->\n",
       "<g id=\"edge5\" class=\"edge\">\n",
       "<title>5&#45;&gt;4</title>\n",
       "<path fill=\"none\" stroke=\"black\" d=\"M105.26,-216.76C108.5,-208.37 112.53,-197.93 116.17,-188.5\"/>\n",
       "<polygon fill=\"black\" stroke=\"black\" points=\"119.44,-189.74 119.77,-179.15 112.91,-187.22 119.44,-189.74\"/>\n",
       "</g>\n",
       "<!-- dummy -->\n",
       "<g id=\"node10\" class=\"node\">\n",
       "<title>dummy</title>\n",
       "<ellipse fill=\"black\" stroke=\"black\" cx=\"72\" cy=\"-361.8\" rx=\"1.8\" ry=\"1.8\"/>\n",
       "</g>\n",
       "<!-- dummy&#45;&gt;6 -->\n",
       "<g id=\"edge7\" class=\"edge\">\n",
       "<title>dummy&#45;&gt;6</title>\n",
       "<path fill=\"none\" stroke=\"black\" d=\"M72,-359.87C72,-356.64 72,-345.55 72,-334.35\"/>\n",
       "<polygon fill=\"black\" stroke=\"black\" points=\"75.5,-334.26 72,-324.26 68.5,-334.26 75.5,-334.26\"/>\n",
       "</g>\n",
       "</g>\n",
       "</svg>\n"
      ],
      "text/plain": [
       "<graphviz.graphs.Digraph at 0x7fd434b0f040>"
      ]
     },
     "execution_count": 15,
     "metadata": {},
     "output_type": "execute_result"
    }
   ],
   "source": [
    "ct.prune_insert(ct.nodes[4], ct.nodes[8])\n",
    "ct.to_graphviz()"
   ]
  },
  {
   "cell_type": "code",
   "execution_count": 4,
   "id": "5ecb3d7a-7841-4e34-96b3-19ed022e104e",
   "metadata": {},
   "outputs": [],
   "source": [
    "def infer_tree(likelihoods1, likelihoods2): \n",
    "    n_cells, n_mut = likelihoods1.shape\n",
    "    current_tree = CellTree(n_cells, n_mut)\n",
    "    proposed_tree = CellTree().copy(current_tree)"
   ]
  },
  {
   "cell_type": "code",
   "execution_count": 10,
   "id": "d6dfc1d9-5a2f-4e55-8383-739de854b49f",
   "metadata": {},
   "outputs": [],
   "source": [
    "mt = MutationTree(8)\n",
    "\n",
    "mt.nodes[1].assign_parent(self.nodes[0])\n",
    "mt.nodes[2].assign_parent(self.nodes[0])\n",
    "mt.nodes[3].assign_parent(self.nodes[0])\n",
    "mt.nodes[4].assign_parent(self.nodes[1])\n",
    "mt.nodes[5].assign_parent(self.nodes[2])\n",
    "mt.nodes[6].assign_parent(self.nodes[2])\n",
    "\n",
    "mt.nodes[1].mutations = [0,1]\n",
    "mt.nodes[2].mutations = [2]\n",
    "mt.nodes[3].mutations = [3]\n",
    "mt.nodes[4].mutations = [4]\n",
    "mt.nodes[5].mutations = [5]\n",
    "mt.nodes[6].mutations = [6]\n",
    "\n",
    "mt.attachments = np.array([1,1,0,5,5,5,3,2], dtype = int)"
   ]
  },
  {
   "cell_type": "code",
   "execution_count": 11,
   "id": "867366fc-d071-413e-bc73-55698d6d91ea",
   "metadata": {},
   "outputs": [
    {
     "data": {
      "image/svg+xml": [
       "<?xml version=\"1.0\" encoding=\"UTF-8\" standalone=\"no\"?>\n",
       "<!DOCTYPE svg PUBLIC \"-//W3C//DTD SVG 1.1//EN\"\n",
       " \"http://www.w3.org/Graphics/SVG/1.1/DTD/svg11.dtd\">\n",
       "<!-- Generated by graphviz version 2.48.0 (0)\n",
       " -->\n",
       "<!-- Pages: 1 -->\n",
       "<svg width=\"463pt\" height=\"325pt\"\n",
       " viewBox=\"0.00 0.00 463.01 325.28\" xmlns=\"http://www.w3.org/2000/svg\" xmlns:xlink=\"http://www.w3.org/1999/xlink\">\n",
       "<g id=\"graph0\" class=\"graph\" transform=\"scale(1 1) rotate(0) translate(4 321.28)\">\n",
       "<polygon fill=\"white\" stroke=\"transparent\" points=\"-4,4 -4,-321.28 459.01,-321.28 459.01,4 -4,4\"/>\n",
       "<!-- 0 -->\n",
       "<g id=\"node1\" class=\"node\">\n",
       "<title>0</title>\n",
       "<polygon fill=\"none\" stroke=\"black\" points=\"307.19,-164.84 253.19,-164.84 253.19,-128.84 307.19,-128.84 307.19,-164.84\"/>\n",
       "</g>\n",
       "<!-- 1 -->\n",
       "<g id=\"node2\" class=\"node\">\n",
       "<title>1</title>\n",
       "<polygon fill=\"none\" stroke=\"black\" points=\"392.98,-122.04 321.98,-122.04 321.98,-86.04 392.98,-86.04 392.98,-122.04\"/>\n",
       "<text text-anchor=\"middle\" x=\"357.48\" y=\"-100.34\" font-family=\"Times,serif\" font-size=\"14.00\">m0, m1</text>\n",
       "</g>\n",
       "<!-- 0&#45;&gt;1 -->\n",
       "<g id=\"edge1\" class=\"edge\">\n",
       "<title>0&#45;&gt;1</title>\n",
       "<path fill=\"none\" stroke=\"black\" d=\"M307.23,-131.87C310.06,-130.3 312.98,-128.68 315.92,-127.05\"/>\n",
       "<polygon fill=\"black\" stroke=\"black\" points=\"317.7,-130.07 324.75,-122.16 314.31,-123.95 317.7,-130.07\"/>\n",
       "</g>\n",
       "<!-- 2 -->\n",
       "<g id=\"node3\" class=\"node\">\n",
       "<title>2</title>\n",
       "<polygon fill=\"none\" stroke=\"black\" points=\"217.77,-172.85 163.77,-172.85 163.77,-136.85 217.77,-136.85 217.77,-172.85\"/>\n",
       "<text text-anchor=\"middle\" x=\"190.77\" y=\"-151.15\" font-family=\"Times,serif\" font-size=\"14.00\">m2</text>\n",
       "</g>\n",
       "<!-- 0&#45;&gt;2 -->\n",
       "<g id=\"edge2\" class=\"edge\">\n",
       "<title>0&#45;&gt;2</title>\n",
       "<path fill=\"none\" stroke=\"black\" d=\"M252.88,-149.28C245.08,-149.98 236.44,-150.76 228.15,-151.5\"/>\n",
       "<polygon fill=\"black\" stroke=\"black\" points=\"227.57,-148.04 217.92,-152.42 228.19,-155.01 227.57,-148.04\"/>\n",
       "</g>\n",
       "<!-- 3 -->\n",
       "<g id=\"node4\" class=\"node\">\n",
       "<title>3</title>\n",
       "<polygon fill=\"none\" stroke=\"black\" points=\"340.93,-244.04 286.93,-244.04 286.93,-208.04 340.93,-208.04 340.93,-244.04\"/>\n",
       "<text text-anchor=\"middle\" x=\"313.93\" y=\"-222.34\" font-family=\"Times,serif\" font-size=\"14.00\">m3</text>\n",
       "</g>\n",
       "<!-- 0&#45;&gt;3 -->\n",
       "<g id=\"edge3\" class=\"edge\">\n",
       "<title>0&#45;&gt;3</title>\n",
       "<path fill=\"none\" stroke=\"black\" d=\"M288.02,-165.21C292.23,-175.1 297.52,-187.51 302.22,-198.54\"/>\n",
       "<polygon fill=\"black\" stroke=\"black\" points=\"299.01,-199.94 306.15,-207.77 305.45,-197.2 299.01,-199.94\"/>\n",
       "</g>\n",
       "<!-- cell2 -->\n",
       "<g id=\"node10\" class=\"node\">\n",
       "<title>cell2</title>\n",
       "<text text-anchor=\"middle\" x=\"267.93\" y=\"-65.52\" font-family=\"Times,serif\" font-size=\"14.00\">2</text>\n",
       "</g>\n",
       "<!-- 0&#45;&gt;cell2 -->\n",
       "<g id=\"edge9\" class=\"edge\">\n",
       "<title>0&#45;&gt;cell2</title>\n",
       "<path fill=\"none\" stroke=\"black\" d=\"M277.35,-128.84C275.88,-119.5 274.04,-107.88 272.38,-97.39\"/>\n",
       "<polygon fill=\"black\" stroke=\"black\" points=\"275.82,-96.73 270.8,-87.4 268.91,-97.82 275.82,-96.73\"/>\n",
       "</g>\n",
       "<!-- 4 -->\n",
       "<g id=\"node5\" class=\"node\">\n",
       "<title>4</title>\n",
       "<polygon fill=\"none\" stroke=\"black\" points=\"454.24,-167.08 400.24,-167.08 400.24,-131.08 454.24,-131.08 454.24,-167.08\"/>\n",
       "<text text-anchor=\"middle\" x=\"427.24\" y=\"-145.38\" font-family=\"Times,serif\" font-size=\"14.00\">m4</text>\n",
       "</g>\n",
       "<!-- 1&#45;&gt;4 -->\n",
       "<g id=\"edge4\" class=\"edge\">\n",
       "<title>1&#45;&gt;4</title>\n",
       "<path fill=\"none\" stroke=\"black\" d=\"M385.45,-122.1C387.42,-123.37 389.42,-124.67 391.43,-125.96\"/>\n",
       "<polygon fill=\"black\" stroke=\"black\" points=\"389.87,-129.12 400.17,-131.6 393.67,-123.24 389.87,-129.12\"/>\n",
       "</g>\n",
       "<!-- cell0 -->\n",
       "<g id=\"node8\" class=\"node\">\n",
       "<title>cell0</title>\n",
       "<text text-anchor=\"middle\" x=\"428.01\" y=\"-64.12\" font-family=\"Times,serif\" font-size=\"14.00\">0</text>\n",
       "</g>\n",
       "<!-- 1&#45;&gt;cell0 -->\n",
       "<g id=\"edge7\" class=\"edge\">\n",
       "<title>1&#45;&gt;cell0</title>\n",
       "<path fill=\"none\" stroke=\"black\" d=\"M392.75,-85.93C392.83,-85.89 392.92,-85.84 393.01,-85.8\"/>\n",
       "<polygon fill=\"black\" stroke=\"black\" points=\"393.65,-89.4 400.94,-81.72 390.45,-83.17 393.65,-89.4\"/>\n",
       "</g>\n",
       "<!-- cell1 -->\n",
       "<g id=\"node9\" class=\"node\">\n",
       "<title>cell1</title>\n",
       "<text text-anchor=\"middle\" x=\"365.49\" y=\"-14.3\" font-family=\"Times,serif\" font-size=\"14.00\">1</text>\n",
       "</g>\n",
       "<!-- 1&#45;&gt;cell1 -->\n",
       "<g id=\"edge8\" class=\"edge\">\n",
       "<title>1&#45;&gt;cell1</title>\n",
       "<path fill=\"none\" stroke=\"black\" d=\"M359.18,-85.79C360.24,-74.38 361.63,-59.45 362.83,-46.51\"/>\n",
       "<polygon fill=\"black\" stroke=\"black\" points=\"366.35,-46.5 363.79,-36.22 359.38,-45.85 366.35,-46.5\"/>\n",
       "</g>\n",
       "<!-- 5 -->\n",
       "<g id=\"node6\" class=\"node\">\n",
       "<title>5</title>\n",
       "<polygon fill=\"none\" stroke=\"black\" points=\"131.49,-185.19 77.49,-185.19 77.49,-149.19 131.49,-149.19 131.49,-185.19\"/>\n",
       "<text text-anchor=\"middle\" x=\"104.49\" y=\"-163.49\" font-family=\"Times,serif\" font-size=\"14.00\">m5</text>\n",
       "</g>\n",
       "<!-- 2&#45;&gt;5 -->\n",
       "<g id=\"edge5\" class=\"edge\">\n",
       "<title>2&#45;&gt;5</title>\n",
       "<path fill=\"none\" stroke=\"black\" d=\"M163.47,-158.75C156.56,-159.74 149.02,-160.82 141.71,-161.87\"/>\n",
       "<polygon fill=\"black\" stroke=\"black\" points=\"141.02,-158.43 131.61,-163.31 142.01,-165.36 141.02,-158.43\"/>\n",
       "</g>\n",
       "<!-- 6 -->\n",
       "<g id=\"node7\" class=\"node\">\n",
       "<title>6</title>\n",
       "<polygon fill=\"none\" stroke=\"black\" points=\"192.25,-93.95 138.25,-93.95 138.25,-57.95 192.25,-57.95 192.25,-93.95\"/>\n",
       "<text text-anchor=\"middle\" x=\"165.25\" y=\"-72.25\" font-family=\"Times,serif\" font-size=\"14.00\">m6</text>\n",
       "</g>\n",
       "<!-- 2&#45;&gt;6 -->\n",
       "<g id=\"edge6\" class=\"edge\">\n",
       "<title>2&#45;&gt;6</title>\n",
       "<path fill=\"none\" stroke=\"black\" d=\"M184.85,-136.55C181.7,-126.79 177.75,-114.58 174.22,-103.68\"/>\n",
       "<polygon fill=\"black\" stroke=\"black\" points=\"177.55,-102.59 171.14,-94.15 170.88,-104.75 177.55,-102.59\"/>\n",
       "</g>\n",
       "<!-- cell7 -->\n",
       "<g id=\"node15\" class=\"node\">\n",
       "<title>cell7</title>\n",
       "<text text-anchor=\"middle\" x=\"189.46\" y=\"-231.75\" font-family=\"Times,serif\" font-size=\"14.00\">7</text>\n",
       "</g>\n",
       "<!-- 2&#45;&gt;cell7 -->\n",
       "<g id=\"edge14\" class=\"edge\">\n",
       "<title>2&#45;&gt;cell7</title>\n",
       "<path fill=\"none\" stroke=\"black\" d=\"M190.47,-173.14C190.31,-183.14 190.11,-195.74 189.93,-206.99\"/>\n",
       "<polygon fill=\"black\" stroke=\"black\" points=\"186.42,-207.18 189.76,-217.23 193.42,-207.29 186.42,-207.18\"/>\n",
       "</g>\n",
       "<!-- cell6 -->\n",
       "<g id=\"node14\" class=\"node\">\n",
       "<title>cell6</title>\n",
       "<text text-anchor=\"middle\" x=\"347.67\" y=\"-295.58\" font-family=\"Times,serif\" font-size=\"14.00\">6</text>\n",
       "</g>\n",
       "<!-- 3&#45;&gt;cell6 -->\n",
       "<g id=\"edge13\" class=\"edge\">\n",
       "<title>3&#45;&gt;cell6</title>\n",
       "<path fill=\"none\" stroke=\"black\" d=\"M322.27,-244.15C326.13,-252.51 330.78,-262.62 335.05,-271.89\"/>\n",
       "<polygon fill=\"black\" stroke=\"black\" points=\"331.95,-273.52 339.31,-281.13 338.31,-270.59 331.95,-273.52\"/>\n",
       "</g>\n",
       "<!-- cell3 -->\n",
       "<g id=\"node11\" class=\"node\">\n",
       "<title>cell3</title>\n",
       "<text text-anchor=\"middle\" x=\"51.78\" y=\"-96.32\" font-family=\"Times,serif\" font-size=\"14.00\">3</text>\n",
       "</g>\n",
       "<!-- 5&#45;&gt;cell3 -->\n",
       "<g id=\"edge10\" class=\"edge\">\n",
       "<title>5&#45;&gt;cell3</title>\n",
       "<path fill=\"none\" stroke=\"black\" d=\"M90.09,-148.83C84.63,-141.87 78.29,-133.81 72.37,-126.26\"/>\n",
       "<polygon fill=\"black\" stroke=\"black\" points=\"75.09,-124.06 66.16,-118.35 69.58,-128.38 75.09,-124.06\"/>\n",
       "</g>\n",
       "<!-- cell4 -->\n",
       "<g id=\"node12\" class=\"node\">\n",
       "<title>cell4</title>\n",
       "<text text-anchor=\"middle\" x=\"27\" y=\"-175.92\" font-family=\"Times,serif\" font-size=\"14.00\">4</text>\n",
       "</g>\n",
       "<!-- 5&#45;&gt;cell4 -->\n",
       "<g id=\"edge11\" class=\"edge\">\n",
       "<title>5&#45;&gt;cell4</title>\n",
       "<path fill=\"none\" stroke=\"black\" d=\"M77.39,-171.54C73.17,-172.21 68.74,-172.92 64.34,-173.63\"/>\n",
       "<polygon fill=\"black\" stroke=\"black\" points=\"63.54,-170.21 54.22,-175.25 64.65,-177.12 63.54,-170.21\"/>\n",
       "</g>\n",
       "<!-- cell5 -->\n",
       "<g id=\"node13\" class=\"node\">\n",
       "<title>cell5</title>\n",
       "<text text-anchor=\"middle\" x=\"74.22\" y=\"-243.34\" font-family=\"Times,serif\" font-size=\"14.00\">5</text>\n",
       "</g>\n",
       "<!-- 5&#45;&gt;cell5 -->\n",
       "<g id=\"edge12\" class=\"edge\">\n",
       "<title>5&#45;&gt;cell5</title>\n",
       "<path fill=\"none\" stroke=\"black\" d=\"M97.62,-185.31C93.79,-195.42 88.94,-208.21 84.65,-219.53\"/>\n",
       "<polygon fill=\"black\" stroke=\"black\" points=\"81.33,-218.4 81.06,-228.99 87.88,-220.88 81.33,-218.4\"/>\n",
       "</g>\n",
       "</g>\n",
       "</svg>\n"
      ],
      "text/plain": [
       "<graphviz.graphs.Digraph at 0x7f79774a05e0>"
      ]
     },
     "execution_count": 11,
     "metadata": {},
     "output_type": "execute_result"
    }
   ],
   "source": [
    "mt.to_graphviz()"
   ]
  },
  {
   "cell_type": "markdown",
   "id": "5dfc460d-0e95-4fe5-a03e-803f2e854952",
   "metadata": {
    "tags": []
   },
   "source": [
    "### SVD Imputation"
   ]
  },
  {
   "cell_type": "code",
   "execution_count": null,
   "id": "fce20e03-3823-4bee-9ccd-b2c799d80721",
   "metadata": {},
   "outputs": [],
   "source": [
    "# X: data matrix in which rows (dimension 0) are samples and columns (dimension 1) are features\n",
    "def mean_impute(X): \n",
    "    X_imputed = X.copy() \n",
    "    for i in range(X.shape[1]): \n",
    "        feature = X[:,i] \n",
    "        mean = np.nanmean(feature) # take mean of the feature, ignoring NaN\n",
    "        if np.isnan(mean): \n",
    "            print('[Mean Imputation] WARNING: Empty feature at column %d.'%i) \n",
    "        nan_indices = np.where(np.isnan(feature))[0] \n",
    "        X_imputed[nan_indices,i] = mean \n",
    "    return X_imputed \n",
    "\n",
    "\n",
    "def zero_impute(X): \n",
    "    X_imputed = X.copy()\n",
    "    X_imputed[np.isnan(X)] = 0\n",
    "    return X_imputed\n",
    "    \n",
    "\n",
    "def svd_impute(X, rank = None, tol = 0.1, max_iter = 100):\n",
    "    if rank is None: \n",
    "        rank = min(X.shape) // 2\n",
    "    \n",
    "    nan_indices = np.where(np.isnan(X))\n",
    "    X_imputed = zero_impute(X) #initialise all nan entries with the a mean imputation\n",
    "    \n",
    "    for i in tqdm(range(max_iter)):\n",
    "        X_old = X_imputed.copy()\n",
    "        L,D,R = np.linalg.svd(X_imputed)\n",
    "        X_approx = L[:,:rank] @ np.diag(D[:rank]) @ R[:rank,:] #rank r approximation of X_imputed\n",
    "        X_imputed[nan_indices] = X_approx[nan_indices]\n",
    "        fnorm = np.linalg.norm(X_old - X_imputed, ord=\"fro\")\n",
    "        if fnorm < tol:\n",
    "            print('[SVD Imputation]: Converged after %d iterations.'%(i+1))\n",
    "            print('Frobenius norm:', fnorm)\n",
    "            break\n",
    "        if (i+1) >= max_iter:\n",
    "            print('[SVD Imputation]: Maximum number (%d) of iterations reached.'%(i+1))\n",
    "            print('Frobenius norm:', fnorm)\n",
    "    \n",
    "    return X_imputed"
   ]
  },
  {
   "cell_type": "code",
   "execution_count": null,
   "id": "34437a62-d169-46c6-b755-f1940c89527b",
   "metadata": {},
   "outputs": [],
   "source": [
    "ref.shape"
   ]
  },
  {
   "cell_type": "code",
   "execution_count": null,
   "id": "71e61551-ddcb-43ab-96c7-c75c772953bc",
   "metadata": {},
   "outputs": [],
   "source": [
    "np.sum(alt > 5, axis = 1)"
   ]
  },
  {
   "cell_type": "code",
   "execution_count": null,
   "id": "5fb9f927-6c90-4e05-8d23-d31be01a8bfc",
   "metadata": {},
   "outputs": [],
   "source": [
    "with sns.axes_style(\"darkgrid\"):\n",
    "    plt.figure(figsize = (16, 12))\n",
    "    plt.plot(np.sum(alt > 16, axis = 1))\n",
    "    plt.show()"
   ]
  },
  {
   "cell_type": "code",
   "execution_count": null,
   "id": "6566879f-330d-4d92-8563-9b3797b28955",
   "metadata": {},
   "outputs": [],
   "source": [
    "for i in range(ref.shape[0]): \n",
    "    for j in range(ref.shape[1]): \n",
    "        if ref[i,j] == 0 and alt[i,j] == 0:\n",
    "            ref[i,j] = np.nan\n",
    "            alt[i,j] = np.nan"
   ]
  },
  {
   "cell_type": "code",
   "execution_count": null,
   "id": "d8d0eb3b-fca2-428c-b3f2-6680b1e2ccfc",
   "metadata": {},
   "outputs": [],
   "source": [
    "X = np.concatenate([ref, alt], axis = 1)\n",
    "X_imputed = svd_impute(X, rank = 5)"
   ]
  },
  {
   "cell_type": "code",
   "execution_count": null,
   "id": "a993f947-f096-4068-9f90-ad691368a230",
   "metadata": {},
   "outputs": [],
   "source": [
    "X_imputed.shape"
   ]
  },
  {
   "cell_type": "code",
   "execution_count": null,
   "id": "0e86cf2a-424f-4f92-a092-1156242bc9cf",
   "metadata": {},
   "outputs": [],
   "source": [
    "ref_imputed = X_imputed[:,:ref.shape[1]]\n",
    "alt_imputed = X_imputed[:,ref.shape[1]:]"
   ]
  },
  {
   "cell_type": "code",
   "execution_count": null,
   "id": "4f229ae4-39c7-4926-abb8-edca2ef94ce2",
   "metadata": {},
   "outputs": [],
   "source": [
    "ref_proportion = (ref_imputed + 1) / (ref_imputed + alt_imputed + 2)\n",
    "\n",
    "plt.figure(figsize=(24,16))\n",
    "plt.imshow(ref_proportion.T, cmap = 'viridis', vmin = 0., vmax = 1.) \n",
    "# \"viridis\": yellow for 1, purple for 0, green/blue for 0.5 (https://matplotlib.org/3.5.1/tutorials/colors/colormaps.html)\n",
    "plt.xlabel('locus index', fontsize = 17)\n",
    "plt.ylabel('cell index', fontsize = 17)\n",
    "plt.show()"
   ]
  },
  {
   "cell_type": "markdown",
   "id": "784a21f3-9096-41c9-b93c-8f992bf316e7",
   "metadata": {},
   "source": [
    "### HMM"
   ]
  },
  {
   "cell_type": "code",
   "execution_count": null,
   "id": "2eaf1e3f-fb05-41d0-a2f5-cfaaf984129c",
   "metadata": {},
   "outputs": [],
   "source": [
    "# I: initial probability\n",
    "# T: transition probability (including the begin state)\n",
    "# E: emission probability\n",
    "# X: observation\n",
    "def viterbi(I, T, E, X):\n",
    "    length = X.shape[0]\n",
    "    n_states = X.shape[1]\n",
    "    v = np.zeros((length, n_states)) # v[j, k] = max joint probability having k at step j and emission X[i]\n",
    "    \n",
    "    v[0,:] = np.array([I[i] * E(i, X[0]) for i in range(n_states)])\n",
    "    for j in range(1, length):\n",
    "        for k in range(n_states):\n",
    "            v[j,k] = E(k, X[j]) * np.max([v[j-1,l] * T(l,k) for l in range(n_states)]) # l: assumed state of previous step\n",
    "    \n",
    "    best_path = np.argmax(v, axis = 1)\n",
    "    \n",
    "    return best_path, v[-1, best_path[-1]] # second return is the max joint probability"
   ]
  },
  {
   "cell_type": "code",
   "execution_count": null,
   "id": "ae09694a-7884-4463-8062-0700ed7102f5",
   "metadata": {},
   "outputs": [],
   "source": [
    "transition_matrix = np.array([[0.9, 0.1],\n",
    "                              [0.5, 0.5]])\n",
    "def T(pre, post):\n",
    "    return transition_matrix[pre, post]"
   ]
  },
  {
   "cell_type": "code",
   "execution_count": null,
   "id": "1d6708b5-b751-44ca-9345-842247f8582f",
   "metadata": {},
   "outputs": [],
   "source": [
    "def E(state, obs, f = 0.7, omega = 10):\n",
    "    n_ref = obs[0]\n",
    "    coverage = np.sum(obs)\n",
    "    if state == 1: # normal (heterozygous)\n",
    "        alpha = (1/2 - 2/3 * f) / omega\n",
    "        beta = omega - alpha\n",
    "    elif state == 2: # LOH\n",
    "        alpha = f * omega\n",
    "        beta = omega - alpha\n",
    "    else: \n",
    "        print('\\n ERROR: invalid state \\n')\n",
    "        return\n",
    "    \n",
    "    return betabinom.pmf(n_ref, coverage, alpha, beta)"
   ]
  },
  {
   "cell_type": "code",
   "execution_count": null,
   "id": "93ba62b5-afca-4e2b-b10a-5b0cf5dae8f7",
   "metadata": {},
   "outputs": [],
   "source": [
    "X = np.stack((np.array(df_ref.loc['chr1',:])[0,:], np.array(df_alt.loc['chr1',:])[0,:])).T\n",
    "X"
   ]
  }
 ],
 "metadata": {
  "kernelspec": {
   "display_name": "Python 3 (ipykernel)",
   "language": "python",
   "name": "python3"
  },
  "language_info": {
   "codemirror_mode": {
    "name": "ipython",
    "version": 3
   },
   "file_extension": ".py",
   "mimetype": "text/x-python",
   "name": "python",
   "nbconvert_exporter": "python",
   "pygments_lexer": "ipython3",
   "version": "3.10.6"
  }
 },
 "nbformat": 4,
 "nbformat_minor": 5
}
