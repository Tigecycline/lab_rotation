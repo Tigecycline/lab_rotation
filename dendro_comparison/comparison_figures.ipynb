{
 "cells": [
  {
   "cell_type": "code",
   "execution_count": null,
   "metadata": {},
   "outputs": [],
   "source": [
    "import numpy as np\n",
    "import matplotlib.pyplot as plt\n",
    "import os, sys\n",
    "from tqdm import tqdm"
   ]
  },
  {
   "cell_type": "code",
   "execution_count": null,
   "metadata": {},
   "outputs": [],
   "source": [
    "sys.path.append('../')\n",
    "from tree_inference.utilities import path_len_dist\n",
    "from tree_inference.mutation_detection import filter_mutations, likelihood_matrices\n",
    "from tree_inference.tree import CellTree, MutationTree\n",
    "from tree_inference.tree_optimizer import TreeOptimizer"
   ]
  },
  {
   "cell_type": "code",
   "execution_count": null,
   "metadata": {},
   "outputs": [],
   "source": [
    "def make_boxplot(ax, data, colors = None, positions = None):\n",
    "    ax.set_facecolor('lightgray')\n",
    "    bplot = ax.boxplot(data, patch_artist = True, positions = positions)\n",
    "    if colors is None:\n",
    "        colors = 'lightblue'\n",
    "    if type(colors) == str:\n",
    "        colors = [colors] * data.shape[0]\n",
    "    for patch, color in zip(bplot['boxes'], colors):\n",
    "        patch.set_facecolor(color)\n",
    "    ax.yaxis.grid(color = 'white')\n",
    "    return bplot"
   ]
  },
  {
   "cell_type": "code",
   "execution_count": null,
   "metadata": {},
   "outputs": [],
   "source": [
    "def get_dist_data(n_tests=100):\n",
    "    ct_true = CellTree(130)\n",
    "    ct_dendro = CellTree(130)\n",
    "    ct_inferred = CellTree(130)\n",
    "    ct_random = CellTree(130)\n",
    "    ct_random.randomize()\n",
    "\n",
    "    pair_dist = np.empty((n_tests, 4))\n",
    "\n",
    "    for i in tqdm(range(n_tests)):\n",
    "        ct_true.parent_vec = np.loadtxt(f'./comparison_data/parent_vec_{i}.txt', dtype=int)\n",
    "        ct_dendro.parent_vec = np.loadtxt(f'./comparison_data/dendro_parent_vec_{i}.txt', dtype=int)\n",
    "        ct_inferred.parent_vec = np.loadtxt(f'./comparison_data/inferred_parent_vec_{i}.txt', dtype=int)\n",
    "\n",
    "        pair_dist[i,0] = path_len_dist(ct_true, ct_inferred)\n",
    "        pair_dist[i,1] = path_len_dist(ct_true, ct_dendro)\n",
    "        pair_dist[i,2] = path_len_dist(ct_true, ct_random)\n",
    "        pair_dist[i,3] = path_len_dist(ct_inferred, ct_dendro)\n",
    "    \n",
    "    return pair_dist"
   ]
  },
  {
   "cell_type": "code",
   "execution_count": null,
   "metadata": {},
   "outputs": [],
   "source": [
    "pair_dist = get_dist_data()\n",
    "np.savetxt('./pair_dist.txt', pair_dist)"
   ]
  },
  {
   "cell_type": "code",
   "execution_count": null,
   "metadata": {},
   "outputs": [],
   "source": [
    "pair_dist = np.loadtxt('./figures/pair_dist.txt')\n",
    "\n",
    "fig, ax = plt.subplots(figsize=(6,6))\n",
    "bplot = make_boxplot(ax, pair_dist)\n",
    "ax.set_xticklabels(['true-inferred', 'true-dendro', 'true-random', 'inferred-dendro'])\n",
    "\n",
    "fig.savefig('./figures/tree_distances.pdf')"
   ]
  },
  {
   "cell_type": "code",
   "execution_count": null,
   "metadata": {},
   "outputs": [],
   "source": [
    "def get_likelihood_diff(n_tests=100):\n",
    "    ct_true = CellTree(130)\n",
    "    ct_dendro = CellTree(130)\n",
    "    ct_inferred = CellTree(130)\n",
    "    ct_random = CellTree(130)\n",
    "    ct_random.randomize()\n",
    "\n",
    "    optimizer = TreeOptimizer()\n",
    "\n",
    "    likelihood_diff = np.empty((n_tests, 3))\n",
    "\n",
    "    for i in tqdm(range(n_tests)):\n",
    "        ct_true.parent_vec = np.loadtxt(f'./comparison_data/parent_vec_{i}.txt', dtype=int)\n",
    "        ct_dendro.parent_vec = np.loadtxt(f'./comparison_data/dendro_parent_vec_{i}.txt', dtype=int)\n",
    "        ct_inferred.parent_vec = np.loadtxt(f'./comparison_data/inferred_parent_vec_{i}.txt', dtype=int)\n",
    "        \n",
    "        ref = np.loadtxt(os.path.join(f'./comparison_data/ref_{i}.txt'))\n",
    "        alt = np.loadtxt(os.path.join(f'./comparison_data/alt_{i}.txt'))\n",
    "        \n",
    "        ref, alt, gt1, gt2 = filter_mutations(ref, alt, method='threshold', t=0.5)\n",
    "        likelihoods1, likelihoods2 = likelihood_matrices(ref, alt, gt1, gt2)\n",
    "        optimizer.fit(likelihoods1, likelihoods2)\n",
    "\n",
    "        optimizer.ct = ct_true\n",
    "        optimizer.update_ct()\n",
    "        true_likelihood = optimizer.ct_mean_likelihood\n",
    "\n",
    "        optimizer.ct = ct_inferred\n",
    "        optimizer.update_ct()\n",
    "        likelihood_diff[i,0] = optimizer.ct_mean_likelihood - true_likelihood\n",
    "\n",
    "        optimizer.ct = ct_dendro\n",
    "        optimizer.update_ct()\n",
    "        likelihood_diff[i,1] = optimizer.ct_mean_likelihood - true_likelihood\n",
    "\n",
    "        optimizer.ct = ct_random\n",
    "        optimizer.update_ct()\n",
    "        likelihood_diff[i,2] = optimizer.ct_mean_likelihood - true_likelihood\n",
    "    \n",
    "    return likelihood_diff"
   ]
  },
  {
   "cell_type": "code",
   "execution_count": null,
   "metadata": {},
   "outputs": [],
   "source": [
    "likelihood_diff = get_likelihood_diff(100)\n",
    "np.savetxt('./figures/likelihood_diff.txt', likelihood_diff)"
   ]
  },
  {
   "cell_type": "code",
   "execution_count": null,
   "metadata": {},
   "outputs": [],
   "source": [
    "np.savetxt('./likelihood_diff.txt', likelihood_diff)"
   ]
  },
  {
   "cell_type": "code",
   "execution_count": null,
   "metadata": {},
   "outputs": [],
   "source": [
    "likelihood_diff = np.loadtxt('./likelihood_diff.txt')\n",
    "\n",
    "fig, ax = plt.subplots(figsize=(6,6))\n",
    "bplot = make_boxplot(ax, likelihood_diff)\n",
    "ax.set_xticklabels(['inferred', 'dendro', 'random'])\n",
    "\n",
    "fig.savefig('./figures/likelihood_diff.pdf')"
   ]
  }
 ],
 "metadata": {
  "kernelspec": {
   "display_name": "Python 3",
   "language": "python",
   "name": "python3"
  },
  "language_info": {
   "codemirror_mode": {
    "name": "ipython",
    "version": 3
   },
   "file_extension": ".py",
   "mimetype": "text/x-python",
   "name": "python",
   "nbconvert_exporter": "python",
   "pygments_lexer": "ipython3",
   "version": "3.10.8"
  },
  "orig_nbformat": 4
 },
 "nbformat": 4,
 "nbformat_minor": 2
}
